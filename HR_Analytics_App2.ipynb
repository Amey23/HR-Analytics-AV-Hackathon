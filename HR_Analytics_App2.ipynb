{
  "nbformat": 4,
  "nbformat_minor": 0,
  "metadata": {
    "colab": {
      "name": "HR Analytics App2",
      "provenance": []
    },
    "kernelspec": {
      "name": "python3",
      "display_name": "Python 3"
    }
  },
  "cells": [
    {
      "cell_type": "code",
      "metadata": {
        "id": "1pk8lXJQok5p",
        "colab": {
          "base_uri": "https://localhost:8080/",
          "height": 72
        },
        "outputId": "9e70b445-fee5-4d3f-be93-d25fb108bc4e"
      },
      "source": [
        "import numpy as np\n",
        "import pandas as pd\n",
        "\n",
        "import matplotlib.pyplot as plt\n",
        "import seaborn as sns"
      ],
      "execution_count": null,
      "outputs": [
        {
          "output_type": "stream",
          "text": [
            "/usr/local/lib/python3.6/dist-packages/statsmodels/tools/_testing.py:19: FutureWarning: pandas.util.testing is deprecated. Use the functions in the public API at pandas.testing instead.\n",
            "  import pandas.util.testing as tm\n"
          ],
          "name": "stderr"
        }
      ]
    },
    {
      "cell_type": "code",
      "metadata": {
        "id": "Jl4jan8uqH2i",
        "colab": {
          "base_uri": "https://localhost:8080/",
          "height": 52
        },
        "outputId": "170b65b8-8c84-4f46-a319-6b42530fa680"
      },
      "source": [
        "\n",
        "# reading the data\n",
        "\n",
        "train = pd.read_csv('train.csv')\n",
        "test = pd.read_csv('test.csv')\n",
        "\n",
        "# getting their shapes\n",
        "print(\"Shape of train :\", train.shape)\n",
        "print(\"Shape of test :\", test.shape)"
      ],
      "execution_count": null,
      "outputs": [
        {
          "output_type": "stream",
          "text": [
            "Shape of train : (54808, 14)\n",
            "Shape of test : (23490, 13)\n"
          ],
          "name": "stdout"
        }
      ]
    },
    {
      "cell_type": "code",
      "metadata": {
        "id": "jZDXDAXxqOO3",
        "colab": {
          "base_uri": "https://localhost:8080/",
          "height": 281
        },
        "outputId": "b9bb71d7-a366-4fe5-9ca2-36008d588710"
      },
      "source": [
        "train.head()"
      ],
      "execution_count": null,
      "outputs": [
        {
          "output_type": "execute_result",
          "data": {
            "text/html": [
              "<div>\n",
              "<style scoped>\n",
              "    .dataframe tbody tr th:only-of-type {\n",
              "        vertical-align: middle;\n",
              "    }\n",
              "\n",
              "    .dataframe tbody tr th {\n",
              "        vertical-align: top;\n",
              "    }\n",
              "\n",
              "    .dataframe thead th {\n",
              "        text-align: right;\n",
              "    }\n",
              "</style>\n",
              "<table border=\"1\" class=\"dataframe\">\n",
              "  <thead>\n",
              "    <tr style=\"text-align: right;\">\n",
              "      <th></th>\n",
              "      <th>employee_id</th>\n",
              "      <th>department</th>\n",
              "      <th>region</th>\n",
              "      <th>education</th>\n",
              "      <th>gender</th>\n",
              "      <th>recruitment_channel</th>\n",
              "      <th>no_of_trainings</th>\n",
              "      <th>age</th>\n",
              "      <th>previous_year_rating</th>\n",
              "      <th>length_of_service</th>\n",
              "      <th>KPIs_met &gt;80%</th>\n",
              "      <th>awards_won?</th>\n",
              "      <th>avg_training_score</th>\n",
              "      <th>is_promoted</th>\n",
              "    </tr>\n",
              "  </thead>\n",
              "  <tbody>\n",
              "    <tr>\n",
              "      <th>0</th>\n",
              "      <td>65438</td>\n",
              "      <td>Sales &amp; Marketing</td>\n",
              "      <td>region_7</td>\n",
              "      <td>Master's &amp; above</td>\n",
              "      <td>f</td>\n",
              "      <td>sourcing</td>\n",
              "      <td>1</td>\n",
              "      <td>35</td>\n",
              "      <td>5.0</td>\n",
              "      <td>8</td>\n",
              "      <td>1</td>\n",
              "      <td>0</td>\n",
              "      <td>49</td>\n",
              "      <td>0</td>\n",
              "    </tr>\n",
              "    <tr>\n",
              "      <th>1</th>\n",
              "      <td>65141</td>\n",
              "      <td>Operations</td>\n",
              "      <td>region_22</td>\n",
              "      <td>Bachelor's</td>\n",
              "      <td>m</td>\n",
              "      <td>other</td>\n",
              "      <td>1</td>\n",
              "      <td>30</td>\n",
              "      <td>5.0</td>\n",
              "      <td>4</td>\n",
              "      <td>0</td>\n",
              "      <td>0</td>\n",
              "      <td>60</td>\n",
              "      <td>0</td>\n",
              "    </tr>\n",
              "    <tr>\n",
              "      <th>2</th>\n",
              "      <td>7513</td>\n",
              "      <td>Sales &amp; Marketing</td>\n",
              "      <td>region_19</td>\n",
              "      <td>Bachelor's</td>\n",
              "      <td>m</td>\n",
              "      <td>sourcing</td>\n",
              "      <td>1</td>\n",
              "      <td>34</td>\n",
              "      <td>3.0</td>\n",
              "      <td>7</td>\n",
              "      <td>0</td>\n",
              "      <td>0</td>\n",
              "      <td>50</td>\n",
              "      <td>0</td>\n",
              "    </tr>\n",
              "    <tr>\n",
              "      <th>3</th>\n",
              "      <td>2542</td>\n",
              "      <td>Sales &amp; Marketing</td>\n",
              "      <td>region_23</td>\n",
              "      <td>Bachelor's</td>\n",
              "      <td>m</td>\n",
              "      <td>other</td>\n",
              "      <td>2</td>\n",
              "      <td>39</td>\n",
              "      <td>1.0</td>\n",
              "      <td>10</td>\n",
              "      <td>0</td>\n",
              "      <td>0</td>\n",
              "      <td>50</td>\n",
              "      <td>0</td>\n",
              "    </tr>\n",
              "    <tr>\n",
              "      <th>4</th>\n",
              "      <td>48945</td>\n",
              "      <td>Technology</td>\n",
              "      <td>region_26</td>\n",
              "      <td>Bachelor's</td>\n",
              "      <td>m</td>\n",
              "      <td>other</td>\n",
              "      <td>1</td>\n",
              "      <td>45</td>\n",
              "      <td>3.0</td>\n",
              "      <td>2</td>\n",
              "      <td>0</td>\n",
              "      <td>0</td>\n",
              "      <td>73</td>\n",
              "      <td>0</td>\n",
              "    </tr>\n",
              "  </tbody>\n",
              "</table>\n",
              "</div>"
            ],
            "text/plain": [
              "   employee_id         department  ... avg_training_score is_promoted\n",
              "0        65438  Sales & Marketing  ...                 49           0\n",
              "1        65141         Operations  ...                 60           0\n",
              "2         7513  Sales & Marketing  ...                 50           0\n",
              "3         2542  Sales & Marketing  ...                 50           0\n",
              "4        48945         Technology  ...                 73           0\n",
              "\n",
              "[5 rows x 14 columns]"
            ]
          },
          "metadata": {
            "tags": []
          },
          "execution_count": 3
        }
      ]
    },
    {
      "cell_type": "code",
      "metadata": {
        "id": "AENwnCAuqTD7",
        "colab": {
          "base_uri": "https://localhost:8080/",
          "height": 248
        },
        "outputId": "12a84a5a-446a-46a1-c709-b306f63515f6"
      },
      "source": [
        "test.head()"
      ],
      "execution_count": null,
      "outputs": [
        {
          "output_type": "execute_result",
          "data": {
            "text/html": [
              "<div>\n",
              "<style scoped>\n",
              "    .dataframe tbody tr th:only-of-type {\n",
              "        vertical-align: middle;\n",
              "    }\n",
              "\n",
              "    .dataframe tbody tr th {\n",
              "        vertical-align: top;\n",
              "    }\n",
              "\n",
              "    .dataframe thead th {\n",
              "        text-align: right;\n",
              "    }\n",
              "</style>\n",
              "<table border=\"1\" class=\"dataframe\">\n",
              "  <thead>\n",
              "    <tr style=\"text-align: right;\">\n",
              "      <th></th>\n",
              "      <th>employee_id</th>\n",
              "      <th>department</th>\n",
              "      <th>region</th>\n",
              "      <th>education</th>\n",
              "      <th>gender</th>\n",
              "      <th>recruitment_channel</th>\n",
              "      <th>no_of_trainings</th>\n",
              "      <th>age</th>\n",
              "      <th>previous_year_rating</th>\n",
              "      <th>length_of_service</th>\n",
              "      <th>KPIs_met &gt;80%</th>\n",
              "      <th>awards_won?</th>\n",
              "      <th>avg_training_score</th>\n",
              "    </tr>\n",
              "  </thead>\n",
              "  <tbody>\n",
              "    <tr>\n",
              "      <th>0</th>\n",
              "      <td>8724</td>\n",
              "      <td>Technology</td>\n",
              "      <td>region_26</td>\n",
              "      <td>Bachelor's</td>\n",
              "      <td>m</td>\n",
              "      <td>sourcing</td>\n",
              "      <td>1</td>\n",
              "      <td>24</td>\n",
              "      <td>NaN</td>\n",
              "      <td>1</td>\n",
              "      <td>1</td>\n",
              "      <td>0</td>\n",
              "      <td>77</td>\n",
              "    </tr>\n",
              "    <tr>\n",
              "      <th>1</th>\n",
              "      <td>74430</td>\n",
              "      <td>HR</td>\n",
              "      <td>region_4</td>\n",
              "      <td>Bachelor's</td>\n",
              "      <td>f</td>\n",
              "      <td>other</td>\n",
              "      <td>1</td>\n",
              "      <td>31</td>\n",
              "      <td>3.0</td>\n",
              "      <td>5</td>\n",
              "      <td>0</td>\n",
              "      <td>0</td>\n",
              "      <td>51</td>\n",
              "    </tr>\n",
              "    <tr>\n",
              "      <th>2</th>\n",
              "      <td>72255</td>\n",
              "      <td>Sales &amp; Marketing</td>\n",
              "      <td>region_13</td>\n",
              "      <td>Bachelor's</td>\n",
              "      <td>m</td>\n",
              "      <td>other</td>\n",
              "      <td>1</td>\n",
              "      <td>31</td>\n",
              "      <td>1.0</td>\n",
              "      <td>4</td>\n",
              "      <td>0</td>\n",
              "      <td>0</td>\n",
              "      <td>47</td>\n",
              "    </tr>\n",
              "    <tr>\n",
              "      <th>3</th>\n",
              "      <td>38562</td>\n",
              "      <td>Procurement</td>\n",
              "      <td>region_2</td>\n",
              "      <td>Bachelor's</td>\n",
              "      <td>f</td>\n",
              "      <td>other</td>\n",
              "      <td>3</td>\n",
              "      <td>31</td>\n",
              "      <td>2.0</td>\n",
              "      <td>9</td>\n",
              "      <td>0</td>\n",
              "      <td>0</td>\n",
              "      <td>65</td>\n",
              "    </tr>\n",
              "    <tr>\n",
              "      <th>4</th>\n",
              "      <td>64486</td>\n",
              "      <td>Finance</td>\n",
              "      <td>region_29</td>\n",
              "      <td>Bachelor's</td>\n",
              "      <td>m</td>\n",
              "      <td>sourcing</td>\n",
              "      <td>1</td>\n",
              "      <td>30</td>\n",
              "      <td>4.0</td>\n",
              "      <td>7</td>\n",
              "      <td>0</td>\n",
              "      <td>0</td>\n",
              "      <td>61</td>\n",
              "    </tr>\n",
              "  </tbody>\n",
              "</table>\n",
              "</div>"
            ],
            "text/plain": [
              "   employee_id         department  ... awards_won? avg_training_score\n",
              "0         8724         Technology  ...           0                 77\n",
              "1        74430                 HR  ...           0                 51\n",
              "2        72255  Sales & Marketing  ...           0                 47\n",
              "3        38562        Procurement  ...           0                 65\n",
              "4        64486            Finance  ...           0                 61\n",
              "\n",
              "[5 rows x 13 columns]"
            ]
          },
          "metadata": {
            "tags": []
          },
          "execution_count": 4
        }
      ]
    },
    {
      "cell_type": "code",
      "metadata": {
        "id": "eYSHeJl9qUUj",
        "colab": {
          "base_uri": "https://localhost:8080/",
          "height": 424
        },
        "outputId": "33b17136-b0ba-472a-8b59-dc0c574e01df"
      },
      "source": [
        "train.describe(include='all')"
      ],
      "execution_count": null,
      "outputs": [
        {
          "output_type": "execute_result",
          "data": {
            "text/html": [
              "<div>\n",
              "<style scoped>\n",
              "    .dataframe tbody tr th:only-of-type {\n",
              "        vertical-align: middle;\n",
              "    }\n",
              "\n",
              "    .dataframe tbody tr th {\n",
              "        vertical-align: top;\n",
              "    }\n",
              "\n",
              "    .dataframe thead th {\n",
              "        text-align: right;\n",
              "    }\n",
              "</style>\n",
              "<table border=\"1\" class=\"dataframe\">\n",
              "  <thead>\n",
              "    <tr style=\"text-align: right;\">\n",
              "      <th></th>\n",
              "      <th>employee_id</th>\n",
              "      <th>department</th>\n",
              "      <th>region</th>\n",
              "      <th>education</th>\n",
              "      <th>gender</th>\n",
              "      <th>recruitment_channel</th>\n",
              "      <th>no_of_trainings</th>\n",
              "      <th>age</th>\n",
              "      <th>previous_year_rating</th>\n",
              "      <th>length_of_service</th>\n",
              "      <th>KPIs_met &gt;80%</th>\n",
              "      <th>awards_won?</th>\n",
              "      <th>avg_training_score</th>\n",
              "      <th>is_promoted</th>\n",
              "    </tr>\n",
              "  </thead>\n",
              "  <tbody>\n",
              "    <tr>\n",
              "      <th>count</th>\n",
              "      <td>54808.000000</td>\n",
              "      <td>54808</td>\n",
              "      <td>54808</td>\n",
              "      <td>52399</td>\n",
              "      <td>54808</td>\n",
              "      <td>54808</td>\n",
              "      <td>54808.000000</td>\n",
              "      <td>54808.000000</td>\n",
              "      <td>50684.000000</td>\n",
              "      <td>54808.000000</td>\n",
              "      <td>54808.000000</td>\n",
              "      <td>54808.000000</td>\n",
              "      <td>54808.000000</td>\n",
              "      <td>54808.000000</td>\n",
              "    </tr>\n",
              "    <tr>\n",
              "      <th>unique</th>\n",
              "      <td>NaN</td>\n",
              "      <td>9</td>\n",
              "      <td>34</td>\n",
              "      <td>3</td>\n",
              "      <td>2</td>\n",
              "      <td>3</td>\n",
              "      <td>NaN</td>\n",
              "      <td>NaN</td>\n",
              "      <td>NaN</td>\n",
              "      <td>NaN</td>\n",
              "      <td>NaN</td>\n",
              "      <td>NaN</td>\n",
              "      <td>NaN</td>\n",
              "      <td>NaN</td>\n",
              "    </tr>\n",
              "    <tr>\n",
              "      <th>top</th>\n",
              "      <td>NaN</td>\n",
              "      <td>Sales &amp; Marketing</td>\n",
              "      <td>region_2</td>\n",
              "      <td>Bachelor's</td>\n",
              "      <td>m</td>\n",
              "      <td>other</td>\n",
              "      <td>NaN</td>\n",
              "      <td>NaN</td>\n",
              "      <td>NaN</td>\n",
              "      <td>NaN</td>\n",
              "      <td>NaN</td>\n",
              "      <td>NaN</td>\n",
              "      <td>NaN</td>\n",
              "      <td>NaN</td>\n",
              "    </tr>\n",
              "    <tr>\n",
              "      <th>freq</th>\n",
              "      <td>NaN</td>\n",
              "      <td>16840</td>\n",
              "      <td>12343</td>\n",
              "      <td>36669</td>\n",
              "      <td>38496</td>\n",
              "      <td>30446</td>\n",
              "      <td>NaN</td>\n",
              "      <td>NaN</td>\n",
              "      <td>NaN</td>\n",
              "      <td>NaN</td>\n",
              "      <td>NaN</td>\n",
              "      <td>NaN</td>\n",
              "      <td>NaN</td>\n",
              "      <td>NaN</td>\n",
              "    </tr>\n",
              "    <tr>\n",
              "      <th>mean</th>\n",
              "      <td>39195.830627</td>\n",
              "      <td>NaN</td>\n",
              "      <td>NaN</td>\n",
              "      <td>NaN</td>\n",
              "      <td>NaN</td>\n",
              "      <td>NaN</td>\n",
              "      <td>1.253011</td>\n",
              "      <td>34.803915</td>\n",
              "      <td>3.329256</td>\n",
              "      <td>5.865512</td>\n",
              "      <td>0.351974</td>\n",
              "      <td>0.023172</td>\n",
              "      <td>63.386750</td>\n",
              "      <td>0.085170</td>\n",
              "    </tr>\n",
              "    <tr>\n",
              "      <th>std</th>\n",
              "      <td>22586.581449</td>\n",
              "      <td>NaN</td>\n",
              "      <td>NaN</td>\n",
              "      <td>NaN</td>\n",
              "      <td>NaN</td>\n",
              "      <td>NaN</td>\n",
              "      <td>0.609264</td>\n",
              "      <td>7.660169</td>\n",
              "      <td>1.259993</td>\n",
              "      <td>4.265094</td>\n",
              "      <td>0.477590</td>\n",
              "      <td>0.150450</td>\n",
              "      <td>13.371559</td>\n",
              "      <td>0.279137</td>\n",
              "    </tr>\n",
              "    <tr>\n",
              "      <th>min</th>\n",
              "      <td>1.000000</td>\n",
              "      <td>NaN</td>\n",
              "      <td>NaN</td>\n",
              "      <td>NaN</td>\n",
              "      <td>NaN</td>\n",
              "      <td>NaN</td>\n",
              "      <td>1.000000</td>\n",
              "      <td>20.000000</td>\n",
              "      <td>1.000000</td>\n",
              "      <td>1.000000</td>\n",
              "      <td>0.000000</td>\n",
              "      <td>0.000000</td>\n",
              "      <td>39.000000</td>\n",
              "      <td>0.000000</td>\n",
              "    </tr>\n",
              "    <tr>\n",
              "      <th>25%</th>\n",
              "      <td>19669.750000</td>\n",
              "      <td>NaN</td>\n",
              "      <td>NaN</td>\n",
              "      <td>NaN</td>\n",
              "      <td>NaN</td>\n",
              "      <td>NaN</td>\n",
              "      <td>1.000000</td>\n",
              "      <td>29.000000</td>\n",
              "      <td>3.000000</td>\n",
              "      <td>3.000000</td>\n",
              "      <td>0.000000</td>\n",
              "      <td>0.000000</td>\n",
              "      <td>51.000000</td>\n",
              "      <td>0.000000</td>\n",
              "    </tr>\n",
              "    <tr>\n",
              "      <th>50%</th>\n",
              "      <td>39225.500000</td>\n",
              "      <td>NaN</td>\n",
              "      <td>NaN</td>\n",
              "      <td>NaN</td>\n",
              "      <td>NaN</td>\n",
              "      <td>NaN</td>\n",
              "      <td>1.000000</td>\n",
              "      <td>33.000000</td>\n",
              "      <td>3.000000</td>\n",
              "      <td>5.000000</td>\n",
              "      <td>0.000000</td>\n",
              "      <td>0.000000</td>\n",
              "      <td>60.000000</td>\n",
              "      <td>0.000000</td>\n",
              "    </tr>\n",
              "    <tr>\n",
              "      <th>75%</th>\n",
              "      <td>58730.500000</td>\n",
              "      <td>NaN</td>\n",
              "      <td>NaN</td>\n",
              "      <td>NaN</td>\n",
              "      <td>NaN</td>\n",
              "      <td>NaN</td>\n",
              "      <td>1.000000</td>\n",
              "      <td>39.000000</td>\n",
              "      <td>4.000000</td>\n",
              "      <td>7.000000</td>\n",
              "      <td>1.000000</td>\n",
              "      <td>0.000000</td>\n",
              "      <td>76.000000</td>\n",
              "      <td>0.000000</td>\n",
              "    </tr>\n",
              "    <tr>\n",
              "      <th>max</th>\n",
              "      <td>78298.000000</td>\n",
              "      <td>NaN</td>\n",
              "      <td>NaN</td>\n",
              "      <td>NaN</td>\n",
              "      <td>NaN</td>\n",
              "      <td>NaN</td>\n",
              "      <td>10.000000</td>\n",
              "      <td>60.000000</td>\n",
              "      <td>5.000000</td>\n",
              "      <td>37.000000</td>\n",
              "      <td>1.000000</td>\n",
              "      <td>1.000000</td>\n",
              "      <td>99.000000</td>\n",
              "      <td>1.000000</td>\n",
              "    </tr>\n",
              "  </tbody>\n",
              "</table>\n",
              "</div>"
            ],
            "text/plain": [
              "         employee_id         department  ... avg_training_score   is_promoted\n",
              "count   54808.000000              54808  ...       54808.000000  54808.000000\n",
              "unique           NaN                  9  ...                NaN           NaN\n",
              "top              NaN  Sales & Marketing  ...                NaN           NaN\n",
              "freq             NaN              16840  ...                NaN           NaN\n",
              "mean    39195.830627                NaN  ...          63.386750      0.085170\n",
              "std     22586.581449                NaN  ...          13.371559      0.279137\n",
              "min         1.000000                NaN  ...          39.000000      0.000000\n",
              "25%     19669.750000                NaN  ...          51.000000      0.000000\n",
              "50%     39225.500000                NaN  ...          60.000000      0.000000\n",
              "75%     58730.500000                NaN  ...          76.000000      0.000000\n",
              "max     78298.000000                NaN  ...          99.000000      1.000000\n",
              "\n",
              "[11 rows x 14 columns]"
            ]
          },
          "metadata": {
            "tags": []
          },
          "execution_count": 5
        }
      ]
    },
    {
      "cell_type": "code",
      "metadata": {
        "id": "1WE6AVqKqY3i",
        "colab": {
          "base_uri": "https://localhost:8080/",
          "height": 549
        },
        "outputId": "aa2db55e-6fa9-41d1-e277-48d35320141f"
      },
      "source": [
        "\n",
        "# plotting a donut chart for visualizing each of the recruitment channel's share\n",
        "\n",
        "size = [53538, 1270]\n",
        "colors = ['magenta', 'brown']\n",
        "labels = \"Awards Won\", \"NO Awards Won\"\n",
        "\n",
        "my_circle = plt.Circle((0, 0), 0.7, color = 'white')\n",
        "\n",
        "plt.rcParams['figure.figsize'] = (9, 9)\n",
        "plt.pie(size, colors = colors, labels = labels, shadow = True, autopct = '%.2f%%')\n",
        "plt.title('Showing a Percentage of employees who won awards', fontsize = 30)\n",
        "p = plt.gcf()\n",
        "p.gca().add_artist(my_circle)\n",
        "plt.legend()\n",
        "plt.show()"
      ],
      "execution_count": null,
      "outputs": [
        {
          "output_type": "display_data",
          "data": {
            "image/png": "[encoded data removed]",
            "text/plain": [
              "<Figure size 648x648 with 1 Axes>"
            ]
          },
          "metadata": {
            "tags": []
          }
        }
      ]
    },
    {
      "cell_type": "code",
      "metadata": {
        "id": "Gox8o8k5qsXf",
        "colab": {
          "base_uri": "https://localhost:8080/",
          "height": 35
        },
        "outputId": "eecaf501-9242-4c67-fcd8-210bad14aed1"
      },
      "source": [
        "\n",
        "# filling missing values\n",
        "\n",
        "train['education'].fillna(train['education'].mode()[0], inplace = True)\n",
        "train['previous_year_rating'].fillna(1, inplace = True)\n",
        "\n",
        "# again checking if there is any Null value left in the data\n",
        "train.isnull().sum().sum()"
      ],
      "execution_count": null,
      "outputs": [
        {
          "output_type": "execute_result",
          "data": {
            "text/plain": [
              "0"
            ]
          },
          "metadata": {
            "tags": []
          },
          "execution_count": 7
        }
      ]
    },
    {
      "cell_type": "code",
      "metadata": {
        "id": "lwvH8fQhrAlj",
        "colab": {
          "base_uri": "https://localhost:8080/",
          "height": 88
        },
        "outputId": "457de3cc-b854-4493-e9a8-4c8eb6568c43"
      },
      "source": [
        "# removing the employee_id column\n",
        "\n",
        "train = train.drop(['employee_id'], axis = 1)\n",
        "\n",
        "train.columns"
      ],
      "execution_count": null,
      "outputs": [
        {
          "output_type": "execute_result",
          "data": {
            "text/plain": [
              "Index(['department', 'region', 'education', 'gender', 'recruitment_channel',\n",
              "       'no_of_trainings', 'age', 'previous_year_rating', 'length_of_service',\n",
              "       'KPIs_met >80%', 'awards_won?', 'avg_training_score', 'is_promoted'],\n",
              "      dtype='object')"
            ]
          },
          "metadata": {
            "tags": []
          },
          "execution_count": 8
        }
      ]
    },
    {
      "cell_type": "code",
      "metadata": {
        "id": "vqlAFn9qscB5",
        "colab": {
          "base_uri": "https://localhost:8080/",
          "height": 266
        },
        "outputId": "0b9637a5-87ba-40ab-e799-96bdc8265917"
      },
      "source": [
        "test.isnull().sum()"
      ],
      "execution_count": null,
      "outputs": [
        {
          "output_type": "execute_result",
          "data": {
            "text/plain": [
              "employee_id                0\n",
              "department                 0\n",
              "region                     0\n",
              "education               1034\n",
              "gender                     0\n",
              "recruitment_channel        0\n",
              "no_of_trainings            0\n",
              "age                        0\n",
              "previous_year_rating    1812\n",
              "length_of_service          0\n",
              "KPIs_met >80%              0\n",
              "awards_won?                0\n",
              "avg_training_score         0\n",
              "dtype: int64"
            ]
          },
          "metadata": {
            "tags": []
          },
          "execution_count": 9
        }
      ]
    },
    {
      "cell_type": "code",
      "metadata": {
        "id": "UJjvUAGtscH0",
        "colab": {
          "base_uri": "https://localhost:8080/",
          "height": 35
        },
        "outputId": "8bc80c68-d2fb-42c1-8704-e149e922fdb4"
      },
      "source": [
        "\n",
        "# filling missing values\n",
        "\n",
        "test['education'].fillna(test['education'].mode()[0], inplace = True)\n",
        "test['previous_year_rating'].fillna(1, inplace = True)\n",
        "\n",
        "# again checking if there is any Null value left in the data\n",
        "test.isnull().sum().sum()"
      ],
      "execution_count": null,
      "outputs": [
        {
          "output_type": "execute_result",
          "data": {
            "text/plain": [
              "0"
            ]
          },
          "metadata": {
            "tags": []
          },
          "execution_count": 10
        }
      ]
    },
    {
      "cell_type": "code",
      "metadata": {
        "id": "rrnHOd4gscFG"
      },
      "source": [
        ""
      ],
      "execution_count": null,
      "outputs": []
    },
    {
      "cell_type": "code",
      "metadata": {
        "id": "Fp1yPxQWrF6Y",
        "colab": {
          "base_uri": "https://localhost:8080/",
          "height": 88
        },
        "outputId": "08c72568-cadf-462b-dfc0-81a72d1bebfe"
      },
      "source": [
        "# saving the employee_id\n",
        "\n",
        "emp_id = test['employee_id']\n",
        "\n",
        "# removing the employee_id column\n",
        "\n",
        "test = test.drop(['employee_id'], axis = 1)\n",
        "\n",
        "test.columns"
      ],
      "execution_count": null,
      "outputs": [
        {
          "output_type": "execute_result",
          "data": {
            "text/plain": [
              "Index(['department', 'region', 'education', 'gender', 'recruitment_channel',\n",
              "       'no_of_trainings', 'age', 'previous_year_rating', 'length_of_service',\n",
              "       'KPIs_met >80%', 'awards_won?', 'avg_training_score'],\n",
              "      dtype='object')"
            ]
          },
          "metadata": {
            "tags": []
          },
          "execution_count": 11
        }
      ]
    },
    {
      "cell_type": "code",
      "metadata": {
        "id": "0oR1D2tFrIU5",
        "colab": {
          "base_uri": "https://localhost:8080/",
          "height": 88
        },
        "outputId": "fb6cf299-c306-47ef-d3a4-f7fc78ee6ded"
      },
      "source": [
        "# defining the test set\n",
        "\n",
        "x_test = test\n",
        "\n",
        "x_test.columns"
      ],
      "execution_count": null,
      "outputs": [
        {
          "output_type": "execute_result",
          "data": {
            "text/plain": [
              "Index(['department', 'region', 'education', 'gender', 'recruitment_channel',\n",
              "       'no_of_trainings', 'age', 'previous_year_rating', 'length_of_service',\n",
              "       'KPIs_met >80%', 'awards_won?', 'avg_training_score'],\n",
              "      dtype='object')"
            ]
          },
          "metadata": {
            "tags": []
          },
          "execution_count": 12
        }
      ]
    },
    {
      "cell_type": "code",
      "metadata": {
        "id": "KwQub4i8rMHz",
        "colab": {
          "base_uri": "https://localhost:8080/",
          "height": 390
        },
        "outputId": "ad35a588-278e-48ac-e96c-d437b56759f1"
      },
      "source": [
        "\n",
        "# one hot encoding for the test set\n",
        "\n",
        "x_test = pd.get_dummies(x_test)\n",
        "\n",
        "x_test.columns"
      ],
      "execution_count": null,
      "outputs": [
        {
          "output_type": "execute_result",
          "data": {
            "text/plain": [
              "Index(['no_of_trainings', 'age', 'previous_year_rating', 'length_of_service',\n",
              "       'KPIs_met >80%', 'awards_won?', 'avg_training_score',\n",
              "       'department_Analytics', 'department_Finance', 'department_HR',\n",
              "       'department_Legal', 'department_Operations', 'department_Procurement',\n",
              "       'department_R&D', 'department_Sales & Marketing',\n",
              "       'department_Technology', 'region_region_1', 'region_region_10',\n",
              "       'region_region_11', 'region_region_12', 'region_region_13',\n",
              "       'region_region_14', 'region_region_15', 'region_region_16',\n",
              "       'region_region_17', 'region_region_18', 'region_region_19',\n",
              "       'region_region_2', 'region_region_20', 'region_region_21',\n",
              "       'region_region_22', 'region_region_23', 'region_region_24',\n",
              "       'region_region_25', 'region_region_26', 'region_region_27',\n",
              "       'region_region_28', 'region_region_29', 'region_region_3',\n",
              "       'region_region_30', 'region_region_31', 'region_region_32',\n",
              "       'region_region_33', 'region_region_34', 'region_region_4',\n",
              "       'region_region_5', 'region_region_6', 'region_region_7',\n",
              "       'region_region_8', 'region_region_9', 'education_Bachelor's',\n",
              "       'education_Below Secondary', 'education_Master's & above', 'gender_f',\n",
              "       'gender_m', 'recruitment_channel_other', 'recruitment_channel_referred',\n",
              "       'recruitment_channel_sourcing'],\n",
              "      dtype='object')"
            ]
          },
          "metadata": {
            "tags": []
          },
          "execution_count": 13
        }
      ]
    },
    {
      "cell_type": "code",
      "metadata": {
        "id": "u85FQDBxrOLT",
        "colab": {
          "base_uri": "https://localhost:8080/",
          "height": 52
        },
        "outputId": "2e8798e2-5f0f-461d-fa2c-34379012ae88"
      },
      "source": [
        "# splitting the train set into dependent and independent sets\n",
        "\n",
        "x = train.iloc[:, :-1]\n",
        "y = train.iloc[:, -1]\n",
        "\n",
        "print(\"Shape of x:\", x.shape)\n",
        "print(\"Shape of y:\", y.shape)"
      ],
      "execution_count": null,
      "outputs": [
        {
          "output_type": "stream",
          "text": [
            "Shape of x: (54808, 12)\n",
            "Shape of y: (54808,)\n"
          ],
          "name": "stdout"
        }
      ]
    },
    {
      "cell_type": "code",
      "metadata": {
        "id": "1f9i_RXfrVWb",
        "colab": {
          "base_uri": "https://localhost:8080/",
          "height": 390
        },
        "outputId": "19c702e7-93cb-46eb-97a6-3e1e42b39a49"
      },
      "source": [
        "# one hot encoding for the train set\n",
        "\n",
        "x = pd.get_dummies(x)\n",
        "\n",
        "x.columns"
      ],
      "execution_count": null,
      "outputs": [
        {
          "output_type": "execute_result",
          "data": {
            "text/plain": [
              "Index(['no_of_trainings', 'age', 'previous_year_rating', 'length_of_service',\n",
              "       'KPIs_met >80%', 'awards_won?', 'avg_training_score',\n",
              "       'department_Analytics', 'department_Finance', 'department_HR',\n",
              "       'department_Legal', 'department_Operations', 'department_Procurement',\n",
              "       'department_R&D', 'department_Sales & Marketing',\n",
              "       'department_Technology', 'region_region_1', 'region_region_10',\n",
              "       'region_region_11', 'region_region_12', 'region_region_13',\n",
              "       'region_region_14', 'region_region_15', 'region_region_16',\n",
              "       'region_region_17', 'region_region_18', 'region_region_19',\n",
              "       'region_region_2', 'region_region_20', 'region_region_21',\n",
              "       'region_region_22', 'region_region_23', 'region_region_24',\n",
              "       'region_region_25', 'region_region_26', 'region_region_27',\n",
              "       'region_region_28', 'region_region_29', 'region_region_3',\n",
              "       'region_region_30', 'region_region_31', 'region_region_32',\n",
              "       'region_region_33', 'region_region_34', 'region_region_4',\n",
              "       'region_region_5', 'region_region_6', 'region_region_7',\n",
              "       'region_region_8', 'region_region_9', 'education_Bachelor's',\n",
              "       'education_Below Secondary', 'education_Master's & above', 'gender_f',\n",
              "       'gender_m', 'recruitment_channel_other', 'recruitment_channel_referred',\n",
              "       'recruitment_channel_sourcing'],\n",
              "      dtype='object')"
            ]
          },
          "metadata": {
            "tags": []
          },
          "execution_count": 15
        }
      ]
    },
    {
      "cell_type": "code",
      "metadata": {
        "id": "7yUTIVMprYT_",
        "colab": {
          "base_uri": "https://localhost:8080/",
          "height": 179
        },
        "outputId": "9e7d2a0e-0bab-475c-b0ae-9762003893f4"
      },
      "source": [
        "from imblearn.over_sampling import SMOTE\n",
        "\n",
        "x_sample, y_sample = SMOTE().fit_sample(x, y.values.ravel())\n",
        "\n",
        "x_sample = pd.DataFrame(x_sample)\n",
        "y_sample = pd.DataFrame(y_sample)\n",
        "\n",
        "# checking the sizes of the sample data\n",
        "print(\"Size of x-sample :\", x_sample.shape)\n",
        "print(\"Size of y-sample :\", y_sample.shape)"
      ],
      "execution_count": null,
      "outputs": [
        {
          "output_type": "stream",
          "text": [
            "/usr/local/lib/python3.6/dist-packages/sklearn/externals/six.py:31: FutureWarning: The module is deprecated in version 0.21 and will be removed in version 0.23 since we've dropped support for Python 2.7. Please rely on the official version of six (https://pypi.org/project/six/).\n",
            "  \"(https://pypi.org/project/six/).\", FutureWarning)\n",
            "/usr/local/lib/python3.6/dist-packages/sklearn/utils/deprecation.py:144: FutureWarning: The sklearn.neighbors.base module is  deprecated in version 0.22 and will be removed in version 0.24. The corresponding classes / functions should instead be imported from sklearn.neighbors. Anything that cannot be imported from sklearn.neighbors is now part of the private API.\n",
            "  warnings.warn(message, FutureWarning)\n",
            "/usr/local/lib/python3.6/dist-packages/sklearn/utils/deprecation.py:87: FutureWarning: Function safe_indexing is deprecated; safe_indexing is deprecated in version 0.22 and will be removed in version 0.24.\n",
            "  warnings.warn(msg, category=FutureWarning)\n"
          ],
          "name": "stderr"
        },
        {
          "output_type": "stream",
          "text": [
            "Size of x-sample : (100280, 58)\n",
            "Size of y-sample : (100280, 1)\n"
          ],
          "name": "stdout"
        }
      ]
    },
    {
      "cell_type": "code",
      "metadata": {
        "id": "oV4MDnoArb_b",
        "colab": {
          "base_uri": "https://localhost:8080/",
          "height": 88
        },
        "outputId": "1a8e58f0-e823-406b-bd54-7dc22a4ed8c6"
      },
      "source": [
        "# splitting x and y into train and validation sets\n",
        "\n",
        "from sklearn.model_selection import train_test_split\n",
        "\n",
        "x_train, x_valid, y_train, y_valid = train_test_split(x_sample, y_sample, test_size = 0.2, random_state = 0)\n",
        "\n",
        "print(\"Shape of x_train: \", x_train.shape)\n",
        "print(\"Shape of x_valid: \", x_valid.shape)\n",
        "print(\"Shape of y_train: \", y_train.shape)\n",
        "print(\"Shape of y_valid: \", y_valid.shape)"
      ],
      "execution_count": null,
      "outputs": [
        {
          "output_type": "stream",
          "text": [
            "Shape of x_train:  (80224, 58)\n",
            "Shape of x_valid:  (20056, 58)\n",
            "Shape of y_train:  (80224, 1)\n",
            "Shape of y_valid:  (20056, 1)\n"
          ],
          "name": "stdout"
        }
      ]
    },
    {
      "cell_type": "code",
      "metadata": {
        "id": "sjUtlJyKsCMi",
        "colab": {
          "base_uri": "https://localhost:8080/",
          "height": 194
        },
        "outputId": "5d796468-9650-47df-cf25-8c0fe1c0bdc1"
      },
      "source": [
        "ss = pd.read_csv(\"sample_submission.csv\")\n",
        "ss.head()"
      ],
      "execution_count": null,
      "outputs": [
        {
          "output_type": "execute_result",
          "data": {
            "text/html": [
              "<div>\n",
              "<style scoped>\n",
              "    .dataframe tbody tr th:only-of-type {\n",
              "        vertical-align: middle;\n",
              "    }\n",
              "\n",
              "    .dataframe tbody tr th {\n",
              "        vertical-align: top;\n",
              "    }\n",
              "\n",
              "    .dataframe thead th {\n",
              "        text-align: right;\n",
              "    }\n",
              "</style>\n",
              "<table border=\"1\" class=\"dataframe\">\n",
              "  <thead>\n",
              "    <tr style=\"text-align: right;\">\n",
              "      <th></th>\n",
              "      <th>employee_id</th>\n",
              "      <th>is_promoted</th>\n",
              "    </tr>\n",
              "  </thead>\n",
              "  <tbody>\n",
              "    <tr>\n",
              "      <th>0</th>\n",
              "      <td>8724</td>\n",
              "      <td>0</td>\n",
              "    </tr>\n",
              "    <tr>\n",
              "      <th>1</th>\n",
              "      <td>74430</td>\n",
              "      <td>0</td>\n",
              "    </tr>\n",
              "    <tr>\n",
              "      <th>2</th>\n",
              "      <td>72255</td>\n",
              "      <td>0</td>\n",
              "    </tr>\n",
              "    <tr>\n",
              "      <th>3</th>\n",
              "      <td>38562</td>\n",
              "      <td>0</td>\n",
              "    </tr>\n",
              "    <tr>\n",
              "      <th>4</th>\n",
              "      <td>64486</td>\n",
              "      <td>0</td>\n",
              "    </tr>\n",
              "  </tbody>\n",
              "</table>\n",
              "</div>"
            ],
            "text/plain": [
              "   employee_id  is_promoted\n",
              "0         8724            0\n",
              "1        74430            0\n",
              "2        72255            0\n",
              "3        38562            0\n",
              "4        64486            0"
            ]
          },
          "metadata": {
            "tags": []
          },
          "execution_count": 17
        }
      ]
    },
    {
      "cell_type": "code",
      "metadata": {
        "id": "0ikIfdZVtGtf"
      },
      "source": [
        ""
      ],
      "execution_count": null,
      "outputs": []
    },
    {
      "cell_type": "code",
      "metadata": {
        "id": "0MhGeNpCrfWh"
      },
      "source": [
        "\n",
        "# standard scaling\n",
        "\n",
        "from sklearn.preprocessing import StandardScaler\n",
        "\n",
        "sc = StandardScaler()\n",
        "x_sample = sc.fit_transform(x_sample)\n",
        "x_test  = sc.transform(x_test)\n",
        "#x_valid = sc.transform(x_valid)"
      ],
      "execution_count": null,
      "outputs": []
    },
    {
      "cell_type": "code",
      "metadata": {
        "id": "iZJzl1nTrjFm",
        "colab": {
          "base_uri": "https://localhost:8080/",
          "height": 90
        },
        "outputId": "598dfd0b-44ce-4d08-acfc-5a837bb1c7f0"
      },
      "source": [
        "from sklearn.ensemble import RandomForestClassifier\n",
        "from sklearn.metrics import confusion_matrix, f1_score\n",
        "from sklearn.metrics import classification_report\n",
        "from sklearn.metrics import average_precision_score\n",
        "\n",
        "rfc = RandomForestClassifier()\n",
        "rfc.fit(x_sample, y_sample)\n",
        "rfc_predt = rfc.predict(x_sample)\n",
        "\n",
        "rfc_pred = rfc.predict(x_test)\n",
        "f1_score(y_sample, rfc_predt)\n",
        "#print(\"Training Accuracy :\", rfc.score(x_sample, y_sample))"
      ],
      "execution_count": null,
      "outputs": [
        {
          "output_type": "stream",
          "text": [
            "/usr/local/lib/python3.6/dist-packages/ipykernel_launcher.py:7: DataConversionWarning: A column-vector y was passed when a 1d array was expected. Please change the shape of y to (n_samples,), for example using ravel().\n",
            "  import sys\n"
          ],
          "name": "stderr"
        },
        {
          "output_type": "execute_result",
          "data": {
            "text/plain": [
              "0.9998504143522444"
            ]
          },
          "metadata": {
            "tags": []
          },
          "execution_count": 19
        }
      ]
    },
    {
      "cell_type": "code",
      "metadata": {
        "id": "2dmK9D0-tJau",
        "colab": {
          "base_uri": "https://localhost:8080/",
          "height": 70
        },
        "outputId": "b505a0bd-b294-481f-b7fe-5e5af5a7be4e"
      },
      "source": [
        "ss['is_promoted'] = rfc_pred\n",
        "ss['is_promoted'].value_counts()"
      ],
      "execution_count": null,
      "outputs": [
        {
          "output_type": "execute_result",
          "data": {
            "text/plain": [
              "0    22759\n",
              "1      731\n",
              "Name: is_promoted, dtype: int64"
            ]
          },
          "metadata": {
            "tags": []
          },
          "execution_count": 94
        }
      ]
    },
    {
      "cell_type": "code",
      "metadata": {
        "id": "LpclYhXltk8R"
      },
      "source": [
        "f1_score()"
      ],
      "execution_count": null,
      "outputs": []
    },
    {
      "cell_type": "code",
      "metadata": {
        "id": "dj2Qucrks6OD"
      },
      "source": [
        "ss.to_csv(\"2RFC1.csv\", index=False)"
      ],
      "execution_count": null,
      "outputs": []
    },
    {
      "cell_type": "code",
      "metadata": {
        "id": "YB69m5tArpP2",
        "colab": {
          "base_uri": "https://localhost:8080/",
          "height": 126
        },
        "outputId": "c8b618aa-17b3-45d5-f0be-64bfc0f7e300"
      },
      "source": [
        "from xgboost.sklearn import XGBClassifier\n",
        "from sklearn.metrics import confusion_matrix\n",
        "from sklearn.metrics import classification_report\n",
        "from sklearn.metrics import average_precision_score\n",
        "\n",
        "xgb = XGBClassifier()\n",
        "xgb.fit(x_sample, y_sample)\n",
        "xgb_predt = xgb.predict(x_sample)\n",
        "\n",
        "xgb_pred = xgb.predict(x_test)\n",
        "f1_score(y_sample, xgb_predt)\n",
        "\n",
        "#print(\"Training Accuracy :\", xgb.score(x_train, y_train))"
      ],
      "execution_count": null,
      "outputs": [
        {
          "output_type": "stream",
          "text": [
            "/usr/local/lib/python3.6/dist-packages/sklearn/preprocessing/_label.py:235: DataConversionWarning: A column-vector y was passed when a 1d array was expected. Please change the shape of y to (n_samples, ), for example using ravel().\n",
            "  y = column_or_1d(y, warn=True)\n",
            "/usr/local/lib/python3.6/dist-packages/sklearn/preprocessing/_label.py:268: DataConversionWarning: A column-vector y was passed when a 1d array was expected. Please change the shape of y to (n_samples, ), for example using ravel().\n",
            "  y = column_or_1d(y, warn=True)\n"
          ],
          "name": "stderr"
        },
        {
          "output_type": "execute_result",
          "data": {
            "text/plain": [
              "0.9476470221908537"
            ]
          },
          "metadata": {
            "tags": []
          },
          "execution_count": 96
        }
      ]
    },
    {
      "cell_type": "code",
      "metadata": {
        "id": "4dU__VZnrvsi",
        "colab": {
          "base_uri": "https://localhost:8080/",
          "height": 70
        },
        "outputId": "a3a141b4-8d22-4b93-909d-2256b444f515"
      },
      "source": [
        "ss['is_promoted'] = xgb_pred\n",
        "ss['is_promoted'].value_counts()"
      ],
      "execution_count": null,
      "outputs": [
        {
          "output_type": "execute_result",
          "data": {
            "text/plain": [
              "0    22734\n",
              "1      756\n",
              "Name: is_promoted, dtype: int64"
            ]
          },
          "metadata": {
            "tags": []
          },
          "execution_count": 97
        }
      ]
    },
    {
      "cell_type": "code",
      "metadata": {
        "id": "81WY3WBWtrpe"
      },
      "source": [
        "ss.to_csv(\"2XGB1.csv\", index=False)"
      ],
      "execution_count": null,
      "outputs": []
    },
    {
      "cell_type": "code",
      "metadata": {
        "id": "1AY2K_6RtxHh"
      },
      "source": [
        ""
      ],
      "execution_count": null,
      "outputs": []
    },
    {
      "cell_type": "code",
      "metadata": {
        "id": "0deaiXVntxv1"
      },
      "source": [
        ""
      ],
      "execution_count": null,
      "outputs": []
    },
    {
      "cell_type": "code",
      "metadata": {
        "id": "bny0kEgxtyOs",
        "colab": {
          "base_uri": "https://localhost:8080/",
          "height": 108
        },
        "outputId": "0b343caa-e2bc-4a15-d111-2806368e79db"
      },
      "source": [
        "from lightgbm import LGBMClassifier\n",
        "from sklearn.metrics import confusion_matrix\n",
        "from sklearn.metrics import classification_report\n",
        "from sklearn.metrics import average_precision_score\n",
        "\n",
        "lgb = LGBMClassifier()\n",
        "lgb.fit(x_sample, y_sample)\n",
        "lgb_predt = lgb.predict(x_sample)\n",
        "f1_score(y_sample, lgb_predt)\n",
        "lgb_pred = lgb.predict(x_test)\n",
        "\n",
        "#print(\"Training Accuracy :\", lgb.score(x_train, y_train))"
      ],
      "execution_count": null,
      "outputs": [
        {
          "output_type": "stream",
          "text": [
            "/usr/local/lib/python3.6/dist-packages/sklearn/preprocessing/_label.py:235: DataConversionWarning: A column-vector y was passed when a 1d array was expected. Please change the shape of y to (n_samples, ), for example using ravel().\n",
            "  y = column_or_1d(y, warn=True)\n",
            "/usr/local/lib/python3.6/dist-packages/sklearn/preprocessing/_label.py:268: DataConversionWarning: A column-vector y was passed when a 1d array was expected. Please change the shape of y to (n_samples, ), for example using ravel().\n",
            "  y = column_or_1d(y, warn=True)\n"
          ],
          "name": "stderr"
        }
      ]
    },
    {
      "cell_type": "code",
      "metadata": {
        "id": "qbh69Qf5t3am",
        "colab": {
          "base_uri": "https://localhost:8080/",
          "height": 70
        },
        "outputId": "303836a7-9499-4f6c-d716-604adbaeefc9"
      },
      "source": [
        "ss['is_promoted'] = lgb_pred\n",
        "ss['is_promoted'].value_counts()"
      ],
      "execution_count": null,
      "outputs": [
        {
          "output_type": "execute_result",
          "data": {
            "text/plain": [
              "0    22780\n",
              "1      710\n",
              "Name: is_promoted, dtype: int64"
            ]
          },
          "metadata": {
            "tags": []
          },
          "execution_count": 100
        }
      ]
    },
    {
      "cell_type": "code",
      "metadata": {
        "id": "3M-cAUIEt76F"
      },
      "source": [
        "ss.to_csv(\"2LGB1.csv\", index=False)"
      ],
      "execution_count": null,
      "outputs": []
    },
    {
      "cell_type": "code",
      "metadata": {
        "id": "c7N0aPvHuAhX"
      },
      "source": [
        ""
      ],
      "execution_count": null,
      "outputs": []
    },
    {
      "cell_type": "code",
      "metadata": {
        "id": "EMN717UBuBJX"
      },
      "source": [
        ""
      ],
      "execution_count": null,
      "outputs": []
    },
    {
      "cell_type": "code",
      "metadata": {
        "id": "PV7gnD49uBM7",
        "colab": {
          "base_uri": "https://localhost:8080/",
          "height": 72
        },
        "outputId": "52d3e6f4-7d0f-4bda-827a-4c357d07e4ad"
      },
      "source": [
        "from sklearn.ensemble import ExtraTreesClassifier\n",
        "\n",
        "etc = ExtraTreesClassifier()\n",
        "etc.fit(x_sample, y_sample)\n",
        "etc_predt = etc.predict(x_sample)\n",
        "f1_score(y_sample, xgb_predt)\n",
        "etc_pred = etc.predict(x_test)\n",
        "\n",
        "#print(\"Training Accuracy :\", etc.score(x_train, y_train))"
      ],
      "execution_count": null,
      "outputs": [
        {
          "output_type": "stream",
          "text": [
            "/usr/local/lib/python3.6/dist-packages/ipykernel_launcher.py:4: DataConversionWarning: A column-vector y was passed when a 1d array was expected. Please change the shape of y to (n_samples,), for example using ravel().\n",
            "  after removing the cwd from sys.path.\n"
          ],
          "name": "stderr"
        }
      ]
    },
    {
      "cell_type": "code",
      "metadata": {
        "id": "FpbQIHd7uE4_",
        "colab": {
          "base_uri": "https://localhost:8080/",
          "height": 70
        },
        "outputId": "4382e6be-2384-45e5-ae49-44ff8412f2f5"
      },
      "source": [
        "ss['is_promoted'] = etc_pred\n",
        "ss['is_promoted'].value_counts()"
      ],
      "execution_count": null,
      "outputs": [
        {
          "output_type": "execute_result",
          "data": {
            "text/plain": [
              "0    22423\n",
              "1     1067\n",
              "Name: is_promoted, dtype: int64"
            ]
          },
          "metadata": {
            "tags": []
          },
          "execution_count": 103
        }
      ]
    },
    {
      "cell_type": "code",
      "metadata": {
        "id": "1YboKB4iuKz_"
      },
      "source": [
        "ss.to_csv(\"2ETC1.csv\", index=False)"
      ],
      "execution_count": null,
      "outputs": []
    },
    {
      "cell_type": "code",
      "metadata": {
        "id": "uQXrCH6buUbH"
      },
      "source": [
        ""
      ],
      "execution_count": null,
      "outputs": []
    },
    {
      "cell_type": "code",
      "metadata": {
        "id": "xahKMDi1uUqD"
      },
      "source": [
        ""
      ],
      "execution_count": null,
      "outputs": []
    },
    {
      "cell_type": "code",
      "metadata": {
        "id": "iuQSLHd_uUX-",
        "colab": {
          "base_uri": "https://localhost:8080/",
          "height": 357
        },
        "outputId": "c994930b-3e60-42ff-8b93-884ef6469722"
      },
      "source": [
        "pip install catboost"
      ],
      "execution_count": null,
      "outputs": [
        {
          "output_type": "stream",
          "text": [
            "Collecting catboost\n",
            "\u001b[?25l  Downloading https://files.pythonhosted.org/packages/b2/aa/e61819d04ef2bbee778bf4b3a748db1f3ad23512377e43ecfdc3211437a0/catboost-0.23.2-cp36-none-manylinux1_x86_64.whl (64.8MB)\n",
            "\u001b[K     |████████████████████████████████| 64.8MB 61kB/s \n",
            "\u001b[?25hRequirement already satisfied: graphviz in /usr/local/lib/python3.6/dist-packages (from catboost) (0.10.1)\n",
            "Requirement already satisfied: scipy in /usr/local/lib/python3.6/dist-packages (from catboost) (1.4.1)\n",
            "Requirement already satisfied: pandas>=0.24.0 in /usr/local/lib/python3.6/dist-packages (from catboost) (1.0.4)\n",
            "Requirement already satisfied: numpy>=1.16.0 in /usr/local/lib/python3.6/dist-packages (from catboost) (1.18.5)\n",
            "Requirement already satisfied: matplotlib in /usr/local/lib/python3.6/dist-packages (from catboost) (3.2.1)\n",
            "Requirement already satisfied: six in /usr/local/lib/python3.6/dist-packages (from catboost) (1.12.0)\n",
            "Requirement already satisfied: plotly in /usr/local/lib/python3.6/dist-packages (from catboost) (4.4.1)\n",
            "Requirement already satisfied: pytz>=2017.2 in /usr/local/lib/python3.6/dist-packages (from pandas>=0.24.0->catboost) (2018.9)\n",
            "Requirement already satisfied: python-dateutil>=2.6.1 in /usr/local/lib/python3.6/dist-packages (from pandas>=0.24.0->catboost) (2.8.1)\n",
            "Requirement already satisfied: pyparsing!=2.0.4,!=2.1.2,!=2.1.6,>=2.0.1 in /usr/local/lib/python3.6/dist-packages (from matplotlib->catboost) (2.4.7)\n",
            "Requirement already satisfied: cycler>=0.10 in /usr/local/lib/python3.6/dist-packages (from matplotlib->catboost) (0.10.0)\n",
            "Requirement already satisfied: kiwisolver>=1.0.1 in /usr/local/lib/python3.6/dist-packages (from matplotlib->catboost) (1.2.0)\n",
            "Requirement already satisfied: retrying>=1.3.3 in /usr/local/lib/python3.6/dist-packages (from plotly->catboost) (1.3.3)\n",
            "Installing collected packages: catboost\n",
            "Successfully installed catboost-0.23.2\n"
          ],
          "name": "stdout"
        }
      ]
    },
    {
      "cell_type": "code",
      "metadata": {
        "id": "A97JLm1UuOrY",
        "colab": {
          "base_uri": "https://localhost:8080/",
          "height": 1000
        },
        "outputId": "8629b870-1505-4c25-a1ec-21f1442ac8d0"
      },
      "source": [
        "from catboost import CatBoostClassifier\n",
        "\n",
        "cbc = CatBoostClassifier(learning_rate = 0.004, early_stopping_rounds = 100)\n",
        "cbc.fit(x_sample, y_sample)\n",
        "cbc_predt = cbc.predict(x_sample)\n",
        "\n",
        "cbc_pred = cbc.predict(x_test)\n",
        "f1_score(y_sample,cbc_predt)\n",
        "#print(\"Training Accuracy :\", rfc.score(x_train, y_train))"
      ],
      "execution_count": null,
      "outputs": [
        {
          "output_type": "stream",
          "text": [
            "0:\tlearn: 0.6886293\ttotal: 93.8ms\tremaining: 1m 33s\n",
            "1:\tlearn: 0.6840924\ttotal: 174ms\tremaining: 1m 26s\n",
            "2:\tlearn: 0.6796023\ttotal: 253ms\tremaining: 1m 24s\n",
            "3:\tlearn: 0.6753314\ttotal: 333ms\tremaining: 1m 23s\n",
            "4:\tlearn: 0.6710266\ttotal: 416ms\tremaining: 1m 22s\n",
            "5:\tlearn: 0.6672059\ttotal: 501ms\tremaining: 1m 23s\n",
            "6:\tlearn: 0.6628518\ttotal: 581ms\tremaining: 1m 22s\n",
            "7:\tlearn: 0.6585099\ttotal: 659ms\tremaining: 1m 21s\n",
            "8:\tlearn: 0.6546496\ttotal: 736ms\tremaining: 1m 21s\n",
            "9:\tlearn: 0.6507084\ttotal: 816ms\tremaining: 1m 20s\n",
            "10:\tlearn: 0.6467971\ttotal: 896ms\tremaining: 1m 20s\n",
            "11:\tlearn: 0.6425120\ttotal: 975ms\tremaining: 1m 20s\n",
            "12:\tlearn: 0.6387076\ttotal: 1.06s\tremaining: 1m 20s\n",
            "13:\tlearn: 0.6350499\ttotal: 1.14s\tremaining: 1m 20s\n",
            "14:\tlearn: 0.6312344\ttotal: 1.22s\tremaining: 1m 19s\n",
            "15:\tlearn: 0.6277039\ttotal: 1.29s\tremaining: 1m 19s\n",
            "16:\tlearn: 0.6238859\ttotal: 1.37s\tremaining: 1m 19s\n",
            "17:\tlearn: 0.6201258\ttotal: 1.48s\tremaining: 1m 20s\n",
            "18:\tlearn: 0.6161956\ttotal: 1.57s\tremaining: 1m 20s\n",
            "19:\tlearn: 0.6125683\ttotal: 1.65s\tremaining: 1m 20s\n",
            "20:\tlearn: 0.6094533\ttotal: 1.73s\tremaining: 1m 20s\n",
            "21:\tlearn: 0.6061155\ttotal: 1.81s\tremaining: 1m 20s\n",
            "22:\tlearn: 0.6025846\ttotal: 1.89s\tremaining: 1m 20s\n",
            "23:\tlearn: 0.5991008\ttotal: 1.96s\tremaining: 1m 19s\n",
            "24:\tlearn: 0.5956766\ttotal: 2.04s\tremaining: 1m 19s\n",
            "25:\tlearn: 0.5922938\ttotal: 2.12s\tremaining: 1m 19s\n",
            "26:\tlearn: 0.5897079\ttotal: 2.2s\tremaining: 1m 19s\n",
            "27:\tlearn: 0.5869025\ttotal: 2.28s\tremaining: 1m 19s\n",
            "28:\tlearn: 0.5838338\ttotal: 2.36s\tremaining: 1m 18s\n",
            "29:\tlearn: 0.5811341\ttotal: 2.43s\tremaining: 1m 18s\n",
            "30:\tlearn: 0.5789479\ttotal: 2.51s\tremaining: 1m 18s\n",
            "31:\tlearn: 0.5762440\ttotal: 2.59s\tremaining: 1m 18s\n",
            "32:\tlearn: 0.5731024\ttotal: 2.67s\tremaining: 1m 18s\n",
            "33:\tlearn: 0.5701720\ttotal: 2.75s\tremaining: 1m 18s\n",
            "34:\tlearn: 0.5672142\ttotal: 2.83s\tremaining: 1m 17s\n",
            "35:\tlearn: 0.5644518\ttotal: 2.9s\tremaining: 1m 17s\n",
            "36:\tlearn: 0.5621257\ttotal: 2.98s\tremaining: 1m 17s\n",
            "37:\tlearn: 0.5598991\ttotal: 3.05s\tremaining: 1m 17s\n",
            "38:\tlearn: 0.5573019\ttotal: 3.13s\tremaining: 1m 17s\n",
            "39:\tlearn: 0.5549586\ttotal: 3.21s\tremaining: 1m 16s\n",
            "40:\tlearn: 0.5520244\ttotal: 3.28s\tremaining: 1m 16s\n",
            "41:\tlearn: 0.5495491\ttotal: 3.36s\tremaining: 1m 16s\n",
            "42:\tlearn: 0.5473763\ttotal: 3.44s\tremaining: 1m 16s\n",
            "43:\tlearn: 0.5456200\ttotal: 3.51s\tremaining: 1m 16s\n",
            "44:\tlearn: 0.5435705\ttotal: 3.59s\tremaining: 1m 16s\n",
            "45:\tlearn: 0.5413000\ttotal: 3.67s\tremaining: 1m 16s\n",
            "46:\tlearn: 0.5398850\ttotal: 3.74s\tremaining: 1m 15s\n",
            "47:\tlearn: 0.5379018\ttotal: 3.82s\tremaining: 1m 15s\n",
            "48:\tlearn: 0.5354486\ttotal: 3.9s\tremaining: 1m 15s\n",
            "49:\tlearn: 0.5327468\ttotal: 3.97s\tremaining: 1m 15s\n",
            "50:\tlearn: 0.5306682\ttotal: 4.04s\tremaining: 1m 15s\n",
            "51:\tlearn: 0.5286902\ttotal: 4.12s\tremaining: 1m 15s\n",
            "52:\tlearn: 0.5260040\ttotal: 4.2s\tremaining: 1m 14s\n",
            "53:\tlearn: 0.5237373\ttotal: 4.27s\tremaining: 1m 14s\n",
            "54:\tlearn: 0.5215359\ttotal: 4.34s\tremaining: 1m 14s\n",
            "55:\tlearn: 0.5189721\ttotal: 4.42s\tremaining: 1m 14s\n",
            "56:\tlearn: 0.5170413\ttotal: 4.49s\tremaining: 1m 14s\n",
            "57:\tlearn: 0.5151970\ttotal: 4.57s\tremaining: 1m 14s\n",
            "58:\tlearn: 0.5133770\ttotal: 4.65s\tremaining: 1m 14s\n",
            "59:\tlearn: 0.5111750\ttotal: 4.72s\tremaining: 1m 13s\n",
            "60:\tlearn: 0.5089291\ttotal: 4.79s\tremaining: 1m 13s\n",
            "61:\tlearn: 0.5071850\ttotal: 4.86s\tremaining: 1m 13s\n",
            "62:\tlearn: 0.5055444\ttotal: 4.93s\tremaining: 1m 13s\n",
            "63:\tlearn: 0.5039234\ttotal: 5.01s\tremaining: 1m 13s\n",
            "64:\tlearn: 0.5022509\ttotal: 5.1s\tremaining: 1m 13s\n",
            "65:\tlearn: 0.5005188\ttotal: 5.18s\tremaining: 1m 13s\n",
            "66:\tlearn: 0.4993096\ttotal: 5.26s\tremaining: 1m 13s\n",
            "67:\tlearn: 0.4970656\ttotal: 5.33s\tremaining: 1m 13s\n",
            "68:\tlearn: 0.4953675\ttotal: 5.41s\tremaining: 1m 13s\n",
            "69:\tlearn: 0.4930440\ttotal: 5.49s\tremaining: 1m 12s\n",
            "70:\tlearn: 0.4914363\ttotal: 5.57s\tremaining: 1m 12s\n",
            "71:\tlearn: 0.4890417\ttotal: 5.64s\tremaining: 1m 12s\n",
            "72:\tlearn: 0.4871341\ttotal: 5.72s\tremaining: 1m 12s\n",
            "73:\tlearn: 0.4856514\ttotal: 5.79s\tremaining: 1m 12s\n",
            "74:\tlearn: 0.4834841\ttotal: 5.86s\tremaining: 1m 12s\n",
            "75:\tlearn: 0.4822008\ttotal: 5.95s\tremaining: 1m 12s\n",
            "76:\tlearn: 0.4800976\ttotal: 6.02s\tremaining: 1m 12s\n",
            "77:\tlearn: 0.4786173\ttotal: 6.09s\tremaining: 1m 11s\n",
            "78:\tlearn: 0.4768097\ttotal: 6.17s\tremaining: 1m 11s\n",
            "79:\tlearn: 0.4748472\ttotal: 6.25s\tremaining: 1m 11s\n",
            "80:\tlearn: 0.4731830\ttotal: 6.33s\tremaining: 1m 11s\n",
            "81:\tlearn: 0.4712080\ttotal: 6.4s\tremaining: 1m 11s\n",
            "82:\tlearn: 0.4689666\ttotal: 6.47s\tremaining: 1m 11s\n",
            "83:\tlearn: 0.4674740\ttotal: 6.55s\tremaining: 1m 11s\n",
            "84:\tlearn: 0.4657040\ttotal: 6.64s\tremaining: 1m 11s\n",
            "85:\tlearn: 0.4638320\ttotal: 6.71s\tremaining: 1m 11s\n",
            "86:\tlearn: 0.4624294\ttotal: 6.79s\tremaining: 1m 11s\n",
            "87:\tlearn: 0.4607508\ttotal: 6.87s\tremaining: 1m 11s\n",
            "88:\tlearn: 0.4592048\ttotal: 6.94s\tremaining: 1m 11s\n",
            "89:\tlearn: 0.4575589\ttotal: 7.02s\tremaining: 1m 10s\n",
            "90:\tlearn: 0.4563273\ttotal: 7.09s\tremaining: 1m 10s\n",
            "91:\tlearn: 0.4551479\ttotal: 7.17s\tremaining: 1m 10s\n",
            "92:\tlearn: 0.4538062\ttotal: 7.24s\tremaining: 1m 10s\n",
            "93:\tlearn: 0.4520414\ttotal: 7.32s\tremaining: 1m 10s\n",
            "94:\tlearn: 0.4505118\ttotal: 7.39s\tremaining: 1m 10s\n",
            "95:\tlearn: 0.4493301\ttotal: 7.47s\tremaining: 1m 10s\n",
            "96:\tlearn: 0.4479712\ttotal: 7.54s\tremaining: 1m 10s\n",
            "97:\tlearn: 0.4468525\ttotal: 7.62s\tremaining: 1m 10s\n",
            "98:\tlearn: 0.4452209\ttotal: 7.7s\tremaining: 1m 10s\n",
            "99:\tlearn: 0.4434862\ttotal: 7.78s\tremaining: 1m 9s\n",
            "100:\tlearn: 0.4424985\ttotal: 7.85s\tremaining: 1m 9s\n",
            "101:\tlearn: 0.4408989\ttotal: 7.93s\tremaining: 1m 9s\n",
            "102:\tlearn: 0.4396896\ttotal: 8.01s\tremaining: 1m 9s\n",
            "103:\tlearn: 0.4385372\ttotal: 8.08s\tremaining: 1m 9s\n",
            "104:\tlearn: 0.4369076\ttotal: 8.15s\tremaining: 1m 9s\n",
            "105:\tlearn: 0.4358313\ttotal: 8.23s\tremaining: 1m 9s\n",
            "106:\tlearn: 0.4343666\ttotal: 8.31s\tremaining: 1m 9s\n",
            "107:\tlearn: 0.4331302\ttotal: 8.39s\tremaining: 1m 9s\n",
            "108:\tlearn: 0.4319976\ttotal: 8.47s\tremaining: 1m 9s\n",
            "109:\tlearn: 0.4305627\ttotal: 8.55s\tremaining: 1m 9s\n",
            "110:\tlearn: 0.4295168\ttotal: 8.63s\tremaining: 1m 9s\n",
            "111:\tlearn: 0.4279574\ttotal: 8.71s\tremaining: 1m 9s\n",
            "112:\tlearn: 0.4262523\ttotal: 8.79s\tremaining: 1m 8s\n",
            "113:\tlearn: 0.4248020\ttotal: 8.87s\tremaining: 1m 8s\n",
            "114:\tlearn: 0.4232735\ttotal: 8.95s\tremaining: 1m 8s\n",
            "115:\tlearn: 0.4219621\ttotal: 9.03s\tremaining: 1m 8s\n",
            "116:\tlearn: 0.4205190\ttotal: 9.11s\tremaining: 1m 8s\n",
            "117:\tlearn: 0.4192691\ttotal: 9.19s\tremaining: 1m 8s\n",
            "118:\tlearn: 0.4179775\ttotal: 9.26s\tremaining: 1m 8s\n",
            "119:\tlearn: 0.4166543\ttotal: 9.34s\tremaining: 1m 8s\n",
            "120:\tlearn: 0.4156794\ttotal: 9.41s\tremaining: 1m 8s\n",
            "121:\tlearn: 0.4144225\ttotal: 9.49s\tremaining: 1m 8s\n",
            "122:\tlearn: 0.4130514\ttotal: 9.57s\tremaining: 1m 8s\n",
            "123:\tlearn: 0.4116674\ttotal: 9.66s\tremaining: 1m 8s\n",
            "124:\tlearn: 0.4103019\ttotal: 9.73s\tremaining: 1m 8s\n",
            "125:\tlearn: 0.4088124\ttotal: 9.8s\tremaining: 1m 8s\n",
            "126:\tlearn: 0.4080223\ttotal: 9.88s\tremaining: 1m 7s\n",
            "127:\tlearn: 0.4071476\ttotal: 9.96s\tremaining: 1m 7s\n",
            "128:\tlearn: 0.4059215\ttotal: 10s\tremaining: 1m 7s\n",
            "129:\tlearn: 0.4049026\ttotal: 10.1s\tremaining: 1m 7s\n",
            "130:\tlearn: 0.4038676\ttotal: 10.2s\tremaining: 1m 7s\n",
            "131:\tlearn: 0.4020685\ttotal: 10.3s\tremaining: 1m 7s\n",
            "132:\tlearn: 0.4009152\ttotal: 10.3s\tremaining: 1m 7s\n",
            "133:\tlearn: 0.3998942\ttotal: 10.4s\tremaining: 1m 7s\n",
            "134:\tlearn: 0.3983370\ttotal: 10.5s\tremaining: 1m 7s\n",
            "135:\tlearn: 0.3971811\ttotal: 10.6s\tremaining: 1m 7s\n",
            "136:\tlearn: 0.3954406\ttotal: 10.7s\tremaining: 1m 7s\n",
            "137:\tlearn: 0.3942374\ttotal: 10.7s\tremaining: 1m 7s\n",
            "138:\tlearn: 0.3931733\ttotal: 10.8s\tremaining: 1m 7s\n",
            "139:\tlearn: 0.3924085\ttotal: 10.9s\tremaining: 1m 6s\n",
            "140:\tlearn: 0.3911440\ttotal: 11s\tremaining: 1m 6s\n",
            "141:\tlearn: 0.3900757\ttotal: 11.1s\tremaining: 1m 6s\n",
            "142:\tlearn: 0.3888759\ttotal: 11.1s\tremaining: 1m 6s\n",
            "143:\tlearn: 0.3876982\ttotal: 11.2s\tremaining: 1m 6s\n",
            "144:\tlearn: 0.3865372\ttotal: 11.3s\tremaining: 1m 6s\n",
            "145:\tlearn: 0.3853247\ttotal: 11.4s\tremaining: 1m 6s\n",
            "146:\tlearn: 0.3841435\ttotal: 11.4s\tremaining: 1m 6s\n",
            "147:\tlearn: 0.3827175\ttotal: 11.5s\tremaining: 1m 6s\n",
            "148:\tlearn: 0.3821023\ttotal: 11.6s\tremaining: 1m 6s\n",
            "149:\tlearn: 0.3810023\ttotal: 11.7s\tremaining: 1m 6s\n",
            "150:\tlearn: 0.3797304\ttotal: 11.7s\tremaining: 1m 6s\n",
            "151:\tlearn: 0.3787218\ttotal: 11.8s\tremaining: 1m 5s\n",
            "152:\tlearn: 0.3778464\ttotal: 11.9s\tremaining: 1m 5s\n",
            "153:\tlearn: 0.3769758\ttotal: 12s\tremaining: 1m 5s\n",
            "154:\tlearn: 0.3757507\ttotal: 12s\tremaining: 1m 5s\n",
            "155:\tlearn: 0.3747721\ttotal: 12.1s\tremaining: 1m 5s\n",
            "156:\tlearn: 0.3739185\ttotal: 12.2s\tremaining: 1m 5s\n",
            "157:\tlearn: 0.3728587\ttotal: 12.3s\tremaining: 1m 5s\n",
            "158:\tlearn: 0.3713923\ttotal: 12.4s\tremaining: 1m 5s\n",
            "159:\tlearn: 0.3705278\ttotal: 12.5s\tremaining: 1m 5s\n",
            "160:\tlearn: 0.3695666\ttotal: 12.5s\tremaining: 1m 5s\n",
            "161:\tlearn: 0.3681045\ttotal: 12.6s\tremaining: 1m 5s\n",
            "162:\tlearn: 0.3674235\ttotal: 12.7s\tremaining: 1m 5s\n",
            "163:\tlearn: 0.3662097\ttotal: 12.8s\tremaining: 1m 5s\n",
            "164:\tlearn: 0.3648890\ttotal: 12.8s\tremaining: 1m 4s\n",
            "165:\tlearn: 0.3640479\ttotal: 12.9s\tremaining: 1m 4s\n",
            "166:\tlearn: 0.3632709\ttotal: 13s\tremaining: 1m 4s\n",
            "167:\tlearn: 0.3625138\ttotal: 13.1s\tremaining: 1m 4s\n",
            "168:\tlearn: 0.3618018\ttotal: 13.1s\tremaining: 1m 4s\n",
            "169:\tlearn: 0.3607898\ttotal: 13.2s\tremaining: 1m 4s\n",
            "170:\tlearn: 0.3602765\ttotal: 13.3s\tremaining: 1m 4s\n",
            "171:\tlearn: 0.3590941\ttotal: 13.4s\tremaining: 1m 4s\n",
            "172:\tlearn: 0.3582489\ttotal: 13.5s\tremaining: 1m 4s\n",
            "173:\tlearn: 0.3566944\ttotal: 13.5s\tremaining: 1m 4s\n",
            "174:\tlearn: 0.3559512\ttotal: 13.6s\tremaining: 1m 4s\n",
            "175:\tlearn: 0.3550527\ttotal: 13.7s\tremaining: 1m 4s\n",
            "176:\tlearn: 0.3540866\ttotal: 13.8s\tremaining: 1m 3s\n",
            "177:\tlearn: 0.3532204\ttotal: 13.8s\tremaining: 1m 3s\n",
            "178:\tlearn: 0.3524159\ttotal: 13.9s\tremaining: 1m 3s\n",
            "179:\tlearn: 0.3513316\ttotal: 14s\tremaining: 1m 3s\n",
            "180:\tlearn: 0.3504831\ttotal: 14.1s\tremaining: 1m 3s\n",
            "181:\tlearn: 0.3497025\ttotal: 14.2s\tremaining: 1m 3s\n",
            "182:\tlearn: 0.3486512\ttotal: 14.2s\tremaining: 1m 3s\n",
            "183:\tlearn: 0.3477430\ttotal: 14.3s\tremaining: 1m 3s\n",
            "184:\tlearn: 0.3469674\ttotal: 14.4s\tremaining: 1m 3s\n",
            "185:\tlearn: 0.3462668\ttotal: 14.5s\tremaining: 1m 3s\n",
            "186:\tlearn: 0.3450621\ttotal: 14.5s\tremaining: 1m 3s\n",
            "187:\tlearn: 0.3440523\ttotal: 14.6s\tremaining: 1m 3s\n",
            "188:\tlearn: 0.3431835\ttotal: 14.7s\tremaining: 1m 3s\n",
            "189:\tlearn: 0.3425487\ttotal: 14.8s\tremaining: 1m 2s\n",
            "190:\tlearn: 0.3421154\ttotal: 14.8s\tremaining: 1m 2s\n",
            "191:\tlearn: 0.3414573\ttotal: 14.9s\tremaining: 1m 2s\n",
            "192:\tlearn: 0.3409039\ttotal: 15s\tremaining: 1m 2s\n",
            "193:\tlearn: 0.3398847\ttotal: 15.1s\tremaining: 1m 2s\n",
            "194:\tlearn: 0.3388685\ttotal: 15.2s\tremaining: 1m 2s\n",
            "195:\tlearn: 0.3379252\ttotal: 15.2s\tremaining: 1m 2s\n",
            "196:\tlearn: 0.3373344\ttotal: 15.3s\tremaining: 1m 2s\n",
            "197:\tlearn: 0.3362027\ttotal: 15.4s\tremaining: 1m 2s\n",
            "198:\tlearn: 0.3350535\ttotal: 15.5s\tremaining: 1m 2s\n",
            "199:\tlearn: 0.3346139\ttotal: 15.5s\tremaining: 1m 2s\n",
            "200:\tlearn: 0.3341889\ttotal: 15.6s\tremaining: 1m 1s\n",
            "201:\tlearn: 0.3336051\ttotal: 15.7s\tremaining: 1m 1s\n",
            "202:\tlearn: 0.3325384\ttotal: 15.8s\tremaining: 1m 1s\n",
            "203:\tlearn: 0.3319436\ttotal: 15.8s\tremaining: 1m 1s\n",
            "204:\tlearn: 0.3311912\ttotal: 15.9s\tremaining: 1m 1s\n",
            "205:\tlearn: 0.3305357\ttotal: 16s\tremaining: 1m 1s\n",
            "206:\tlearn: 0.3300171\ttotal: 16.1s\tremaining: 1m 1s\n",
            "207:\tlearn: 0.3292752\ttotal: 16.1s\tremaining: 1m 1s\n",
            "208:\tlearn: 0.3285642\ttotal: 16.2s\tremaining: 1m 1s\n",
            "209:\tlearn: 0.3274844\ttotal: 16.3s\tremaining: 1m 1s\n",
            "210:\tlearn: 0.3264177\ttotal: 16.4s\tremaining: 1m 1s\n",
            "211:\tlearn: 0.3254004\ttotal: 16.4s\tremaining: 1m 1s\n",
            "212:\tlearn: 0.3247050\ttotal: 16.5s\tremaining: 1m\n",
            "213:\tlearn: 0.3240618\ttotal: 16.6s\tremaining: 1m\n",
            "214:\tlearn: 0.3233299\ttotal: 16.7s\tremaining: 1m\n",
            "215:\tlearn: 0.3226460\ttotal: 16.7s\tremaining: 1m\n",
            "216:\tlearn: 0.3218658\ttotal: 16.8s\tremaining: 1m\n",
            "217:\tlearn: 0.3211142\ttotal: 16.9s\tremaining: 1m\n",
            "218:\tlearn: 0.3203648\ttotal: 17s\tremaining: 1m\n",
            "219:\tlearn: 0.3194559\ttotal: 17.1s\tremaining: 1m\n",
            "220:\tlearn: 0.3189937\ttotal: 17.1s\tremaining: 1m\n",
            "221:\tlearn: 0.3184342\ttotal: 17.2s\tremaining: 1m\n",
            "222:\tlearn: 0.3174847\ttotal: 17.3s\tremaining: 1m\n",
            "223:\tlearn: 0.3167363\ttotal: 17.4s\tremaining: 1m\n",
            "224:\tlearn: 0.3161740\ttotal: 17.4s\tremaining: 1m\n",
            "225:\tlearn: 0.3154860\ttotal: 17.5s\tremaining: 60s\n",
            "226:\tlearn: 0.3151771\ttotal: 17.6s\tremaining: 59.9s\n",
            "227:\tlearn: 0.3148331\ttotal: 17.7s\tremaining: 59.8s\n",
            "228:\tlearn: 0.3142366\ttotal: 17.7s\tremaining: 59.7s\n",
            "229:\tlearn: 0.3136275\ttotal: 17.8s\tremaining: 59.6s\n",
            "230:\tlearn: 0.3128793\ttotal: 17.9s\tremaining: 59.6s\n",
            "231:\tlearn: 0.3122611\ttotal: 18s\tremaining: 59.5s\n",
            "232:\tlearn: 0.3116810\ttotal: 18.1s\tremaining: 59.5s\n",
            "233:\tlearn: 0.3110591\ttotal: 18.1s\tremaining: 59.4s\n",
            "234:\tlearn: 0.3103167\ttotal: 18.2s\tremaining: 59.3s\n",
            "235:\tlearn: 0.3098904\ttotal: 18.3s\tremaining: 59.2s\n",
            "236:\tlearn: 0.3088844\ttotal: 18.4s\tremaining: 59.1s\n",
            "237:\tlearn: 0.3082449\ttotal: 18.4s\tremaining: 59s\n",
            "238:\tlearn: 0.3076226\ttotal: 18.5s\tremaining: 58.9s\n",
            "239:\tlearn: 0.3068845\ttotal: 18.6s\tremaining: 58.8s\n",
            "240:\tlearn: 0.3061746\ttotal: 18.7s\tremaining: 58.8s\n",
            "241:\tlearn: 0.3056600\ttotal: 18.7s\tremaining: 58.7s\n",
            "242:\tlearn: 0.3047798\ttotal: 18.8s\tremaining: 58.6s\n",
            "243:\tlearn: 0.3042988\ttotal: 18.9s\tremaining: 58.5s\n",
            "244:\tlearn: 0.3034033\ttotal: 19s\tremaining: 58.5s\n",
            "245:\tlearn: 0.3025128\ttotal: 19s\tremaining: 58.4s\n",
            "246:\tlearn: 0.3020367\ttotal: 19.1s\tremaining: 58.3s\n",
            "247:\tlearn: 0.3014716\ttotal: 19.2s\tremaining: 58.2s\n",
            "248:\tlearn: 0.3010475\ttotal: 19.3s\tremaining: 58.1s\n",
            "249:\tlearn: 0.3001803\ttotal: 19.3s\tremaining: 58s\n",
            "250:\tlearn: 0.2995423\ttotal: 19.4s\tremaining: 57.9s\n",
            "251:\tlearn: 0.2986134\ttotal: 19.5s\tremaining: 57.9s\n",
            "252:\tlearn: 0.2983133\ttotal: 19.6s\tremaining: 57.8s\n",
            "253:\tlearn: 0.2977844\ttotal: 19.6s\tremaining: 57.7s\n",
            "254:\tlearn: 0.2972605\ttotal: 19.7s\tremaining: 57.6s\n",
            "255:\tlearn: 0.2966665\ttotal: 19.8s\tremaining: 57.5s\n",
            "256:\tlearn: 0.2958092\ttotal: 19.9s\tremaining: 57.4s\n",
            "257:\tlearn: 0.2950401\ttotal: 19.9s\tremaining: 57.3s\n",
            "258:\tlearn: 0.2947034\ttotal: 20s\tremaining: 57.2s\n",
            "259:\tlearn: 0.2938344\ttotal: 20.1s\tremaining: 57.2s\n",
            "260:\tlearn: 0.2931957\ttotal: 20.2s\tremaining: 57.1s\n",
            "261:\tlearn: 0.2927950\ttotal: 20.2s\tremaining: 57s\n",
            "262:\tlearn: 0.2920129\ttotal: 20.3s\tremaining: 56.9s\n",
            "263:\tlearn: 0.2915169\ttotal: 20.4s\tremaining: 56.8s\n",
            "264:\tlearn: 0.2911013\ttotal: 20.4s\tremaining: 56.7s\n",
            "265:\tlearn: 0.2906744\ttotal: 20.5s\tremaining: 56.6s\n",
            "266:\tlearn: 0.2901390\ttotal: 20.6s\tremaining: 56.5s\n",
            "267:\tlearn: 0.2896459\ttotal: 20.7s\tremaining: 56.4s\n",
            "268:\tlearn: 0.2891130\ttotal: 20.7s\tremaining: 56.3s\n",
            "269:\tlearn: 0.2886663\ttotal: 20.8s\tremaining: 56.2s\n",
            "270:\tlearn: 0.2879015\ttotal: 20.9s\tremaining: 56.2s\n",
            "271:\tlearn: 0.2874269\ttotal: 21s\tremaining: 56.1s\n",
            "272:\tlearn: 0.2868917\ttotal: 21s\tremaining: 56s\n",
            "273:\tlearn: 0.2864010\ttotal: 21.1s\tremaining: 55.9s\n",
            "274:\tlearn: 0.2858851\ttotal: 21.2s\tremaining: 55.8s\n",
            "275:\tlearn: 0.2851719\ttotal: 21.2s\tremaining: 55.7s\n",
            "276:\tlearn: 0.2847496\ttotal: 21.3s\tremaining: 55.6s\n",
            "277:\tlearn: 0.2843608\ttotal: 21.4s\tremaining: 55.5s\n",
            "278:\tlearn: 0.2838559\ttotal: 21.5s\tremaining: 55.5s\n",
            "279:\tlearn: 0.2833510\ttotal: 21.5s\tremaining: 55.4s\n",
            "280:\tlearn: 0.2829653\ttotal: 21.6s\tremaining: 55.3s\n",
            "281:\tlearn: 0.2822255\ttotal: 21.7s\tremaining: 55.2s\n",
            "282:\tlearn: 0.2814819\ttotal: 21.8s\tremaining: 55.2s\n",
            "283:\tlearn: 0.2811102\ttotal: 21.8s\tremaining: 55.1s\n",
            "284:\tlearn: 0.2806667\ttotal: 21.9s\tremaining: 55s\n",
            "285:\tlearn: 0.2800015\ttotal: 22s\tremaining: 54.9s\n",
            "286:\tlearn: 0.2795542\ttotal: 22.1s\tremaining: 54.8s\n",
            "287:\tlearn: 0.2792946\ttotal: 22.1s\tremaining: 54.7s\n",
            "288:\tlearn: 0.2789124\ttotal: 22.2s\tremaining: 54.6s\n",
            "289:\tlearn: 0.2785500\ttotal: 22.3s\tremaining: 54.5s\n",
            "290:\tlearn: 0.2781552\ttotal: 22.3s\tremaining: 54.4s\n",
            "291:\tlearn: 0.2777811\ttotal: 22.4s\tremaining: 54.4s\n",
            "292:\tlearn: 0.2772511\ttotal: 22.5s\tremaining: 54.3s\n",
            "293:\tlearn: 0.2768902\ttotal: 22.6s\tremaining: 54.2s\n",
            "294:\tlearn: 0.2764648\ttotal: 22.6s\tremaining: 54.1s\n",
            "295:\tlearn: 0.2761299\ttotal: 22.7s\tremaining: 54s\n",
            "296:\tlearn: 0.2758135\ttotal: 22.8s\tremaining: 53.9s\n",
            "297:\tlearn: 0.2751581\ttotal: 22.9s\tremaining: 53.9s\n",
            "298:\tlearn: 0.2745065\ttotal: 22.9s\tremaining: 53.8s\n",
            "299:\tlearn: 0.2741402\ttotal: 23s\tremaining: 53.7s\n",
            "300:\tlearn: 0.2737987\ttotal: 23.1s\tremaining: 53.7s\n",
            "301:\tlearn: 0.2730991\ttotal: 23.2s\tremaining: 53.6s\n",
            "302:\tlearn: 0.2724570\ttotal: 23.3s\tremaining: 53.5s\n",
            "303:\tlearn: 0.2718281\ttotal: 23.3s\tremaining: 53.4s\n",
            "304:\tlearn: 0.2714887\ttotal: 23.4s\tremaining: 53.3s\n",
            "305:\tlearn: 0.2710444\ttotal: 23.5s\tremaining: 53.3s\n",
            "306:\tlearn: 0.2703608\ttotal: 23.6s\tremaining: 53.2s\n",
            "307:\tlearn: 0.2700286\ttotal: 23.6s\tremaining: 53.1s\n",
            "308:\tlearn: 0.2697107\ttotal: 23.7s\tremaining: 53s\n",
            "309:\tlearn: 0.2693543\ttotal: 23.8s\tremaining: 52.9s\n",
            "310:\tlearn: 0.2687398\ttotal: 23.9s\tremaining: 52.8s\n",
            "311:\tlearn: 0.2682555\ttotal: 23.9s\tremaining: 52.8s\n",
            "312:\tlearn: 0.2678192\ttotal: 24s\tremaining: 52.7s\n",
            "313:\tlearn: 0.2671856\ttotal: 24.1s\tremaining: 52.6s\n",
            "314:\tlearn: 0.2665409\ttotal: 24.1s\tremaining: 52.5s\n",
            "315:\tlearn: 0.2663128\ttotal: 24.2s\tremaining: 52.4s\n",
            "316:\tlearn: 0.2658937\ttotal: 24.3s\tremaining: 52.3s\n",
            "317:\tlearn: 0.2655055\ttotal: 24.4s\tremaining: 52.3s\n",
            "318:\tlearn: 0.2652493\ttotal: 24.4s\tremaining: 52.2s\n",
            "319:\tlearn: 0.2647071\ttotal: 24.5s\tremaining: 52.1s\n",
            "320:\tlearn: 0.2641837\ttotal: 24.6s\tremaining: 52s\n",
            "321:\tlearn: 0.2638482\ttotal: 24.7s\tremaining: 51.9s\n",
            "322:\tlearn: 0.2633982\ttotal: 24.7s\tremaining: 51.8s\n",
            "323:\tlearn: 0.2626338\ttotal: 24.8s\tremaining: 51.8s\n",
            "324:\tlearn: 0.2621056\ttotal: 24.9s\tremaining: 51.7s\n",
            "325:\tlearn: 0.2615986\ttotal: 25s\tremaining: 51.6s\n",
            "326:\tlearn: 0.2613624\ttotal: 25s\tremaining: 51.5s\n",
            "327:\tlearn: 0.2610514\ttotal: 25.1s\tremaining: 51.4s\n",
            "328:\tlearn: 0.2604901\ttotal: 25.2s\tremaining: 51.4s\n",
            "329:\tlearn: 0.2601757\ttotal: 25.2s\tremaining: 51.3s\n",
            "330:\tlearn: 0.2599400\ttotal: 25.3s\tremaining: 51.2s\n",
            "331:\tlearn: 0.2593580\ttotal: 25.4s\tremaining: 51.1s\n",
            "332:\tlearn: 0.2590120\ttotal: 25.5s\tremaining: 51s\n",
            "333:\tlearn: 0.2584578\ttotal: 25.5s\tremaining: 50.9s\n",
            "334:\tlearn: 0.2581778\ttotal: 25.6s\tremaining: 50.8s\n",
            "335:\tlearn: 0.2577366\ttotal: 25.7s\tremaining: 50.8s\n",
            "336:\tlearn: 0.2571046\ttotal: 25.8s\tremaining: 50.7s\n",
            "337:\tlearn: 0.2566426\ttotal: 25.8s\tremaining: 50.6s\n",
            "338:\tlearn: 0.2560874\ttotal: 25.9s\tremaining: 50.5s\n",
            "339:\tlearn: 0.2557977\ttotal: 26s\tremaining: 50.4s\n",
            "340:\tlearn: 0.2552683\ttotal: 26.1s\tremaining: 50.4s\n",
            "341:\tlearn: 0.2550141\ttotal: 26.1s\tremaining: 50.3s\n",
            "342:\tlearn: 0.2545239\ttotal: 26.2s\tremaining: 50.2s\n",
            "343:\tlearn: 0.2542353\ttotal: 26.3s\tremaining: 50.1s\n",
            "344:\tlearn: 0.2536735\ttotal: 26.3s\tremaining: 50s\n",
            "345:\tlearn: 0.2531198\ttotal: 26.4s\tremaining: 49.9s\n",
            "346:\tlearn: 0.2526167\ttotal: 26.5s\tremaining: 49.8s\n",
            "347:\tlearn: 0.2522907\ttotal: 26.6s\tremaining: 49.8s\n",
            "348:\tlearn: 0.2519918\ttotal: 26.6s\tremaining: 49.7s\n",
            "349:\tlearn: 0.2516299\ttotal: 26.7s\tremaining: 49.6s\n",
            "350:\tlearn: 0.2513529\ttotal: 26.8s\tremaining: 49.5s\n",
            "351:\tlearn: 0.2511169\ttotal: 26.8s\tremaining: 49.4s\n",
            "352:\tlearn: 0.2508207\ttotal: 26.9s\tremaining: 49.3s\n",
            "353:\tlearn: 0.2502924\ttotal: 27s\tremaining: 49.2s\n",
            "354:\tlearn: 0.2499195\ttotal: 27.1s\tremaining: 49.2s\n",
            "355:\tlearn: 0.2496727\ttotal: 27.1s\tremaining: 49.1s\n",
            "356:\tlearn: 0.2493830\ttotal: 27.2s\tremaining: 49s\n",
            "357:\tlearn: 0.2489530\ttotal: 27.3s\tremaining: 48.9s\n",
            "358:\tlearn: 0.2485572\ttotal: 27.4s\tremaining: 48.8s\n",
            "359:\tlearn: 0.2483598\ttotal: 27.4s\tremaining: 48.7s\n",
            "360:\tlearn: 0.2480931\ttotal: 27.5s\tremaining: 48.7s\n",
            "361:\tlearn: 0.2479091\ttotal: 27.6s\tremaining: 48.6s\n",
            "362:\tlearn: 0.2476294\ttotal: 27.6s\tremaining: 48.5s\n",
            "363:\tlearn: 0.2470359\ttotal: 27.7s\tremaining: 48.4s\n",
            "364:\tlearn: 0.2465968\ttotal: 27.8s\tremaining: 48.3s\n",
            "365:\tlearn: 0.2461737\ttotal: 27.9s\tremaining: 48.3s\n",
            "366:\tlearn: 0.2459074\ttotal: 27.9s\tremaining: 48.2s\n",
            "367:\tlearn: 0.2453945\ttotal: 28s\tremaining: 48.1s\n",
            "368:\tlearn: 0.2449213\ttotal: 28.1s\tremaining: 48s\n",
            "369:\tlearn: 0.2445874\ttotal: 28.2s\tremaining: 47.9s\n",
            "370:\tlearn: 0.2440908\ttotal: 28.2s\tremaining: 47.9s\n",
            "371:\tlearn: 0.2434628\ttotal: 28.3s\tremaining: 47.8s\n",
            "372:\tlearn: 0.2429828\ttotal: 28.4s\tremaining: 47.7s\n",
            "373:\tlearn: 0.2424721\ttotal: 28.5s\tremaining: 47.7s\n",
            "374:\tlearn: 0.2418905\ttotal: 28.6s\tremaining: 47.6s\n",
            "375:\tlearn: 0.2414077\ttotal: 28.6s\tremaining: 47.5s\n",
            "376:\tlearn: 0.2411486\ttotal: 28.7s\tremaining: 47.4s\n",
            "377:\tlearn: 0.2409483\ttotal: 28.8s\tremaining: 47.4s\n",
            "378:\tlearn: 0.2405458\ttotal: 28.9s\tremaining: 47.3s\n",
            "379:\tlearn: 0.2400972\ttotal: 28.9s\tremaining: 47.2s\n",
            "380:\tlearn: 0.2396480\ttotal: 29s\tremaining: 47.1s\n",
            "381:\tlearn: 0.2393946\ttotal: 29.1s\tremaining: 47s\n",
            "382:\tlearn: 0.2391517\ttotal: 29.1s\tremaining: 47s\n",
            "383:\tlearn: 0.2386665\ttotal: 29.2s\tremaining: 46.9s\n",
            "384:\tlearn: 0.2382841\ttotal: 29.3s\tremaining: 46.8s\n",
            "385:\tlearn: 0.2378982\ttotal: 29.4s\tremaining: 46.7s\n",
            "386:\tlearn: 0.2375835\ttotal: 29.4s\tremaining: 46.6s\n",
            "387:\tlearn: 0.2373623\ttotal: 29.5s\tremaining: 46.6s\n",
            "388:\tlearn: 0.2371360\ttotal: 29.6s\tremaining: 46.5s\n",
            "389:\tlearn: 0.2368978\ttotal: 29.6s\tremaining: 46.4s\n",
            "390:\tlearn: 0.2364101\ttotal: 29.7s\tremaining: 46.3s\n",
            "391:\tlearn: 0.2361500\ttotal: 29.8s\tremaining: 46.2s\n",
            "392:\tlearn: 0.2357092\ttotal: 29.9s\tremaining: 46.1s\n",
            "393:\tlearn: 0.2353102\ttotal: 29.9s\tremaining: 46.1s\n",
            "394:\tlearn: 0.2349317\ttotal: 30s\tremaining: 46s\n",
            "395:\tlearn: 0.2345793\ttotal: 30.1s\tremaining: 45.9s\n",
            "396:\tlearn: 0.2342325\ttotal: 30.2s\tremaining: 45.8s\n",
            "397:\tlearn: 0.2339179\ttotal: 30.2s\tremaining: 45.7s\n",
            "398:\tlearn: 0.2334068\ttotal: 30.3s\tremaining: 45.7s\n",
            "399:\tlearn: 0.2331792\ttotal: 30.4s\tremaining: 45.6s\n",
            "400:\tlearn: 0.2327713\ttotal: 30.5s\tremaining: 45.5s\n",
            "401:\tlearn: 0.2325137\ttotal: 30.5s\tremaining: 45.4s\n",
            "402:\tlearn: 0.2323394\ttotal: 30.6s\tremaining: 45.3s\n",
            "403:\tlearn: 0.2320878\ttotal: 30.7s\tremaining: 45.2s\n",
            "404:\tlearn: 0.2317624\ttotal: 30.7s\tremaining: 45.2s\n",
            "405:\tlearn: 0.2315481\ttotal: 30.8s\tremaining: 45.1s\n",
            "406:\tlearn: 0.2311263\ttotal: 30.9s\tremaining: 45s\n",
            "407:\tlearn: 0.2309781\ttotal: 31s\tremaining: 44.9s\n",
            "408:\tlearn: 0.2307665\ttotal: 31s\tremaining: 44.8s\n",
            "409:\tlearn: 0.2305822\ttotal: 31.1s\tremaining: 44.7s\n",
            "410:\tlearn: 0.2302032\ttotal: 31.2s\tremaining: 44.7s\n",
            "411:\tlearn: 0.2298207\ttotal: 31.2s\tremaining: 44.6s\n",
            "412:\tlearn: 0.2295505\ttotal: 31.3s\tremaining: 44.5s\n",
            "413:\tlearn: 0.2293763\ttotal: 31.4s\tremaining: 44.4s\n",
            "414:\tlearn: 0.2291979\ttotal: 31.5s\tremaining: 44.3s\n",
            "415:\tlearn: 0.2288779\ttotal: 31.5s\tremaining: 44.3s\n",
            "416:\tlearn: 0.2285562\ttotal: 31.6s\tremaining: 44.2s\n",
            "417:\tlearn: 0.2281649\ttotal: 31.7s\tremaining: 44.1s\n",
            "418:\tlearn: 0.2277975\ttotal: 31.7s\tremaining: 44s\n",
            "419:\tlearn: 0.2274777\ttotal: 31.8s\tremaining: 44s\n",
            "420:\tlearn: 0.2272893\ttotal: 31.9s\tremaining: 43.9s\n",
            "421:\tlearn: 0.2269005\ttotal: 32s\tremaining: 43.8s\n",
            "422:\tlearn: 0.2266219\ttotal: 32s\tremaining: 43.7s\n",
            "423:\tlearn: 0.2264128\ttotal: 32.1s\tremaining: 43.6s\n",
            "424:\tlearn: 0.2260695\ttotal: 32.2s\tremaining: 43.5s\n",
            "425:\tlearn: 0.2256739\ttotal: 32.3s\tremaining: 43.5s\n",
            "426:\tlearn: 0.2253144\ttotal: 32.3s\tremaining: 43.4s\n",
            "427:\tlearn: 0.2251158\ttotal: 32.4s\tremaining: 43.3s\n",
            "428:\tlearn: 0.2247815\ttotal: 32.5s\tremaining: 43.2s\n",
            "429:\tlearn: 0.2243887\ttotal: 32.6s\tremaining: 43.2s\n",
            "430:\tlearn: 0.2241528\ttotal: 32.6s\tremaining: 43.1s\n",
            "431:\tlearn: 0.2239194\ttotal: 32.7s\tremaining: 43s\n",
            "432:\tlearn: 0.2235922\ttotal: 32.8s\tremaining: 42.9s\n",
            "433:\tlearn: 0.2232259\ttotal: 32.9s\tremaining: 42.9s\n",
            "434:\tlearn: 0.2230248\ttotal: 32.9s\tremaining: 42.8s\n",
            "435:\tlearn: 0.2225960\ttotal: 33s\tremaining: 42.7s\n",
            "436:\tlearn: 0.2222392\ttotal: 33.1s\tremaining: 42.6s\n",
            "437:\tlearn: 0.2219394\ttotal: 33.2s\tremaining: 42.6s\n",
            "438:\tlearn: 0.2216822\ttotal: 33.2s\tremaining: 42.5s\n",
            "439:\tlearn: 0.2212971\ttotal: 33.3s\tremaining: 42.4s\n",
            "440:\tlearn: 0.2211587\ttotal: 33.4s\tremaining: 42.3s\n",
            "441:\tlearn: 0.2209726\ttotal: 33.5s\tremaining: 42.2s\n",
            "442:\tlearn: 0.2207650\ttotal: 33.6s\tremaining: 42.2s\n",
            "443:\tlearn: 0.2205539\ttotal: 33.6s\tremaining: 42.1s\n",
            "444:\tlearn: 0.2202686\ttotal: 33.7s\tremaining: 42s\n",
            "445:\tlearn: 0.2201152\ttotal: 33.8s\tremaining: 41.9s\n",
            "446:\tlearn: 0.2196417\ttotal: 33.8s\tremaining: 41.9s\n",
            "447:\tlearn: 0.2194133\ttotal: 33.9s\tremaining: 41.8s\n",
            "448:\tlearn: 0.2191468\ttotal: 34s\tremaining: 41.7s\n",
            "449:\tlearn: 0.2187882\ttotal: 34.1s\tremaining: 41.6s\n",
            "450:\tlearn: 0.2186257\ttotal: 34.1s\tremaining: 41.6s\n",
            "451:\tlearn: 0.2183654\ttotal: 34.2s\tremaining: 41.5s\n",
            "452:\tlearn: 0.2180058\ttotal: 34.3s\tremaining: 41.4s\n",
            "453:\tlearn: 0.2177966\ttotal: 34.4s\tremaining: 41.3s\n",
            "454:\tlearn: 0.2174448\ttotal: 34.4s\tremaining: 41.3s\n",
            "455:\tlearn: 0.2172563\ttotal: 34.5s\tremaining: 41.2s\n",
            "456:\tlearn: 0.2170552\ttotal: 34.6s\tremaining: 41.1s\n",
            "457:\tlearn: 0.2168855\ttotal: 34.6s\tremaining: 41s\n",
            "458:\tlearn: 0.2166841\ttotal: 34.7s\tremaining: 40.9s\n",
            "459:\tlearn: 0.2163850\ttotal: 34.8s\tremaining: 40.8s\n",
            "460:\tlearn: 0.2160295\ttotal: 34.9s\tremaining: 40.8s\n",
            "461:\tlearn: 0.2158645\ttotal: 34.9s\tremaining: 40.7s\n",
            "462:\tlearn: 0.2156626\ttotal: 35s\tremaining: 40.6s\n",
            "463:\tlearn: 0.2155208\ttotal: 35.1s\tremaining: 40.5s\n",
            "464:\tlearn: 0.2153255\ttotal: 35.2s\tremaining: 40.5s\n",
            "465:\tlearn: 0.2151622\ttotal: 35.2s\tremaining: 40.4s\n",
            "466:\tlearn: 0.2148823\ttotal: 35.3s\tremaining: 40.3s\n",
            "467:\tlearn: 0.2146044\ttotal: 35.4s\tremaining: 40.2s\n",
            "468:\tlearn: 0.2142684\ttotal: 35.5s\tremaining: 40.2s\n",
            "469:\tlearn: 0.2141355\ttotal: 35.6s\tremaining: 40.1s\n",
            "470:\tlearn: 0.2139974\ttotal: 35.6s\tremaining: 40s\n",
            "471:\tlearn: 0.2137356\ttotal: 35.7s\tremaining: 39.9s\n",
            "472:\tlearn: 0.2133479\ttotal: 35.8s\tremaining: 39.9s\n",
            "473:\tlearn: 0.2131635\ttotal: 35.9s\tremaining: 39.8s\n",
            "474:\tlearn: 0.2128943\ttotal: 35.9s\tremaining: 39.7s\n",
            "475:\tlearn: 0.2126962\ttotal: 36s\tremaining: 39.6s\n",
            "476:\tlearn: 0.2123834\ttotal: 36.1s\tremaining: 39.6s\n",
            "477:\tlearn: 0.2121192\ttotal: 36.2s\tremaining: 39.5s\n",
            "478:\tlearn: 0.2119279\ttotal: 36.2s\tremaining: 39.4s\n",
            "479:\tlearn: 0.2116181\ttotal: 36.3s\tremaining: 39.3s\n",
            "480:\tlearn: 0.2114492\ttotal: 36.4s\tremaining: 39.3s\n",
            "481:\tlearn: 0.2112471\ttotal: 36.4s\tremaining: 39.2s\n",
            "482:\tlearn: 0.2110767\ttotal: 36.5s\tremaining: 39.1s\n",
            "483:\tlearn: 0.2108987\ttotal: 36.6s\tremaining: 39s\n",
            "484:\tlearn: 0.2106812\ttotal: 36.7s\tremaining: 38.9s\n",
            "485:\tlearn: 0.2103797\ttotal: 36.7s\tremaining: 38.9s\n",
            "486:\tlearn: 0.2101398\ttotal: 36.8s\tremaining: 38.8s\n",
            "487:\tlearn: 0.2098083\ttotal: 36.9s\tremaining: 38.7s\n",
            "488:\tlearn: 0.2096461\ttotal: 37s\tremaining: 38.6s\n",
            "489:\tlearn: 0.2095180\ttotal: 37.1s\tremaining: 38.6s\n",
            "490:\tlearn: 0.2093038\ttotal: 37.1s\tremaining: 38.5s\n",
            "491:\tlearn: 0.2091033\ttotal: 37.2s\tremaining: 38.4s\n",
            "492:\tlearn: 0.2088299\ttotal: 37.3s\tremaining: 38.3s\n",
            "493:\tlearn: 0.2086330\ttotal: 37.3s\tremaining: 38.3s\n",
            "494:\tlearn: 0.2084703\ttotal: 37.4s\tremaining: 38.2s\n",
            "495:\tlearn: 0.2082768\ttotal: 37.5s\tremaining: 38.1s\n",
            "496:\tlearn: 0.2081096\ttotal: 37.6s\tremaining: 38s\n",
            "497:\tlearn: 0.2079589\ttotal: 37.6s\tremaining: 37.9s\n",
            "498:\tlearn: 0.2077569\ttotal: 37.7s\tremaining: 37.9s\n",
            "499:\tlearn: 0.2076563\ttotal: 37.8s\tremaining: 37.8s\n",
            "500:\tlearn: 0.2074561\ttotal: 37.9s\tremaining: 37.7s\n",
            "501:\tlearn: 0.2071892\ttotal: 38s\tremaining: 37.6s\n",
            "502:\tlearn: 0.2070205\ttotal: 38s\tremaining: 37.6s\n",
            "503:\tlearn: 0.2068508\ttotal: 38.1s\tremaining: 37.5s\n",
            "504:\tlearn: 0.2065721\ttotal: 38.2s\tremaining: 37.4s\n",
            "505:\tlearn: 0.2063204\ttotal: 38.2s\tremaining: 37.3s\n",
            "506:\tlearn: 0.2061666\ttotal: 38.3s\tremaining: 37.3s\n",
            "507:\tlearn: 0.2059588\ttotal: 38.4s\tremaining: 37.2s\n",
            "508:\tlearn: 0.2057705\ttotal: 38.5s\tremaining: 37.1s\n",
            "509:\tlearn: 0.2055734\ttotal: 38.5s\tremaining: 37s\n",
            "510:\tlearn: 0.2053884\ttotal: 38.6s\tremaining: 36.9s\n",
            "511:\tlearn: 0.2052774\ttotal: 38.7s\tremaining: 36.9s\n",
            "512:\tlearn: 0.2051138\ttotal: 38.7s\tremaining: 36.8s\n",
            "513:\tlearn: 0.2049373\ttotal: 38.8s\tremaining: 36.7s\n",
            "514:\tlearn: 0.2047784\ttotal: 38.9s\tremaining: 36.6s\n",
            "515:\tlearn: 0.2044914\ttotal: 39s\tremaining: 36.6s\n",
            "516:\tlearn: 0.2043367\ttotal: 39.1s\tremaining: 36.5s\n",
            "517:\tlearn: 0.2041485\ttotal: 39.1s\tremaining: 36.4s\n",
            "518:\tlearn: 0.2039991\ttotal: 39.2s\tremaining: 36.3s\n",
            "519:\tlearn: 0.2037642\ttotal: 39.3s\tremaining: 36.3s\n",
            "520:\tlearn: 0.2036568\ttotal: 39.4s\tremaining: 36.2s\n",
            "521:\tlearn: 0.2033656\ttotal: 39.4s\tremaining: 36.1s\n",
            "522:\tlearn: 0.2032737\ttotal: 39.5s\tremaining: 36s\n",
            "523:\tlearn: 0.2031961\ttotal: 39.6s\tremaining: 35.9s\n",
            "524:\tlearn: 0.2029963\ttotal: 39.6s\tremaining: 35.9s\n",
            "525:\tlearn: 0.2028474\ttotal: 39.7s\tremaining: 35.8s\n",
            "526:\tlearn: 0.2026437\ttotal: 39.8s\tremaining: 35.7s\n",
            "527:\tlearn: 0.2023560\ttotal: 39.9s\tremaining: 35.7s\n",
            "528:\tlearn: 0.2022491\ttotal: 40s\tremaining: 35.6s\n",
            "529:\tlearn: 0.2020357\ttotal: 40s\tremaining: 35.5s\n",
            "530:\tlearn: 0.2017302\ttotal: 40.1s\tremaining: 35.4s\n",
            "531:\tlearn: 0.2015440\ttotal: 40.2s\tremaining: 35.3s\n",
            "532:\tlearn: 0.2012229\ttotal: 40.2s\tremaining: 35.3s\n",
            "533:\tlearn: 0.2010223\ttotal: 40.3s\tremaining: 35.2s\n",
            "534:\tlearn: 0.2008747\ttotal: 40.4s\tremaining: 35.1s\n",
            "535:\tlearn: 0.2007647\ttotal: 40.5s\tremaining: 35s\n",
            "536:\tlearn: 0.2005715\ttotal: 40.5s\tremaining: 34.9s\n",
            "537:\tlearn: 0.2004343\ttotal: 40.6s\tremaining: 34.9s\n",
            "538:\tlearn: 0.2003005\ttotal: 40.7s\tremaining: 34.8s\n",
            "539:\tlearn: 0.2001127\ttotal: 40.7s\tremaining: 34.7s\n",
            "540:\tlearn: 0.1999771\ttotal: 40.8s\tremaining: 34.6s\n",
            "541:\tlearn: 0.1998710\ttotal: 40.9s\tremaining: 34.6s\n",
            "542:\tlearn: 0.1996265\ttotal: 41s\tremaining: 34.5s\n",
            "543:\tlearn: 0.1994763\ttotal: 41s\tremaining: 34.4s\n",
            "544:\tlearn: 0.1992984\ttotal: 41.1s\tremaining: 34.3s\n",
            "545:\tlearn: 0.1991905\ttotal: 41.2s\tremaining: 34.2s\n",
            "546:\tlearn: 0.1990346\ttotal: 41.3s\tremaining: 34.2s\n",
            "547:\tlearn: 0.1987083\ttotal: 41.3s\tremaining: 34.1s\n",
            "548:\tlearn: 0.1984598\ttotal: 41.4s\tremaining: 34s\n",
            "549:\tlearn: 0.1982453\ttotal: 41.5s\tremaining: 33.9s\n",
            "550:\tlearn: 0.1981810\ttotal: 41.5s\tremaining: 33.8s\n",
            "551:\tlearn: 0.1980702\ttotal: 41.6s\tremaining: 33.8s\n",
            "552:\tlearn: 0.1978467\ttotal: 41.7s\tremaining: 33.7s\n",
            "553:\tlearn: 0.1977103\ttotal: 41.8s\tremaining: 33.6s\n",
            "554:\tlearn: 0.1975962\ttotal: 41.8s\tremaining: 33.5s\n",
            "555:\tlearn: 0.1973957\ttotal: 41.9s\tremaining: 33.5s\n",
            "556:\tlearn: 0.1971450\ttotal: 42s\tremaining: 33.4s\n",
            "557:\tlearn: 0.1970136\ttotal: 42.1s\tremaining: 33.3s\n",
            "558:\tlearn: 0.1968142\ttotal: 42.1s\tremaining: 33.2s\n",
            "559:\tlearn: 0.1966013\ttotal: 42.2s\tremaining: 33.2s\n",
            "560:\tlearn: 0.1963958\ttotal: 42.3s\tremaining: 33.1s\n",
            "561:\tlearn: 0.1962143\ttotal: 42.4s\tremaining: 33s\n",
            "562:\tlearn: 0.1960605\ttotal: 42.4s\tremaining: 32.9s\n",
            "563:\tlearn: 0.1958517\ttotal: 42.5s\tremaining: 32.9s\n",
            "564:\tlearn: 0.1956969\ttotal: 42.6s\tremaining: 32.8s\n",
            "565:\tlearn: 0.1955808\ttotal: 42.7s\tremaining: 32.7s\n",
            "566:\tlearn: 0.1954153\ttotal: 42.7s\tremaining: 32.6s\n",
            "567:\tlearn: 0.1951804\ttotal: 42.8s\tremaining: 32.6s\n",
            "568:\tlearn: 0.1949946\ttotal: 42.9s\tremaining: 32.5s\n",
            "569:\tlearn: 0.1948506\ttotal: 43s\tremaining: 32.4s\n",
            "570:\tlearn: 0.1945820\ttotal: 43s\tremaining: 32.3s\n",
            "571:\tlearn: 0.1944120\ttotal: 43.1s\tremaining: 32.3s\n",
            "572:\tlearn: 0.1942957\ttotal: 43.2s\tremaining: 32.2s\n",
            "573:\tlearn: 0.1940390\ttotal: 43.3s\tremaining: 32.1s\n",
            "574:\tlearn: 0.1938232\ttotal: 43.3s\tremaining: 32s\n",
            "575:\tlearn: 0.1937013\ttotal: 43.4s\tremaining: 32s\n",
            "576:\tlearn: 0.1935955\ttotal: 43.5s\tremaining: 31.9s\n",
            "577:\tlearn: 0.1933572\ttotal: 43.6s\tremaining: 31.8s\n",
            "578:\tlearn: 0.1932350\ttotal: 43.6s\tremaining: 31.7s\n",
            "579:\tlearn: 0.1931177\ttotal: 43.7s\tremaining: 31.6s\n",
            "580:\tlearn: 0.1930032\ttotal: 43.8s\tremaining: 31.6s\n",
            "581:\tlearn: 0.1928641\ttotal: 43.8s\tremaining: 31.5s\n",
            "582:\tlearn: 0.1926133\ttotal: 43.9s\tremaining: 31.4s\n",
            "583:\tlearn: 0.1923699\ttotal: 44s\tremaining: 31.3s\n",
            "584:\tlearn: 0.1922488\ttotal: 44.1s\tremaining: 31.3s\n",
            "585:\tlearn: 0.1921450\ttotal: 44.1s\tremaining: 31.2s\n",
            "586:\tlearn: 0.1920383\ttotal: 44.2s\tremaining: 31.1s\n",
            "587:\tlearn: 0.1919131\ttotal: 44.3s\tremaining: 31s\n",
            "588:\tlearn: 0.1917862\ttotal: 44.4s\tremaining: 31s\n",
            "589:\tlearn: 0.1914900\ttotal: 44.4s\tremaining: 30.9s\n",
            "590:\tlearn: 0.1913618\ttotal: 44.5s\tremaining: 30.8s\n",
            "591:\tlearn: 0.1912261\ttotal: 44.6s\tremaining: 30.7s\n",
            "592:\tlearn: 0.1910108\ttotal: 44.6s\tremaining: 30.6s\n",
            "593:\tlearn: 0.1909246\ttotal: 44.7s\tremaining: 30.6s\n",
            "594:\tlearn: 0.1907366\ttotal: 44.8s\tremaining: 30.5s\n",
            "595:\tlearn: 0.1906280\ttotal: 44.9s\tremaining: 30.4s\n",
            "596:\tlearn: 0.1904151\ttotal: 44.9s\tremaining: 30.3s\n",
            "597:\tlearn: 0.1902467\ttotal: 45s\tremaining: 30.3s\n",
            "598:\tlearn: 0.1901323\ttotal: 45.1s\tremaining: 30.2s\n",
            "599:\tlearn: 0.1899745\ttotal: 45.2s\tremaining: 30.1s\n",
            "600:\tlearn: 0.1896834\ttotal: 45.3s\tremaining: 30s\n",
            "601:\tlearn: 0.1894986\ttotal: 45.3s\tremaining: 30s\n",
            "602:\tlearn: 0.1894109\ttotal: 45.4s\tremaining: 29.9s\n",
            "603:\tlearn: 0.1893125\ttotal: 45.5s\tremaining: 29.8s\n",
            "604:\tlearn: 0.1890877\ttotal: 45.5s\tremaining: 29.7s\n",
            "605:\tlearn: 0.1889699\ttotal: 45.6s\tremaining: 29.7s\n",
            "606:\tlearn: 0.1888903\ttotal: 45.7s\tremaining: 29.6s\n",
            "607:\tlearn: 0.1886950\ttotal: 45.8s\tremaining: 29.5s\n",
            "608:\tlearn: 0.1885904\ttotal: 45.8s\tremaining: 29.4s\n",
            "609:\tlearn: 0.1884491\ttotal: 45.9s\tremaining: 29.3s\n",
            "610:\tlearn: 0.1882716\ttotal: 46s\tremaining: 29.3s\n",
            "611:\tlearn: 0.1881809\ttotal: 46s\tremaining: 29.2s\n",
            "612:\tlearn: 0.1880583\ttotal: 46.1s\tremaining: 29.1s\n",
            "613:\tlearn: 0.1879890\ttotal: 46.2s\tremaining: 29s\n",
            "614:\tlearn: 0.1878119\ttotal: 46.3s\tremaining: 29s\n",
            "615:\tlearn: 0.1876604\ttotal: 46.3s\tremaining: 28.9s\n",
            "616:\tlearn: 0.1875111\ttotal: 46.4s\tremaining: 28.8s\n",
            "617:\tlearn: 0.1873976\ttotal: 46.5s\tremaining: 28.7s\n",
            "618:\tlearn: 0.1872377\ttotal: 46.5s\tremaining: 28.6s\n",
            "619:\tlearn: 0.1871553\ttotal: 46.6s\tremaining: 28.6s\n",
            "620:\tlearn: 0.1870372\ttotal: 46.7s\tremaining: 28.5s\n",
            "621:\tlearn: 0.1868978\ttotal: 46.8s\tremaining: 28.4s\n",
            "622:\tlearn: 0.1867614\ttotal: 46.8s\tremaining: 28.3s\n",
            "623:\tlearn: 0.1866024\ttotal: 46.9s\tremaining: 28.3s\n",
            "624:\tlearn: 0.1864167\ttotal: 47s\tremaining: 28.2s\n",
            "625:\tlearn: 0.1862692\ttotal: 47.1s\tremaining: 28.1s\n",
            "626:\tlearn: 0.1860030\ttotal: 47.1s\tremaining: 28s\n",
            "627:\tlearn: 0.1859383\ttotal: 47.2s\tremaining: 28s\n",
            "628:\tlearn: 0.1857243\ttotal: 47.3s\tremaining: 27.9s\n",
            "629:\tlearn: 0.1856519\ttotal: 47.4s\tremaining: 27.8s\n",
            "630:\tlearn: 0.1854714\ttotal: 47.4s\tremaining: 27.7s\n",
            "631:\tlearn: 0.1853053\ttotal: 47.5s\tremaining: 27.7s\n",
            "632:\tlearn: 0.1852062\ttotal: 47.6s\tremaining: 27.6s\n",
            "633:\tlearn: 0.1850201\ttotal: 47.6s\tremaining: 27.5s\n",
            "634:\tlearn: 0.1849280\ttotal: 47.7s\tremaining: 27.4s\n",
            "635:\tlearn: 0.1847777\ttotal: 47.8s\tremaining: 27.4s\n",
            "636:\tlearn: 0.1846445\ttotal: 47.9s\tremaining: 27.3s\n",
            "637:\tlearn: 0.1844626\ttotal: 47.9s\tremaining: 27.2s\n",
            "638:\tlearn: 0.1843505\ttotal: 48s\tremaining: 27.1s\n",
            "639:\tlearn: 0.1841464\ttotal: 48.1s\tremaining: 27.1s\n",
            "640:\tlearn: 0.1840965\ttotal: 48.2s\tremaining: 27s\n",
            "641:\tlearn: 0.1839943\ttotal: 48.2s\tremaining: 26.9s\n",
            "642:\tlearn: 0.1839082\ttotal: 48.3s\tremaining: 26.8s\n",
            "643:\tlearn: 0.1837944\ttotal: 48.4s\tremaining: 26.7s\n",
            "644:\tlearn: 0.1837112\ttotal: 48.4s\tremaining: 26.7s\n",
            "645:\tlearn: 0.1835742\ttotal: 48.5s\tremaining: 26.6s\n",
            "646:\tlearn: 0.1833521\ttotal: 48.6s\tremaining: 26.5s\n",
            "647:\tlearn: 0.1832211\ttotal: 48.6s\tremaining: 26.4s\n",
            "648:\tlearn: 0.1831492\ttotal: 48.7s\tremaining: 26.3s\n",
            "649:\tlearn: 0.1829346\ttotal: 48.8s\tremaining: 26.3s\n",
            "650:\tlearn: 0.1827419\ttotal: 48.9s\tremaining: 26.2s\n",
            "651:\tlearn: 0.1826589\ttotal: 48.9s\tremaining: 26.1s\n",
            "652:\tlearn: 0.1825830\ttotal: 49s\tremaining: 26s\n",
            "653:\tlearn: 0.1823479\ttotal: 49.1s\tremaining: 26s\n",
            "654:\tlearn: 0.1822218\ttotal: 49.2s\tremaining: 25.9s\n",
            "655:\tlearn: 0.1821452\ttotal: 49.2s\tremaining: 25.8s\n",
            "656:\tlearn: 0.1820176\ttotal: 49.3s\tremaining: 25.7s\n",
            "657:\tlearn: 0.1819223\ttotal: 49.4s\tremaining: 25.7s\n",
            "658:\tlearn: 0.1818064\ttotal: 49.4s\tremaining: 25.6s\n",
            "659:\tlearn: 0.1815985\ttotal: 49.5s\tremaining: 25.5s\n",
            "660:\tlearn: 0.1814230\ttotal: 49.6s\tremaining: 25.4s\n",
            "661:\tlearn: 0.1812374\ttotal: 49.7s\tremaining: 25.4s\n",
            "662:\tlearn: 0.1811194\ttotal: 49.7s\tremaining: 25.3s\n",
            "663:\tlearn: 0.1810437\ttotal: 49.8s\tremaining: 25.2s\n",
            "664:\tlearn: 0.1809761\ttotal: 49.9s\tremaining: 25.1s\n",
            "665:\tlearn: 0.1808903\ttotal: 49.9s\tremaining: 25s\n",
            "666:\tlearn: 0.1807742\ttotal: 50s\tremaining: 25s\n",
            "667:\tlearn: 0.1805926\ttotal: 50.1s\tremaining: 24.9s\n",
            "668:\tlearn: 0.1804910\ttotal: 50.2s\tremaining: 24.8s\n",
            "669:\tlearn: 0.1803746\ttotal: 50.2s\tremaining: 24.7s\n",
            "670:\tlearn: 0.1802280\ttotal: 50.3s\tremaining: 24.7s\n",
            "671:\tlearn: 0.1801384\ttotal: 50.4s\tremaining: 24.6s\n",
            "672:\tlearn: 0.1799115\ttotal: 50.4s\tremaining: 24.5s\n",
            "673:\tlearn: 0.1796970\ttotal: 50.5s\tremaining: 24.4s\n",
            "674:\tlearn: 0.1796467\ttotal: 50.6s\tremaining: 24.4s\n",
            "675:\tlearn: 0.1795277\ttotal: 50.7s\tremaining: 24.3s\n",
            "676:\tlearn: 0.1793911\ttotal: 50.7s\tremaining: 24.2s\n",
            "677:\tlearn: 0.1793254\ttotal: 50.8s\tremaining: 24.1s\n",
            "678:\tlearn: 0.1792030\ttotal: 50.9s\tremaining: 24.1s\n",
            "679:\tlearn: 0.1790909\ttotal: 51s\tremaining: 24s\n",
            "680:\tlearn: 0.1789792\ttotal: 51s\tremaining: 23.9s\n",
            "681:\tlearn: 0.1788076\ttotal: 51.1s\tremaining: 23.8s\n",
            "682:\tlearn: 0.1785906\ttotal: 51.2s\tremaining: 23.8s\n",
            "683:\tlearn: 0.1784672\ttotal: 51.3s\tremaining: 23.7s\n",
            "684:\tlearn: 0.1783008\ttotal: 51.3s\tremaining: 23.6s\n",
            "685:\tlearn: 0.1782297\ttotal: 51.4s\tremaining: 23.5s\n",
            "686:\tlearn: 0.1780548\ttotal: 51.5s\tremaining: 23.4s\n",
            "687:\tlearn: 0.1779920\ttotal: 51.5s\tremaining: 23.4s\n",
            "688:\tlearn: 0.1779298\ttotal: 51.6s\tremaining: 23.3s\n",
            "689:\tlearn: 0.1777385\ttotal: 51.7s\tremaining: 23.2s\n",
            "690:\tlearn: 0.1775898\ttotal: 51.8s\tremaining: 23.1s\n",
            "691:\tlearn: 0.1775031\ttotal: 51.8s\tremaining: 23.1s\n",
            "692:\tlearn: 0.1774472\ttotal: 51.9s\tremaining: 23s\n",
            "693:\tlearn: 0.1773265\ttotal: 52s\tremaining: 22.9s\n",
            "694:\tlearn: 0.1771858\ttotal: 52.1s\tremaining: 22.8s\n",
            "695:\tlearn: 0.1770917\ttotal: 52.1s\tremaining: 22.8s\n",
            "696:\tlearn: 0.1769195\ttotal: 52.2s\tremaining: 22.7s\n",
            "697:\tlearn: 0.1767955\ttotal: 52.3s\tremaining: 22.6s\n",
            "698:\tlearn: 0.1767371\ttotal: 52.3s\tremaining: 22.5s\n",
            "699:\tlearn: 0.1766283\ttotal: 52.4s\tremaining: 22.5s\n",
            "700:\tlearn: 0.1764496\ttotal: 52.5s\tremaining: 22.4s\n",
            "701:\tlearn: 0.1763644\ttotal: 52.6s\tremaining: 22.3s\n",
            "702:\tlearn: 0.1761939\ttotal: 52.6s\tremaining: 22.2s\n",
            "703:\tlearn: 0.1760231\ttotal: 52.7s\tremaining: 22.2s\n",
            "704:\tlearn: 0.1759229\ttotal: 52.8s\tremaining: 22.1s\n",
            "705:\tlearn: 0.1757634\ttotal: 52.9s\tremaining: 22s\n",
            "706:\tlearn: 0.1756136\ttotal: 52.9s\tremaining: 21.9s\n",
            "707:\tlearn: 0.1755338\ttotal: 53s\tremaining: 21.9s\n",
            "708:\tlearn: 0.1753803\ttotal: 53.1s\tremaining: 21.8s\n",
            "709:\tlearn: 0.1752685\ttotal: 53.1s\tremaining: 21.7s\n",
            "710:\tlearn: 0.1751018\ttotal: 53.2s\tremaining: 21.6s\n",
            "711:\tlearn: 0.1750210\ttotal: 53.3s\tremaining: 21.6s\n",
            "712:\tlearn: 0.1748546\ttotal: 53.4s\tremaining: 21.5s\n",
            "713:\tlearn: 0.1747798\ttotal: 53.4s\tremaining: 21.4s\n",
            "714:\tlearn: 0.1746961\ttotal: 53.5s\tremaining: 21.3s\n",
            "715:\tlearn: 0.1746208\ttotal: 53.6s\tremaining: 21.2s\n",
            "716:\tlearn: 0.1745199\ttotal: 53.6s\tremaining: 21.2s\n",
            "717:\tlearn: 0.1744557\ttotal: 53.7s\tremaining: 21.1s\n",
            "718:\tlearn: 0.1742914\ttotal: 53.8s\tremaining: 21s\n",
            "719:\tlearn: 0.1741607\ttotal: 53.9s\tremaining: 20.9s\n",
            "720:\tlearn: 0.1740533\ttotal: 53.9s\tremaining: 20.9s\n",
            "721:\tlearn: 0.1739854\ttotal: 54s\tremaining: 20.8s\n",
            "722:\tlearn: 0.1739058\ttotal: 54.1s\tremaining: 20.7s\n",
            "723:\tlearn: 0.1738276\ttotal: 54.1s\tremaining: 20.6s\n",
            "724:\tlearn: 0.1737108\ttotal: 54.2s\tremaining: 20.6s\n",
            "725:\tlearn: 0.1736352\ttotal: 54.3s\tremaining: 20.5s\n",
            "726:\tlearn: 0.1735218\ttotal: 54.4s\tremaining: 20.4s\n",
            "727:\tlearn: 0.1734262\ttotal: 54.4s\tremaining: 20.3s\n",
            "728:\tlearn: 0.1733372\ttotal: 54.5s\tremaining: 20.3s\n",
            "729:\tlearn: 0.1732801\ttotal: 54.6s\tremaining: 20.2s\n",
            "730:\tlearn: 0.1731820\ttotal: 54.6s\tremaining: 20.1s\n",
            "731:\tlearn: 0.1731105\ttotal: 54.7s\tremaining: 20s\n",
            "732:\tlearn: 0.1730195\ttotal: 54.8s\tremaining: 19.9s\n",
            "733:\tlearn: 0.1729175\ttotal: 54.8s\tremaining: 19.9s\n",
            "734:\tlearn: 0.1728680\ttotal: 54.9s\tremaining: 19.8s\n",
            "735:\tlearn: 0.1727809\ttotal: 55s\tremaining: 19.7s\n",
            "736:\tlearn: 0.1725990\ttotal: 55.1s\tremaining: 19.7s\n",
            "737:\tlearn: 0.1724898\ttotal: 55.1s\tremaining: 19.6s\n",
            "738:\tlearn: 0.1724283\ttotal: 55.2s\tremaining: 19.5s\n",
            "739:\tlearn: 0.1723487\ttotal: 55.3s\tremaining: 19.4s\n",
            "740:\tlearn: 0.1722850\ttotal: 55.3s\tremaining: 19.3s\n",
            "741:\tlearn: 0.1720738\ttotal: 55.4s\tremaining: 19.3s\n",
            "742:\tlearn: 0.1719829\ttotal: 55.5s\tremaining: 19.2s\n",
            "743:\tlearn: 0.1719081\ttotal: 55.6s\tremaining: 19.1s\n",
            "744:\tlearn: 0.1718462\ttotal: 55.6s\tremaining: 19s\n",
            "745:\tlearn: 0.1717862\ttotal: 55.7s\tremaining: 19s\n",
            "746:\tlearn: 0.1717138\ttotal: 55.8s\tremaining: 18.9s\n",
            "747:\tlearn: 0.1715969\ttotal: 55.8s\tremaining: 18.8s\n",
            "748:\tlearn: 0.1715039\ttotal: 55.9s\tremaining: 18.7s\n",
            "749:\tlearn: 0.1714399\ttotal: 56s\tremaining: 18.7s\n",
            "750:\tlearn: 0.1714082\ttotal: 56.1s\tremaining: 18.6s\n",
            "751:\tlearn: 0.1712859\ttotal: 56.1s\tremaining: 18.5s\n",
            "752:\tlearn: 0.1710953\ttotal: 56.2s\tremaining: 18.4s\n",
            "753:\tlearn: 0.1710262\ttotal: 56.3s\tremaining: 18.4s\n",
            "754:\tlearn: 0.1709426\ttotal: 56.4s\tremaining: 18.3s\n",
            "755:\tlearn: 0.1708250\ttotal: 56.4s\tremaining: 18.2s\n",
            "756:\tlearn: 0.1706558\ttotal: 56.5s\tremaining: 18.1s\n",
            "757:\tlearn: 0.1705270\ttotal: 56.6s\tremaining: 18.1s\n",
            "758:\tlearn: 0.1704546\ttotal: 56.7s\tremaining: 18s\n",
            "759:\tlearn: 0.1703188\ttotal: 56.7s\tremaining: 17.9s\n",
            "760:\tlearn: 0.1701429\ttotal: 56.8s\tremaining: 17.8s\n",
            "761:\tlearn: 0.1699850\ttotal: 56.9s\tremaining: 17.8s\n",
            "762:\tlearn: 0.1698693\ttotal: 57s\tremaining: 17.7s\n",
            "763:\tlearn: 0.1697862\ttotal: 57s\tremaining: 17.6s\n",
            "764:\tlearn: 0.1697388\ttotal: 57.1s\tremaining: 17.5s\n",
            "765:\tlearn: 0.1696137\ttotal: 57.2s\tremaining: 17.5s\n",
            "766:\tlearn: 0.1694858\ttotal: 57.3s\tremaining: 17.4s\n",
            "767:\tlearn: 0.1694336\ttotal: 57.3s\tremaining: 17.3s\n",
            "768:\tlearn: 0.1693223\ttotal: 57.4s\tremaining: 17.2s\n",
            "769:\tlearn: 0.1691809\ttotal: 57.5s\tremaining: 17.2s\n",
            "770:\tlearn: 0.1691101\ttotal: 57.5s\tremaining: 17.1s\n",
            "771:\tlearn: 0.1690505\ttotal: 57.6s\tremaining: 17s\n",
            "772:\tlearn: 0.1689736\ttotal: 57.7s\tremaining: 16.9s\n",
            "773:\tlearn: 0.1688749\ttotal: 57.7s\tremaining: 16.9s\n",
            "774:\tlearn: 0.1687836\ttotal: 57.8s\tremaining: 16.8s\n",
            "775:\tlearn: 0.1687293\ttotal: 57.9s\tremaining: 16.7s\n",
            "776:\tlearn: 0.1686909\ttotal: 58s\tremaining: 16.6s\n",
            "777:\tlearn: 0.1686309\ttotal: 58s\tremaining: 16.6s\n",
            "778:\tlearn: 0.1685691\ttotal: 58.1s\tremaining: 16.5s\n",
            "779:\tlearn: 0.1685184\ttotal: 58.2s\tremaining: 16.4s\n",
            "780:\tlearn: 0.1683948\ttotal: 58.2s\tremaining: 16.3s\n",
            "781:\tlearn: 0.1683010\ttotal: 58.3s\tremaining: 16.3s\n",
            "782:\tlearn: 0.1681774\ttotal: 58.4s\tremaining: 16.2s\n",
            "783:\tlearn: 0.1680445\ttotal: 58.5s\tremaining: 16.1s\n",
            "784:\tlearn: 0.1680190\ttotal: 58.5s\tremaining: 16s\n",
            "785:\tlearn: 0.1679289\ttotal: 58.6s\tremaining: 16s\n",
            "786:\tlearn: 0.1678767\ttotal: 58.7s\tremaining: 15.9s\n",
            "787:\tlearn: 0.1677347\ttotal: 58.8s\tremaining: 15.8s\n",
            "788:\tlearn: 0.1675942\ttotal: 58.8s\tremaining: 15.7s\n",
            "789:\tlearn: 0.1674564\ttotal: 58.9s\tremaining: 15.7s\n",
            "790:\tlearn: 0.1673317\ttotal: 59s\tremaining: 15.6s\n",
            "791:\tlearn: 0.1671489\ttotal: 59.1s\tremaining: 15.5s\n",
            "792:\tlearn: 0.1670316\ttotal: 59.1s\tremaining: 15.4s\n",
            "793:\tlearn: 0.1668714\ttotal: 59.2s\tremaining: 15.4s\n",
            "794:\tlearn: 0.1667312\ttotal: 59.3s\tremaining: 15.3s\n",
            "795:\tlearn: 0.1666447\ttotal: 59.4s\tremaining: 15.2s\n",
            "796:\tlearn: 0.1665756\ttotal: 59.4s\tremaining: 15.1s\n",
            "797:\tlearn: 0.1665422\ttotal: 59.5s\tremaining: 15.1s\n",
            "798:\tlearn: 0.1664579\ttotal: 59.6s\tremaining: 15s\n",
            "799:\tlearn: 0.1662893\ttotal: 59.6s\tremaining: 14.9s\n",
            "800:\tlearn: 0.1662185\ttotal: 59.7s\tremaining: 14.8s\n",
            "801:\tlearn: 0.1661415\ttotal: 59.8s\tremaining: 14.8s\n",
            "802:\tlearn: 0.1660952\ttotal: 59.9s\tremaining: 14.7s\n",
            "803:\tlearn: 0.1660337\ttotal: 59.9s\tremaining: 14.6s\n",
            "804:\tlearn: 0.1659410\ttotal: 1m\tremaining: 14.5s\n",
            "805:\tlearn: 0.1658205\ttotal: 1m\tremaining: 14.5s\n",
            "806:\tlearn: 0.1657031\ttotal: 1m\tremaining: 14.4s\n",
            "807:\tlearn: 0.1656244\ttotal: 1m\tremaining: 14.3s\n",
            "808:\tlearn: 0.1654923\ttotal: 1m\tremaining: 14.2s\n",
            "809:\tlearn: 0.1653921\ttotal: 1m\tremaining: 14.2s\n",
            "810:\tlearn: 0.1653149\ttotal: 1m\tremaining: 14.1s\n",
            "811:\tlearn: 0.1652486\ttotal: 1m\tremaining: 14s\n",
            "812:\tlearn: 0.1651233\ttotal: 1m\tremaining: 13.9s\n",
            "813:\tlearn: 0.1649828\ttotal: 1m\tremaining: 13.9s\n",
            "814:\tlearn: 0.1648498\ttotal: 1m\tremaining: 13.8s\n",
            "815:\tlearn: 0.1647841\ttotal: 1m\tremaining: 13.7s\n",
            "816:\tlearn: 0.1646521\ttotal: 1m\tremaining: 13.6s\n",
            "817:\tlearn: 0.1645887\ttotal: 1m\tremaining: 13.6s\n",
            "818:\tlearn: 0.1644526\ttotal: 1m 1s\tremaining: 13.5s\n",
            "819:\tlearn: 0.1644298\ttotal: 1m 1s\tremaining: 13.4s\n",
            "820:\tlearn: 0.1643448\ttotal: 1m 1s\tremaining: 13.3s\n",
            "821:\tlearn: 0.1641908\ttotal: 1m 1s\tremaining: 13.3s\n",
            "822:\tlearn: 0.1640558\ttotal: 1m 1s\tremaining: 13.2s\n",
            "823:\tlearn: 0.1639761\ttotal: 1m 1s\tremaining: 13.1s\n",
            "824:\tlearn: 0.1637548\ttotal: 1m 1s\tremaining: 13s\n",
            "825:\tlearn: 0.1637090\ttotal: 1m 1s\tremaining: 13s\n",
            "826:\tlearn: 0.1635339\ttotal: 1m 1s\tremaining: 12.9s\n",
            "827:\tlearn: 0.1634694\ttotal: 1m 1s\tremaining: 12.8s\n",
            "828:\tlearn: 0.1634180\ttotal: 1m 1s\tremaining: 12.7s\n",
            "829:\tlearn: 0.1633715\ttotal: 1m 1s\tremaining: 12.7s\n",
            "830:\tlearn: 0.1632779\ttotal: 1m 1s\tremaining: 12.6s\n",
            "831:\tlearn: 0.1631595\ttotal: 1m 2s\tremaining: 12.5s\n",
            "832:\tlearn: 0.1630816\ttotal: 1m 2s\tremaining: 12.4s\n",
            "833:\tlearn: 0.1629957\ttotal: 1m 2s\tremaining: 12.4s\n",
            "834:\tlearn: 0.1627843\ttotal: 1m 2s\tremaining: 12.3s\n",
            "835:\tlearn: 0.1626581\ttotal: 1m 2s\tremaining: 12.2s\n",
            "836:\tlearn: 0.1625979\ttotal: 1m 2s\tremaining: 12.1s\n",
            "837:\tlearn: 0.1625100\ttotal: 1m 2s\tremaining: 12.1s\n",
            "838:\tlearn: 0.1623859\ttotal: 1m 2s\tremaining: 12s\n",
            "839:\tlearn: 0.1623634\ttotal: 1m 2s\tremaining: 11.9s\n",
            "840:\tlearn: 0.1622977\ttotal: 1m 2s\tremaining: 11.8s\n",
            "841:\tlearn: 0.1622511\ttotal: 1m 2s\tremaining: 11.8s\n",
            "842:\tlearn: 0.1622021\ttotal: 1m 2s\tremaining: 11.7s\n",
            "843:\tlearn: 0.1620920\ttotal: 1m 2s\tremaining: 11.6s\n",
            "844:\tlearn: 0.1619586\ttotal: 1m 2s\tremaining: 11.5s\n",
            "845:\tlearn: 0.1619179\ttotal: 1m 3s\tremaining: 11.5s\n",
            "846:\tlearn: 0.1618053\ttotal: 1m 3s\tremaining: 11.4s\n",
            "847:\tlearn: 0.1617610\ttotal: 1m 3s\tremaining: 11.3s\n",
            "848:\tlearn: 0.1617033\ttotal: 1m 3s\tremaining: 11.2s\n",
            "849:\tlearn: 0.1616242\ttotal: 1m 3s\tremaining: 11.2s\n",
            "850:\tlearn: 0.1615618\ttotal: 1m 3s\tremaining: 11.1s\n",
            "851:\tlearn: 0.1614974\ttotal: 1m 3s\tremaining: 11s\n",
            "852:\tlearn: 0.1614493\ttotal: 1m 3s\tremaining: 10.9s\n",
            "853:\tlearn: 0.1613909\ttotal: 1m 3s\tremaining: 10.9s\n",
            "854:\tlearn: 0.1612974\ttotal: 1m 3s\tremaining: 10.8s\n",
            "855:\tlearn: 0.1611880\ttotal: 1m 3s\tremaining: 10.7s\n",
            "856:\tlearn: 0.1611473\ttotal: 1m 3s\tremaining: 10.6s\n",
            "857:\tlearn: 0.1611080\ttotal: 1m 3s\tremaining: 10.6s\n",
            "858:\tlearn: 0.1610742\ttotal: 1m 3s\tremaining: 10.5s\n",
            "859:\tlearn: 0.1609785\ttotal: 1m 4s\tremaining: 10.4s\n",
            "860:\tlearn: 0.1609061\ttotal: 1m 4s\tremaining: 10.3s\n",
            "861:\tlearn: 0.1608750\ttotal: 1m 4s\tremaining: 10.3s\n",
            "862:\tlearn: 0.1608098\ttotal: 1m 4s\tremaining: 10.2s\n",
            "863:\tlearn: 0.1607282\ttotal: 1m 4s\tremaining: 10.1s\n",
            "864:\tlearn: 0.1606761\ttotal: 1m 4s\tremaining: 10s\n",
            "865:\tlearn: 0.1606173\ttotal: 1m 4s\tremaining: 9.97s\n",
            "866:\tlearn: 0.1605686\ttotal: 1m 4s\tremaining: 9.9s\n",
            "867:\tlearn: 0.1605233\ttotal: 1m 4s\tremaining: 9.82s\n",
            "868:\tlearn: 0.1604798\ttotal: 1m 4s\tremaining: 9.75s\n",
            "869:\tlearn: 0.1603322\ttotal: 1m 4s\tremaining: 9.67s\n",
            "870:\tlearn: 0.1602280\ttotal: 1m 4s\tremaining: 9.6s\n",
            "871:\tlearn: 0.1601161\ttotal: 1m 4s\tremaining: 9.52s\n",
            "872:\tlearn: 0.1600300\ttotal: 1m 4s\tremaining: 9.45s\n",
            "873:\tlearn: 0.1599782\ttotal: 1m 5s\tremaining: 9.37s\n",
            "874:\tlearn: 0.1598878\ttotal: 1m 5s\tremaining: 9.3s\n",
            "875:\tlearn: 0.1598153\ttotal: 1m 5s\tremaining: 9.22s\n",
            "876:\tlearn: 0.1597816\ttotal: 1m 5s\tremaining: 9.15s\n",
            "877:\tlearn: 0.1596805\ttotal: 1m 5s\tremaining: 9.07s\n",
            "878:\tlearn: 0.1596420\ttotal: 1m 5s\tremaining: 9s\n",
            "879:\tlearn: 0.1595392\ttotal: 1m 5s\tremaining: 8.93s\n",
            "880:\tlearn: 0.1595087\ttotal: 1m 5s\tremaining: 8.85s\n",
            "881:\tlearn: 0.1593744\ttotal: 1m 5s\tremaining: 8.78s\n",
            "882:\tlearn: 0.1591945\ttotal: 1m 5s\tremaining: 8.7s\n",
            "883:\tlearn: 0.1591161\ttotal: 1m 5s\tremaining: 8.63s\n",
            "884:\tlearn: 0.1589678\ttotal: 1m 5s\tremaining: 8.55s\n",
            "885:\tlearn: 0.1589160\ttotal: 1m 5s\tremaining: 8.48s\n",
            "886:\tlearn: 0.1588240\ttotal: 1m 5s\tremaining: 8.4s\n",
            "887:\tlearn: 0.1587862\ttotal: 1m 6s\tremaining: 8.33s\n",
            "888:\tlearn: 0.1587445\ttotal: 1m 6s\tremaining: 8.25s\n",
            "889:\tlearn: 0.1586759\ttotal: 1m 6s\tremaining: 8.18s\n",
            "890:\tlearn: 0.1586524\ttotal: 1m 6s\tremaining: 8.11s\n",
            "891:\tlearn: 0.1586163\ttotal: 1m 6s\tremaining: 8.03s\n",
            "892:\tlearn: 0.1585422\ttotal: 1m 6s\tremaining: 7.96s\n",
            "893:\tlearn: 0.1584711\ttotal: 1m 6s\tremaining: 7.88s\n",
            "894:\tlearn: 0.1584129\ttotal: 1m 6s\tremaining: 7.81s\n",
            "895:\tlearn: 0.1583813\ttotal: 1m 6s\tremaining: 7.73s\n",
            "896:\tlearn: 0.1583605\ttotal: 1m 6s\tremaining: 7.66s\n",
            "897:\tlearn: 0.1583125\ttotal: 1m 6s\tremaining: 7.58s\n",
            "898:\tlearn: 0.1582673\ttotal: 1m 6s\tremaining: 7.51s\n",
            "899:\tlearn: 0.1582007\ttotal: 1m 6s\tremaining: 7.43s\n",
            "900:\tlearn: 0.1581622\ttotal: 1m 6s\tremaining: 7.36s\n",
            "901:\tlearn: 0.1580874\ttotal: 1m 7s\tremaining: 7.28s\n",
            "902:\tlearn: 0.1580368\ttotal: 1m 7s\tremaining: 7.21s\n",
            "903:\tlearn: 0.1580191\ttotal: 1m 7s\tremaining: 7.13s\n",
            "904:\tlearn: 0.1579982\ttotal: 1m 7s\tremaining: 7.06s\n",
            "905:\tlearn: 0.1579007\ttotal: 1m 7s\tremaining: 6.99s\n",
            "906:\tlearn: 0.1577409\ttotal: 1m 7s\tremaining: 6.91s\n",
            "907:\tlearn: 0.1577233\ttotal: 1m 7s\tremaining: 6.84s\n",
            "908:\tlearn: 0.1577072\ttotal: 1m 7s\tremaining: 6.76s\n",
            "909:\tlearn: 0.1576378\ttotal: 1m 7s\tremaining: 6.69s\n",
            "910:\tlearn: 0.1575673\ttotal: 1m 7s\tremaining: 6.62s\n",
            "911:\tlearn: 0.1575200\ttotal: 1m 7s\tremaining: 6.54s\n",
            "912:\tlearn: 0.1574593\ttotal: 1m 7s\tremaining: 6.46s\n",
            "913:\tlearn: 0.1573614\ttotal: 1m 7s\tremaining: 6.39s\n",
            "914:\tlearn: 0.1572836\ttotal: 1m 7s\tremaining: 6.32s\n",
            "915:\tlearn: 0.1572090\ttotal: 1m 8s\tremaining: 6.24s\n",
            "916:\tlearn: 0.1571716\ttotal: 1m 8s\tremaining: 6.17s\n",
            "917:\tlearn: 0.1570710\ttotal: 1m 8s\tremaining: 6.09s\n",
            "918:\tlearn: 0.1570272\ttotal: 1m 8s\tremaining: 6.02s\n",
            "919:\tlearn: 0.1569423\ttotal: 1m 8s\tremaining: 5.94s\n",
            "920:\tlearn: 0.1568817\ttotal: 1m 8s\tremaining: 5.87s\n",
            "921:\tlearn: 0.1567815\ttotal: 1m 8s\tremaining: 5.79s\n",
            "922:\tlearn: 0.1567328\ttotal: 1m 8s\tremaining: 5.72s\n",
            "923:\tlearn: 0.1566638\ttotal: 1m 8s\tremaining: 5.65s\n",
            "924:\tlearn: 0.1565115\ttotal: 1m 8s\tremaining: 5.57s\n",
            "925:\tlearn: 0.1563601\ttotal: 1m 8s\tremaining: 5.5s\n",
            "926:\tlearn: 0.1563351\ttotal: 1m 8s\tremaining: 5.42s\n",
            "927:\tlearn: 0.1562829\ttotal: 1m 8s\tremaining: 5.35s\n",
            "928:\tlearn: 0.1562360\ttotal: 1m 9s\tremaining: 5.28s\n",
            "929:\tlearn: 0.1561237\ttotal: 1m 9s\tremaining: 5.2s\n",
            "930:\tlearn: 0.1560620\ttotal: 1m 9s\tremaining: 5.13s\n",
            "931:\tlearn: 0.1559656\ttotal: 1m 9s\tremaining: 5.05s\n",
            "932:\tlearn: 0.1558857\ttotal: 1m 9s\tremaining: 4.98s\n",
            "933:\tlearn: 0.1558291\ttotal: 1m 9s\tremaining: 4.9s\n",
            "934:\tlearn: 0.1557586\ttotal: 1m 9s\tremaining: 4.83s\n",
            "935:\tlearn: 0.1557318\ttotal: 1m 9s\tremaining: 4.75s\n",
            "936:\tlearn: 0.1556957\ttotal: 1m 9s\tremaining: 4.68s\n",
            "937:\tlearn: 0.1556062\ttotal: 1m 9s\tremaining: 4.61s\n",
            "938:\tlearn: 0.1555844\ttotal: 1m 9s\tremaining: 4.53s\n",
            "939:\tlearn: 0.1555478\ttotal: 1m 9s\tremaining: 4.46s\n",
            "940:\tlearn: 0.1555149\ttotal: 1m 9s\tremaining: 4.38s\n",
            "941:\tlearn: 0.1554873\ttotal: 1m 9s\tremaining: 4.31s\n",
            "942:\tlearn: 0.1554396\ttotal: 1m 10s\tremaining: 4.23s\n",
            "943:\tlearn: 0.1553742\ttotal: 1m 10s\tremaining: 4.16s\n",
            "944:\tlearn: 0.1553387\ttotal: 1m 10s\tremaining: 4.08s\n",
            "945:\tlearn: 0.1552968\ttotal: 1m 10s\tremaining: 4.01s\n",
            "946:\tlearn: 0.1552522\ttotal: 1m 10s\tremaining: 3.94s\n",
            "947:\tlearn: 0.1551090\ttotal: 1m 10s\tremaining: 3.86s\n",
            "948:\tlearn: 0.1550588\ttotal: 1m 10s\tremaining: 3.79s\n",
            "949:\tlearn: 0.1550381\ttotal: 1m 10s\tremaining: 3.71s\n",
            "950:\tlearn: 0.1549706\ttotal: 1m 10s\tremaining: 3.64s\n",
            "951:\tlearn: 0.1549155\ttotal: 1m 10s\tremaining: 3.56s\n",
            "952:\tlearn: 0.1548830\ttotal: 1m 10s\tremaining: 3.49s\n",
            "953:\tlearn: 0.1548650\ttotal: 1m 10s\tremaining: 3.42s\n",
            "954:\tlearn: 0.1547713\ttotal: 1m 10s\tremaining: 3.34s\n",
            "955:\tlearn: 0.1547416\ttotal: 1m 10s\tremaining: 3.27s\n",
            "956:\tlearn: 0.1546579\ttotal: 1m 11s\tremaining: 3.19s\n",
            "957:\tlearn: 0.1545804\ttotal: 1m 11s\tremaining: 3.12s\n",
            "958:\tlearn: 0.1545621\ttotal: 1m 11s\tremaining: 3.04s\n",
            "959:\tlearn: 0.1544966\ttotal: 1m 11s\tremaining: 2.97s\n",
            "960:\tlearn: 0.1544711\ttotal: 1m 11s\tremaining: 2.9s\n",
            "961:\tlearn: 0.1544494\ttotal: 1m 11s\tremaining: 2.82s\n",
            "962:\tlearn: 0.1544092\ttotal: 1m 11s\tremaining: 2.75s\n",
            "963:\tlearn: 0.1543172\ttotal: 1m 11s\tremaining: 2.67s\n",
            "964:\tlearn: 0.1542321\ttotal: 1m 11s\tremaining: 2.6s\n",
            "965:\tlearn: 0.1542115\ttotal: 1m 11s\tremaining: 2.52s\n",
            "966:\tlearn: 0.1541066\ttotal: 1m 11s\tremaining: 2.45s\n",
            "967:\tlearn: 0.1540826\ttotal: 1m 11s\tremaining: 2.38s\n",
            "968:\tlearn: 0.1540383\ttotal: 1m 11s\tremaining: 2.3s\n",
            "969:\tlearn: 0.1539772\ttotal: 1m 12s\tremaining: 2.23s\n",
            "970:\tlearn: 0.1539602\ttotal: 1m 12s\tremaining: 2.15s\n",
            "971:\tlearn: 0.1538744\ttotal: 1m 12s\tremaining: 2.08s\n",
            "972:\tlearn: 0.1538415\ttotal: 1m 12s\tremaining: 2s\n",
            "973:\tlearn: 0.1537833\ttotal: 1m 12s\tremaining: 1.93s\n",
            "974:\tlearn: 0.1537539\ttotal: 1m 12s\tremaining: 1.85s\n",
            "975:\tlearn: 0.1537038\ttotal: 1m 12s\tremaining: 1.78s\n",
            "976:\tlearn: 0.1536716\ttotal: 1m 12s\tremaining: 1.71s\n",
            "977:\tlearn: 0.1535908\ttotal: 1m 12s\tremaining: 1.63s\n",
            "978:\tlearn: 0.1535621\ttotal: 1m 12s\tremaining: 1.56s\n",
            "979:\tlearn: 0.1535330\ttotal: 1m 12s\tremaining: 1.48s\n",
            "980:\tlearn: 0.1534993\ttotal: 1m 12s\tremaining: 1.41s\n",
            "981:\tlearn: 0.1534704\ttotal: 1m 12s\tremaining: 1.33s\n",
            "982:\tlearn: 0.1534441\ttotal: 1m 12s\tremaining: 1.26s\n",
            "983:\tlearn: 0.1534072\ttotal: 1m 12s\tremaining: 1.19s\n",
            "984:\tlearn: 0.1533801\ttotal: 1m 13s\tremaining: 1.11s\n",
            "985:\tlearn: 0.1533227\ttotal: 1m 13s\tremaining: 1.04s\n",
            "986:\tlearn: 0.1532507\ttotal: 1m 13s\tremaining: 964ms\n",
            "987:\tlearn: 0.1532227\ttotal: 1m 13s\tremaining: 890ms\n",
            "988:\tlearn: 0.1531981\ttotal: 1m 13s\tremaining: 816ms\n",
            "989:\tlearn: 0.1531641\ttotal: 1m 13s\tremaining: 742ms\n",
            "990:\tlearn: 0.1531270\ttotal: 1m 13s\tremaining: 667ms\n",
            "991:\tlearn: 0.1530447\ttotal: 1m 13s\tremaining: 593ms\n",
            "992:\tlearn: 0.1530277\ttotal: 1m 13s\tremaining: 519ms\n",
            "993:\tlearn: 0.1529929\ttotal: 1m 13s\tremaining: 445ms\n",
            "994:\tlearn: 0.1529559\ttotal: 1m 13s\tremaining: 371ms\n",
            "995:\tlearn: 0.1529447\ttotal: 1m 13s\tremaining: 297ms\n",
            "996:\tlearn: 0.1528355\ttotal: 1m 13s\tremaining: 222ms\n",
            "997:\tlearn: 0.1527458\ttotal: 1m 13s\tremaining: 148ms\n",
            "998:\tlearn: 0.1526873\ttotal: 1m 14s\tremaining: 74.1ms\n",
            "999:\tlearn: 0.1526247\ttotal: 1m 14s\tremaining: 0us\n"
          ],
          "name": "stdout"
        },
        {
          "output_type": "execute_result",
          "data": {
            "text/plain": [
              "0.9538653496230829"
            ]
          },
          "metadata": {
            "tags": []
          },
          "execution_count": 105
        }
      ]
    },
    {
      "cell_type": "code",
      "metadata": {
        "id": "M54l_kYyuTA8",
        "colab": {
          "base_uri": "https://localhost:8080/",
          "height": 70
        },
        "outputId": "c78f7ea8-29b9-46fd-83b8-c68cf3fd679b"
      },
      "source": [
        "ss['is_promoted'] = cbc_pred\n",
        "ss['is_promoted'].value_counts()"
      ],
      "execution_count": null,
      "outputs": [
        {
          "output_type": "execute_result",
          "data": {
            "text/plain": [
              "0    22907\n",
              "1      583\n",
              "Name: is_promoted, dtype: int64"
            ]
          },
          "metadata": {
            "tags": []
          },
          "execution_count": 106
        }
      ]
    },
    {
      "cell_type": "code",
      "metadata": {
        "id": "VYsiYUTludgu"
      },
      "source": [
        "ss.to_csv(\"2CBC1.csv\", index=False)"
      ],
      "execution_count": null,
      "outputs": []
    },
    {
      "cell_type": "code",
      "metadata": {
        "id": "8cBKc7xMujhW"
      },
      "source": [
        ""
      ],
      "execution_count": null,
      "outputs": []
    },
    {
      "cell_type": "code",
      "metadata": {
        "id": "s5rI725nujk9"
      },
      "source": [
        ""
      ],
      "execution_count": null,
      "outputs": []
    },
    {
      "cell_type": "code",
      "metadata": {
        "id": "K-OcWTLu_6N4",
        "colab": {
          "base_uri": "https://localhost:8080/",
          "height": 35
        },
        "outputId": "630533ca-d0ed-4655-9579-770b9c8e13c0"
      },
      "source": [
        "from sklearn.tree import DecisionTreeClassifier\n",
        "classifier = DecisionTreeClassifier(criterion = 'entropy', random_state = 0)\n",
        "\n",
        "\n",
        "classifier.fit(x_sample, y_sample)\n",
        "nb_pred = classifier.predict(x_sample)\n",
        "f1_scr = f1_score(y_sample, nb_pred)\n",
        "f1_scr"
      ],
      "execution_count": null,
      "outputs": [
        {
          "output_type": "execute_result",
          "data": {
            "text/plain": [
              "0.999860371412044"
            ]
          },
          "metadata": {
            "tags": []
          },
          "execution_count": 110
        }
      ]
    },
    {
      "cell_type": "code",
      "metadata": {
        "id": "SowCGtEQ_6KY",
        "colab": {
          "base_uri": "https://localhost:8080/",
          "height": 70
        },
        "outputId": "eba30334-acf7-4b7f-a7d4-96e7d29f4df7"
      },
      "source": [
        "dc_pred = classifier.predict(x_test)\n",
        "ss['is_promoted'] = dc_pred\n",
        "ss['is_promoted'].value_counts()"
      ],
      "execution_count": null,
      "outputs": [
        {
          "output_type": "execute_result",
          "data": {
            "text/plain": [
              "0    21392\n",
              "1     2098\n",
              "Name: is_promoted, dtype: int64"
            ]
          },
          "metadata": {
            "tags": []
          },
          "execution_count": 112
        }
      ]
    },
    {
      "cell_type": "code",
      "metadata": {
        "id": "9gbww0hg_6Hj"
      },
      "source": [
        "ss.to_csv(\"2DC1.csv\", index=False)"
      ],
      "execution_count": null,
      "outputs": []
    },
    {
      "cell_type": "code",
      "metadata": {
        "id": "XgcotbP3_6E2"
      },
      "source": [
        ""
      ],
      "execution_count": null,
      "outputs": []
    },
    {
      "cell_type": "code",
      "metadata": {
        "id": "9DYee8Qo_6B6"
      },
      "source": [
        ""
      ],
      "execution_count": null,
      "outputs": []
    },
    {
      "cell_type": "code",
      "metadata": {
        "id": "lDl7jkff_5_X",
        "colab": {
          "base_uri": "https://localhost:8080/",
          "height": 90
        },
        "outputId": "c6b87f5d-53d0-496f-c9bb-082176c5c9ac"
      },
      "source": [
        "from sklearn.linear_model import LogisticRegression\n",
        "logreg = LogisticRegression()\n",
        "logreg.fit(x_sample, y_sample)\n",
        "lg_pred = logreg.predict(x_sample)\n",
        "f1_scr = f1_score(y_sample, lg_pred)\n",
        "f1_scr"
      ],
      "execution_count": null,
      "outputs": [
        {
          "output_type": "stream",
          "text": [
            "/usr/local/lib/python3.6/dist-packages/sklearn/utils/validation.py:760: DataConversionWarning: A column-vector y was passed when a 1d array was expected. Please change the shape of y to (n_samples, ), for example using ravel().\n",
            "  y = column_or_1d(y, warn=True)\n"
          ],
          "name": "stderr"
        },
        {
          "output_type": "execute_result",
          "data": {
            "text/plain": [
              "0.8104783115918974"
            ]
          },
          "metadata": {
            "tags": []
          },
          "execution_count": 114
        }
      ]
    },
    {
      "cell_type": "code",
      "metadata": {
        "id": "DplhknHP_579",
        "colab": {
          "base_uri": "https://localhost:8080/",
          "height": 70
        },
        "outputId": "88790078-94ef-4423-c042-9fef630b2450"
      },
      "source": [
        "lgr_pred = logreg.predict(x_test)\n",
        "ss['is_promoted'] = lgr_pred\n",
        "ss['is_promoted'].value_counts()"
      ],
      "execution_count": null,
      "outputs": [
        {
          "output_type": "execute_result",
          "data": {
            "text/plain": [
              "0    16873\n",
              "1     6617\n",
              "Name: is_promoted, dtype: int64"
            ]
          },
          "metadata": {
            "tags": []
          },
          "execution_count": 115
        }
      ]
    },
    {
      "cell_type": "code",
      "metadata": {
        "id": "ExAqdjWaCCls"
      },
      "source": [
        "ss.to_csv(\"2LGR1.csv\", index=False)"
      ],
      "execution_count": null,
      "outputs": []
    },
    {
      "cell_type": "code",
      "metadata": {
        "id": "zDXUXmi0CCij"
      },
      "source": [
        ""
      ],
      "execution_count": null,
      "outputs": []
    },
    {
      "cell_type": "code",
      "metadata": {
        "id": "MLOBW1cgCCfU"
      },
      "source": [
        ""
      ],
      "execution_count": null,
      "outputs": []
    },
    {
      "cell_type": "code",
      "metadata": {
        "id": "5_2fHokVCCbo",
        "colab": {
          "base_uri": "https://localhost:8080/",
          "height": 90
        },
        "outputId": "18dc8424-dfa6-48d4-f4cf-ca1917057571"
      },
      "source": [
        "from sklearn.ensemble import AdaBoostClassifier\n",
        "model = AdaBoostClassifier()\n",
        "model.fit(x_sample, y_sample)\n",
        "ada_pred = model.predict(x_sample)\n",
        "f1_scr = f1_score(y_sample,ada_pred)\n",
        "f1_scr"
      ],
      "execution_count": null,
      "outputs": [
        {
          "output_type": "stream",
          "text": [
            "/usr/local/lib/python3.6/dist-packages/sklearn/utils/validation.py:760: DataConversionWarning: A column-vector y was passed when a 1d array was expected. Please change the shape of y to (n_samples, ), for example using ravel().\n",
            "  y = column_or_1d(y, warn=True)\n"
          ],
          "name": "stderr"
        },
        {
          "output_type": "execute_result",
          "data": {
            "text/plain": [
              "0.8975685515182686"
            ]
          },
          "metadata": {
            "tags": []
          },
          "execution_count": 117
        }
      ]
    },
    {
      "cell_type": "code",
      "metadata": {
        "id": "D3cDCebwCCYK",
        "colab": {
          "base_uri": "https://localhost:8080/",
          "height": 70
        },
        "outputId": "063cfbbb-daf0-44d9-d0b8-9ed67d3abcd8"
      },
      "source": [
        "adab_pred = model.predict(x_test)\n",
        "ss['is_promoted'] = adab_pred\n",
        "ss['is_promoted'].value_counts()"
      ],
      "execution_count": null,
      "outputs": [
        {
          "output_type": "execute_result",
          "data": {
            "text/plain": [
              "0    20863\n",
              "1     2627\n",
              "Name: is_promoted, dtype: int64"
            ]
          },
          "metadata": {
            "tags": []
          },
          "execution_count": 118
        }
      ]
    },
    {
      "cell_type": "code",
      "metadata": {
        "id": "kpPyzXl0CCVB"
      },
      "source": [
        "ss.to_csv(\"2ADAB1.csv\", index=False)"
      ],
      "execution_count": null,
      "outputs": []
    },
    {
      "cell_type": "code",
      "metadata": {
        "id": "LVBltt6HCCR6"
      },
      "source": [
        ""
      ],
      "execution_count": null,
      "outputs": []
    },
    {
      "cell_type": "code",
      "metadata": {
        "id": "ItugKoj5CCOC"
      },
      "source": [
        ""
      ],
      "execution_count": null,
      "outputs": []
    },
    {
      "cell_type": "code",
      "metadata": {
        "id": "5MCd-fqwCCLD",
        "colab": {
          "base_uri": "https://localhost:8080/",
          "height": 90
        },
        "outputId": "b16cd61c-fbff-40aa-f6f0-94b3b4d90726"
      },
      "source": [
        "from sklearn.neighbors import KNeighborsClassifier\n",
        "classifier = KNeighborsClassifier(n_neighbors = 5, metric = 'euclidean', p = 2)\n",
        "classifier.fit(x_sample, y_sample)\n",
        "knn_pred = classifier.predict(x_sample)\n",
        "f1_scr = f1_score(y_sample,knn_pred)\n",
        "f1_scr"
      ],
      "execution_count": null,
      "outputs": [
        {
          "output_type": "stream",
          "text": [
            "/usr/local/lib/python3.6/dist-packages/ipykernel_launcher.py:3: DataConversionWarning: A column-vector y was passed when a 1d array was expected. Please change the shape of y to (n_samples, ), for example using ravel().\n",
            "  This is separate from the ipykernel package so we can avoid doing imports until\n"
          ],
          "name": "stderr"
        },
        {
          "output_type": "execute_result",
          "data": {
            "text/plain": [
              "0.9583885812339131"
            ]
          },
          "metadata": {
            "tags": []
          },
          "execution_count": 120
        }
      ]
    },
    {
      "cell_type": "code",
      "metadata": {
        "id": "5IhWzXNvCCH6",
        "colab": {
          "base_uri": "https://localhost:8080/",
          "height": 70
        },
        "outputId": "23483ca8-2ba4-4434-b404-21d907db6933"
      },
      "source": [
        "knnc_pred = classifier.predict(x_test)\n",
        "ss['is_promoted'] = knnc_pred\n",
        "ss['is_promoted'].value_counts()"
      ],
      "execution_count": null,
      "outputs": [
        {
          "output_type": "execute_result",
          "data": {
            "text/plain": [
              "0    20609\n",
              "1     2881\n",
              "Name: is_promoted, dtype: int64"
            ]
          },
          "metadata": {
            "tags": []
          },
          "execution_count": 121
        }
      ]
    },
    {
      "cell_type": "code",
      "metadata": {
        "id": "rQbCeMyZCCCv"
      },
      "source": [
        "ss.to_csv(\"2KNNC1.csv\", index=False)"
      ],
      "execution_count": null,
      "outputs": []
    },
    {
      "cell_type": "code",
      "metadata": {
        "id": "bIQ1xWuSCB_h"
      },
      "source": [
        ""
      ],
      "execution_count": null,
      "outputs": []
    },
    {
      "cell_type": "code",
      "metadata": {
        "id": "c6dExr4dCB7s"
      },
      "source": [
        ""
      ],
      "execution_count": null,
      "outputs": []
    },
    {
      "cell_type": "code",
      "metadata": {
        "id": "haYhuymbCB4b"
      },
      "source": [
        "from sklearn.svm import SVC\n",
        "classifier = SVC(kernel = 'linear', random_state = 0)\n",
        "classifier.fit(x_sample, y_sample)\n",
        "svm_pred = classifier.predict(x_sample)\n",
        "f1_scr = f1_score(y_sample, svm_pred)\n",
        "f1_scr"
      ],
      "execution_count": null,
      "outputs": []
    },
    {
      "cell_type": "code",
      "metadata": {
        "id": "23oS4ShRCB0z"
      },
      "source": [
        "svmc_pred = classifier.predict(x_test)\n",
        "ss['is_promoted'] = svmc_pred\n",
        "ss['is_promoted'].value_counts()"
      ],
      "execution_count": null,
      "outputs": []
    },
    {
      "cell_type": "code",
      "metadata": {
        "id": "6xNK_dxdCBxh"
      },
      "source": [
        "ss.to_csv(\"2SVM1.csv\", index=False)"
      ],
      "execution_count": null,
      "outputs": []
    },
    {
      "cell_type": "code",
      "metadata": {
        "id": "k7Iv96elCBWf"
      },
      "source": [
        ""
      ],
      "execution_count": null,
      "outputs": []
    },
    {
      "cell_type": "code",
      "metadata": {
        "id": "nUo3245RCBS4"
      },
      "source": [
        ""
      ],
      "execution_count": null,
      "outputs": []
    },
    {
      "cell_type": "code",
      "metadata": {
        "id": "A6XlK4Dgujw2"
      },
      "source": [
        "boosted_predictions = rfc_pred*0.2 + xgb_pred*0.2 + lgb_pred*0.4 + etc_pred*0.3"
      ],
      "execution_count": null,
      "outputs": []
    },
    {
      "cell_type": "code",
      "metadata": {
        "id": "bgykA1FpxoY_",
        "colab": {
          "base_uri": "https://localhost:8080/",
          "height": 212
        },
        "outputId": "19545499-998f-464b-b1c7-5946178366ce"
      },
      "source": [
        "ss['is_promoted'] = boosted_predictions\n",
        "ss['is_promoted'].value_counts()"
      ],
      "execution_count": null,
      "outputs": [
        {
          "output_type": "execute_result",
          "data": {
            "text/plain": [
              "0.0    21830\n",
              "1.1      377\n",
              "0.2      365\n",
              "0.3      317\n",
              "0.5      222\n",
              "0.4      119\n",
              "0.9      111\n",
              "0.7       93\n",
              "0.6       36\n",
              "0.8       20\n",
              "Name: is_promoted, dtype: int64"
            ]
          },
          "metadata": {
            "tags": []
          },
          "execution_count": 66
        }
      ]
    },
    {
      "cell_type": "code",
      "metadata": {
        "id": "GtEX81Fqx2pg",
        "colab": {
          "base_uri": "https://localhost:8080/",
          "height": 195
        },
        "outputId": "519df3be-0fa7-464b-dac0-adebb39f6c95"
      },
      "source": [
        "for i in range(0,ss.shape[0]):\n",
        "  if ss['is_promoted'][i]>0.5:\n",
        "    ss['is_promoted'][i] = 1\n",
        "  else:\n",
        "    ss['is_promoted'][i] = 0"
      ],
      "execution_count": null,
      "outputs": [
        {
          "output_type": "stream",
          "text": [
            "/usr/local/lib/python3.6/dist-packages/ipykernel_launcher.py:5: SettingWithCopyWarning: \n",
            "A value is trying to be set on a copy of a slice from a DataFrame\n",
            "\n",
            "See the caveats in the documentation: https://pandas.pydata.org/pandas-docs/stable/user_guide/indexing.html#returning-a-view-versus-a-copy\n",
            "  \"\"\"\n",
            "/usr/local/lib/python3.6/dist-packages/ipykernel_launcher.py:3: SettingWithCopyWarning: \n",
            "A value is trying to be set on a copy of a slice from a DataFrame\n",
            "\n",
            "See the caveats in the documentation: https://pandas.pydata.org/pandas-docs/stable/user_guide/indexing.html#returning-a-view-versus-a-copy\n",
            "  This is separate from the ipykernel package so we can avoid doing imports until\n"
          ],
          "name": "stderr"
        }
      ]
    },
    {
      "cell_type": "code",
      "metadata": {
        "id": "iz6Ejvb2yxLI",
        "colab": {
          "base_uri": "https://localhost:8080/",
          "height": 70
        },
        "outputId": "823888ff-e52f-458f-d732-82648dc37d31"
      },
      "source": [
        "ss['is_promoted'].value_counts()"
      ],
      "execution_count": null,
      "outputs": [
        {
          "output_type": "execute_result",
          "data": {
            "text/plain": [
              "0.0    22853\n",
              "1.0      637\n",
              "Name: is_promoted, dtype: int64"
            ]
          },
          "metadata": {
            "tags": []
          },
          "execution_count": 68
        }
      ]
    },
    {
      "cell_type": "code",
      "metadata": {
        "id": "P4Cbmt18y3Tt"
      },
      "source": [
        "ss['is_promoted'] = ss['is_promoted'].astype(int)"
      ],
      "execution_count": null,
      "outputs": []
    },
    {
      "cell_type": "code",
      "metadata": {
        "id": "Vg7NGAmozB9T",
        "colab": {
          "base_uri": "https://localhost:8080/",
          "height": 230
        },
        "outputId": "e3077ea7-f314-4276-f71a-8b10ab4ced62"
      },
      "source": [
        "ss['is_promoted']"
      ],
      "execution_count": null,
      "outputs": [
        {
          "output_type": "execute_result",
          "data": {
            "text/plain": [
              "0        0\n",
              "1        0\n",
              "2        0\n",
              "3        0\n",
              "4        0\n",
              "        ..\n",
              "23485    0\n",
              "23486    0\n",
              "23487    0\n",
              "23488    0\n",
              "23489    1\n",
              "Name: is_promoted, Length: 23490, dtype: int64"
            ]
          },
          "metadata": {
            "tags": []
          },
          "execution_count": 71
        }
      ]
    },
    {
      "cell_type": "code",
      "metadata": {
        "id": "R4bWysAVziM_"
      },
      "source": [
        "ss.to_csv(\"boostpred.csv\", index=False)"
      ],
      "execution_count": null,
      "outputs": []
    },
    {
      "cell_type": "code",
      "metadata": {
        "id": "gEIiEjIFzrHB"
      },
      "source": [
        ""
      ],
      "execution_count": null,
      "outputs": []
    }
  ]
}