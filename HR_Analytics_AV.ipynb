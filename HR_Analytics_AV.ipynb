{
  "nbformat": 4,
  "nbformat_minor": 0,
  "metadata": {
    "colab": {
      "name": "HR_Analytics_AV",
      "provenance": []
    },
    "kernelspec": {
      "name": "python3",
      "display_name": "Python 3"
    }
  },
  "cells": [
    {
      "cell_type": "code",
      "metadata": {
        "id": "f94KFVx3IYfp",
        "colab": {
          "base_uri": "https://localhost:8080/",
          "height": 72
        },
        "outputId": "55fa1ef2-5eab-4613-d719-edca264872e2"
      },
      "source": [
        "import re    # for regular expressions \n",
        "import nltk  # for text manipulation \n",
        "import string \n",
        "import warnings \n",
        "import numpy as np \n",
        "import pandas as pd \n",
        "import seaborn as sns \n",
        "import matplotlib.pyplot as plt  \n"
      ],
      "execution_count": null,
      "outputs": [
        {
          "output_type": "stream",
          "text": [
            "/usr/local/lib/python3.6/dist-packages/statsmodels/tools/_testing.py:19: FutureWarning: pandas.util.testing is deprecated. Use the functions in the public API at pandas.testing instead.\n",
            "  import pandas.util.testing as tm\n"
          ],
          "name": "stderr"
        }
      ]
    },
    {
      "cell_type": "code",
      "metadata": {
        "id": "NKuyAypFI3sG"
      },
      "source": [
        "train = pd.read_csv(\"train.csv\")\n"
      ],
      "execution_count": null,
      "outputs": []
    },
    {
      "cell_type": "code",
      "metadata": {
        "id": "vpP0pNnvJB3g",
        "colab": {
          "base_uri": "https://localhost:8080/",
          "height": 281
        },
        "outputId": "7dbc442c-3cfc-4737-f7bc-581df5b3bfec"
      },
      "source": [
        "train.head()"
      ],
      "execution_count": null,
      "outputs": [
        {
          "output_type": "execute_result",
          "data": {
            "text/html": [
              "<div>\n",
              "<style scoped>\n",
              "    .dataframe tbody tr th:only-of-type {\n",
              "        vertical-align: middle;\n",
              "    }\n",
              "\n",
              "    .dataframe tbody tr th {\n",
              "        vertical-align: top;\n",
              "    }\n",
              "\n",
              "    .dataframe thead th {\n",
              "        text-align: right;\n",
              "    }\n",
              "</style>\n",
              "<table border=\"1\" class=\"dataframe\">\n",
              "  <thead>\n",
              "    <tr style=\"text-align: right;\">\n",
              "      <th></th>\n",
              "      <th>employee_id</th>\n",
              "      <th>department</th>\n",
              "      <th>region</th>\n",
              "      <th>education</th>\n",
              "      <th>gender</th>\n",
              "      <th>recruitment_channel</th>\n",
              "      <th>no_of_trainings</th>\n",
              "      <th>age</th>\n",
              "      <th>previous_year_rating</th>\n",
              "      <th>length_of_service</th>\n",
              "      <th>KPIs_met &gt;80%</th>\n",
              "      <th>awards_won?</th>\n",
              "      <th>avg_training_score</th>\n",
              "      <th>is_promoted</th>\n",
              "    </tr>\n",
              "  </thead>\n",
              "  <tbody>\n",
              "    <tr>\n",
              "      <th>0</th>\n",
              "      <td>65438</td>\n",
              "      <td>Sales &amp; Marketing</td>\n",
              "      <td>region_7</td>\n",
              "      <td>Master's &amp; above</td>\n",
              "      <td>f</td>\n",
              "      <td>sourcing</td>\n",
              "      <td>1</td>\n",
              "      <td>35</td>\n",
              "      <td>5.0</td>\n",
              "      <td>8</td>\n",
              "      <td>1</td>\n",
              "      <td>0</td>\n",
              "      <td>49</td>\n",
              "      <td>0</td>\n",
              "    </tr>\n",
              "    <tr>\n",
              "      <th>1</th>\n",
              "      <td>65141</td>\n",
              "      <td>Operations</td>\n",
              "      <td>region_22</td>\n",
              "      <td>Bachelor's</td>\n",
              "      <td>m</td>\n",
              "      <td>other</td>\n",
              "      <td>1</td>\n",
              "      <td>30</td>\n",
              "      <td>5.0</td>\n",
              "      <td>4</td>\n",
              "      <td>0</td>\n",
              "      <td>0</td>\n",
              "      <td>60</td>\n",
              "      <td>0</td>\n",
              "    </tr>\n",
              "    <tr>\n",
              "      <th>2</th>\n",
              "      <td>7513</td>\n",
              "      <td>Sales &amp; Marketing</td>\n",
              "      <td>region_19</td>\n",
              "      <td>Bachelor's</td>\n",
              "      <td>m</td>\n",
              "      <td>sourcing</td>\n",
              "      <td>1</td>\n",
              "      <td>34</td>\n",
              "      <td>3.0</td>\n",
              "      <td>7</td>\n",
              "      <td>0</td>\n",
              "      <td>0</td>\n",
              "      <td>50</td>\n",
              "      <td>0</td>\n",
              "    </tr>\n",
              "    <tr>\n",
              "      <th>3</th>\n",
              "      <td>2542</td>\n",
              "      <td>Sales &amp; Marketing</td>\n",
              "      <td>region_23</td>\n",
              "      <td>Bachelor's</td>\n",
              "      <td>m</td>\n",
              "      <td>other</td>\n",
              "      <td>2</td>\n",
              "      <td>39</td>\n",
              "      <td>1.0</td>\n",
              "      <td>10</td>\n",
              "      <td>0</td>\n",
              "      <td>0</td>\n",
              "      <td>50</td>\n",
              "      <td>0</td>\n",
              "    </tr>\n",
              "    <tr>\n",
              "      <th>4</th>\n",
              "      <td>48945</td>\n",
              "      <td>Technology</td>\n",
              "      <td>region_26</td>\n",
              "      <td>Bachelor's</td>\n",
              "      <td>m</td>\n",
              "      <td>other</td>\n",
              "      <td>1</td>\n",
              "      <td>45</td>\n",
              "      <td>3.0</td>\n",
              "      <td>2</td>\n",
              "      <td>0</td>\n",
              "      <td>0</td>\n",
              "      <td>73</td>\n",
              "      <td>0</td>\n",
              "    </tr>\n",
              "  </tbody>\n",
              "</table>\n",
              "</div>"
            ],
            "text/plain": [
              "   employee_id         department  ... avg_training_score is_promoted\n",
              "0        65438  Sales & Marketing  ...                 49           0\n",
              "1        65141         Operations  ...                 60           0\n",
              "2         7513  Sales & Marketing  ...                 50           0\n",
              "3         2542  Sales & Marketing  ...                 50           0\n",
              "4        48945         Technology  ...                 73           0\n",
              "\n",
              "[5 rows x 14 columns]"
            ]
          },
          "metadata": {
            "tags": []
          },
          "execution_count": 3
        }
      ]
    },
    {
      "cell_type": "code",
      "metadata": {
        "id": "7aLXoBsFJDi6",
        "colab": {
          "base_uri": "https://localhost:8080/",
          "height": 284
        },
        "outputId": "feb8d1ee-375d-43b1-ffd7-dbf9f9c8032b"
      },
      "source": [
        "train.dtypes"
      ],
      "execution_count": null,
      "outputs": [
        {
          "output_type": "execute_result",
          "data": {
            "text/plain": [
              "employee_id               int64\n",
              "department               object\n",
              "region                   object\n",
              "education                object\n",
              "gender                   object\n",
              "recruitment_channel      object\n",
              "no_of_trainings           int64\n",
              "age                       int64\n",
              "previous_year_rating    float64\n",
              "length_of_service         int64\n",
              "KPIs_met >80%             int64\n",
              "awards_won?               int64\n",
              "avg_training_score        int64\n",
              "is_promoted               int64\n",
              "dtype: object"
            ]
          },
          "metadata": {
            "tags": []
          },
          "execution_count": 4
        }
      ]
    },
    {
      "cell_type": "code",
      "metadata": {
        "id": "zUuJ78OmJbKn",
        "colab": {
          "base_uri": "https://localhost:8080/",
          "height": 284
        },
        "outputId": "f936ecef-63bc-4998-f842-66ffd0f347be"
      },
      "source": [
        "train.isnull().sum()"
      ],
      "execution_count": null,
      "outputs": [
        {
          "output_type": "execute_result",
          "data": {
            "text/plain": [
              "employee_id                0\n",
              "department                 0\n",
              "region                     0\n",
              "education               2409\n",
              "gender                     0\n",
              "recruitment_channel        0\n",
              "no_of_trainings            0\n",
              "age                        0\n",
              "previous_year_rating    4124\n",
              "length_of_service          0\n",
              "KPIs_met >80%              0\n",
              "awards_won?                0\n",
              "avg_training_score         0\n",
              "is_promoted                0\n",
              "dtype: int64"
            ]
          },
          "metadata": {
            "tags": []
          },
          "execution_count": 5
        }
      ]
    },
    {
      "cell_type": "code",
      "metadata": {
        "id": "tnasXLluJgsk",
        "colab": {
          "base_uri": "https://localhost:8080/",
          "height": 35
        },
        "outputId": "b3ced9a8-0dfb-4b64-d922-4bc31925e69b"
      },
      "source": [
        "train.shape"
      ],
      "execution_count": null,
      "outputs": [
        {
          "output_type": "execute_result",
          "data": {
            "text/plain": [
              "(54808, 14)"
            ]
          },
          "metadata": {
            "tags": []
          },
          "execution_count": 6
        }
      ]
    },
    {
      "cell_type": "code",
      "metadata": {
        "id": "yLRcoGBwJxQb"
      },
      "source": [
        "test = pd.read_csv(\"test.csv\")"
      ],
      "execution_count": null,
      "outputs": []
    },
    {
      "cell_type": "code",
      "metadata": {
        "id": "vtQuEcEHJ4u4",
        "colab": {
          "base_uri": "https://localhost:8080/",
          "height": 248
        },
        "outputId": "a43c059d-a9f9-49f3-a683-8a85dd804366"
      },
      "source": [
        "test.head()"
      ],
      "execution_count": null,
      "outputs": [
        {
          "output_type": "execute_result",
          "data": {
            "text/html": [
              "<div>\n",
              "<style scoped>\n",
              "    .dataframe tbody tr th:only-of-type {\n",
              "        vertical-align: middle;\n",
              "    }\n",
              "\n",
              "    .dataframe tbody tr th {\n",
              "        vertical-align: top;\n",
              "    }\n",
              "\n",
              "    .dataframe thead th {\n",
              "        text-align: right;\n",
              "    }\n",
              "</style>\n",
              "<table border=\"1\" class=\"dataframe\">\n",
              "  <thead>\n",
              "    <tr style=\"text-align: right;\">\n",
              "      <th></th>\n",
              "      <th>employee_id</th>\n",
              "      <th>department</th>\n",
              "      <th>region</th>\n",
              "      <th>education</th>\n",
              "      <th>gender</th>\n",
              "      <th>recruitment_channel</th>\n",
              "      <th>no_of_trainings</th>\n",
              "      <th>age</th>\n",
              "      <th>previous_year_rating</th>\n",
              "      <th>length_of_service</th>\n",
              "      <th>KPIs_met &gt;80%</th>\n",
              "      <th>awards_won?</th>\n",
              "      <th>avg_training_score</th>\n",
              "    </tr>\n",
              "  </thead>\n",
              "  <tbody>\n",
              "    <tr>\n",
              "      <th>0</th>\n",
              "      <td>8724</td>\n",
              "      <td>Technology</td>\n",
              "      <td>region_26</td>\n",
              "      <td>Bachelor's</td>\n",
              "      <td>m</td>\n",
              "      <td>sourcing</td>\n",
              "      <td>1</td>\n",
              "      <td>24</td>\n",
              "      <td>NaN</td>\n",
              "      <td>1</td>\n",
              "      <td>1</td>\n",
              "      <td>0</td>\n",
              "      <td>77</td>\n",
              "    </tr>\n",
              "    <tr>\n",
              "      <th>1</th>\n",
              "      <td>74430</td>\n",
              "      <td>HR</td>\n",
              "      <td>region_4</td>\n",
              "      <td>Bachelor's</td>\n",
              "      <td>f</td>\n",
              "      <td>other</td>\n",
              "      <td>1</td>\n",
              "      <td>31</td>\n",
              "      <td>3.0</td>\n",
              "      <td>5</td>\n",
              "      <td>0</td>\n",
              "      <td>0</td>\n",
              "      <td>51</td>\n",
              "    </tr>\n",
              "    <tr>\n",
              "      <th>2</th>\n",
              "      <td>72255</td>\n",
              "      <td>Sales &amp; Marketing</td>\n",
              "      <td>region_13</td>\n",
              "      <td>Bachelor's</td>\n",
              "      <td>m</td>\n",
              "      <td>other</td>\n",
              "      <td>1</td>\n",
              "      <td>31</td>\n",
              "      <td>1.0</td>\n",
              "      <td>4</td>\n",
              "      <td>0</td>\n",
              "      <td>0</td>\n",
              "      <td>47</td>\n",
              "    </tr>\n",
              "    <tr>\n",
              "      <th>3</th>\n",
              "      <td>38562</td>\n",
              "      <td>Procurement</td>\n",
              "      <td>region_2</td>\n",
              "      <td>Bachelor's</td>\n",
              "      <td>f</td>\n",
              "      <td>other</td>\n",
              "      <td>3</td>\n",
              "      <td>31</td>\n",
              "      <td>2.0</td>\n",
              "      <td>9</td>\n",
              "      <td>0</td>\n",
              "      <td>0</td>\n",
              "      <td>65</td>\n",
              "    </tr>\n",
              "    <tr>\n",
              "      <th>4</th>\n",
              "      <td>64486</td>\n",
              "      <td>Finance</td>\n",
              "      <td>region_29</td>\n",
              "      <td>Bachelor's</td>\n",
              "      <td>m</td>\n",
              "      <td>sourcing</td>\n",
              "      <td>1</td>\n",
              "      <td>30</td>\n",
              "      <td>4.0</td>\n",
              "      <td>7</td>\n",
              "      <td>0</td>\n",
              "      <td>0</td>\n",
              "      <td>61</td>\n",
              "    </tr>\n",
              "  </tbody>\n",
              "</table>\n",
              "</div>"
            ],
            "text/plain": [
              "   employee_id         department  ... awards_won? avg_training_score\n",
              "0         8724         Technology  ...           0                 77\n",
              "1        74430                 HR  ...           0                 51\n",
              "2        72255  Sales & Marketing  ...           0                 47\n",
              "3        38562        Procurement  ...           0                 65\n",
              "4        64486            Finance  ...           0                 61\n",
              "\n",
              "[5 rows x 13 columns]"
            ]
          },
          "metadata": {
            "tags": []
          },
          "execution_count": 8
        }
      ]
    },
    {
      "cell_type": "code",
      "metadata": {
        "id": "HCQZsizCJ7Ff",
        "colab": {
          "base_uri": "https://localhost:8080/",
          "height": 266
        },
        "outputId": "f8c8b2e8-b5a1-428e-da4b-2ceb45c07200"
      },
      "source": [
        "test.isnull().sum()"
      ],
      "execution_count": null,
      "outputs": [
        {
          "output_type": "execute_result",
          "data": {
            "text/plain": [
              "employee_id                0\n",
              "department                 0\n",
              "region                     0\n",
              "education               1034\n",
              "gender                     0\n",
              "recruitment_channel        0\n",
              "no_of_trainings            0\n",
              "age                        0\n",
              "previous_year_rating    1812\n",
              "length_of_service          0\n",
              "KPIs_met >80%              0\n",
              "awards_won?                0\n",
              "avg_training_score         0\n",
              "dtype: int64"
            ]
          },
          "metadata": {
            "tags": []
          },
          "execution_count": 9
        }
      ]
    },
    {
      "cell_type": "code",
      "metadata": {
        "id": "428fBq7YJ_eQ",
        "colab": {
          "base_uri": "https://localhost:8080/",
          "height": 35
        },
        "outputId": "b3c7a3f2-e83a-4269-cb4b-abaea61f43a1"
      },
      "source": [
        "test.shape"
      ],
      "execution_count": null,
      "outputs": [
        {
          "output_type": "execute_result",
          "data": {
            "text/plain": [
              "(23490, 13)"
            ]
          },
          "metadata": {
            "tags": []
          },
          "execution_count": 10
        }
      ]
    },
    {
      "cell_type": "code",
      "metadata": {
        "id": "2TIhgMOVwDCg"
      },
      "source": [
        ""
      ],
      "execution_count": null,
      "outputs": []
    },
    {
      "cell_type": "code",
      "metadata": {
        "id": "HV6x6mKdwDUQ"
      },
      "source": [
        ""
      ],
      "execution_count": null,
      "outputs": []
    },
    {
      "cell_type": "code",
      "metadata": {
        "id": "pv-NPMIEwDZx",
        "colab": {
          "base_uri": "https://localhost:8080/",
          "height": 35
        },
        "outputId": "f2432fdf-fc7e-47a3-b922-f813bbf8e6c6"
      },
      "source": [
        "\n",
        "# filling missing values\n",
        "\n",
        "train['education'].fillna(train['education'].mode()[0], inplace = True)\n",
        "train['previous_year_rating'].fillna(1, inplace = True)\n",
        "\n",
        "# again checking if there is any Null value left in the data\n",
        "train.isnull().sum().sum()"
      ],
      "execution_count": null,
      "outputs": [
        {
          "output_type": "execute_result",
          "data": {
            "text/plain": [
              "0"
            ]
          },
          "metadata": {
            "tags": []
          },
          "execution_count": 11
        }
      ]
    },
    {
      "cell_type": "code",
      "metadata": {
        "id": "GmNzzzMbwDRQ",
        "colab": {
          "base_uri": "https://localhost:8080/",
          "height": 35
        },
        "outputId": "c5b4de21-f568-4945-b7ec-fd71a756ec6b"
      },
      "source": [
        "\n",
        "# filling missing values\n",
        "\n",
        "test['education'].fillna(test['education'].mode()[0], inplace = True)\n",
        "test['previous_year_rating'].fillna(1, inplace = True)\n",
        "\n",
        "# again checking if there is any Null value left in the data\n",
        "test.isnull().sum().sum()"
      ],
      "execution_count": null,
      "outputs": [
        {
          "output_type": "execute_result",
          "data": {
            "text/plain": [
              "0"
            ]
          },
          "metadata": {
            "tags": []
          },
          "execution_count": 12
        }
      ]
    },
    {
      "cell_type": "code",
      "metadata": {
        "id": "ibg937u2wDOm",
        "colab": {
          "base_uri": "https://localhost:8080/",
          "height": 88
        },
        "outputId": "f8839be1-7b4f-476c-e54b-507ff602a432"
      },
      "source": [
        "# removing the employee_id column\n",
        "\n",
        "train = train.drop(['employee_id'], axis = 1)\n",
        "\n",
        "train.columns"
      ],
      "execution_count": null,
      "outputs": [
        {
          "output_type": "execute_result",
          "data": {
            "text/plain": [
              "Index(['department', 'region', 'education', 'gender', 'recruitment_channel',\n",
              "       'no_of_trainings', 'age', 'previous_year_rating', 'length_of_service',\n",
              "       'KPIs_met >80%', 'awards_won?', 'avg_training_score', 'is_promoted'],\n",
              "      dtype='object')"
            ]
          },
          "metadata": {
            "tags": []
          },
          "execution_count": 13
        }
      ]
    },
    {
      "cell_type": "code",
      "metadata": {
        "id": "5sOySK8wwDMB",
        "colab": {
          "base_uri": "https://localhost:8080/",
          "height": 88
        },
        "outputId": "0a810981-91d8-40e1-aaeb-a214c5dc18bf"
      },
      "source": [
        "\n",
        "# saving the employee_id\n",
        "\n",
        "emp_id = test['employee_id']\n",
        "\n",
        "# removing the employee_id column\n",
        "\n",
        "test = test.drop(['employee_id'], axis = 1)\n",
        "\n",
        "test.columns"
      ],
      "execution_count": null,
      "outputs": [
        {
          "output_type": "execute_result",
          "data": {
            "text/plain": [
              "Index(['department', 'region', 'education', 'gender', 'recruitment_channel',\n",
              "       'no_of_trainings', 'age', 'previous_year_rating', 'length_of_service',\n",
              "       'KPIs_met >80%', 'awards_won?', 'avg_training_score'],\n",
              "      dtype='object')"
            ]
          },
          "metadata": {
            "tags": []
          },
          "execution_count": 14
        }
      ]
    },
    {
      "cell_type": "code",
      "metadata": {
        "id": "i9laeNqEwDKA",
        "colab": {
          "base_uri": "https://localhost:8080/",
          "height": 88
        },
        "outputId": "0d065e01-8fb2-4cc3-c511-0e1b41c65f22"
      },
      "source": [
        "# defining the test set\n",
        "\n",
        "x_test = test\n",
        "\n",
        "x_test.columns"
      ],
      "execution_count": null,
      "outputs": [
        {
          "output_type": "execute_result",
          "data": {
            "text/plain": [
              "Index(['department', 'region', 'education', 'gender', 'recruitment_channel',\n",
              "       'no_of_trainings', 'age', 'previous_year_rating', 'length_of_service',\n",
              "       'KPIs_met >80%', 'awards_won?', 'avg_training_score'],\n",
              "      dtype='object')"
            ]
          },
          "metadata": {
            "tags": []
          },
          "execution_count": 15
        }
      ]
    },
    {
      "cell_type": "code",
      "metadata": {
        "id": "vwJHVCPmwDGd",
        "colab": {
          "base_uri": "https://localhost:8080/",
          "height": 390
        },
        "outputId": "f87011d2-5ebf-42c1-8782-71735ba03c5c"
      },
      "source": [
        "# one hot encoding for the test set\n",
        "\n",
        "x_test = pd.get_dummies(x_test)\n",
        "\n",
        "x_test.columns"
      ],
      "execution_count": null,
      "outputs": [
        {
          "output_type": "execute_result",
          "data": {
            "text/plain": [
              "Index(['no_of_trainings', 'age', 'previous_year_rating', 'length_of_service',\n",
              "       'KPIs_met >80%', 'awards_won?', 'avg_training_score',\n",
              "       'department_Analytics', 'department_Finance', 'department_HR',\n",
              "       'department_Legal', 'department_Operations', 'department_Procurement',\n",
              "       'department_R&D', 'department_Sales & Marketing',\n",
              "       'department_Technology', 'region_region_1', 'region_region_10',\n",
              "       'region_region_11', 'region_region_12', 'region_region_13',\n",
              "       'region_region_14', 'region_region_15', 'region_region_16',\n",
              "       'region_region_17', 'region_region_18', 'region_region_19',\n",
              "       'region_region_2', 'region_region_20', 'region_region_21',\n",
              "       'region_region_22', 'region_region_23', 'region_region_24',\n",
              "       'region_region_25', 'region_region_26', 'region_region_27',\n",
              "       'region_region_28', 'region_region_29', 'region_region_3',\n",
              "       'region_region_30', 'region_region_31', 'region_region_32',\n",
              "       'region_region_33', 'region_region_34', 'region_region_4',\n",
              "       'region_region_5', 'region_region_6', 'region_region_7',\n",
              "       'region_region_8', 'region_region_9', 'education_Bachelor's',\n",
              "       'education_Below Secondary', 'education_Master's & above', 'gender_f',\n",
              "       'gender_m', 'recruitment_channel_other', 'recruitment_channel_referred',\n",
              "       'recruitment_channel_sourcing'],\n",
              "      dtype='object')"
            ]
          },
          "metadata": {
            "tags": []
          },
          "execution_count": 16
        }
      ]
    },
    {
      "cell_type": "code",
      "metadata": {
        "id": "364u1igywC_e",
        "colab": {
          "base_uri": "https://localhost:8080/",
          "height": 52
        },
        "outputId": "d9e5b74a-b066-4bb0-815d-0fafced38bfa"
      },
      "source": [
        "\n",
        "# splitting the train set into dependent and independent sets\n",
        "\n",
        "x = train.iloc[:, :-1]\n",
        "y = train.iloc[:, -1]\n",
        "\n",
        "print(\"Shape of x:\", x.shape)\n",
        "print(\"Shape of y:\", y.shape)"
      ],
      "execution_count": null,
      "outputs": [
        {
          "output_type": "stream",
          "text": [
            "Shape of x: (54808, 12)\n",
            "Shape of y: (54808,)\n"
          ],
          "name": "stdout"
        }
      ]
    },
    {
      "cell_type": "code",
      "metadata": {
        "id": "UImSI0dWwC8U",
        "colab": {
          "base_uri": "https://localhost:8080/",
          "height": 390
        },
        "outputId": "2610fb30-9531-435c-8255-46d0005c27b6"
      },
      "source": [
        "\n",
        "# one hot encoding for the train set\n",
        "\n",
        "x = pd.get_dummies(x)\n",
        "\n",
        "x.columns"
      ],
      "execution_count": null,
      "outputs": [
        {
          "output_type": "execute_result",
          "data": {
            "text/plain": [
              "Index(['no_of_trainings', 'age', 'previous_year_rating', 'length_of_service',\n",
              "       'KPIs_met >80%', 'awards_won?', 'avg_training_score',\n",
              "       'department_Analytics', 'department_Finance', 'department_HR',\n",
              "       'department_Legal', 'department_Operations', 'department_Procurement',\n",
              "       'department_R&D', 'department_Sales & Marketing',\n",
              "       'department_Technology', 'region_region_1', 'region_region_10',\n",
              "       'region_region_11', 'region_region_12', 'region_region_13',\n",
              "       'region_region_14', 'region_region_15', 'region_region_16',\n",
              "       'region_region_17', 'region_region_18', 'region_region_19',\n",
              "       'region_region_2', 'region_region_20', 'region_region_21',\n",
              "       'region_region_22', 'region_region_23', 'region_region_24',\n",
              "       'region_region_25', 'region_region_26', 'region_region_27',\n",
              "       'region_region_28', 'region_region_29', 'region_region_3',\n",
              "       'region_region_30', 'region_region_31', 'region_region_32',\n",
              "       'region_region_33', 'region_region_34', 'region_region_4',\n",
              "       'region_region_5', 'region_region_6', 'region_region_7',\n",
              "       'region_region_8', 'region_region_9', 'education_Bachelor's',\n",
              "       'education_Below Secondary', 'education_Master's & above', 'gender_f',\n",
              "       'gender_m', 'recruitment_channel_other', 'recruitment_channel_referred',\n",
              "       'recruitment_channel_sourcing'],\n",
              "      dtype='object')"
            ]
          },
          "metadata": {
            "tags": []
          },
          "execution_count": 18
        }
      ]
    },
    {
      "cell_type": "code",
      "metadata": {
        "id": "CcyOtbZ1wC5u",
        "colab": {
          "base_uri": "https://localhost:8080/",
          "height": 179
        },
        "outputId": "37138616-7d55-4dfd-de6b-d0f0c71a6b82"
      },
      "source": [
        "from imblearn.over_sampling import SMOTE\n",
        "\n",
        "x_sample, y_sample = SMOTE().fit_sample(x, y.values.ravel())\n",
        "\n",
        "x_sample = pd.DataFrame(x_sample)\n",
        "y_sample = pd.DataFrame(y_sample)\n",
        "\n",
        "# checking the sizes of the sample data\n",
        "print(\"Size of x-sample :\", x_sample.shape)\n",
        "print(\"Size of y-sample :\", y_sample.shape)"
      ],
      "execution_count": null,
      "outputs": [
        {
          "output_type": "stream",
          "text": [
            "/usr/local/lib/python3.6/dist-packages/sklearn/externals/six.py:31: FutureWarning: The module is deprecated in version 0.21 and will be removed in version 0.23 since we've dropped support for Python 2.7. Please rely on the official version of six (https://pypi.org/project/six/).\n",
            "  \"(https://pypi.org/project/six/).\", FutureWarning)\n",
            "/usr/local/lib/python3.6/dist-packages/sklearn/utils/deprecation.py:144: FutureWarning: The sklearn.neighbors.base module is  deprecated in version 0.22 and will be removed in version 0.24. The corresponding classes / functions should instead be imported from sklearn.neighbors. Anything that cannot be imported from sklearn.neighbors is now part of the private API.\n",
            "  warnings.warn(message, FutureWarning)\n",
            "/usr/local/lib/python3.6/dist-packages/sklearn/utils/deprecation.py:87: FutureWarning: Function safe_indexing is deprecated; safe_indexing is deprecated in version 0.22 and will be removed in version 0.24.\n",
            "  warnings.warn(msg, category=FutureWarning)\n"
          ],
          "name": "stderr"
        },
        {
          "output_type": "stream",
          "text": [
            "Size of x-sample : (100280, 58)\n",
            "Size of y-sample : (100280, 1)\n"
          ],
          "name": "stdout"
        }
      ]
    },
    {
      "cell_type": "code",
      "metadata": {
        "id": "V_8cJLojwC2P",
        "colab": {
          "base_uri": "https://localhost:8080/",
          "height": 88
        },
        "outputId": "4cd5d71e-2a77-4c82-c10f-c5fce6bfee36"
      },
      "source": [
        "# splitting x and y into train and validation sets\n",
        "\n",
        "from sklearn.model_selection import train_test_split\n",
        "\n",
        "x_train, x_valid, y_train, y_valid = train_test_split(x_sample, y_sample, test_size = 0.2, random_state = 0)\n",
        "\n",
        "print(\"Shape of x_train: \", x_train.shape)\n",
        "print(\"Shape of x_valid: \", x_valid.shape)\n",
        "print(\"Shape of y_train: \", y_train.shape)\n",
        "print(\"Shape of y_valid: \", y_valid.shape)"
      ],
      "execution_count": null,
      "outputs": [
        {
          "output_type": "stream",
          "text": [
            "Shape of x_train:  (80224, 58)\n",
            "Shape of x_valid:  (20056, 58)\n",
            "Shape of y_train:  (80224, 1)\n",
            "Shape of y_valid:  (20056, 1)\n"
          ],
          "name": "stdout"
        }
      ]
    },
    {
      "cell_type": "code",
      "metadata": {
        "id": "vQa2qzykwCzE"
      },
      "source": [
        "# standard scaling\n",
        "\n",
        "from sklearn.preprocessing import StandardScaler\n",
        "\n",
        "sc = StandardScaler()\n",
        "x_train = sc.fit_transform(x_train)\n",
        "x_test  = sc.transform(x_test)\n",
        "x_valid = sc.transform(x_valid)"
      ],
      "execution_count": null,
      "outputs": []
    },
    {
      "cell_type": "code",
      "metadata": {
        "id": "IVyAVRypwCwF",
        "colab": {
          "base_uri": "https://localhost:8080/",
          "height": 108
        },
        "outputId": "0289d719-8f5c-43b6-9cb4-0043f4eb1e69"
      },
      "source": [
        "from sklearn.ensemble import RandomForestClassifier\n",
        "from sklearn.metrics import confusion_matrix, f1_score\n",
        "from sklearn.metrics import classification_report\n",
        "from sklearn.metrics import average_precision_score\n",
        "\n",
        "rfc = RandomForestClassifier()\n",
        "rfc.fit(x_train, y_train)\n",
        "y_p = rfc.predict(x_valid)\n",
        "rfc_pred = rfc.predict(x_test)\n",
        "\n",
        "print(\"Training Accuracy :\", rfc.score(x_train, y_train))\n",
        "print(\"Testing Accuracy :\", f1_score(y_valid, y_p))\n"
      ],
      "execution_count": null,
      "outputs": [
        {
          "output_type": "stream",
          "text": [
            "/usr/local/lib/python3.6/dist-packages/ipykernel_launcher.py:7: DataConversionWarning: A column-vector y was passed when a 1d array was expected. Please change the shape of y to (n_samples,), for example using ravel().\n",
            "  import sys\n"
          ],
          "name": "stderr"
        },
        {
          "output_type": "stream",
          "text": [
            "Training Accuracy : 0.9998753490227363\n",
            "Testing Accuracy : 0.966039654295882\n"
          ],
          "name": "stdout"
        }
      ]
    },
    {
      "cell_type": "code",
      "metadata": {
        "id": "Kk5w3LoixNU_",
        "colab": {
          "base_uri": "https://localhost:8080/",
          "height": 144
        },
        "outputId": "d560d5c9-c9da-4dad-9b25-32c33316d753"
      },
      "source": [
        "from xgboost.sklearn import XGBClassifier\n",
        "from sklearn.metrics import confusion_matrix\n",
        "from sklearn.metrics import classification_report\n",
        "from sklearn.metrics import average_precision_score\n",
        "\n",
        "xgb = XGBClassifier()\n",
        "xgb.fit(x_train, y_train)\n",
        "\n",
        "xgb_pred = xgb.predict(x_test)\n",
        "y_xgb = xgb.predict(x_valid)\n",
        "print(\"Training Accuracy :\", xgb.score(x_train, y_train))\n",
        "print(\"Testing Accuracy :\", f1_score(y_valid, y_xgb))"
      ],
      "execution_count": null,
      "outputs": [
        {
          "output_type": "stream",
          "text": [
            "/usr/local/lib/python3.6/dist-packages/sklearn/preprocessing/_label.py:235: DataConversionWarning: A column-vector y was passed when a 1d array was expected. Please change the shape of y to (n_samples, ), for example using ravel().\n",
            "  y = column_or_1d(y, warn=True)\n",
            "/usr/local/lib/python3.6/dist-packages/sklearn/preprocessing/_label.py:268: DataConversionWarning: A column-vector y was passed when a 1d array was expected. Please change the shape of y to (n_samples, ), for example using ravel().\n",
            "  y = column_or_1d(y, warn=True)\n"
          ],
          "name": "stderr"
        },
        {
          "output_type": "stream",
          "text": [
            "Training Accuracy : 0.9464873354607101\n",
            "Testing Accuracy : 0.947081231339442\n"
          ],
          "name": "stdout"
        }
      ]
    },
    {
      "cell_type": "code",
      "metadata": {
        "id": "Crnva45vxNjW",
        "colab": {
          "base_uri": "https://localhost:8080/",
          "height": 144
        },
        "outputId": "7c923fa2-a8c7-4ccd-fb6b-9c1f6af0834f"
      },
      "source": [
        "from lightgbm import LGBMClassifier\n",
        "from sklearn.metrics import confusion_matrix\n",
        "from sklearn.metrics import classification_report\n",
        "from sklearn.metrics import average_precision_score\n",
        "\n",
        "lgb = LGBMClassifier()\n",
        "lgb.fit(x_train, y_train)\n",
        "\n",
        "lgb_pred = lgb.predict(x_test)\n",
        "y_lgb = lgb.predict(x_valid)\n",
        "\n",
        "print(\"Training Accuracy :\", lgb.score(x_train, y_train))\n",
        "print(\"Testing Accuracy :\", f1_score(y_valid, y_lgb))"
      ],
      "execution_count": null,
      "outputs": [
        {
          "output_type": "stream",
          "text": [
            "/usr/local/lib/python3.6/dist-packages/sklearn/preprocessing/_label.py:235: DataConversionWarning: A column-vector y was passed when a 1d array was expected. Please change the shape of y to (n_samples, ), for example using ravel().\n",
            "  y = column_or_1d(y, warn=True)\n",
            "/usr/local/lib/python3.6/dist-packages/sklearn/preprocessing/_label.py:268: DataConversionWarning: A column-vector y was passed when a 1d array was expected. Please change the shape of y to (n_samples, ), for example using ravel().\n",
            "  y = column_or_1d(y, warn=True)\n"
          ],
          "name": "stderr"
        },
        {
          "output_type": "stream",
          "text": [
            "Training Accuracy : 0.9668802353410451\n",
            "Testing Accuracy : 0.9670295966876246\n"
          ],
          "name": "stdout"
        }
      ]
    },
    {
      "cell_type": "code",
      "metadata": {
        "id": "a3NWq5EtxOCa",
        "colab": {
          "base_uri": "https://localhost:8080/",
          "height": 108
        },
        "outputId": "4d1f345c-9552-49c9-d3d4-e7e05133ff19"
      },
      "source": [
        "from sklearn.ensemble import ExtraTreesClassifier\n",
        "\n",
        "etc = ExtraTreesClassifier()\n",
        "etc.fit(x_train, y_train)\n",
        "\n",
        "etc_pred = etc.predict(x_test)\n",
        "y_etc = etc.predict(x_valid)\n",
        "\n",
        "print(\"Training Accuracy :\", etc.score(x_train, y_train))\n",
        "print(\"Testing Accuracy :\", f1_score(y_valid, y_etc))"
      ],
      "execution_count": null,
      "outputs": [
        {
          "output_type": "stream",
          "text": [
            "/usr/local/lib/python3.6/dist-packages/ipykernel_launcher.py:4: DataConversionWarning: A column-vector y was passed when a 1d array was expected. Please change the shape of y to (n_samples,), for example using ravel().\n",
            "  after removing the cwd from sys.path.\n"
          ],
          "name": "stderr"
        },
        {
          "output_type": "stream",
          "text": [
            "Training Accuracy : 0.9998753490227363\n",
            "Testing Accuracy : 0.9666850912014472\n"
          ],
          "name": "stdout"
        }
      ]
    },
    {
      "cell_type": "code",
      "metadata": {
        "id": "n8ID5scz1Cde",
        "colab": {
          "base_uri": "https://localhost:8080/",
          "height": 357
        },
        "outputId": "0d31f4bb-544f-4cc3-a646-a35e363459e1"
      },
      "source": [
        "pip install catboost"
      ],
      "execution_count": null,
      "outputs": [
        {
          "output_type": "stream",
          "text": [
            "Collecting catboost\n",
            "\u001b[?25l  Downloading https://files.pythonhosted.org/packages/b2/aa/e61819d04ef2bbee778bf4b3a748db1f3ad23512377e43ecfdc3211437a0/catboost-0.23.2-cp36-none-manylinux1_x86_64.whl (64.8MB)\n",
            "\u001b[K     |████████████████████████████████| 64.8MB 66kB/s \n",
            "\u001b[?25hRequirement already satisfied: numpy>=1.16.0 in /usr/local/lib/python3.6/dist-packages (from catboost) (1.18.4)\n",
            "Requirement already satisfied: graphviz in /usr/local/lib/python3.6/dist-packages (from catboost) (0.10.1)\n",
            "Requirement already satisfied: matplotlib in /usr/local/lib/python3.6/dist-packages (from catboost) (3.2.1)\n",
            "Requirement already satisfied: pandas>=0.24.0 in /usr/local/lib/python3.6/dist-packages (from catboost) (1.0.4)\n",
            "Requirement already satisfied: scipy in /usr/local/lib/python3.6/dist-packages (from catboost) (1.4.1)\n",
            "Requirement already satisfied: six in /usr/local/lib/python3.6/dist-packages (from catboost) (1.12.0)\n",
            "Requirement already satisfied: plotly in /usr/local/lib/python3.6/dist-packages (from catboost) (4.4.1)\n",
            "Requirement already satisfied: python-dateutil>=2.1 in /usr/local/lib/python3.6/dist-packages (from matplotlib->catboost) (2.8.1)\n",
            "Requirement already satisfied: kiwisolver>=1.0.1 in /usr/local/lib/python3.6/dist-packages (from matplotlib->catboost) (1.2.0)\n",
            "Requirement already satisfied: pyparsing!=2.0.4,!=2.1.2,!=2.1.6,>=2.0.1 in /usr/local/lib/python3.6/dist-packages (from matplotlib->catboost) (2.4.7)\n",
            "Requirement already satisfied: cycler>=0.10 in /usr/local/lib/python3.6/dist-packages (from matplotlib->catboost) (0.10.0)\n",
            "Requirement already satisfied: pytz>=2017.2 in /usr/local/lib/python3.6/dist-packages (from pandas>=0.24.0->catboost) (2018.9)\n",
            "Requirement already satisfied: retrying>=1.3.3 in /usr/local/lib/python3.6/dist-packages (from plotly->catboost) (1.3.3)\n",
            "Installing collected packages: catboost\n",
            "Successfully installed catboost-0.23.2\n"
          ],
          "name": "stdout"
        }
      ]
    },
    {
      "cell_type": "code",
      "metadata": {
        "id": "7Z8l7g2gxOW8",
        "colab": {
          "base_uri": "https://localhost:8080/",
          "height": 1000
        },
        "outputId": "0612ac1f-d1a7-47c3-b3af-a9865dd547f6"
      },
      "source": [
        "from catboost import CatBoostClassifier\n",
        "\n",
        "cbc = CatBoostClassifier(learning_rate = 0.004, early_stopping_rounds = 100)\n",
        "cbc.fit(x_train, y_train)\n",
        "\n",
        "cbc_pred = cbc.predict(x_test)\n",
        "y_cbc = cbc.predict(x_valid)\n",
        "\n",
        "print(\"Training Accuracy :\", rfc.score(x_train, y_train))\n",
        "print(\"Testing Accuracy :\", f1_score(y_valid, y_cbc))"
      ],
      "execution_count": null,
      "outputs": [
        {
          "output_type": "stream",
          "text": [
            "0:\tlearn: 0.6891114\ttotal: 119ms\tremaining: 1m 58s\n",
            "1:\tlearn: 0.6845228\ttotal: 183ms\tremaining: 1m 31s\n",
            "2:\tlearn: 0.6801127\ttotal: 252ms\tremaining: 1m 23s\n",
            "3:\tlearn: 0.6757589\ttotal: 314ms\tremaining: 1m 18s\n",
            "4:\tlearn: 0.6712951\ttotal: 379ms\tremaining: 1m 15s\n",
            "5:\tlearn: 0.6675942\ttotal: 441ms\tremaining: 1m 13s\n",
            "6:\tlearn: 0.6633787\ttotal: 505ms\tremaining: 1m 11s\n",
            "7:\tlearn: 0.6591501\ttotal: 567ms\tremaining: 1m 10s\n",
            "8:\tlearn: 0.6557026\ttotal: 641ms\tremaining: 1m 10s\n",
            "9:\tlearn: 0.6522102\ttotal: 702ms\tremaining: 1m 9s\n",
            "10:\tlearn: 0.6481230\ttotal: 766ms\tremaining: 1m 8s\n",
            "11:\tlearn: 0.6441222\ttotal: 827ms\tremaining: 1m 8s\n",
            "12:\tlearn: 0.6402508\ttotal: 893ms\tremaining: 1m 7s\n",
            "13:\tlearn: 0.6363750\ttotal: 954ms\tremaining: 1m 7s\n",
            "14:\tlearn: 0.6326900\ttotal: 1.01s\tremaining: 1m 6s\n",
            "15:\tlearn: 0.6292408\ttotal: 1.08s\tremaining: 1m 6s\n",
            "16:\tlearn: 0.6256753\ttotal: 1.15s\tremaining: 1m 6s\n",
            "17:\tlearn: 0.6223238\ttotal: 1.21s\tremaining: 1m 6s\n",
            "18:\tlearn: 0.6192980\ttotal: 1.28s\tremaining: 1m 6s\n",
            "19:\tlearn: 0.6159153\ttotal: 1.34s\tremaining: 1m 5s\n",
            "20:\tlearn: 0.6124945\ttotal: 1.41s\tremaining: 1m 5s\n",
            "21:\tlearn: 0.6090195\ttotal: 1.47s\tremaining: 1m 5s\n",
            "22:\tlearn: 0.6062743\ttotal: 1.53s\tremaining: 1m 5s\n",
            "23:\tlearn: 0.6026624\ttotal: 1.59s\tremaining: 1m 4s\n",
            "24:\tlearn: 0.5993957\ttotal: 1.66s\tremaining: 1m 4s\n",
            "25:\tlearn: 0.5966722\ttotal: 1.72s\tremaining: 1m 4s\n",
            "26:\tlearn: 0.5935025\ttotal: 1.79s\tremaining: 1m 4s\n",
            "27:\tlearn: 0.5903624\ttotal: 1.85s\tremaining: 1m 4s\n",
            "28:\tlearn: 0.5877757\ttotal: 1.92s\tremaining: 1m 4s\n",
            "29:\tlearn: 0.5853755\ttotal: 1.98s\tremaining: 1m 3s\n",
            "30:\tlearn: 0.5824362\ttotal: 2.04s\tremaining: 1m 3s\n",
            "31:\tlearn: 0.5794810\ttotal: 2.1s\tremaining: 1m 3s\n",
            "32:\tlearn: 0.5762220\ttotal: 2.17s\tremaining: 1m 3s\n",
            "33:\tlearn: 0.5729447\ttotal: 2.23s\tremaining: 1m 3s\n",
            "34:\tlearn: 0.5697511\ttotal: 2.3s\tremaining: 1m 3s\n",
            "35:\tlearn: 0.5667159\ttotal: 2.36s\tremaining: 1m 3s\n",
            "36:\tlearn: 0.5638179\ttotal: 2.43s\tremaining: 1m 3s\n",
            "37:\tlearn: 0.5606567\ttotal: 2.5s\tremaining: 1m 3s\n",
            "38:\tlearn: 0.5580634\ttotal: 2.56s\tremaining: 1m 3s\n",
            "39:\tlearn: 0.5558807\ttotal: 2.65s\tremaining: 1m 3s\n",
            "40:\tlearn: 0.5532896\ttotal: 2.73s\tremaining: 1m 3s\n",
            "41:\tlearn: 0.5506457\ttotal: 2.79s\tremaining: 1m 3s\n",
            "42:\tlearn: 0.5486124\ttotal: 2.86s\tremaining: 1m 3s\n",
            "43:\tlearn: 0.5459420\ttotal: 2.92s\tremaining: 1m 3s\n",
            "44:\tlearn: 0.5431746\ttotal: 2.98s\tremaining: 1m 3s\n",
            "45:\tlearn: 0.5410886\ttotal: 3.04s\tremaining: 1m 3s\n",
            "46:\tlearn: 0.5382453\ttotal: 3.11s\tremaining: 1m 3s\n",
            "47:\tlearn: 0.5361325\ttotal: 3.17s\tremaining: 1m 2s\n",
            "48:\tlearn: 0.5335723\ttotal: 3.23s\tremaining: 1m 2s\n",
            "49:\tlearn: 0.5317410\ttotal: 3.3s\tremaining: 1m 2s\n",
            "50:\tlearn: 0.5293384\ttotal: 3.36s\tremaining: 1m 2s\n",
            "51:\tlearn: 0.5275399\ttotal: 3.43s\tremaining: 1m 2s\n",
            "52:\tlearn: 0.5251962\ttotal: 3.49s\tremaining: 1m 2s\n",
            "53:\tlearn: 0.5232818\ttotal: 3.55s\tremaining: 1m 2s\n",
            "54:\tlearn: 0.5210028\ttotal: 3.62s\tremaining: 1m 2s\n",
            "55:\tlearn: 0.5184827\ttotal: 3.68s\tremaining: 1m 2s\n",
            "56:\tlearn: 0.5159710\ttotal: 3.74s\tremaining: 1m 1s\n",
            "57:\tlearn: 0.5144083\ttotal: 3.8s\tremaining: 1m 1s\n",
            "58:\tlearn: 0.5122603\ttotal: 3.87s\tremaining: 1m 1s\n",
            "59:\tlearn: 0.5103992\ttotal: 3.93s\tremaining: 1m 1s\n",
            "60:\tlearn: 0.5087533\ttotal: 3.99s\tremaining: 1m 1s\n",
            "61:\tlearn: 0.5067979\ttotal: 4.05s\tremaining: 1m 1s\n",
            "62:\tlearn: 0.5046995\ttotal: 4.12s\tremaining: 1m 1s\n",
            "63:\tlearn: 0.5025499\ttotal: 4.19s\tremaining: 1m 1s\n",
            "64:\tlearn: 0.5008842\ttotal: 4.26s\tremaining: 1m 1s\n",
            "65:\tlearn: 0.4986396\ttotal: 4.33s\tremaining: 1m 1s\n",
            "66:\tlearn: 0.4968948\ttotal: 4.38s\tremaining: 1m 1s\n",
            "67:\tlearn: 0.4952139\ttotal: 4.45s\tremaining: 1m\n",
            "68:\tlearn: 0.4936142\ttotal: 4.51s\tremaining: 1m\n",
            "69:\tlearn: 0.4920167\ttotal: 4.58s\tremaining: 1m\n",
            "70:\tlearn: 0.4897996\ttotal: 4.64s\tremaining: 1m\n",
            "71:\tlearn: 0.4876820\ttotal: 4.71s\tremaining: 1m\n",
            "72:\tlearn: 0.4856597\ttotal: 4.78s\tremaining: 1m\n",
            "73:\tlearn: 0.4837223\ttotal: 4.84s\tremaining: 1m\n",
            "74:\tlearn: 0.4816666\ttotal: 4.9s\tremaining: 1m\n",
            "75:\tlearn: 0.4797644\ttotal: 4.97s\tremaining: 1m\n",
            "76:\tlearn: 0.4782614\ttotal: 5.03s\tremaining: 1m\n",
            "77:\tlearn: 0.4766614\ttotal: 5.09s\tremaining: 1m\n",
            "78:\tlearn: 0.4748839\ttotal: 5.15s\tremaining: 1m\n",
            "79:\tlearn: 0.4731820\ttotal: 5.21s\tremaining: 60s\n",
            "80:\tlearn: 0.4715372\ttotal: 5.28s\tremaining: 59.9s\n",
            "81:\tlearn: 0.4698501\ttotal: 5.35s\tremaining: 59.9s\n",
            "82:\tlearn: 0.4685171\ttotal: 5.41s\tremaining: 59.8s\n",
            "83:\tlearn: 0.4672699\ttotal: 5.48s\tremaining: 59.7s\n",
            "84:\tlearn: 0.4650863\ttotal: 5.54s\tremaining: 59.6s\n",
            "85:\tlearn: 0.4637815\ttotal: 5.6s\tremaining: 59.6s\n",
            "86:\tlearn: 0.4620353\ttotal: 5.67s\tremaining: 59.5s\n",
            "87:\tlearn: 0.4608214\ttotal: 5.73s\tremaining: 59.4s\n",
            "88:\tlearn: 0.4594905\ttotal: 5.79s\tremaining: 59.3s\n",
            "89:\tlearn: 0.4577942\ttotal: 5.86s\tremaining: 59.2s\n",
            "90:\tlearn: 0.4559628\ttotal: 5.92s\tremaining: 59.1s\n",
            "91:\tlearn: 0.4541033\ttotal: 5.98s\tremaining: 59.1s\n",
            "92:\tlearn: 0.4528072\ttotal: 6.06s\tremaining: 59.1s\n",
            "93:\tlearn: 0.4509879\ttotal: 6.12s\tremaining: 59s\n",
            "94:\tlearn: 0.4500634\ttotal: 6.18s\tremaining: 58.9s\n",
            "95:\tlearn: 0.4483436\ttotal: 6.24s\tremaining: 58.8s\n",
            "96:\tlearn: 0.4470023\ttotal: 6.33s\tremaining: 58.9s\n",
            "97:\tlearn: 0.4450118\ttotal: 6.39s\tremaining: 58.8s\n",
            "98:\tlearn: 0.4435190\ttotal: 6.45s\tremaining: 58.7s\n",
            "99:\tlearn: 0.4422080\ttotal: 6.52s\tremaining: 58.6s\n",
            "100:\tlearn: 0.4408978\ttotal: 6.58s\tremaining: 58.6s\n",
            "101:\tlearn: 0.4388389\ttotal: 6.64s\tremaining: 58.5s\n",
            "102:\tlearn: 0.4372150\ttotal: 6.71s\tremaining: 58.4s\n",
            "103:\tlearn: 0.4362839\ttotal: 6.77s\tremaining: 58.3s\n",
            "104:\tlearn: 0.4347976\ttotal: 6.83s\tremaining: 58.2s\n",
            "105:\tlearn: 0.4333963\ttotal: 6.9s\tremaining: 58.2s\n",
            "106:\tlearn: 0.4317910\ttotal: 6.96s\tremaining: 58.1s\n",
            "107:\tlearn: 0.4302765\ttotal: 7.02s\tremaining: 58s\n",
            "108:\tlearn: 0.4289536\ttotal: 7.08s\tremaining: 57.9s\n",
            "109:\tlearn: 0.4275082\ttotal: 7.14s\tremaining: 57.8s\n",
            "110:\tlearn: 0.4258733\ttotal: 7.21s\tremaining: 57.7s\n",
            "111:\tlearn: 0.4244923\ttotal: 7.27s\tremaining: 57.6s\n",
            "112:\tlearn: 0.4229967\ttotal: 7.34s\tremaining: 57.6s\n",
            "113:\tlearn: 0.4213600\ttotal: 7.41s\tremaining: 57.6s\n",
            "114:\tlearn: 0.4203266\ttotal: 7.47s\tremaining: 57.5s\n",
            "115:\tlearn: 0.4189236\ttotal: 7.54s\tremaining: 57.4s\n",
            "116:\tlearn: 0.4177115\ttotal: 7.61s\tremaining: 57.4s\n",
            "117:\tlearn: 0.4160277\ttotal: 7.67s\tremaining: 57.3s\n",
            "118:\tlearn: 0.4150997\ttotal: 7.73s\tremaining: 57.3s\n",
            "119:\tlearn: 0.4137984\ttotal: 7.8s\tremaining: 57.2s\n",
            "120:\tlearn: 0.4125846\ttotal: 7.86s\tremaining: 57.1s\n",
            "121:\tlearn: 0.4113971\ttotal: 7.92s\tremaining: 57s\n",
            "122:\tlearn: 0.4100231\ttotal: 7.98s\tremaining: 56.9s\n",
            "123:\tlearn: 0.4085990\ttotal: 8.04s\tremaining: 56.8s\n",
            "124:\tlearn: 0.4071457\ttotal: 8.11s\tremaining: 56.8s\n",
            "125:\tlearn: 0.4060444\ttotal: 8.17s\tremaining: 56.7s\n",
            "126:\tlearn: 0.4051530\ttotal: 8.23s\tremaining: 56.6s\n",
            "127:\tlearn: 0.4040322\ttotal: 8.3s\tremaining: 56.5s\n",
            "128:\tlearn: 0.4027608\ttotal: 8.36s\tremaining: 56.5s\n",
            "129:\tlearn: 0.4019038\ttotal: 8.42s\tremaining: 56.4s\n",
            "130:\tlearn: 0.4008130\ttotal: 8.49s\tremaining: 56.3s\n",
            "131:\tlearn: 0.3998490\ttotal: 8.55s\tremaining: 56.2s\n",
            "132:\tlearn: 0.3985940\ttotal: 8.61s\tremaining: 56.2s\n",
            "133:\tlearn: 0.3973606\ttotal: 8.68s\tremaining: 56.1s\n",
            "134:\tlearn: 0.3959205\ttotal: 8.74s\tremaining: 56s\n",
            "135:\tlearn: 0.3948805\ttotal: 8.8s\tremaining: 55.9s\n",
            "136:\tlearn: 0.3940215\ttotal: 8.87s\tremaining: 55.8s\n",
            "137:\tlearn: 0.3930318\ttotal: 8.93s\tremaining: 55.8s\n",
            "138:\tlearn: 0.3921399\ttotal: 8.99s\tremaining: 55.7s\n",
            "139:\tlearn: 0.3910646\ttotal: 9.05s\tremaining: 55.6s\n",
            "140:\tlearn: 0.3899816\ttotal: 9.12s\tremaining: 55.6s\n",
            "141:\tlearn: 0.3888026\ttotal: 9.19s\tremaining: 55.5s\n",
            "142:\tlearn: 0.3878016\ttotal: 9.24s\tremaining: 55.4s\n",
            "143:\tlearn: 0.3872580\ttotal: 9.31s\tremaining: 55.4s\n",
            "144:\tlearn: 0.3861603\ttotal: 9.38s\tremaining: 55.3s\n",
            "145:\tlearn: 0.3851880\ttotal: 9.44s\tremaining: 55.2s\n",
            "146:\tlearn: 0.3838315\ttotal: 9.5s\tremaining: 55.1s\n",
            "147:\tlearn: 0.3825709\ttotal: 9.57s\tremaining: 55.1s\n",
            "148:\tlearn: 0.3809642\ttotal: 9.63s\tremaining: 55s\n",
            "149:\tlearn: 0.3800435\ttotal: 9.7s\tremaining: 55s\n",
            "150:\tlearn: 0.3789036\ttotal: 9.76s\tremaining: 54.9s\n",
            "151:\tlearn: 0.3778022\ttotal: 9.83s\tremaining: 54.8s\n",
            "152:\tlearn: 0.3767826\ttotal: 9.89s\tremaining: 54.8s\n",
            "153:\tlearn: 0.3758477\ttotal: 9.95s\tremaining: 54.7s\n",
            "154:\tlearn: 0.3749071\ttotal: 10s\tremaining: 54.6s\n",
            "155:\tlearn: 0.3738679\ttotal: 10.1s\tremaining: 54.5s\n",
            "156:\tlearn: 0.3726634\ttotal: 10.2s\tremaining: 54.5s\n",
            "157:\tlearn: 0.3716791\ttotal: 10.2s\tremaining: 54.4s\n",
            "158:\tlearn: 0.3706715\ttotal: 10.3s\tremaining: 54.3s\n",
            "159:\tlearn: 0.3698417\ttotal: 10.3s\tremaining: 54.3s\n",
            "160:\tlearn: 0.3688784\ttotal: 10.4s\tremaining: 54.2s\n",
            "161:\tlearn: 0.3677271\ttotal: 10.5s\tremaining: 54.2s\n",
            "162:\tlearn: 0.3668749\ttotal: 10.5s\tremaining: 54.1s\n",
            "163:\tlearn: 0.3660616\ttotal: 10.6s\tremaining: 54s\n",
            "164:\tlearn: 0.3652218\ttotal: 10.7s\tremaining: 53.9s\n",
            "165:\tlearn: 0.3644014\ttotal: 10.7s\tremaining: 53.9s\n",
            "166:\tlearn: 0.3639660\ttotal: 10.8s\tremaining: 53.8s\n",
            "167:\tlearn: 0.3626114\ttotal: 10.8s\tremaining: 53.7s\n",
            "168:\tlearn: 0.3617677\ttotal: 10.9s\tremaining: 53.6s\n",
            "169:\tlearn: 0.3610940\ttotal: 11s\tremaining: 53.5s\n",
            "170:\tlearn: 0.3601994\ttotal: 11s\tremaining: 53.5s\n",
            "171:\tlearn: 0.3589751\ttotal: 11.1s\tremaining: 53.4s\n",
            "172:\tlearn: 0.3584827\ttotal: 11.2s\tremaining: 53.4s\n",
            "173:\tlearn: 0.3577817\ttotal: 11.2s\tremaining: 53.3s\n",
            "174:\tlearn: 0.3570797\ttotal: 11.3s\tremaining: 53.2s\n",
            "175:\tlearn: 0.3561976\ttotal: 11.4s\tremaining: 53.1s\n",
            "176:\tlearn: 0.3556025\ttotal: 11.4s\tremaining: 53.1s\n",
            "177:\tlearn: 0.3546287\ttotal: 11.5s\tremaining: 53s\n",
            "178:\tlearn: 0.3538116\ttotal: 11.5s\tremaining: 52.9s\n",
            "179:\tlearn: 0.3530309\ttotal: 11.6s\tremaining: 52.9s\n",
            "180:\tlearn: 0.3517676\ttotal: 11.7s\tremaining: 52.8s\n",
            "181:\tlearn: 0.3510587\ttotal: 11.7s\tremaining: 52.7s\n",
            "182:\tlearn: 0.3502627\ttotal: 11.8s\tremaining: 52.7s\n",
            "183:\tlearn: 0.3493488\ttotal: 11.9s\tremaining: 52.6s\n",
            "184:\tlearn: 0.3482498\ttotal: 11.9s\tremaining: 52.5s\n",
            "185:\tlearn: 0.3475633\ttotal: 12s\tremaining: 52.5s\n",
            "186:\tlearn: 0.3467452\ttotal: 12s\tremaining: 52.4s\n",
            "187:\tlearn: 0.3459398\ttotal: 12.1s\tremaining: 52.3s\n",
            "188:\tlearn: 0.3450543\ttotal: 12.2s\tremaining: 52.3s\n",
            "189:\tlearn: 0.3442575\ttotal: 12.2s\tremaining: 52.2s\n",
            "190:\tlearn: 0.3434309\ttotal: 12.3s\tremaining: 52.2s\n",
            "191:\tlearn: 0.3427357\ttotal: 12.4s\tremaining: 52.1s\n",
            "192:\tlearn: 0.3420434\ttotal: 12.4s\tremaining: 52s\n",
            "193:\tlearn: 0.3408893\ttotal: 12.5s\tremaining: 52s\n",
            "194:\tlearn: 0.3404517\ttotal: 12.6s\tremaining: 51.9s\n",
            "195:\tlearn: 0.3396351\ttotal: 12.6s\tremaining: 51.9s\n",
            "196:\tlearn: 0.3386587\ttotal: 12.7s\tremaining: 51.8s\n",
            "197:\tlearn: 0.3377788\ttotal: 12.8s\tremaining: 51.8s\n",
            "198:\tlearn: 0.3370428\ttotal: 12.8s\tremaining: 51.7s\n",
            "199:\tlearn: 0.3362761\ttotal: 12.9s\tremaining: 51.6s\n",
            "200:\tlearn: 0.3355477\ttotal: 13s\tremaining: 51.6s\n",
            "201:\tlearn: 0.3343837\ttotal: 13s\tremaining: 51.5s\n",
            "202:\tlearn: 0.3332736\ttotal: 13.1s\tremaining: 51.5s\n",
            "203:\tlearn: 0.3323821\ttotal: 13.2s\tremaining: 51.5s\n",
            "204:\tlearn: 0.3315802\ttotal: 13.3s\tremaining: 51.4s\n",
            "205:\tlearn: 0.3310272\ttotal: 13.3s\tremaining: 51.4s\n",
            "206:\tlearn: 0.3301151\ttotal: 13.4s\tremaining: 51.3s\n",
            "207:\tlearn: 0.3294001\ttotal: 13.5s\tremaining: 51.4s\n",
            "208:\tlearn: 0.3287903\ttotal: 13.6s\tremaining: 51.3s\n",
            "209:\tlearn: 0.3280726\ttotal: 13.6s\tremaining: 51.3s\n",
            "210:\tlearn: 0.3275411\ttotal: 13.7s\tremaining: 51.2s\n",
            "211:\tlearn: 0.3264659\ttotal: 13.8s\tremaining: 51.1s\n",
            "212:\tlearn: 0.3257558\ttotal: 13.8s\tremaining: 51.1s\n",
            "213:\tlearn: 0.3250343\ttotal: 13.9s\tremaining: 51s\n",
            "214:\tlearn: 0.3242691\ttotal: 14s\tremaining: 51s\n",
            "215:\tlearn: 0.3234885\ttotal: 14s\tremaining: 50.9s\n",
            "216:\tlearn: 0.3229970\ttotal: 14.1s\tremaining: 50.9s\n",
            "217:\tlearn: 0.3223609\ttotal: 14.2s\tremaining: 50.8s\n",
            "218:\tlearn: 0.3217381\ttotal: 14.2s\tremaining: 50.8s\n",
            "219:\tlearn: 0.3207860\ttotal: 14.3s\tremaining: 50.7s\n",
            "220:\tlearn: 0.3201841\ttotal: 14.4s\tremaining: 50.7s\n",
            "221:\tlearn: 0.3195465\ttotal: 14.4s\tremaining: 50.6s\n",
            "222:\tlearn: 0.3189589\ttotal: 14.5s\tremaining: 50.5s\n",
            "223:\tlearn: 0.3183700\ttotal: 14.6s\tremaining: 50.5s\n",
            "224:\tlearn: 0.3177153\ttotal: 14.6s\tremaining: 50.4s\n",
            "225:\tlearn: 0.3170812\ttotal: 14.7s\tremaining: 50.4s\n",
            "226:\tlearn: 0.3162408\ttotal: 14.8s\tremaining: 50.3s\n",
            "227:\tlearn: 0.3154042\ttotal: 14.8s\tremaining: 50.2s\n",
            "228:\tlearn: 0.3147590\ttotal: 14.9s\tremaining: 50.1s\n",
            "229:\tlearn: 0.3142408\ttotal: 15s\tremaining: 50.1s\n",
            "230:\tlearn: 0.3136616\ttotal: 15s\tremaining: 50s\n",
            "231:\tlearn: 0.3131716\ttotal: 15.1s\tremaining: 49.9s\n",
            "232:\tlearn: 0.3125192\ttotal: 15.1s\tremaining: 49.9s\n",
            "233:\tlearn: 0.3120198\ttotal: 15.2s\tremaining: 49.8s\n",
            "234:\tlearn: 0.3115721\ttotal: 15.3s\tremaining: 49.7s\n",
            "235:\tlearn: 0.3112778\ttotal: 15.3s\tremaining: 49.7s\n",
            "236:\tlearn: 0.3106919\ttotal: 15.4s\tremaining: 49.6s\n",
            "237:\tlearn: 0.3102789\ttotal: 15.5s\tremaining: 49.6s\n",
            "238:\tlearn: 0.3095383\ttotal: 15.5s\tremaining: 49.5s\n",
            "239:\tlearn: 0.3088845\ttotal: 15.6s\tremaining: 49.4s\n",
            "240:\tlearn: 0.3082671\ttotal: 15.7s\tremaining: 49.4s\n",
            "241:\tlearn: 0.3076150\ttotal: 15.7s\tremaining: 49.3s\n",
            "242:\tlearn: 0.3071497\ttotal: 15.8s\tremaining: 49.2s\n",
            "243:\tlearn: 0.3066163\ttotal: 15.9s\tremaining: 49.1s\n",
            "244:\tlearn: 0.3057228\ttotal: 15.9s\tremaining: 49.1s\n",
            "245:\tlearn: 0.3049167\ttotal: 16s\tremaining: 49s\n",
            "246:\tlearn: 0.3045356\ttotal: 16.1s\tremaining: 48.9s\n",
            "247:\tlearn: 0.3039871\ttotal: 16.1s\tremaining: 48.9s\n",
            "248:\tlearn: 0.3035807\ttotal: 16.2s\tremaining: 48.8s\n",
            "249:\tlearn: 0.3029602\ttotal: 16.2s\tremaining: 48.7s\n",
            "250:\tlearn: 0.3023915\ttotal: 16.3s\tremaining: 48.7s\n",
            "251:\tlearn: 0.3016464\ttotal: 16.4s\tremaining: 48.6s\n",
            "252:\tlearn: 0.3007649\ttotal: 16.4s\tremaining: 48.6s\n",
            "253:\tlearn: 0.3002039\ttotal: 16.5s\tremaining: 48.5s\n",
            "254:\tlearn: 0.2995537\ttotal: 16.6s\tremaining: 48.5s\n",
            "255:\tlearn: 0.2987451\ttotal: 16.7s\tremaining: 48.4s\n",
            "256:\tlearn: 0.2983348\ttotal: 16.7s\tremaining: 48.3s\n",
            "257:\tlearn: 0.2976841\ttotal: 16.8s\tremaining: 48.3s\n",
            "258:\tlearn: 0.2970704\ttotal: 16.8s\tremaining: 48.2s\n",
            "259:\tlearn: 0.2965863\ttotal: 16.9s\tremaining: 48.2s\n",
            "260:\tlearn: 0.2958988\ttotal: 17s\tremaining: 48.1s\n",
            "261:\tlearn: 0.2949371\ttotal: 17s\tremaining: 48s\n",
            "262:\tlearn: 0.2940750\ttotal: 17.1s\tremaining: 48s\n",
            "263:\tlearn: 0.2932250\ttotal: 17.2s\tremaining: 47.9s\n",
            "264:\tlearn: 0.2926904\ttotal: 17.2s\tremaining: 47.8s\n",
            "265:\tlearn: 0.2921826\ttotal: 17.3s\tremaining: 47.7s\n",
            "266:\tlearn: 0.2917694\ttotal: 17.4s\tremaining: 47.7s\n",
            "267:\tlearn: 0.2912881\ttotal: 17.4s\tremaining: 47.6s\n",
            "268:\tlearn: 0.2908551\ttotal: 17.5s\tremaining: 47.6s\n",
            "269:\tlearn: 0.2903749\ttotal: 17.6s\tremaining: 47.5s\n",
            "270:\tlearn: 0.2900357\ttotal: 17.6s\tremaining: 47.4s\n",
            "271:\tlearn: 0.2895800\ttotal: 17.7s\tremaining: 47.4s\n",
            "272:\tlearn: 0.2891478\ttotal: 17.8s\tremaining: 47.3s\n",
            "273:\tlearn: 0.2883628\ttotal: 17.8s\tremaining: 47.3s\n",
            "274:\tlearn: 0.2876722\ttotal: 17.9s\tremaining: 47.2s\n",
            "275:\tlearn: 0.2871726\ttotal: 18s\tremaining: 47.1s\n",
            "276:\tlearn: 0.2866380\ttotal: 18s\tremaining: 47s\n",
            "277:\tlearn: 0.2861802\ttotal: 18.1s\tremaining: 47s\n",
            "278:\tlearn: 0.2856097\ttotal: 18.1s\tremaining: 46.9s\n",
            "279:\tlearn: 0.2852087\ttotal: 18.2s\tremaining: 46.8s\n",
            "280:\tlearn: 0.2848448\ttotal: 18.3s\tremaining: 46.8s\n",
            "281:\tlearn: 0.2841583\ttotal: 18.3s\tremaining: 46.7s\n",
            "282:\tlearn: 0.2836316\ttotal: 18.4s\tremaining: 46.6s\n",
            "283:\tlearn: 0.2831394\ttotal: 18.5s\tremaining: 46.6s\n",
            "284:\tlearn: 0.2827905\ttotal: 18.5s\tremaining: 46.5s\n",
            "285:\tlearn: 0.2819947\ttotal: 18.6s\tremaining: 46.4s\n",
            "286:\tlearn: 0.2811779\ttotal: 18.7s\tremaining: 46.4s\n",
            "287:\tlearn: 0.2804107\ttotal: 18.7s\tremaining: 46.3s\n",
            "288:\tlearn: 0.2799902\ttotal: 18.8s\tremaining: 46.3s\n",
            "289:\tlearn: 0.2794008\ttotal: 18.9s\tremaining: 46.2s\n",
            "290:\tlearn: 0.2787053\ttotal: 18.9s\tremaining: 46.1s\n",
            "291:\tlearn: 0.2781163\ttotal: 19s\tremaining: 46s\n",
            "292:\tlearn: 0.2774247\ttotal: 19s\tremaining: 46s\n",
            "293:\tlearn: 0.2769198\ttotal: 19.1s\tremaining: 45.9s\n",
            "294:\tlearn: 0.2762515\ttotal: 19.2s\tremaining: 45.8s\n",
            "295:\tlearn: 0.2754389\ttotal: 19.2s\tremaining: 45.8s\n",
            "296:\tlearn: 0.2748214\ttotal: 19.3s\tremaining: 45.7s\n",
            "297:\tlearn: 0.2739807\ttotal: 19.4s\tremaining: 45.6s\n",
            "298:\tlearn: 0.2733101\ttotal: 19.4s\tremaining: 45.6s\n",
            "299:\tlearn: 0.2727217\ttotal: 19.5s\tremaining: 45.5s\n",
            "300:\tlearn: 0.2724270\ttotal: 19.6s\tremaining: 45.4s\n",
            "301:\tlearn: 0.2717894\ttotal: 19.6s\tremaining: 45.3s\n",
            "302:\tlearn: 0.2712996\ttotal: 19.7s\tremaining: 45.3s\n",
            "303:\tlearn: 0.2709290\ttotal: 19.7s\tremaining: 45.2s\n",
            "304:\tlearn: 0.2704538\ttotal: 19.8s\tremaining: 45.1s\n",
            "305:\tlearn: 0.2700133\ttotal: 19.9s\tremaining: 45s\n",
            "306:\tlearn: 0.2697109\ttotal: 19.9s\tremaining: 45s\n",
            "307:\tlearn: 0.2691386\ttotal: 20s\tremaining: 44.9s\n",
            "308:\tlearn: 0.2685663\ttotal: 20.1s\tremaining: 44.8s\n",
            "309:\tlearn: 0.2681613\ttotal: 20.1s\tremaining: 44.8s\n",
            "310:\tlearn: 0.2678769\ttotal: 20.2s\tremaining: 44.7s\n",
            "311:\tlearn: 0.2672296\ttotal: 20.2s\tremaining: 44.6s\n",
            "312:\tlearn: 0.2666027\ttotal: 20.3s\tremaining: 44.5s\n",
            "313:\tlearn: 0.2662793\ttotal: 20.4s\tremaining: 44.5s\n",
            "314:\tlearn: 0.2658155\ttotal: 20.4s\tremaining: 44.4s\n",
            "315:\tlearn: 0.2651839\ttotal: 20.5s\tremaining: 44.3s\n",
            "316:\tlearn: 0.2647811\ttotal: 20.5s\tremaining: 44.3s\n",
            "317:\tlearn: 0.2642179\ttotal: 20.6s\tremaining: 44.2s\n",
            "318:\tlearn: 0.2639365\ttotal: 20.7s\tremaining: 44.1s\n",
            "319:\tlearn: 0.2635390\ttotal: 20.7s\tremaining: 44s\n",
            "320:\tlearn: 0.2629358\ttotal: 20.8s\tremaining: 44s\n",
            "321:\tlearn: 0.2625177\ttotal: 20.8s\tremaining: 43.9s\n",
            "322:\tlearn: 0.2621464\ttotal: 20.9s\tremaining: 43.8s\n",
            "323:\tlearn: 0.2618215\ttotal: 21s\tremaining: 43.7s\n",
            "324:\tlearn: 0.2612806\ttotal: 21s\tremaining: 43.7s\n",
            "325:\tlearn: 0.2609813\ttotal: 21.1s\tremaining: 43.6s\n",
            "326:\tlearn: 0.2606221\ttotal: 21.1s\tremaining: 43.5s\n",
            "327:\tlearn: 0.2603362\ttotal: 21.2s\tremaining: 43.4s\n",
            "328:\tlearn: 0.2596876\ttotal: 21.3s\tremaining: 43.4s\n",
            "329:\tlearn: 0.2592097\ttotal: 21.3s\tremaining: 43.3s\n",
            "330:\tlearn: 0.2587690\ttotal: 21.4s\tremaining: 43.2s\n",
            "331:\tlearn: 0.2584423\ttotal: 21.5s\tremaining: 43.2s\n",
            "332:\tlearn: 0.2581345\ttotal: 21.5s\tremaining: 43.1s\n",
            "333:\tlearn: 0.2578338\ttotal: 21.6s\tremaining: 43s\n",
            "334:\tlearn: 0.2574588\ttotal: 21.6s\tremaining: 43s\n",
            "335:\tlearn: 0.2571320\ttotal: 21.7s\tremaining: 42.9s\n",
            "336:\tlearn: 0.2565907\ttotal: 21.8s\tremaining: 42.8s\n",
            "337:\tlearn: 0.2560431\ttotal: 21.8s\tremaining: 42.7s\n",
            "338:\tlearn: 0.2555452\ttotal: 21.9s\tremaining: 42.7s\n",
            "339:\tlearn: 0.2550594\ttotal: 21.9s\tremaining: 42.6s\n",
            "340:\tlearn: 0.2546959\ttotal: 22s\tremaining: 42.5s\n",
            "341:\tlearn: 0.2543863\ttotal: 22.1s\tremaining: 42.4s\n",
            "342:\tlearn: 0.2541229\ttotal: 22.1s\tremaining: 42.4s\n",
            "343:\tlearn: 0.2538471\ttotal: 22.2s\tremaining: 42.3s\n",
            "344:\tlearn: 0.2533355\ttotal: 22.2s\tremaining: 42.2s\n",
            "345:\tlearn: 0.2528762\ttotal: 22.3s\tremaining: 42.2s\n",
            "346:\tlearn: 0.2526212\ttotal: 22.4s\tremaining: 42.1s\n",
            "347:\tlearn: 0.2523041\ttotal: 22.4s\tremaining: 42s\n",
            "348:\tlearn: 0.2520081\ttotal: 22.5s\tremaining: 42s\n",
            "349:\tlearn: 0.2515198\ttotal: 22.6s\tremaining: 41.9s\n",
            "350:\tlearn: 0.2510639\ttotal: 22.6s\tremaining: 41.8s\n",
            "351:\tlearn: 0.2507503\ttotal: 22.7s\tremaining: 41.8s\n",
            "352:\tlearn: 0.2504668\ttotal: 22.7s\tremaining: 41.7s\n",
            "353:\tlearn: 0.2501165\ttotal: 22.8s\tremaining: 41.6s\n",
            "354:\tlearn: 0.2497664\ttotal: 22.9s\tremaining: 41.6s\n",
            "355:\tlearn: 0.2495203\ttotal: 22.9s\tremaining: 41.5s\n",
            "356:\tlearn: 0.2493225\ttotal: 23s\tremaining: 41.4s\n",
            "357:\tlearn: 0.2490735\ttotal: 23.1s\tremaining: 41.3s\n",
            "358:\tlearn: 0.2486030\ttotal: 23.1s\tremaining: 41.3s\n",
            "359:\tlearn: 0.2481913\ttotal: 23.2s\tremaining: 41.2s\n",
            "360:\tlearn: 0.2479441\ttotal: 23.2s\tremaining: 41.1s\n",
            "361:\tlearn: 0.2475053\ttotal: 23.3s\tremaining: 41.1s\n",
            "362:\tlearn: 0.2470469\ttotal: 23.4s\tremaining: 41s\n",
            "363:\tlearn: 0.2467866\ttotal: 23.4s\tremaining: 40.9s\n",
            "364:\tlearn: 0.2464535\ttotal: 23.5s\tremaining: 40.9s\n",
            "365:\tlearn: 0.2460748\ttotal: 23.5s\tremaining: 40.8s\n",
            "366:\tlearn: 0.2458026\ttotal: 23.6s\tremaining: 40.7s\n",
            "367:\tlearn: 0.2455199\ttotal: 23.7s\tremaining: 40.7s\n",
            "368:\tlearn: 0.2450904\ttotal: 23.7s\tremaining: 40.6s\n",
            "369:\tlearn: 0.2447194\ttotal: 23.8s\tremaining: 40.5s\n",
            "370:\tlearn: 0.2444668\ttotal: 23.9s\tremaining: 40.4s\n",
            "371:\tlearn: 0.2439859\ttotal: 23.9s\tremaining: 40.4s\n",
            "372:\tlearn: 0.2437477\ttotal: 24s\tremaining: 40.3s\n",
            "373:\tlearn: 0.2434288\ttotal: 24.1s\tremaining: 40.3s\n",
            "374:\tlearn: 0.2430457\ttotal: 24.1s\tremaining: 40.2s\n",
            "375:\tlearn: 0.2427560\ttotal: 24.2s\tremaining: 40.1s\n",
            "376:\tlearn: 0.2424930\ttotal: 24.2s\tremaining: 40s\n",
            "377:\tlearn: 0.2420643\ttotal: 24.3s\tremaining: 40s\n",
            "378:\tlearn: 0.2417474\ttotal: 24.4s\tremaining: 39.9s\n",
            "379:\tlearn: 0.2413249\ttotal: 24.4s\tremaining: 39.8s\n",
            "380:\tlearn: 0.2409650\ttotal: 24.5s\tremaining: 39.8s\n",
            "381:\tlearn: 0.2407305\ttotal: 24.5s\tremaining: 39.7s\n",
            "382:\tlearn: 0.2404850\ttotal: 24.6s\tremaining: 39.6s\n",
            "383:\tlearn: 0.2403426\ttotal: 24.7s\tremaining: 39.6s\n",
            "384:\tlearn: 0.2398723\ttotal: 24.7s\tremaining: 39.5s\n",
            "385:\tlearn: 0.2394885\ttotal: 24.8s\tremaining: 39.4s\n",
            "386:\tlearn: 0.2391504\ttotal: 24.8s\tremaining: 39.4s\n",
            "387:\tlearn: 0.2387376\ttotal: 24.9s\tremaining: 39.3s\n",
            "388:\tlearn: 0.2384981\ttotal: 25s\tremaining: 39.2s\n",
            "389:\tlearn: 0.2382608\ttotal: 25s\tremaining: 39.1s\n",
            "390:\tlearn: 0.2378506\ttotal: 25.1s\tremaining: 39.1s\n",
            "391:\tlearn: 0.2374008\ttotal: 25.1s\tremaining: 39s\n",
            "392:\tlearn: 0.2371380\ttotal: 25.2s\tremaining: 38.9s\n",
            "393:\tlearn: 0.2367647\ttotal: 25.3s\tremaining: 38.8s\n",
            "394:\tlearn: 0.2365062\ttotal: 25.3s\tremaining: 38.8s\n",
            "395:\tlearn: 0.2362956\ttotal: 25.4s\tremaining: 38.7s\n",
            "396:\tlearn: 0.2360634\ttotal: 25.4s\tremaining: 38.6s\n",
            "397:\tlearn: 0.2356512\ttotal: 25.5s\tremaining: 38.6s\n",
            "398:\tlearn: 0.2352254\ttotal: 25.6s\tremaining: 38.5s\n",
            "399:\tlearn: 0.2347558\ttotal: 25.6s\tremaining: 38.5s\n",
            "400:\tlearn: 0.2344731\ttotal: 25.7s\tremaining: 38.4s\n",
            "401:\tlearn: 0.2342257\ttotal: 25.7s\tremaining: 38.3s\n",
            "402:\tlearn: 0.2340064\ttotal: 25.8s\tremaining: 38.2s\n",
            "403:\tlearn: 0.2337743\ttotal: 25.9s\tremaining: 38.2s\n",
            "404:\tlearn: 0.2334674\ttotal: 25.9s\tremaining: 38.1s\n",
            "405:\tlearn: 0.2330870\ttotal: 26s\tremaining: 38s\n",
            "406:\tlearn: 0.2328680\ttotal: 26.1s\tremaining: 38s\n",
            "407:\tlearn: 0.2326274\ttotal: 26.1s\tremaining: 37.9s\n",
            "408:\tlearn: 0.2323887\ttotal: 26.2s\tremaining: 37.8s\n",
            "409:\tlearn: 0.2320496\ttotal: 26.2s\tremaining: 37.7s\n",
            "410:\tlearn: 0.2315602\ttotal: 26.3s\tremaining: 37.7s\n",
            "411:\tlearn: 0.2312012\ttotal: 26.4s\tremaining: 37.6s\n",
            "412:\tlearn: 0.2309904\ttotal: 26.4s\tremaining: 37.5s\n",
            "413:\tlearn: 0.2305823\ttotal: 26.5s\tremaining: 37.5s\n",
            "414:\tlearn: 0.2300666\ttotal: 26.5s\tremaining: 37.4s\n",
            "415:\tlearn: 0.2298237\ttotal: 26.6s\tremaining: 37.3s\n",
            "416:\tlearn: 0.2295889\ttotal: 26.7s\tremaining: 37.3s\n",
            "417:\tlearn: 0.2293121\ttotal: 26.7s\tremaining: 37.2s\n",
            "418:\tlearn: 0.2290772\ttotal: 26.8s\tremaining: 37.1s\n",
            "419:\tlearn: 0.2288711\ttotal: 26.8s\tremaining: 37.1s\n",
            "420:\tlearn: 0.2286622\ttotal: 26.9s\tremaining: 37s\n",
            "421:\tlearn: 0.2284472\ttotal: 27s\tremaining: 36.9s\n",
            "422:\tlearn: 0.2280801\ttotal: 27s\tremaining: 36.9s\n",
            "423:\tlearn: 0.2277714\ttotal: 27.1s\tremaining: 36.8s\n",
            "424:\tlearn: 0.2274512\ttotal: 27.1s\tremaining: 36.7s\n",
            "425:\tlearn: 0.2272276\ttotal: 27.2s\tremaining: 36.7s\n",
            "426:\tlearn: 0.2270116\ttotal: 27.3s\tremaining: 36.6s\n",
            "427:\tlearn: 0.2266665\ttotal: 27.3s\tremaining: 36.5s\n",
            "428:\tlearn: 0.2263235\ttotal: 27.4s\tremaining: 36.5s\n",
            "429:\tlearn: 0.2261249\ttotal: 27.4s\tremaining: 36.4s\n",
            "430:\tlearn: 0.2256524\ttotal: 27.5s\tremaining: 36.3s\n",
            "431:\tlearn: 0.2253483\ttotal: 27.6s\tremaining: 36.3s\n",
            "432:\tlearn: 0.2251784\ttotal: 27.6s\tremaining: 36.2s\n",
            "433:\tlearn: 0.2250219\ttotal: 27.7s\tremaining: 36.1s\n",
            "434:\tlearn: 0.2248862\ttotal: 27.8s\tremaining: 36s\n",
            "435:\tlearn: 0.2247418\ttotal: 27.8s\tremaining: 36s\n",
            "436:\tlearn: 0.2245735\ttotal: 27.9s\tremaining: 35.9s\n",
            "437:\tlearn: 0.2244179\ttotal: 27.9s\tremaining: 35.8s\n",
            "438:\tlearn: 0.2241900\ttotal: 28s\tremaining: 35.8s\n",
            "439:\tlearn: 0.2239736\ttotal: 28s\tremaining: 35.7s\n",
            "440:\tlearn: 0.2237103\ttotal: 28.1s\tremaining: 35.6s\n",
            "441:\tlearn: 0.2233644\ttotal: 28.2s\tremaining: 35.6s\n",
            "442:\tlearn: 0.2231742\ttotal: 28.2s\tremaining: 35.5s\n",
            "443:\tlearn: 0.2230310\ttotal: 28.3s\tremaining: 35.4s\n",
            "444:\tlearn: 0.2227505\ttotal: 28.3s\tremaining: 35.4s\n",
            "445:\tlearn: 0.2224771\ttotal: 28.4s\tremaining: 35.3s\n",
            "446:\tlearn: 0.2221632\ttotal: 28.5s\tremaining: 35.2s\n",
            "447:\tlearn: 0.2219270\ttotal: 28.5s\tremaining: 35.2s\n",
            "448:\tlearn: 0.2217408\ttotal: 28.6s\tremaining: 35.1s\n",
            "449:\tlearn: 0.2214666\ttotal: 28.6s\tremaining: 35s\n",
            "450:\tlearn: 0.2212967\ttotal: 28.7s\tremaining: 35s\n",
            "451:\tlearn: 0.2210382\ttotal: 28.8s\tremaining: 34.9s\n",
            "452:\tlearn: 0.2207452\ttotal: 28.8s\tremaining: 34.8s\n",
            "453:\tlearn: 0.2204583\ttotal: 28.9s\tremaining: 34.7s\n",
            "454:\tlearn: 0.2202812\ttotal: 29s\tremaining: 34.7s\n",
            "455:\tlearn: 0.2200918\ttotal: 29s\tremaining: 34.6s\n",
            "456:\tlearn: 0.2197749\ttotal: 29.1s\tremaining: 34.5s\n",
            "457:\tlearn: 0.2193702\ttotal: 29.1s\tremaining: 34.5s\n",
            "458:\tlearn: 0.2190851\ttotal: 29.2s\tremaining: 34.4s\n",
            "459:\tlearn: 0.2187413\ttotal: 29.3s\tremaining: 34.4s\n",
            "460:\tlearn: 0.2184289\ttotal: 29.3s\tremaining: 34.3s\n",
            "461:\tlearn: 0.2181102\ttotal: 29.4s\tremaining: 34.2s\n",
            "462:\tlearn: 0.2178092\ttotal: 29.4s\tremaining: 34.2s\n",
            "463:\tlearn: 0.2175065\ttotal: 29.5s\tremaining: 34.1s\n",
            "464:\tlearn: 0.2173708\ttotal: 29.6s\tremaining: 34s\n",
            "465:\tlearn: 0.2171461\ttotal: 29.6s\tremaining: 34s\n",
            "466:\tlearn: 0.2168772\ttotal: 29.7s\tremaining: 33.9s\n",
            "467:\tlearn: 0.2166132\ttotal: 29.8s\tremaining: 33.8s\n",
            "468:\tlearn: 0.2164336\ttotal: 29.8s\tremaining: 33.8s\n",
            "469:\tlearn: 0.2161430\ttotal: 29.9s\tremaining: 33.7s\n",
            "470:\tlearn: 0.2160265\ttotal: 29.9s\tremaining: 33.6s\n",
            "471:\tlearn: 0.2157401\ttotal: 30s\tremaining: 33.6s\n",
            "472:\tlearn: 0.2155802\ttotal: 30.1s\tremaining: 33.5s\n",
            "473:\tlearn: 0.2153104\ttotal: 30.1s\tremaining: 33.4s\n",
            "474:\tlearn: 0.2151561\ttotal: 30.2s\tremaining: 33.4s\n",
            "475:\tlearn: 0.2148568\ttotal: 30.2s\tremaining: 33.3s\n",
            "476:\tlearn: 0.2146799\ttotal: 30.3s\tremaining: 33.2s\n",
            "477:\tlearn: 0.2144715\ttotal: 30.4s\tremaining: 33.1s\n",
            "478:\tlearn: 0.2143337\ttotal: 30.4s\tremaining: 33.1s\n",
            "479:\tlearn: 0.2138859\ttotal: 30.5s\tremaining: 33s\n",
            "480:\tlearn: 0.2137005\ttotal: 30.5s\tremaining: 33s\n",
            "481:\tlearn: 0.2135227\ttotal: 30.6s\tremaining: 32.9s\n",
            "482:\tlearn: 0.2133207\ttotal: 30.7s\tremaining: 32.8s\n",
            "483:\tlearn: 0.2131317\ttotal: 30.7s\tremaining: 32.8s\n",
            "484:\tlearn: 0.2128454\ttotal: 30.8s\tremaining: 32.7s\n",
            "485:\tlearn: 0.2126580\ttotal: 30.9s\tremaining: 32.6s\n",
            "486:\tlearn: 0.2124576\ttotal: 30.9s\tremaining: 32.6s\n",
            "487:\tlearn: 0.2123060\ttotal: 31s\tremaining: 32.5s\n",
            "488:\tlearn: 0.2121207\ttotal: 31s\tremaining: 32.4s\n",
            "489:\tlearn: 0.2119029\ttotal: 31.1s\tremaining: 32.4s\n",
            "490:\tlearn: 0.2117042\ttotal: 31.2s\tremaining: 32.3s\n",
            "491:\tlearn: 0.2113531\ttotal: 31.2s\tremaining: 32.2s\n",
            "492:\tlearn: 0.2112167\ttotal: 31.3s\tremaining: 32.2s\n",
            "493:\tlearn: 0.2109544\ttotal: 31.4s\tremaining: 32.1s\n",
            "494:\tlearn: 0.2107402\ttotal: 31.4s\tremaining: 32s\n",
            "495:\tlearn: 0.2105396\ttotal: 31.5s\tremaining: 32s\n",
            "496:\tlearn: 0.2103793\ttotal: 31.5s\tremaining: 31.9s\n",
            "497:\tlearn: 0.2101123\ttotal: 31.6s\tremaining: 31.9s\n",
            "498:\tlearn: 0.2098584\ttotal: 31.7s\tremaining: 31.8s\n",
            "499:\tlearn: 0.2096524\ttotal: 31.7s\tremaining: 31.7s\n",
            "500:\tlearn: 0.2094701\ttotal: 31.8s\tremaining: 31.7s\n",
            "501:\tlearn: 0.2092184\ttotal: 31.8s\tremaining: 31.6s\n",
            "502:\tlearn: 0.2089500\ttotal: 31.9s\tremaining: 31.5s\n",
            "503:\tlearn: 0.2088121\ttotal: 32s\tremaining: 31.5s\n",
            "504:\tlearn: 0.2086239\ttotal: 32s\tremaining: 31.4s\n",
            "505:\tlearn: 0.2084311\ttotal: 32.1s\tremaining: 31.3s\n",
            "506:\tlearn: 0.2083186\ttotal: 32.1s\tremaining: 31.3s\n",
            "507:\tlearn: 0.2082187\ttotal: 32.2s\tremaining: 31.2s\n",
            "508:\tlearn: 0.2080838\ttotal: 32.3s\tremaining: 31.1s\n",
            "509:\tlearn: 0.2078023\ttotal: 32.3s\tremaining: 31.1s\n",
            "510:\tlearn: 0.2076017\ttotal: 32.4s\tremaining: 31s\n",
            "511:\tlearn: 0.2074440\ttotal: 32.4s\tremaining: 30.9s\n",
            "512:\tlearn: 0.2073215\ttotal: 32.5s\tremaining: 30.8s\n",
            "513:\tlearn: 0.2070348\ttotal: 32.6s\tremaining: 30.8s\n",
            "514:\tlearn: 0.2068967\ttotal: 32.6s\tremaining: 30.7s\n",
            "515:\tlearn: 0.2067731\ttotal: 32.7s\tremaining: 30.7s\n",
            "516:\tlearn: 0.2065198\ttotal: 32.7s\tremaining: 30.6s\n",
            "517:\tlearn: 0.2062454\ttotal: 32.8s\tremaining: 30.5s\n",
            "518:\tlearn: 0.2059894\ttotal: 32.9s\tremaining: 30.5s\n",
            "519:\tlearn: 0.2058296\ttotal: 32.9s\tremaining: 30.4s\n",
            "520:\tlearn: 0.2057302\ttotal: 33s\tremaining: 30.3s\n",
            "521:\tlearn: 0.2055671\ttotal: 33s\tremaining: 30.2s\n",
            "522:\tlearn: 0.2053722\ttotal: 33.1s\tremaining: 30.2s\n",
            "523:\tlearn: 0.2051925\ttotal: 33.2s\tremaining: 30.1s\n",
            "524:\tlearn: 0.2049822\ttotal: 33.2s\tremaining: 30s\n",
            "525:\tlearn: 0.2047105\ttotal: 33.3s\tremaining: 30s\n",
            "526:\tlearn: 0.2044737\ttotal: 33.3s\tremaining: 29.9s\n",
            "527:\tlearn: 0.2041650\ttotal: 33.4s\tremaining: 29.9s\n",
            "528:\tlearn: 0.2038884\ttotal: 33.5s\tremaining: 29.8s\n",
            "529:\tlearn: 0.2037282\ttotal: 33.5s\tremaining: 29.7s\n",
            "530:\tlearn: 0.2034923\ttotal: 33.6s\tremaining: 29.7s\n",
            "531:\tlearn: 0.2031002\ttotal: 33.7s\tremaining: 29.6s\n",
            "532:\tlearn: 0.2029561\ttotal: 33.7s\tremaining: 29.5s\n",
            "533:\tlearn: 0.2028552\ttotal: 33.8s\tremaining: 29.5s\n",
            "534:\tlearn: 0.2025984\ttotal: 33.8s\tremaining: 29.4s\n",
            "535:\tlearn: 0.2023601\ttotal: 33.9s\tremaining: 29.3s\n",
            "536:\tlearn: 0.2021151\ttotal: 34s\tremaining: 29.3s\n",
            "537:\tlearn: 0.2019640\ttotal: 34s\tremaining: 29.2s\n",
            "538:\tlearn: 0.2018210\ttotal: 34.1s\tremaining: 29.1s\n",
            "539:\tlearn: 0.2016777\ttotal: 34.1s\tremaining: 29.1s\n",
            "540:\tlearn: 0.2014389\ttotal: 34.2s\tremaining: 29s\n",
            "541:\tlearn: 0.2012193\ttotal: 34.3s\tremaining: 28.9s\n",
            "542:\tlearn: 0.2009918\ttotal: 34.3s\tremaining: 28.9s\n",
            "543:\tlearn: 0.2008024\ttotal: 34.4s\tremaining: 28.8s\n",
            "544:\tlearn: 0.2006700\ttotal: 34.4s\tremaining: 28.8s\n",
            "545:\tlearn: 0.2005528\ttotal: 34.5s\tremaining: 28.7s\n",
            "546:\tlearn: 0.2004031\ttotal: 34.6s\tremaining: 28.6s\n",
            "547:\tlearn: 0.2002711\ttotal: 34.6s\tremaining: 28.6s\n",
            "548:\tlearn: 0.2001555\ttotal: 34.7s\tremaining: 28.5s\n",
            "549:\tlearn: 0.1998884\ttotal: 34.8s\tremaining: 28.4s\n",
            "550:\tlearn: 0.1995514\ttotal: 34.8s\tremaining: 28.4s\n",
            "551:\tlearn: 0.1993244\ttotal: 34.9s\tremaining: 28.3s\n",
            "552:\tlearn: 0.1991395\ttotal: 35s\tremaining: 28.3s\n",
            "553:\tlearn: 0.1989630\ttotal: 35s\tremaining: 28.2s\n",
            "554:\tlearn: 0.1987364\ttotal: 35.1s\tremaining: 28.1s\n",
            "555:\tlearn: 0.1984567\ttotal: 35.2s\tremaining: 28.1s\n",
            "556:\tlearn: 0.1983592\ttotal: 35.2s\tremaining: 28s\n",
            "557:\tlearn: 0.1981377\ttotal: 35.3s\tremaining: 27.9s\n",
            "558:\tlearn: 0.1979921\ttotal: 35.3s\tremaining: 27.9s\n",
            "559:\tlearn: 0.1978483\ttotal: 35.4s\tremaining: 27.8s\n",
            "560:\tlearn: 0.1975774\ttotal: 35.5s\tremaining: 27.7s\n",
            "561:\tlearn: 0.1974256\ttotal: 35.5s\tremaining: 27.7s\n",
            "562:\tlearn: 0.1971662\ttotal: 35.6s\tremaining: 27.6s\n",
            "563:\tlearn: 0.1969745\ttotal: 35.6s\tremaining: 27.6s\n",
            "564:\tlearn: 0.1968765\ttotal: 35.7s\tremaining: 27.5s\n",
            "565:\tlearn: 0.1967387\ttotal: 35.8s\tremaining: 27.4s\n",
            "566:\tlearn: 0.1965797\ttotal: 35.8s\tremaining: 27.4s\n",
            "567:\tlearn: 0.1964739\ttotal: 35.9s\tremaining: 27.3s\n",
            "568:\tlearn: 0.1963654\ttotal: 35.9s\tremaining: 27.2s\n",
            "569:\tlearn: 0.1962578\ttotal: 36s\tremaining: 27.1s\n",
            "570:\tlearn: 0.1960287\ttotal: 36.1s\tremaining: 27.1s\n",
            "571:\tlearn: 0.1958982\ttotal: 36.1s\tremaining: 27s\n",
            "572:\tlearn: 0.1957989\ttotal: 36.2s\tremaining: 27s\n",
            "573:\tlearn: 0.1954846\ttotal: 36.2s\tremaining: 26.9s\n",
            "574:\tlearn: 0.1953149\ttotal: 36.3s\tremaining: 26.8s\n",
            "575:\tlearn: 0.1950979\ttotal: 36.4s\tremaining: 26.8s\n",
            "576:\tlearn: 0.1949668\ttotal: 36.4s\tremaining: 26.7s\n",
            "577:\tlearn: 0.1947949\ttotal: 36.5s\tremaining: 26.6s\n",
            "578:\tlearn: 0.1946307\ttotal: 36.5s\tremaining: 26.6s\n",
            "579:\tlearn: 0.1944144\ttotal: 36.6s\tremaining: 26.5s\n",
            "580:\tlearn: 0.1942608\ttotal: 36.7s\tremaining: 26.4s\n",
            "581:\tlearn: 0.1941458\ttotal: 36.7s\tremaining: 26.4s\n",
            "582:\tlearn: 0.1940373\ttotal: 36.8s\tremaining: 26.3s\n",
            "583:\tlearn: 0.1939364\ttotal: 36.8s\tremaining: 26.2s\n",
            "584:\tlearn: 0.1937241\ttotal: 36.9s\tremaining: 26.2s\n",
            "585:\tlearn: 0.1934498\ttotal: 37s\tremaining: 26.1s\n",
            "586:\tlearn: 0.1933322\ttotal: 37s\tremaining: 26s\n",
            "587:\tlearn: 0.1931801\ttotal: 37.1s\tremaining: 26s\n",
            "588:\tlearn: 0.1929369\ttotal: 37.2s\tremaining: 25.9s\n",
            "589:\tlearn: 0.1928019\ttotal: 37.2s\tremaining: 25.9s\n",
            "590:\tlearn: 0.1926071\ttotal: 37.3s\tremaining: 25.8s\n",
            "591:\tlearn: 0.1923968\ttotal: 37.3s\tremaining: 25.7s\n",
            "592:\tlearn: 0.1922535\ttotal: 37.4s\tremaining: 25.7s\n",
            "593:\tlearn: 0.1920742\ttotal: 37.5s\tremaining: 25.6s\n",
            "594:\tlearn: 0.1919251\ttotal: 37.5s\tremaining: 25.5s\n",
            "595:\tlearn: 0.1917188\ttotal: 37.6s\tremaining: 25.5s\n",
            "596:\tlearn: 0.1915397\ttotal: 37.7s\tremaining: 25.4s\n",
            "597:\tlearn: 0.1913816\ttotal: 37.7s\tremaining: 25.3s\n",
            "598:\tlearn: 0.1912236\ttotal: 37.8s\tremaining: 25.3s\n",
            "599:\tlearn: 0.1909519\ttotal: 37.8s\tremaining: 25.2s\n",
            "600:\tlearn: 0.1908222\ttotal: 37.9s\tremaining: 25.2s\n",
            "601:\tlearn: 0.1906428\ttotal: 38s\tremaining: 25.1s\n",
            "602:\tlearn: 0.1904196\ttotal: 38s\tremaining: 25s\n",
            "603:\tlearn: 0.1902132\ttotal: 38.1s\tremaining: 25s\n",
            "604:\tlearn: 0.1900795\ttotal: 38.1s\tremaining: 24.9s\n",
            "605:\tlearn: 0.1899922\ttotal: 38.2s\tremaining: 24.8s\n",
            "606:\tlearn: 0.1898609\ttotal: 38.3s\tremaining: 24.8s\n",
            "607:\tlearn: 0.1897224\ttotal: 38.3s\tremaining: 24.7s\n",
            "608:\tlearn: 0.1896086\ttotal: 38.4s\tremaining: 24.6s\n",
            "609:\tlearn: 0.1895248\ttotal: 38.4s\tremaining: 24.6s\n",
            "610:\tlearn: 0.1894111\ttotal: 38.5s\tremaining: 24.5s\n",
            "611:\tlearn: 0.1893375\ttotal: 38.6s\tremaining: 24.4s\n",
            "612:\tlearn: 0.1892320\ttotal: 38.6s\tremaining: 24.4s\n",
            "613:\tlearn: 0.1890522\ttotal: 38.7s\tremaining: 24.3s\n",
            "614:\tlearn: 0.1887622\ttotal: 38.7s\tremaining: 24.3s\n",
            "615:\tlearn: 0.1885727\ttotal: 38.8s\tremaining: 24.2s\n",
            "616:\tlearn: 0.1884970\ttotal: 38.9s\tremaining: 24.1s\n",
            "617:\tlearn: 0.1883341\ttotal: 38.9s\tremaining: 24.1s\n",
            "618:\tlearn: 0.1882316\ttotal: 39s\tremaining: 24s\n",
            "619:\tlearn: 0.1881366\ttotal: 39s\tremaining: 23.9s\n",
            "620:\tlearn: 0.1880482\ttotal: 39.1s\tremaining: 23.9s\n",
            "621:\tlearn: 0.1879407\ttotal: 39.2s\tremaining: 23.8s\n",
            "622:\tlearn: 0.1877967\ttotal: 39.2s\tremaining: 23.7s\n",
            "623:\tlearn: 0.1876377\ttotal: 39.3s\tremaining: 23.7s\n",
            "624:\tlearn: 0.1875299\ttotal: 39.3s\tremaining: 23.6s\n",
            "625:\tlearn: 0.1873542\ttotal: 39.4s\tremaining: 23.5s\n",
            "626:\tlearn: 0.1872321\ttotal: 39.5s\tremaining: 23.5s\n",
            "627:\tlearn: 0.1870894\ttotal: 39.5s\tremaining: 23.4s\n",
            "628:\tlearn: 0.1869062\ttotal: 39.6s\tremaining: 23.4s\n",
            "629:\tlearn: 0.1867811\ttotal: 39.7s\tremaining: 23.3s\n",
            "630:\tlearn: 0.1866618\ttotal: 39.7s\tremaining: 23.2s\n",
            "631:\tlearn: 0.1864584\ttotal: 39.8s\tremaining: 23.2s\n",
            "632:\tlearn: 0.1863258\ttotal: 39.8s\tremaining: 23.1s\n",
            "633:\tlearn: 0.1862537\ttotal: 39.9s\tremaining: 23s\n",
            "634:\tlearn: 0.1860282\ttotal: 40s\tremaining: 23s\n",
            "635:\tlearn: 0.1859242\ttotal: 40s\tremaining: 22.9s\n",
            "636:\tlearn: 0.1858414\ttotal: 40.1s\tremaining: 22.8s\n",
            "637:\tlearn: 0.1856597\ttotal: 40.1s\tremaining: 22.8s\n",
            "638:\tlearn: 0.1855174\ttotal: 40.2s\tremaining: 22.7s\n",
            "639:\tlearn: 0.1854148\ttotal: 40.3s\tremaining: 22.6s\n",
            "640:\tlearn: 0.1853077\ttotal: 40.3s\tremaining: 22.6s\n",
            "641:\tlearn: 0.1852591\ttotal: 40.4s\tremaining: 22.5s\n",
            "642:\tlearn: 0.1851763\ttotal: 40.4s\tremaining: 22.5s\n",
            "643:\tlearn: 0.1850486\ttotal: 40.5s\tremaining: 22.4s\n",
            "644:\tlearn: 0.1848516\ttotal: 40.6s\tremaining: 22.3s\n",
            "645:\tlearn: 0.1847269\ttotal: 40.6s\tremaining: 22.3s\n",
            "646:\tlearn: 0.1846517\ttotal: 40.7s\tremaining: 22.2s\n",
            "647:\tlearn: 0.1844702\ttotal: 40.8s\tremaining: 22.1s\n",
            "648:\tlearn: 0.1843484\ttotal: 40.8s\tremaining: 22.1s\n",
            "649:\tlearn: 0.1842608\ttotal: 40.9s\tremaining: 22s\n",
            "650:\tlearn: 0.1841793\ttotal: 40.9s\tremaining: 21.9s\n",
            "651:\tlearn: 0.1840676\ttotal: 41s\tremaining: 21.9s\n",
            "652:\tlearn: 0.1840068\ttotal: 41.1s\tremaining: 21.8s\n",
            "653:\tlearn: 0.1838904\ttotal: 41.1s\tremaining: 21.7s\n",
            "654:\tlearn: 0.1837082\ttotal: 41.2s\tremaining: 21.7s\n",
            "655:\tlearn: 0.1835825\ttotal: 41.2s\tremaining: 21.6s\n",
            "656:\tlearn: 0.1835171\ttotal: 41.3s\tremaining: 21.6s\n",
            "657:\tlearn: 0.1833681\ttotal: 41.3s\tremaining: 21.5s\n",
            "658:\tlearn: 0.1832615\ttotal: 41.4s\tremaining: 21.4s\n",
            "659:\tlearn: 0.1832150\ttotal: 41.5s\tremaining: 21.4s\n",
            "660:\tlearn: 0.1831224\ttotal: 41.5s\tremaining: 21.3s\n",
            "661:\tlearn: 0.1829758\ttotal: 41.6s\tremaining: 21.2s\n",
            "662:\tlearn: 0.1828587\ttotal: 41.6s\tremaining: 21.2s\n",
            "663:\tlearn: 0.1826154\ttotal: 41.7s\tremaining: 21.1s\n",
            "664:\tlearn: 0.1825243\ttotal: 41.8s\tremaining: 21s\n",
            "665:\tlearn: 0.1824232\ttotal: 41.8s\tremaining: 21s\n",
            "666:\tlearn: 0.1823727\ttotal: 41.9s\tremaining: 20.9s\n",
            "667:\tlearn: 0.1822857\ttotal: 41.9s\tremaining: 20.8s\n",
            "668:\tlearn: 0.1821113\ttotal: 42s\tremaining: 20.8s\n",
            "669:\tlearn: 0.1820102\ttotal: 42.1s\tremaining: 20.7s\n",
            "670:\tlearn: 0.1818437\ttotal: 42.1s\tremaining: 20.7s\n",
            "671:\tlearn: 0.1817195\ttotal: 42.2s\tremaining: 20.6s\n",
            "672:\tlearn: 0.1815683\ttotal: 42.2s\tremaining: 20.5s\n",
            "673:\tlearn: 0.1814087\ttotal: 42.3s\tremaining: 20.5s\n",
            "674:\tlearn: 0.1812115\ttotal: 42.4s\tremaining: 20.4s\n",
            "675:\tlearn: 0.1810850\ttotal: 42.4s\tremaining: 20.3s\n",
            "676:\tlearn: 0.1809931\ttotal: 42.5s\tremaining: 20.3s\n",
            "677:\tlearn: 0.1808651\ttotal: 42.5s\tremaining: 20.2s\n",
            "678:\tlearn: 0.1807584\ttotal: 42.6s\tremaining: 20.1s\n",
            "679:\tlearn: 0.1806217\ttotal: 42.7s\tremaining: 20.1s\n",
            "680:\tlearn: 0.1805128\ttotal: 42.7s\tremaining: 20s\n",
            "681:\tlearn: 0.1803468\ttotal: 42.8s\tremaining: 20s\n",
            "682:\tlearn: 0.1802240\ttotal: 42.9s\tremaining: 19.9s\n",
            "683:\tlearn: 0.1801750\ttotal: 42.9s\tremaining: 19.8s\n",
            "684:\tlearn: 0.1801327\ttotal: 43s\tremaining: 19.8s\n",
            "685:\tlearn: 0.1800146\ttotal: 43s\tremaining: 19.7s\n",
            "686:\tlearn: 0.1799469\ttotal: 43.1s\tremaining: 19.6s\n",
            "687:\tlearn: 0.1798058\ttotal: 43.2s\tremaining: 19.6s\n",
            "688:\tlearn: 0.1797188\ttotal: 43.2s\tremaining: 19.5s\n",
            "689:\tlearn: 0.1795468\ttotal: 43.3s\tremaining: 19.4s\n",
            "690:\tlearn: 0.1793699\ttotal: 43.3s\tremaining: 19.4s\n",
            "691:\tlearn: 0.1792906\ttotal: 43.4s\tremaining: 19.3s\n",
            "692:\tlearn: 0.1792182\ttotal: 43.5s\tremaining: 19.3s\n",
            "693:\tlearn: 0.1791324\ttotal: 43.5s\tremaining: 19.2s\n",
            "694:\tlearn: 0.1790182\ttotal: 43.6s\tremaining: 19.1s\n",
            "695:\tlearn: 0.1789086\ttotal: 43.6s\tremaining: 19.1s\n",
            "696:\tlearn: 0.1787995\ttotal: 43.7s\tremaining: 19s\n",
            "697:\tlearn: 0.1787302\ttotal: 43.8s\tremaining: 18.9s\n",
            "698:\tlearn: 0.1786725\ttotal: 43.8s\tremaining: 18.9s\n",
            "699:\tlearn: 0.1785637\ttotal: 43.9s\tremaining: 18.8s\n",
            "700:\tlearn: 0.1785036\ttotal: 43.9s\tremaining: 18.7s\n",
            "701:\tlearn: 0.1783829\ttotal: 44s\tremaining: 18.7s\n",
            "702:\tlearn: 0.1783277\ttotal: 44.1s\tremaining: 18.6s\n",
            "703:\tlearn: 0.1782727\ttotal: 44.1s\tremaining: 18.6s\n",
            "704:\tlearn: 0.1781841\ttotal: 44.2s\tremaining: 18.5s\n",
            "705:\tlearn: 0.1780029\ttotal: 44.2s\tremaining: 18.4s\n",
            "706:\tlearn: 0.1779161\ttotal: 44.3s\tremaining: 18.4s\n",
            "707:\tlearn: 0.1777512\ttotal: 44.4s\tremaining: 18.3s\n",
            "708:\tlearn: 0.1775757\ttotal: 44.5s\tremaining: 18.3s\n",
            "709:\tlearn: 0.1774932\ttotal: 44.5s\tremaining: 18.2s\n",
            "710:\tlearn: 0.1773983\ttotal: 44.6s\tremaining: 18.1s\n",
            "711:\tlearn: 0.1772970\ttotal: 44.7s\tremaining: 18.1s\n",
            "712:\tlearn: 0.1771994\ttotal: 44.7s\tremaining: 18s\n",
            "713:\tlearn: 0.1771147\ttotal: 44.8s\tremaining: 17.9s\n",
            "714:\tlearn: 0.1769515\ttotal: 44.8s\tremaining: 17.9s\n",
            "715:\tlearn: 0.1768360\ttotal: 44.9s\tremaining: 17.8s\n",
            "716:\tlearn: 0.1767489\ttotal: 45s\tremaining: 17.7s\n",
            "717:\tlearn: 0.1766522\ttotal: 45s\tremaining: 17.7s\n",
            "718:\tlearn: 0.1765592\ttotal: 45.1s\tremaining: 17.6s\n",
            "719:\tlearn: 0.1764394\ttotal: 45.1s\tremaining: 17.6s\n",
            "720:\tlearn: 0.1762992\ttotal: 45.2s\tremaining: 17.5s\n",
            "721:\tlearn: 0.1761598\ttotal: 45.3s\tremaining: 17.4s\n",
            "722:\tlearn: 0.1760704\ttotal: 45.3s\tremaining: 17.4s\n",
            "723:\tlearn: 0.1759559\ttotal: 45.4s\tremaining: 17.3s\n",
            "724:\tlearn: 0.1758606\ttotal: 45.4s\tremaining: 17.2s\n",
            "725:\tlearn: 0.1757616\ttotal: 45.5s\tremaining: 17.2s\n",
            "726:\tlearn: 0.1756360\ttotal: 45.6s\tremaining: 17.1s\n",
            "727:\tlearn: 0.1754442\ttotal: 45.6s\tremaining: 17.1s\n",
            "728:\tlearn: 0.1754033\ttotal: 45.7s\tremaining: 17s\n",
            "729:\tlearn: 0.1752986\ttotal: 45.8s\tremaining: 16.9s\n",
            "730:\tlearn: 0.1752348\ttotal: 45.8s\tremaining: 16.9s\n",
            "731:\tlearn: 0.1751643\ttotal: 45.9s\tremaining: 16.8s\n",
            "732:\tlearn: 0.1750903\ttotal: 46s\tremaining: 16.7s\n",
            "733:\tlearn: 0.1749257\ttotal: 46s\tremaining: 16.7s\n",
            "734:\tlearn: 0.1748071\ttotal: 46.1s\tremaining: 16.6s\n",
            "735:\tlearn: 0.1747459\ttotal: 46.1s\tremaining: 16.5s\n",
            "736:\tlearn: 0.1746352\ttotal: 46.2s\tremaining: 16.5s\n",
            "737:\tlearn: 0.1745009\ttotal: 46.3s\tremaining: 16.4s\n",
            "738:\tlearn: 0.1744193\ttotal: 46.3s\tremaining: 16.4s\n",
            "739:\tlearn: 0.1743532\ttotal: 46.4s\tremaining: 16.3s\n",
            "740:\tlearn: 0.1742660\ttotal: 46.4s\tremaining: 16.2s\n",
            "741:\tlearn: 0.1741744\ttotal: 46.5s\tremaining: 16.2s\n",
            "742:\tlearn: 0.1740501\ttotal: 46.6s\tremaining: 16.1s\n",
            "743:\tlearn: 0.1738891\ttotal: 46.6s\tremaining: 16s\n",
            "744:\tlearn: 0.1737129\ttotal: 46.7s\tremaining: 16s\n",
            "745:\tlearn: 0.1736209\ttotal: 46.8s\tremaining: 15.9s\n",
            "746:\tlearn: 0.1735229\ttotal: 46.8s\tremaining: 15.9s\n",
            "747:\tlearn: 0.1734401\ttotal: 46.9s\tremaining: 15.8s\n",
            "748:\tlearn: 0.1733027\ttotal: 46.9s\tremaining: 15.7s\n",
            "749:\tlearn: 0.1732351\ttotal: 47s\tremaining: 15.7s\n",
            "750:\tlearn: 0.1731137\ttotal: 47.1s\tremaining: 15.6s\n",
            "751:\tlearn: 0.1729372\ttotal: 47.1s\tremaining: 15.5s\n",
            "752:\tlearn: 0.1728621\ttotal: 47.2s\tremaining: 15.5s\n",
            "753:\tlearn: 0.1727864\ttotal: 47.2s\tremaining: 15.4s\n",
            "754:\tlearn: 0.1726946\ttotal: 47.3s\tremaining: 15.3s\n",
            "755:\tlearn: 0.1726578\ttotal: 47.4s\tremaining: 15.3s\n",
            "756:\tlearn: 0.1725913\ttotal: 47.4s\tremaining: 15.2s\n",
            "757:\tlearn: 0.1724867\ttotal: 47.5s\tremaining: 15.2s\n",
            "758:\tlearn: 0.1724042\ttotal: 47.5s\tremaining: 15.1s\n",
            "759:\tlearn: 0.1722815\ttotal: 47.6s\tremaining: 15s\n",
            "760:\tlearn: 0.1722037\ttotal: 47.6s\tremaining: 15s\n",
            "761:\tlearn: 0.1721418\ttotal: 47.7s\tremaining: 14.9s\n",
            "762:\tlearn: 0.1720861\ttotal: 47.8s\tremaining: 14.8s\n",
            "763:\tlearn: 0.1719793\ttotal: 47.8s\tremaining: 14.8s\n",
            "764:\tlearn: 0.1718328\ttotal: 47.9s\tremaining: 14.7s\n",
            "765:\tlearn: 0.1717818\ttotal: 48s\tremaining: 14.7s\n",
            "766:\tlearn: 0.1717193\ttotal: 48s\tremaining: 14.6s\n",
            "767:\tlearn: 0.1716514\ttotal: 48.1s\tremaining: 14.5s\n",
            "768:\tlearn: 0.1715876\ttotal: 48.2s\tremaining: 14.5s\n",
            "769:\tlearn: 0.1714177\ttotal: 48.2s\tremaining: 14.4s\n",
            "770:\tlearn: 0.1712766\ttotal: 48.3s\tremaining: 14.3s\n",
            "771:\tlearn: 0.1712070\ttotal: 48.3s\tremaining: 14.3s\n",
            "772:\tlearn: 0.1710644\ttotal: 48.4s\tremaining: 14.2s\n",
            "773:\tlearn: 0.1709425\ttotal: 48.5s\tremaining: 14.1s\n",
            "774:\tlearn: 0.1708408\ttotal: 48.5s\tremaining: 14.1s\n",
            "775:\tlearn: 0.1707054\ttotal: 48.6s\tremaining: 14s\n",
            "776:\tlearn: 0.1705838\ttotal: 48.6s\tremaining: 14s\n",
            "777:\tlearn: 0.1705325\ttotal: 48.7s\tremaining: 13.9s\n",
            "778:\tlearn: 0.1704712\ttotal: 48.8s\tremaining: 13.8s\n",
            "779:\tlearn: 0.1703742\ttotal: 48.8s\tremaining: 13.8s\n",
            "780:\tlearn: 0.1702814\ttotal: 48.9s\tremaining: 13.7s\n",
            "781:\tlearn: 0.1700768\ttotal: 49s\tremaining: 13.6s\n",
            "782:\tlearn: 0.1699166\ttotal: 49s\tremaining: 13.6s\n",
            "783:\tlearn: 0.1698740\ttotal: 49.1s\tremaining: 13.5s\n",
            "784:\tlearn: 0.1698169\ttotal: 49.1s\tremaining: 13.5s\n",
            "785:\tlearn: 0.1697745\ttotal: 49.2s\tremaining: 13.4s\n",
            "786:\tlearn: 0.1696543\ttotal: 49.3s\tremaining: 13.3s\n",
            "787:\tlearn: 0.1695786\ttotal: 49.3s\tremaining: 13.3s\n",
            "788:\tlearn: 0.1695118\ttotal: 49.4s\tremaining: 13.2s\n",
            "789:\tlearn: 0.1693742\ttotal: 49.4s\tremaining: 13.1s\n",
            "790:\tlearn: 0.1692794\ttotal: 49.5s\tremaining: 13.1s\n",
            "791:\tlearn: 0.1690618\ttotal: 49.6s\tremaining: 13s\n",
            "792:\tlearn: 0.1690019\ttotal: 49.6s\tremaining: 13s\n",
            "793:\tlearn: 0.1688213\ttotal: 49.7s\tremaining: 12.9s\n",
            "794:\tlearn: 0.1687416\ttotal: 49.8s\tremaining: 12.8s\n",
            "795:\tlearn: 0.1686824\ttotal: 49.8s\tremaining: 12.8s\n",
            "796:\tlearn: 0.1685281\ttotal: 49.9s\tremaining: 12.7s\n",
            "797:\tlearn: 0.1683933\ttotal: 49.9s\tremaining: 12.6s\n",
            "798:\tlearn: 0.1682840\ttotal: 50s\tremaining: 12.6s\n",
            "799:\tlearn: 0.1681340\ttotal: 50.1s\tremaining: 12.5s\n",
            "800:\tlearn: 0.1680871\ttotal: 50.1s\tremaining: 12.5s\n",
            "801:\tlearn: 0.1680339\ttotal: 50.2s\tremaining: 12.4s\n",
            "802:\tlearn: 0.1679676\ttotal: 50.3s\tremaining: 12.3s\n",
            "803:\tlearn: 0.1678743\ttotal: 50.3s\tremaining: 12.3s\n",
            "804:\tlearn: 0.1677610\ttotal: 50.4s\tremaining: 12.2s\n",
            "805:\tlearn: 0.1676958\ttotal: 50.4s\tremaining: 12.1s\n",
            "806:\tlearn: 0.1674739\ttotal: 50.5s\tremaining: 12.1s\n",
            "807:\tlearn: 0.1673248\ttotal: 50.6s\tremaining: 12s\n",
            "808:\tlearn: 0.1672734\ttotal: 50.6s\tremaining: 12s\n",
            "809:\tlearn: 0.1672316\ttotal: 50.7s\tremaining: 11.9s\n",
            "810:\tlearn: 0.1671228\ttotal: 50.8s\tremaining: 11.8s\n",
            "811:\tlearn: 0.1670529\ttotal: 50.8s\tremaining: 11.8s\n",
            "812:\tlearn: 0.1669724\ttotal: 50.9s\tremaining: 11.7s\n",
            "813:\tlearn: 0.1669087\ttotal: 51s\tremaining: 11.6s\n",
            "814:\tlearn: 0.1668693\ttotal: 51s\tremaining: 11.6s\n",
            "815:\tlearn: 0.1668324\ttotal: 51.1s\tremaining: 11.5s\n",
            "816:\tlearn: 0.1667761\ttotal: 51.1s\tremaining: 11.5s\n",
            "817:\tlearn: 0.1667287\ttotal: 51.2s\tremaining: 11.4s\n",
            "818:\tlearn: 0.1666732\ttotal: 51.3s\tremaining: 11.3s\n",
            "819:\tlearn: 0.1665991\ttotal: 51.3s\tremaining: 11.3s\n",
            "820:\tlearn: 0.1665425\ttotal: 51.4s\tremaining: 11.2s\n",
            "821:\tlearn: 0.1664485\ttotal: 51.5s\tremaining: 11.1s\n",
            "822:\tlearn: 0.1663063\ttotal: 51.5s\tremaining: 11.1s\n",
            "823:\tlearn: 0.1662840\ttotal: 51.6s\tremaining: 11s\n",
            "824:\tlearn: 0.1662247\ttotal: 51.6s\tremaining: 11s\n",
            "825:\tlearn: 0.1659851\ttotal: 51.7s\tremaining: 10.9s\n",
            "826:\tlearn: 0.1659363\ttotal: 51.8s\tremaining: 10.8s\n",
            "827:\tlearn: 0.1658274\ttotal: 51.8s\tremaining: 10.8s\n",
            "828:\tlearn: 0.1657653\ttotal: 51.9s\tremaining: 10.7s\n",
            "829:\tlearn: 0.1657295\ttotal: 52s\tremaining: 10.6s\n",
            "830:\tlearn: 0.1656773\ttotal: 52s\tremaining: 10.6s\n",
            "831:\tlearn: 0.1656213\ttotal: 52.1s\tremaining: 10.5s\n",
            "832:\tlearn: 0.1655480\ttotal: 52.1s\tremaining: 10.5s\n",
            "833:\tlearn: 0.1654994\ttotal: 52.2s\tremaining: 10.4s\n",
            "834:\tlearn: 0.1654519\ttotal: 52.3s\tremaining: 10.3s\n",
            "835:\tlearn: 0.1653824\ttotal: 52.3s\tremaining: 10.3s\n",
            "836:\tlearn: 0.1653224\ttotal: 52.4s\tremaining: 10.2s\n",
            "837:\tlearn: 0.1652292\ttotal: 52.5s\tremaining: 10.1s\n",
            "838:\tlearn: 0.1651540\ttotal: 52.5s\tremaining: 10.1s\n",
            "839:\tlearn: 0.1649313\ttotal: 52.6s\tremaining: 10s\n",
            "840:\tlearn: 0.1648890\ttotal: 52.6s\tremaining: 9.95s\n",
            "841:\tlearn: 0.1648677\ttotal: 52.7s\tremaining: 9.89s\n",
            "842:\tlearn: 0.1647424\ttotal: 52.8s\tremaining: 9.83s\n",
            "843:\tlearn: 0.1646686\ttotal: 52.8s\tremaining: 9.77s\n",
            "844:\tlearn: 0.1646135\ttotal: 52.9s\tremaining: 9.7s\n",
            "845:\tlearn: 0.1645932\ttotal: 53s\tremaining: 9.64s\n",
            "846:\tlearn: 0.1645482\ttotal: 53s\tremaining: 9.57s\n",
            "847:\tlearn: 0.1644991\ttotal: 53.1s\tremaining: 9.51s\n",
            "848:\tlearn: 0.1644096\ttotal: 53.1s\tremaining: 9.45s\n",
            "849:\tlearn: 0.1643835\ttotal: 53.2s\tremaining: 9.39s\n",
            "850:\tlearn: 0.1643196\ttotal: 53.3s\tremaining: 9.32s\n",
            "851:\tlearn: 0.1642832\ttotal: 53.3s\tremaining: 9.26s\n",
            "852:\tlearn: 0.1642399\ttotal: 53.4s\tremaining: 9.2s\n",
            "853:\tlearn: 0.1641735\ttotal: 53.4s\tremaining: 9.13s\n",
            "854:\tlearn: 0.1640569\ttotal: 53.5s\tremaining: 9.07s\n",
            "855:\tlearn: 0.1639586\ttotal: 53.6s\tremaining: 9.01s\n",
            "856:\tlearn: 0.1638742\ttotal: 53.6s\tremaining: 8.95s\n",
            "857:\tlearn: 0.1638114\ttotal: 53.7s\tremaining: 8.89s\n",
            "858:\tlearn: 0.1637432\ttotal: 53.8s\tremaining: 8.82s\n",
            "859:\tlearn: 0.1635943\ttotal: 53.8s\tremaining: 8.76s\n",
            "860:\tlearn: 0.1635603\ttotal: 53.9s\tremaining: 8.7s\n",
            "861:\tlearn: 0.1635023\ttotal: 54s\tremaining: 8.64s\n",
            "862:\tlearn: 0.1634645\ttotal: 54s\tremaining: 8.57s\n",
            "863:\tlearn: 0.1633902\ttotal: 54.1s\tremaining: 8.51s\n",
            "864:\tlearn: 0.1633399\ttotal: 54.1s\tremaining: 8.45s\n",
            "865:\tlearn: 0.1632588\ttotal: 54.2s\tremaining: 8.39s\n",
            "866:\tlearn: 0.1631879\ttotal: 54.3s\tremaining: 8.32s\n",
            "867:\tlearn: 0.1630672\ttotal: 54.3s\tremaining: 8.26s\n",
            "868:\tlearn: 0.1630345\ttotal: 54.4s\tremaining: 8.2s\n",
            "869:\tlearn: 0.1629217\ttotal: 54.5s\tremaining: 8.14s\n",
            "870:\tlearn: 0.1628665\ttotal: 54.5s\tremaining: 8.07s\n",
            "871:\tlearn: 0.1627931\ttotal: 54.6s\tremaining: 8.01s\n",
            "872:\tlearn: 0.1627350\ttotal: 54.6s\tremaining: 7.95s\n",
            "873:\tlearn: 0.1626661\ttotal: 54.7s\tremaining: 7.89s\n",
            "874:\tlearn: 0.1625688\ttotal: 54.8s\tremaining: 7.82s\n",
            "875:\tlearn: 0.1624677\ttotal: 54.8s\tremaining: 7.76s\n",
            "876:\tlearn: 0.1624225\ttotal: 54.9s\tremaining: 7.7s\n",
            "877:\tlearn: 0.1623915\ttotal: 54.9s\tremaining: 7.63s\n",
            "878:\tlearn: 0.1623135\ttotal: 55s\tremaining: 7.57s\n",
            "879:\tlearn: 0.1622483\ttotal: 55.1s\tremaining: 7.51s\n",
            "880:\tlearn: 0.1622059\ttotal: 55.1s\tremaining: 7.45s\n",
            "881:\tlearn: 0.1621232\ttotal: 55.2s\tremaining: 7.39s\n",
            "882:\tlearn: 0.1620157\ttotal: 55.3s\tremaining: 7.32s\n",
            "883:\tlearn: 0.1619759\ttotal: 55.3s\tremaining: 7.26s\n",
            "884:\tlearn: 0.1618796\ttotal: 55.4s\tremaining: 7.2s\n",
            "885:\tlearn: 0.1618442\ttotal: 55.4s\tremaining: 7.13s\n",
            "886:\tlearn: 0.1618084\ttotal: 55.5s\tremaining: 7.07s\n",
            "887:\tlearn: 0.1617889\ttotal: 55.6s\tremaining: 7.01s\n",
            "888:\tlearn: 0.1616786\ttotal: 55.6s\tremaining: 6.94s\n",
            "889:\tlearn: 0.1616544\ttotal: 55.7s\tremaining: 6.88s\n",
            "890:\tlearn: 0.1615725\ttotal: 55.8s\tremaining: 6.82s\n",
            "891:\tlearn: 0.1615065\ttotal: 55.8s\tremaining: 6.76s\n",
            "892:\tlearn: 0.1614513\ttotal: 55.9s\tremaining: 6.7s\n",
            "893:\tlearn: 0.1613993\ttotal: 55.9s\tremaining: 6.63s\n",
            "894:\tlearn: 0.1613276\ttotal: 56s\tremaining: 6.57s\n",
            "895:\tlearn: 0.1612950\ttotal: 56.1s\tremaining: 6.51s\n",
            "896:\tlearn: 0.1612656\ttotal: 56.1s\tremaining: 6.44s\n",
            "897:\tlearn: 0.1612187\ttotal: 56.2s\tremaining: 6.38s\n",
            "898:\tlearn: 0.1611479\ttotal: 56.2s\tremaining: 6.32s\n",
            "899:\tlearn: 0.1610631\ttotal: 56.3s\tremaining: 6.25s\n",
            "900:\tlearn: 0.1610444\ttotal: 56.4s\tremaining: 6.19s\n",
            "901:\tlearn: 0.1609370\ttotal: 56.4s\tremaining: 6.13s\n",
            "902:\tlearn: 0.1609088\ttotal: 56.5s\tremaining: 6.07s\n",
            "903:\tlearn: 0.1608694\ttotal: 56.6s\tremaining: 6.01s\n",
            "904:\tlearn: 0.1608287\ttotal: 56.7s\tremaining: 5.95s\n",
            "905:\tlearn: 0.1608008\ttotal: 56.7s\tremaining: 5.88s\n",
            "906:\tlearn: 0.1606784\ttotal: 56.8s\tremaining: 5.82s\n",
            "907:\tlearn: 0.1606517\ttotal: 56.8s\tremaining: 5.76s\n",
            "908:\tlearn: 0.1605963\ttotal: 56.9s\tremaining: 5.7s\n",
            "909:\tlearn: 0.1605724\ttotal: 57s\tremaining: 5.63s\n",
            "910:\tlearn: 0.1605207\ttotal: 57s\tremaining: 5.57s\n",
            "911:\tlearn: 0.1604155\ttotal: 57.1s\tremaining: 5.51s\n",
            "912:\tlearn: 0.1603298\ttotal: 57.2s\tremaining: 5.45s\n",
            "913:\tlearn: 0.1602347\ttotal: 57.2s\tremaining: 5.38s\n",
            "914:\tlearn: 0.1601896\ttotal: 57.3s\tremaining: 5.32s\n",
            "915:\tlearn: 0.1601386\ttotal: 57.3s\tremaining: 5.26s\n",
            "916:\tlearn: 0.1601109\ttotal: 57.4s\tremaining: 5.2s\n",
            "917:\tlearn: 0.1600084\ttotal: 57.5s\tremaining: 5.13s\n",
            "918:\tlearn: 0.1599815\ttotal: 57.5s\tremaining: 5.07s\n",
            "919:\tlearn: 0.1598674\ttotal: 57.6s\tremaining: 5.01s\n",
            "920:\tlearn: 0.1597604\ttotal: 57.7s\tremaining: 4.95s\n",
            "921:\tlearn: 0.1596843\ttotal: 57.7s\tremaining: 4.88s\n",
            "922:\tlearn: 0.1596328\ttotal: 57.8s\tremaining: 4.82s\n",
            "923:\tlearn: 0.1595488\ttotal: 57.9s\tremaining: 4.76s\n",
            "924:\tlearn: 0.1593872\ttotal: 57.9s\tremaining: 4.7s\n",
            "925:\tlearn: 0.1593340\ttotal: 58s\tremaining: 4.63s\n",
            "926:\tlearn: 0.1592715\ttotal: 58s\tremaining: 4.57s\n",
            "927:\tlearn: 0.1591894\ttotal: 58.1s\tremaining: 4.51s\n",
            "928:\tlearn: 0.1591250\ttotal: 58.2s\tremaining: 4.45s\n",
            "929:\tlearn: 0.1590478\ttotal: 58.2s\tremaining: 4.38s\n",
            "930:\tlearn: 0.1589955\ttotal: 58.3s\tremaining: 4.32s\n",
            "931:\tlearn: 0.1588628\ttotal: 58.4s\tremaining: 4.26s\n",
            "932:\tlearn: 0.1588048\ttotal: 58.4s\tremaining: 4.19s\n",
            "933:\tlearn: 0.1586977\ttotal: 58.5s\tremaining: 4.13s\n",
            "934:\tlearn: 0.1586068\ttotal: 58.5s\tremaining: 4.07s\n",
            "935:\tlearn: 0.1585177\ttotal: 58.6s\tremaining: 4.01s\n",
            "936:\tlearn: 0.1584831\ttotal: 58.7s\tremaining: 3.94s\n",
            "937:\tlearn: 0.1584340\ttotal: 58.7s\tremaining: 3.88s\n",
            "938:\tlearn: 0.1583751\ttotal: 58.8s\tremaining: 3.82s\n",
            "939:\tlearn: 0.1583297\ttotal: 58.9s\tremaining: 3.76s\n",
            "940:\tlearn: 0.1582659\ttotal: 58.9s\tremaining: 3.69s\n",
            "941:\tlearn: 0.1582230\ttotal: 59s\tremaining: 3.63s\n",
            "942:\tlearn: 0.1581562\ttotal: 59s\tremaining: 3.57s\n",
            "943:\tlearn: 0.1581259\ttotal: 59.1s\tremaining: 3.51s\n",
            "944:\tlearn: 0.1581070\ttotal: 59.2s\tremaining: 3.44s\n",
            "945:\tlearn: 0.1580488\ttotal: 59.2s\tremaining: 3.38s\n",
            "946:\tlearn: 0.1580028\ttotal: 59.3s\tremaining: 3.32s\n",
            "947:\tlearn: 0.1579358\ttotal: 59.3s\tremaining: 3.25s\n",
            "948:\tlearn: 0.1578990\ttotal: 59.4s\tremaining: 3.19s\n",
            "949:\tlearn: 0.1578619\ttotal: 59.5s\tremaining: 3.13s\n",
            "950:\tlearn: 0.1578282\ttotal: 59.5s\tremaining: 3.07s\n",
            "951:\tlearn: 0.1577908\ttotal: 59.6s\tremaining: 3s\n",
            "952:\tlearn: 0.1577506\ttotal: 59.6s\tremaining: 2.94s\n",
            "953:\tlearn: 0.1577228\ttotal: 59.7s\tremaining: 2.88s\n",
            "954:\tlearn: 0.1577032\ttotal: 59.8s\tremaining: 2.82s\n",
            "955:\tlearn: 0.1576595\ttotal: 59.8s\tremaining: 2.75s\n",
            "956:\tlearn: 0.1576136\ttotal: 59.9s\tremaining: 2.69s\n",
            "957:\tlearn: 0.1575700\ttotal: 60s\tremaining: 2.63s\n",
            "958:\tlearn: 0.1575551\ttotal: 1m\tremaining: 2.57s\n",
            "959:\tlearn: 0.1575421\ttotal: 1m\tremaining: 2.5s\n",
            "960:\tlearn: 0.1574471\ttotal: 1m\tremaining: 2.44s\n",
            "961:\tlearn: 0.1573548\ttotal: 1m\tremaining: 2.38s\n",
            "962:\tlearn: 0.1572707\ttotal: 1m\tremaining: 2.32s\n",
            "963:\tlearn: 0.1572399\ttotal: 1m\tremaining: 2.25s\n",
            "964:\tlearn: 0.1572208\ttotal: 1m\tremaining: 2.19s\n",
            "965:\tlearn: 0.1571308\ttotal: 1m\tremaining: 2.13s\n",
            "966:\tlearn: 0.1570226\ttotal: 1m\tremaining: 2.06s\n",
            "967:\tlearn: 0.1569942\ttotal: 1m\tremaining: 2s\n",
            "968:\tlearn: 0.1569183\ttotal: 1m\tremaining: 1.94s\n",
            "969:\tlearn: 0.1568708\ttotal: 1m\tremaining: 1.88s\n",
            "970:\tlearn: 0.1567872\ttotal: 1m\tremaining: 1.81s\n",
            "971:\tlearn: 0.1567127\ttotal: 1m\tremaining: 1.75s\n",
            "972:\tlearn: 0.1565915\ttotal: 1m\tremaining: 1.69s\n",
            "973:\tlearn: 0.1565296\ttotal: 1m\tremaining: 1.63s\n",
            "974:\tlearn: 0.1564448\ttotal: 1m 1s\tremaining: 1.56s\n",
            "975:\tlearn: 0.1563353\ttotal: 1m 1s\tremaining: 1.5s\n",
            "976:\tlearn: 0.1562913\ttotal: 1m 1s\tremaining: 1.44s\n",
            "977:\tlearn: 0.1562660\ttotal: 1m 1s\tremaining: 1.38s\n",
            "978:\tlearn: 0.1561690\ttotal: 1m 1s\tremaining: 1.31s\n",
            "979:\tlearn: 0.1561331\ttotal: 1m 1s\tremaining: 1.25s\n",
            "980:\tlearn: 0.1560831\ttotal: 1m 1s\tremaining: 1.19s\n",
            "981:\tlearn: 0.1560412\ttotal: 1m 1s\tremaining: 1.13s\n",
            "982:\tlearn: 0.1559721\ttotal: 1m 1s\tremaining: 1.06s\n",
            "983:\tlearn: 0.1559042\ttotal: 1m 1s\tremaining: 1s\n",
            "984:\tlearn: 0.1558834\ttotal: 1m 1s\tremaining: 938ms\n",
            "985:\tlearn: 0.1558081\ttotal: 1m 1s\tremaining: 876ms\n",
            "986:\tlearn: 0.1557461\ttotal: 1m 1s\tremaining: 813ms\n",
            "987:\tlearn: 0.1557339\ttotal: 1m 1s\tremaining: 751ms\n",
            "988:\tlearn: 0.1556812\ttotal: 1m 1s\tremaining: 688ms\n",
            "989:\tlearn: 0.1556083\ttotal: 1m 1s\tremaining: 625ms\n",
            "990:\tlearn: 0.1555631\ttotal: 1m 1s\tremaining: 563ms\n",
            "991:\tlearn: 0.1554874\ttotal: 1m 2s\tremaining: 500ms\n",
            "992:\tlearn: 0.1554297\ttotal: 1m 2s\tremaining: 438ms\n",
            "993:\tlearn: 0.1553877\ttotal: 1m 2s\tremaining: 375ms\n",
            "994:\tlearn: 0.1553467\ttotal: 1m 2s\tremaining: 313ms\n",
            "995:\tlearn: 0.1552932\ttotal: 1m 2s\tremaining: 250ms\n",
            "996:\tlearn: 0.1552694\ttotal: 1m 2s\tremaining: 188ms\n",
            "997:\tlearn: 0.1552389\ttotal: 1m 2s\tremaining: 125ms\n",
            "998:\tlearn: 0.1551438\ttotal: 1m 2s\tremaining: 62.5ms\n",
            "999:\tlearn: 0.1550833\ttotal: 1m 2s\tremaining: 0us\n",
            "Training Accuracy : 0.9998753490227363\n",
            "Testing Accuracy : 0.9554304601559676\n"
          ],
          "name": "stdout"
        }
      ]
    },
    {
      "cell_type": "code",
      "metadata": {
        "id": "n-1PKWdpxOTd"
      },
      "source": [
        ""
      ],
      "execution_count": null,
      "outputs": []
    },
    {
      "cell_type": "code",
      "metadata": {
        "id": "g3XPHjJ_xNSS"
      },
      "source": [
        ""
      ],
      "execution_count": null,
      "outputs": []
    },
    {
      "cell_type": "code",
      "metadata": {
        "id": "Aw0cNe61wCsh"
      },
      "source": [
        ""
      ],
      "execution_count": null,
      "outputs": []
    },
    {
      "cell_type": "code",
      "metadata": {
        "id": "CW8EAWNAwCpa"
      },
      "source": [
        ""
      ],
      "execution_count": null,
      "outputs": []
    },
    {
      "cell_type": "code",
      "metadata": {
        "id": "27ONXgrIKG89"
      },
      "source": [
        "combi = pd.concat([train, test]) "
      ],
      "execution_count": null,
      "outputs": []
    },
    {
      "cell_type": "code",
      "metadata": {
        "id": "yZtGEjwkKa6u",
        "colab": {
          "base_uri": "https://localhost:8080/",
          "height": 281
        },
        "outputId": "2bb96138-44c0-4711-cd93-f77edf869aa9"
      },
      "source": [
        "combi.head()"
      ],
      "execution_count": null,
      "outputs": [
        {
          "output_type": "execute_result",
          "data": {
            "text/html": [
              "<div>\n",
              "<style scoped>\n",
              "    .dataframe tbody tr th:only-of-type {\n",
              "        vertical-align: middle;\n",
              "    }\n",
              "\n",
              "    .dataframe tbody tr th {\n",
              "        vertical-align: top;\n",
              "    }\n",
              "\n",
              "    .dataframe thead th {\n",
              "        text-align: right;\n",
              "    }\n",
              "</style>\n",
              "<table border=\"1\" class=\"dataframe\">\n",
              "  <thead>\n",
              "    <tr style=\"text-align: right;\">\n",
              "      <th></th>\n",
              "      <th>employee_id</th>\n",
              "      <th>department</th>\n",
              "      <th>region</th>\n",
              "      <th>education</th>\n",
              "      <th>gender</th>\n",
              "      <th>recruitment_channel</th>\n",
              "      <th>no_of_trainings</th>\n",
              "      <th>age</th>\n",
              "      <th>previous_year_rating</th>\n",
              "      <th>length_of_service</th>\n",
              "      <th>KPIs_met &gt;80%</th>\n",
              "      <th>awards_won?</th>\n",
              "      <th>avg_training_score</th>\n",
              "      <th>is_promoted</th>\n",
              "    </tr>\n",
              "  </thead>\n",
              "  <tbody>\n",
              "    <tr>\n",
              "      <th>0</th>\n",
              "      <td>65438</td>\n",
              "      <td>Sales &amp; Marketing</td>\n",
              "      <td>region_7</td>\n",
              "      <td>Master's &amp; above</td>\n",
              "      <td>f</td>\n",
              "      <td>sourcing</td>\n",
              "      <td>1</td>\n",
              "      <td>35</td>\n",
              "      <td>5.0</td>\n",
              "      <td>8</td>\n",
              "      <td>1</td>\n",
              "      <td>0</td>\n",
              "      <td>49</td>\n",
              "      <td>0.0</td>\n",
              "    </tr>\n",
              "    <tr>\n",
              "      <th>1</th>\n",
              "      <td>65141</td>\n",
              "      <td>Operations</td>\n",
              "      <td>region_22</td>\n",
              "      <td>Bachelor's</td>\n",
              "      <td>m</td>\n",
              "      <td>other</td>\n",
              "      <td>1</td>\n",
              "      <td>30</td>\n",
              "      <td>5.0</td>\n",
              "      <td>4</td>\n",
              "      <td>0</td>\n",
              "      <td>0</td>\n",
              "      <td>60</td>\n",
              "      <td>0.0</td>\n",
              "    </tr>\n",
              "    <tr>\n",
              "      <th>2</th>\n",
              "      <td>7513</td>\n",
              "      <td>Sales &amp; Marketing</td>\n",
              "      <td>region_19</td>\n",
              "      <td>Bachelor's</td>\n",
              "      <td>m</td>\n",
              "      <td>sourcing</td>\n",
              "      <td>1</td>\n",
              "      <td>34</td>\n",
              "      <td>3.0</td>\n",
              "      <td>7</td>\n",
              "      <td>0</td>\n",
              "      <td>0</td>\n",
              "      <td>50</td>\n",
              "      <td>0.0</td>\n",
              "    </tr>\n",
              "    <tr>\n",
              "      <th>3</th>\n",
              "      <td>2542</td>\n",
              "      <td>Sales &amp; Marketing</td>\n",
              "      <td>region_23</td>\n",
              "      <td>Bachelor's</td>\n",
              "      <td>m</td>\n",
              "      <td>other</td>\n",
              "      <td>2</td>\n",
              "      <td>39</td>\n",
              "      <td>1.0</td>\n",
              "      <td>10</td>\n",
              "      <td>0</td>\n",
              "      <td>0</td>\n",
              "      <td>50</td>\n",
              "      <td>0.0</td>\n",
              "    </tr>\n",
              "    <tr>\n",
              "      <th>4</th>\n",
              "      <td>48945</td>\n",
              "      <td>Technology</td>\n",
              "      <td>region_26</td>\n",
              "      <td>Bachelor's</td>\n",
              "      <td>m</td>\n",
              "      <td>other</td>\n",
              "      <td>1</td>\n",
              "      <td>45</td>\n",
              "      <td>3.0</td>\n",
              "      <td>2</td>\n",
              "      <td>0</td>\n",
              "      <td>0</td>\n",
              "      <td>73</td>\n",
              "      <td>0.0</td>\n",
              "    </tr>\n",
              "  </tbody>\n",
              "</table>\n",
              "</div>"
            ],
            "text/plain": [
              "   employee_id         department  ... avg_training_score is_promoted\n",
              "0        65438  Sales & Marketing  ...                 49         0.0\n",
              "1        65141         Operations  ...                 60         0.0\n",
              "2         7513  Sales & Marketing  ...                 50         0.0\n",
              "3         2542  Sales & Marketing  ...                 50         0.0\n",
              "4        48945         Technology  ...                 73         0.0\n",
              "\n",
              "[5 rows x 14 columns]"
            ]
          },
          "metadata": {
            "tags": []
          },
          "execution_count": 241
        }
      ]
    },
    {
      "cell_type": "code",
      "metadata": {
        "id": "rGKsBBnAKdRY",
        "colab": {
          "base_uri": "https://localhost:8080/",
          "height": 284
        },
        "outputId": "d1037637-acf7-4515-b30a-d75cb5ffbed5"
      },
      "source": [
        "combi.isnull().sum()"
      ],
      "execution_count": null,
      "outputs": [
        {
          "output_type": "execute_result",
          "data": {
            "text/plain": [
              "employee_id                 0\n",
              "department                  0\n",
              "region                      0\n",
              "education                3443\n",
              "gender                      0\n",
              "recruitment_channel         0\n",
              "no_of_trainings             0\n",
              "age                         0\n",
              "previous_year_rating     5936\n",
              "length_of_service           0\n",
              "KPIs_met >80%               0\n",
              "awards_won?                 0\n",
              "avg_training_score          0\n",
              "is_promoted             23490\n",
              "dtype: int64"
            ]
          },
          "metadata": {
            "tags": []
          },
          "execution_count": 242
        }
      ]
    },
    {
      "cell_type": "code",
      "metadata": {
        "id": "nsbUMxC4Kh3S",
        "colab": {
          "base_uri": "https://localhost:8080/",
          "height": 88
        },
        "outputId": "fda61131-26f3-4192-8088-1883b8c5205b"
      },
      "source": [
        "combi['education'].value_counts()"
      ],
      "execution_count": null,
      "outputs": [
        {
          "output_type": "execute_result",
          "data": {
            "text/plain": [
              "Bachelor's          52247\n",
              "Master's & above    21429\n",
              "Below Secondary      1179\n",
              "Name: education, dtype: int64"
            ]
          },
          "metadata": {
            "tags": []
          },
          "execution_count": 243
        }
      ]
    },
    {
      "cell_type": "code",
      "metadata": {
        "id": "3CvJeG8FKvt_"
      },
      "source": [
        "combi['education'].fillna(\"Bachelor's\", inplace=True)"
      ],
      "execution_count": null,
      "outputs": []
    },
    {
      "cell_type": "code",
      "metadata": {
        "id": "iiexw_QPLUL6",
        "colab": {
          "base_uri": "https://localhost:8080/",
          "height": 284
        },
        "outputId": "8c250b90-7be2-4f3d-af76-92f193cac14e"
      },
      "source": [
        "combi.isnull().sum()"
      ],
      "execution_count": null,
      "outputs": [
        {
          "output_type": "execute_result",
          "data": {
            "text/plain": [
              "employee_id                 0\n",
              "department                  0\n",
              "region                      0\n",
              "education                   0\n",
              "gender                      0\n",
              "recruitment_channel         0\n",
              "no_of_trainings             0\n",
              "age                         0\n",
              "previous_year_rating     5936\n",
              "length_of_service           0\n",
              "KPIs_met >80%               0\n",
              "awards_won?                 0\n",
              "avg_training_score          0\n",
              "is_promoted             23490\n",
              "dtype: int64"
            ]
          },
          "metadata": {
            "tags": []
          },
          "execution_count": 245
        }
      ]
    },
    {
      "cell_type": "code",
      "metadata": {
        "id": "24lLE-teLYd6",
        "colab": {
          "base_uri": "https://localhost:8080/",
          "height": 124
        },
        "outputId": "34e87cef-3bae-47da-ecbe-b6180fd39900"
      },
      "source": [
        "combi['previous_year_rating'].value_counts()"
      ],
      "execution_count": null,
      "outputs": [
        {
          "output_type": "execute_result",
          "data": {
            "text/plain": [
              "3.0    26539\n",
              "5.0    16838\n",
              "4.0    14126\n",
              "1.0     8903\n",
              "2.0     5956\n",
              "Name: previous_year_rating, dtype: int64"
            ]
          },
          "metadata": {
            "tags": []
          },
          "execution_count": 246
        }
      ]
    },
    {
      "cell_type": "code",
      "metadata": {
        "id": "5AMwwsd4LnW-"
      },
      "source": [
        "combi['previous_year_rating'].fillna(3.0, inplace = True)"
      ],
      "execution_count": null,
      "outputs": []
    },
    {
      "cell_type": "code",
      "metadata": {
        "id": "KJ5h25fdMf5J",
        "colab": {
          "base_uri": "https://localhost:8080/",
          "height": 284
        },
        "outputId": "90f5917f-f521-438f-8591-7b55cfd9f86c"
      },
      "source": [
        "combi.isnull().sum()"
      ],
      "execution_count": null,
      "outputs": [
        {
          "output_type": "execute_result",
          "data": {
            "text/plain": [
              "employee_id                 0\n",
              "department                  0\n",
              "region                      0\n",
              "education                   0\n",
              "gender                      0\n",
              "recruitment_channel         0\n",
              "no_of_trainings             0\n",
              "age                         0\n",
              "previous_year_rating        0\n",
              "length_of_service           0\n",
              "KPIs_met >80%               0\n",
              "awards_won?                 0\n",
              "avg_training_score          0\n",
              "is_promoted             23490\n",
              "dtype: int64"
            ]
          },
          "metadata": {
            "tags": []
          },
          "execution_count": 248
        }
      ]
    },
    {
      "cell_type": "code",
      "metadata": {
        "id": "B5I2h1TSMj4T",
        "colab": {
          "base_uri": "https://localhost:8080/",
          "height": 284
        },
        "outputId": "fd27ac83-e847-4920-83f6-edca4a8a0997"
      },
      "source": [
        "combi.dtypes"
      ],
      "execution_count": null,
      "outputs": [
        {
          "output_type": "execute_result",
          "data": {
            "text/plain": [
              "employee_id               int64\n",
              "department               object\n",
              "region                   object\n",
              "education                object\n",
              "gender                   object\n",
              "recruitment_channel      object\n",
              "no_of_trainings           int64\n",
              "age                       int64\n",
              "previous_year_rating    float64\n",
              "length_of_service         int64\n",
              "KPIs_met >80%             int64\n",
              "awards_won?               int64\n",
              "avg_training_score        int64\n",
              "is_promoted             float64\n",
              "dtype: object"
            ]
          },
          "metadata": {
            "tags": []
          },
          "execution_count": 249
        }
      ]
    },
    {
      "cell_type": "code",
      "metadata": {
        "id": "mZ8TE7ZgM5Lr",
        "colab": {
          "base_uri": "https://localhost:8080/",
          "height": 195
        },
        "outputId": "749b049d-12e1-4ee6-fff7-963b614597c8"
      },
      "source": [
        "combi['department'].value_counts()"
      ],
      "execution_count": null,
      "outputs": [
        {
          "output_type": "execute_result",
          "data": {
            "text/plain": [
              "Sales & Marketing    24155\n",
              "Operations           16112\n",
              "Procurement          10158\n",
              "Technology           10149\n",
              "Analytics             7671\n",
              "Finance               3627\n",
              "HR                    3503\n",
              "Legal                 1484\n",
              "R&D                   1439\n",
              "Name: department, dtype: int64"
            ]
          },
          "metadata": {
            "tags": []
          },
          "execution_count": 250
        }
      ]
    },
    {
      "cell_type": "code",
      "metadata": {
        "id": "4SQfzjAXNOZ-"
      },
      "source": [
        " replace_values = {'Sales & Marketing' : 1, 'Operations' : 2, 'Procurement' : 3, 'Technology' : 4, 'Analytics' : 5, 'Finance' : 6, 'HR' : 7, 'Legal' : 8, 'R&D' : 9 }                                                                                          "
      ],
      "execution_count": null,
      "outputs": []
    },
    {
      "cell_type": "code",
      "metadata": {
        "id": "xVCGJ_0HO02G"
      },
      "source": [
        "combi = combi.replace({\"department\": replace_values})"
      ],
      "execution_count": null,
      "outputs": []
    },
    {
      "cell_type": "code",
      "metadata": {
        "id": "q-i9_xDoPC11",
        "colab": {
          "base_uri": "https://localhost:8080/",
          "height": 248
        },
        "outputId": "60e29c16-3c44-4b21-df1e-303a4dde37ac"
      },
      "source": [
        "combi.head()"
      ],
      "execution_count": null,
      "outputs": [
        {
          "output_type": "execute_result",
          "data": {
            "text/html": [
              "<div>\n",
              "<style scoped>\n",
              "    .dataframe tbody tr th:only-of-type {\n",
              "        vertical-align: middle;\n",
              "    }\n",
              "\n",
              "    .dataframe tbody tr th {\n",
              "        vertical-align: top;\n",
              "    }\n",
              "\n",
              "    .dataframe thead th {\n",
              "        text-align: right;\n",
              "    }\n",
              "</style>\n",
              "<table border=\"1\" class=\"dataframe\">\n",
              "  <thead>\n",
              "    <tr style=\"text-align: right;\">\n",
              "      <th></th>\n",
              "      <th>employee_id</th>\n",
              "      <th>department</th>\n",
              "      <th>region</th>\n",
              "      <th>education</th>\n",
              "      <th>gender</th>\n",
              "      <th>recruitment_channel</th>\n",
              "      <th>no_of_trainings</th>\n",
              "      <th>age</th>\n",
              "      <th>previous_year_rating</th>\n",
              "      <th>length_of_service</th>\n",
              "      <th>KPIs_met &gt;80%</th>\n",
              "      <th>awards_won?</th>\n",
              "      <th>avg_training_score</th>\n",
              "      <th>is_promoted</th>\n",
              "    </tr>\n",
              "  </thead>\n",
              "  <tbody>\n",
              "    <tr>\n",
              "      <th>0</th>\n",
              "      <td>65438</td>\n",
              "      <td>1</td>\n",
              "      <td>region_7</td>\n",
              "      <td>Master's &amp; above</td>\n",
              "      <td>f</td>\n",
              "      <td>sourcing</td>\n",
              "      <td>1</td>\n",
              "      <td>35</td>\n",
              "      <td>5.0</td>\n",
              "      <td>8</td>\n",
              "      <td>1</td>\n",
              "      <td>0</td>\n",
              "      <td>49</td>\n",
              "      <td>0.0</td>\n",
              "    </tr>\n",
              "    <tr>\n",
              "      <th>1</th>\n",
              "      <td>65141</td>\n",
              "      <td>2</td>\n",
              "      <td>region_22</td>\n",
              "      <td>Bachelor's</td>\n",
              "      <td>m</td>\n",
              "      <td>other</td>\n",
              "      <td>1</td>\n",
              "      <td>30</td>\n",
              "      <td>5.0</td>\n",
              "      <td>4</td>\n",
              "      <td>0</td>\n",
              "      <td>0</td>\n",
              "      <td>60</td>\n",
              "      <td>0.0</td>\n",
              "    </tr>\n",
              "    <tr>\n",
              "      <th>2</th>\n",
              "      <td>7513</td>\n",
              "      <td>1</td>\n",
              "      <td>region_19</td>\n",
              "      <td>Bachelor's</td>\n",
              "      <td>m</td>\n",
              "      <td>sourcing</td>\n",
              "      <td>1</td>\n",
              "      <td>34</td>\n",
              "      <td>3.0</td>\n",
              "      <td>7</td>\n",
              "      <td>0</td>\n",
              "      <td>0</td>\n",
              "      <td>50</td>\n",
              "      <td>0.0</td>\n",
              "    </tr>\n",
              "    <tr>\n",
              "      <th>3</th>\n",
              "      <td>2542</td>\n",
              "      <td>1</td>\n",
              "      <td>region_23</td>\n",
              "      <td>Bachelor's</td>\n",
              "      <td>m</td>\n",
              "      <td>other</td>\n",
              "      <td>2</td>\n",
              "      <td>39</td>\n",
              "      <td>1.0</td>\n",
              "      <td>10</td>\n",
              "      <td>0</td>\n",
              "      <td>0</td>\n",
              "      <td>50</td>\n",
              "      <td>0.0</td>\n",
              "    </tr>\n",
              "    <tr>\n",
              "      <th>4</th>\n",
              "      <td>48945</td>\n",
              "      <td>4</td>\n",
              "      <td>region_26</td>\n",
              "      <td>Bachelor's</td>\n",
              "      <td>m</td>\n",
              "      <td>other</td>\n",
              "      <td>1</td>\n",
              "      <td>45</td>\n",
              "      <td>3.0</td>\n",
              "      <td>2</td>\n",
              "      <td>0</td>\n",
              "      <td>0</td>\n",
              "      <td>73</td>\n",
              "      <td>0.0</td>\n",
              "    </tr>\n",
              "  </tbody>\n",
              "</table>\n",
              "</div>"
            ],
            "text/plain": [
              "   employee_id  department  ... avg_training_score is_promoted\n",
              "0        65438           1  ...                 49         0.0\n",
              "1        65141           2  ...                 60         0.0\n",
              "2         7513           1  ...                 50         0.0\n",
              "3         2542           1  ...                 50         0.0\n",
              "4        48945           4  ...                 73         0.0\n",
              "\n",
              "[5 rows x 14 columns]"
            ]
          },
          "metadata": {
            "tags": []
          },
          "execution_count": 253
        }
      ]
    },
    {
      "cell_type": "code",
      "metadata": {
        "id": "4XYd9UcEPWW8",
        "colab": {
          "base_uri": "https://localhost:8080/",
          "height": 639
        },
        "outputId": "6dbcab24-ff76-4d19-f05c-0554aba31d14"
      },
      "source": [
        "combi['region'].value_counts()"
      ],
      "execution_count": null,
      "outputs": [
        {
          "output_type": "execute_result",
          "data": {
            "text/plain": [
              "region_2     17642\n",
              "region_22     9167\n",
              "region_7      6825\n",
              "region_15     3938\n",
              "region_13     3815\n",
              "region_26     3271\n",
              "region_31     2779\n",
              "region_4      2478\n",
              "region_27     2369\n",
              "region_16     2055\n",
              "region_28     1913\n",
              "region_11     1886\n",
              "region_23     1691\n",
              "region_29     1408\n",
              "region_32     1378\n",
              "region_19     1284\n",
              "region_14     1177\n",
              "region_20     1176\n",
              "region_17     1157\n",
              "region_25     1156\n",
              "region_5      1108\n",
              "region_6       988\n",
              "region_30      930\n",
              "region_8       924\n",
              "region_10      917\n",
              "region_1       848\n",
              "region_24      727\n",
              "region_12      715\n",
              "region_9       600\n",
              "region_21      590\n",
              "region_3       493\n",
              "region_34      447\n",
              "region_33      395\n",
              "region_18       51\n",
              "Name: region, dtype: int64"
            ]
          },
          "metadata": {
            "tags": []
          },
          "execution_count": 254
        }
      ]
    },
    {
      "cell_type": "code",
      "metadata": {
        "id": "p8f5Z1_wPlv7"
      },
      "source": [
        " region_values = {'region_1' : 1, \n",
        "                   'region_2' : 2,\n",
        "                   'region_3' : 3, \n",
        "                   'region_4' : 4, \n",
        "                   'region_5' : 5,\n",
        "                   'region_6' : 6,\n",
        "                   'region_7' : 7, \n",
        "                   'region_8' : 8,\n",
        "                   'region_9' : 9,\n",
        "                   'region_10' : 10,\n",
        "                   'region_11' : 11,\n",
        "                   'region_12' : 12,\n",
        "                   'region_13' : 13,\n",
        "                   'region_14' : 14,\n",
        "                   'region_15' : 15,\n",
        "                   'region_16' : 16,\n",
        "                   'region_17' : 17,\n",
        "                   'region_18' : 18,\n",
        "                   'region_19' : 19,\n",
        "                   'region_20' : 20,\n",
        "                   'region_21' : 21,\n",
        "                   'region_22' : 22,\n",
        "                   'region_23' : 23,\n",
        "                   'region_24' : 24,\n",
        "                   'region_25' : 25,\n",
        "                   'region_26' : 26,\n",
        "                   'region_27' : 27,\n",
        "                   'region_28' : 28,\n",
        "                   'region_29' : 29,\n",
        "                   'region_30' : 30,\n",
        "                   'region_31' : 31,\n",
        "                   'region_32' : 32,\n",
        "                   'region_33' : 33,\n",
        "                   'region_34' : 34 }                                                                                          "
      ],
      "execution_count": null,
      "outputs": []
    },
    {
      "cell_type": "code",
      "metadata": {
        "id": "QwcAsfmJSLgv"
      },
      "source": [
        "combi = combi.replace({\"region\": region_values})"
      ],
      "execution_count": null,
      "outputs": []
    },
    {
      "cell_type": "code",
      "metadata": {
        "id": "TSsRMRbMSThX",
        "colab": {
          "base_uri": "https://localhost:8080/",
          "height": 230
        },
        "outputId": "0459a40e-13d9-4402-9792-18df41002932"
      },
      "source": [
        "combi['region']"
      ],
      "execution_count": null,
      "outputs": [
        {
          "output_type": "execute_result",
          "data": {
            "text/plain": [
              "0         7\n",
              "1        22\n",
              "2        19\n",
              "3        23\n",
              "4        26\n",
              "         ..\n",
              "23485     2\n",
              "23486    25\n",
              "23487    16\n",
              "23488    31\n",
              "23489    17\n",
              "Name: region, Length: 78298, dtype: int64"
            ]
          },
          "metadata": {
            "tags": []
          },
          "execution_count": 257
        }
      ]
    },
    {
      "cell_type": "code",
      "metadata": {
        "id": "Eh4y-lFmSVVl",
        "colab": {
          "base_uri": "https://localhost:8080/",
          "height": 88
        },
        "outputId": "0d273de4-5376-4111-c251-213661ee03a3"
      },
      "source": [
        "combi['education'].value_counts()"
      ],
      "execution_count": null,
      "outputs": [
        {
          "output_type": "execute_result",
          "data": {
            "text/plain": [
              "Bachelor's          55690\n",
              "Master's & above    21429\n",
              "Below Secondary      1179\n",
              "Name: education, dtype: int64"
            ]
          },
          "metadata": {
            "tags": []
          },
          "execution_count": 258
        }
      ]
    },
    {
      "cell_type": "code",
      "metadata": {
        "id": "V1314pinTRao"
      },
      "source": [
        "edu_values = {\"Bachelor's\": 1, \"Master's & above\": 2, \"Below Secondary\" : 3}"
      ],
      "execution_count": null,
      "outputs": []
    },
    {
      "cell_type": "code",
      "metadata": {
        "id": "v-KKNj4SUALf"
      },
      "source": [
        "combi = combi.replace({\"education\":edu_values})"
      ],
      "execution_count": null,
      "outputs": []
    },
    {
      "cell_type": "code",
      "metadata": {
        "id": "axDHafgZUVVg",
        "colab": {
          "base_uri": "https://localhost:8080/",
          "height": 231
        },
        "outputId": "d331557d-1b6f-420f-e5f0-99005da98dc9"
      },
      "source": [
        "combi.head()"
      ],
      "execution_count": null,
      "outputs": [
        {
          "output_type": "execute_result",
          "data": {
            "text/html": [
              "<div>\n",
              "<style scoped>\n",
              "    .dataframe tbody tr th:only-of-type {\n",
              "        vertical-align: middle;\n",
              "    }\n",
              "\n",
              "    .dataframe tbody tr th {\n",
              "        vertical-align: top;\n",
              "    }\n",
              "\n",
              "    .dataframe thead th {\n",
              "        text-align: right;\n",
              "    }\n",
              "</style>\n",
              "<table border=\"1\" class=\"dataframe\">\n",
              "  <thead>\n",
              "    <tr style=\"text-align: right;\">\n",
              "      <th></th>\n",
              "      <th>employee_id</th>\n",
              "      <th>department</th>\n",
              "      <th>region</th>\n",
              "      <th>education</th>\n",
              "      <th>gender</th>\n",
              "      <th>recruitment_channel</th>\n",
              "      <th>no_of_trainings</th>\n",
              "      <th>age</th>\n",
              "      <th>previous_year_rating</th>\n",
              "      <th>length_of_service</th>\n",
              "      <th>KPIs_met &gt;80%</th>\n",
              "      <th>awards_won?</th>\n",
              "      <th>avg_training_score</th>\n",
              "      <th>is_promoted</th>\n",
              "    </tr>\n",
              "  </thead>\n",
              "  <tbody>\n",
              "    <tr>\n",
              "      <th>0</th>\n",
              "      <td>65438</td>\n",
              "      <td>1</td>\n",
              "      <td>7</td>\n",
              "      <td>2</td>\n",
              "      <td>f</td>\n",
              "      <td>sourcing</td>\n",
              "      <td>1</td>\n",
              "      <td>35</td>\n",
              "      <td>5.0</td>\n",
              "      <td>8</td>\n",
              "      <td>1</td>\n",
              "      <td>0</td>\n",
              "      <td>49</td>\n",
              "      <td>0.0</td>\n",
              "    </tr>\n",
              "    <tr>\n",
              "      <th>1</th>\n",
              "      <td>65141</td>\n",
              "      <td>2</td>\n",
              "      <td>22</td>\n",
              "      <td>1</td>\n",
              "      <td>m</td>\n",
              "      <td>other</td>\n",
              "      <td>1</td>\n",
              "      <td>30</td>\n",
              "      <td>5.0</td>\n",
              "      <td>4</td>\n",
              "      <td>0</td>\n",
              "      <td>0</td>\n",
              "      <td>60</td>\n",
              "      <td>0.0</td>\n",
              "    </tr>\n",
              "    <tr>\n",
              "      <th>2</th>\n",
              "      <td>7513</td>\n",
              "      <td>1</td>\n",
              "      <td>19</td>\n",
              "      <td>1</td>\n",
              "      <td>m</td>\n",
              "      <td>sourcing</td>\n",
              "      <td>1</td>\n",
              "      <td>34</td>\n",
              "      <td>3.0</td>\n",
              "      <td>7</td>\n",
              "      <td>0</td>\n",
              "      <td>0</td>\n",
              "      <td>50</td>\n",
              "      <td>0.0</td>\n",
              "    </tr>\n",
              "    <tr>\n",
              "      <th>3</th>\n",
              "      <td>2542</td>\n",
              "      <td>1</td>\n",
              "      <td>23</td>\n",
              "      <td>1</td>\n",
              "      <td>m</td>\n",
              "      <td>other</td>\n",
              "      <td>2</td>\n",
              "      <td>39</td>\n",
              "      <td>1.0</td>\n",
              "      <td>10</td>\n",
              "      <td>0</td>\n",
              "      <td>0</td>\n",
              "      <td>50</td>\n",
              "      <td>0.0</td>\n",
              "    </tr>\n",
              "    <tr>\n",
              "      <th>4</th>\n",
              "      <td>48945</td>\n",
              "      <td>4</td>\n",
              "      <td>26</td>\n",
              "      <td>1</td>\n",
              "      <td>m</td>\n",
              "      <td>other</td>\n",
              "      <td>1</td>\n",
              "      <td>45</td>\n",
              "      <td>3.0</td>\n",
              "      <td>2</td>\n",
              "      <td>0</td>\n",
              "      <td>0</td>\n",
              "      <td>73</td>\n",
              "      <td>0.0</td>\n",
              "    </tr>\n",
              "  </tbody>\n",
              "</table>\n",
              "</div>"
            ],
            "text/plain": [
              "   employee_id  department  ...  avg_training_score  is_promoted\n",
              "0        65438           1  ...                  49          0.0\n",
              "1        65141           2  ...                  60          0.0\n",
              "2         7513           1  ...                  50          0.0\n",
              "3         2542           1  ...                  50          0.0\n",
              "4        48945           4  ...                  73          0.0\n",
              "\n",
              "[5 rows x 14 columns]"
            ]
          },
          "metadata": {
            "tags": []
          },
          "execution_count": 261
        }
      ]
    },
    {
      "cell_type": "code",
      "metadata": {
        "id": "aoYNwcCqUXPn"
      },
      "source": [
        "gen_values = {\"f\": 1, \"m\": 2}\n",
        "combi = combi.replace({\"gender\":gen_values})"
      ],
      "execution_count": null,
      "outputs": []
    },
    {
      "cell_type": "code",
      "metadata": {
        "id": "onpGVZOBUtHN",
        "colab": {
          "base_uri": "https://localhost:8080/",
          "height": 70
        },
        "outputId": "3fb2b950-d6ac-4f2b-ff2c-8d5b5e5ba7ca"
      },
      "source": [
        "combi['gender'].value_counts()"
      ],
      "execution_count": null,
      "outputs": [
        {
          "output_type": "execute_result",
          "data": {
            "text/plain": [
              "2    55092\n",
              "1    23206\n",
              "Name: gender, dtype: int64"
            ]
          },
          "metadata": {
            "tags": []
          },
          "execution_count": 263
        }
      ]
    },
    {
      "cell_type": "code",
      "metadata": {
        "id": "jj2QNn0lUzZS",
        "colab": {
          "base_uri": "https://localhost:8080/",
          "height": 88
        },
        "outputId": "ee0a5490-a18a-4860-b3fb-e35e19f1c61c"
      },
      "source": [
        "combi['recruitment_channel'].value_counts()"
      ],
      "execution_count": null,
      "outputs": [
        {
          "output_type": "execute_result",
          "data": {
            "text/plain": [
              "other       43524\n",
              "sourcing    33181\n",
              "referred     1593\n",
              "Name: recruitment_channel, dtype: int64"
            ]
          },
          "metadata": {
            "tags": []
          },
          "execution_count": 264
        }
      ]
    },
    {
      "cell_type": "code",
      "metadata": {
        "id": "7i0IgihKU4Z0"
      },
      "source": [
        "rec_values = {\"sourcing\": 1, \"referred\": 2, \"other\": 3}"
      ],
      "execution_count": null,
      "outputs": []
    },
    {
      "cell_type": "code",
      "metadata": {
        "id": "cxlrUAvEW4ei"
      },
      "source": [
        "combi = combi.replace({\"recruitment_channel\":rec_values})"
      ],
      "execution_count": null,
      "outputs": []
    },
    {
      "cell_type": "code",
      "metadata": {
        "id": "Lor0ebmbXHwJ",
        "colab": {
          "base_uri": "https://localhost:8080/",
          "height": 231
        },
        "outputId": "44e82dd0-7712-4bb7-bef7-152453c1e57c"
      },
      "source": [
        "combi.head()"
      ],
      "execution_count": null,
      "outputs": [
        {
          "output_type": "execute_result",
          "data": {
            "text/html": [
              "<div>\n",
              "<style scoped>\n",
              "    .dataframe tbody tr th:only-of-type {\n",
              "        vertical-align: middle;\n",
              "    }\n",
              "\n",
              "    .dataframe tbody tr th {\n",
              "        vertical-align: top;\n",
              "    }\n",
              "\n",
              "    .dataframe thead th {\n",
              "        text-align: right;\n",
              "    }\n",
              "</style>\n",
              "<table border=\"1\" class=\"dataframe\">\n",
              "  <thead>\n",
              "    <tr style=\"text-align: right;\">\n",
              "      <th></th>\n",
              "      <th>employee_id</th>\n",
              "      <th>department</th>\n",
              "      <th>region</th>\n",
              "      <th>education</th>\n",
              "      <th>gender</th>\n",
              "      <th>recruitment_channel</th>\n",
              "      <th>no_of_trainings</th>\n",
              "      <th>age</th>\n",
              "      <th>previous_year_rating</th>\n",
              "      <th>length_of_service</th>\n",
              "      <th>KPIs_met &gt;80%</th>\n",
              "      <th>awards_won?</th>\n",
              "      <th>avg_training_score</th>\n",
              "      <th>is_promoted</th>\n",
              "    </tr>\n",
              "  </thead>\n",
              "  <tbody>\n",
              "    <tr>\n",
              "      <th>0</th>\n",
              "      <td>65438</td>\n",
              "      <td>1</td>\n",
              "      <td>7</td>\n",
              "      <td>2</td>\n",
              "      <td>1</td>\n",
              "      <td>1</td>\n",
              "      <td>1</td>\n",
              "      <td>35</td>\n",
              "      <td>5.0</td>\n",
              "      <td>8</td>\n",
              "      <td>1</td>\n",
              "      <td>0</td>\n",
              "      <td>49</td>\n",
              "      <td>0.0</td>\n",
              "    </tr>\n",
              "    <tr>\n",
              "      <th>1</th>\n",
              "      <td>65141</td>\n",
              "      <td>2</td>\n",
              "      <td>22</td>\n",
              "      <td>1</td>\n",
              "      <td>2</td>\n",
              "      <td>3</td>\n",
              "      <td>1</td>\n",
              "      <td>30</td>\n",
              "      <td>5.0</td>\n",
              "      <td>4</td>\n",
              "      <td>0</td>\n",
              "      <td>0</td>\n",
              "      <td>60</td>\n",
              "      <td>0.0</td>\n",
              "    </tr>\n",
              "    <tr>\n",
              "      <th>2</th>\n",
              "      <td>7513</td>\n",
              "      <td>1</td>\n",
              "      <td>19</td>\n",
              "      <td>1</td>\n",
              "      <td>2</td>\n",
              "      <td>1</td>\n",
              "      <td>1</td>\n",
              "      <td>34</td>\n",
              "      <td>3.0</td>\n",
              "      <td>7</td>\n",
              "      <td>0</td>\n",
              "      <td>0</td>\n",
              "      <td>50</td>\n",
              "      <td>0.0</td>\n",
              "    </tr>\n",
              "    <tr>\n",
              "      <th>3</th>\n",
              "      <td>2542</td>\n",
              "      <td>1</td>\n",
              "      <td>23</td>\n",
              "      <td>1</td>\n",
              "      <td>2</td>\n",
              "      <td>3</td>\n",
              "      <td>2</td>\n",
              "      <td>39</td>\n",
              "      <td>1.0</td>\n",
              "      <td>10</td>\n",
              "      <td>0</td>\n",
              "      <td>0</td>\n",
              "      <td>50</td>\n",
              "      <td>0.0</td>\n",
              "    </tr>\n",
              "    <tr>\n",
              "      <th>4</th>\n",
              "      <td>48945</td>\n",
              "      <td>4</td>\n",
              "      <td>26</td>\n",
              "      <td>1</td>\n",
              "      <td>2</td>\n",
              "      <td>3</td>\n",
              "      <td>1</td>\n",
              "      <td>45</td>\n",
              "      <td>3.0</td>\n",
              "      <td>2</td>\n",
              "      <td>0</td>\n",
              "      <td>0</td>\n",
              "      <td>73</td>\n",
              "      <td>0.0</td>\n",
              "    </tr>\n",
              "  </tbody>\n",
              "</table>\n",
              "</div>"
            ],
            "text/plain": [
              "   employee_id  department  ...  avg_training_score  is_promoted\n",
              "0        65438           1  ...                  49          0.0\n",
              "1        65141           2  ...                  60          0.0\n",
              "2         7513           1  ...                  50          0.0\n",
              "3         2542           1  ...                  50          0.0\n",
              "4        48945           4  ...                  73          0.0\n",
              "\n",
              "[5 rows x 14 columns]"
            ]
          },
          "metadata": {
            "tags": []
          },
          "execution_count": 267
        }
      ]
    },
    {
      "cell_type": "code",
      "metadata": {
        "id": "s4e70eDaXKFd",
        "colab": {
          "base_uri": "https://localhost:8080/",
          "height": 284
        },
        "outputId": "8f09b91b-4454-4c37-f9a7-662f77b2d9bf"
      },
      "source": [
        "combi.isnull().sum()"
      ],
      "execution_count": null,
      "outputs": [
        {
          "output_type": "execute_result",
          "data": {
            "text/plain": [
              "employee_id                 0\n",
              "department                  0\n",
              "region                      0\n",
              "education                   0\n",
              "gender                      0\n",
              "recruitment_channel         0\n",
              "no_of_trainings             0\n",
              "age                         0\n",
              "previous_year_rating        0\n",
              "length_of_service           0\n",
              "KPIs_met >80%               0\n",
              "awards_won?                 0\n",
              "avg_training_score          0\n",
              "is_promoted             23490\n",
              "dtype: int64"
            ]
          },
          "metadata": {
            "tags": []
          },
          "execution_count": 268
        }
      ]
    },
    {
      "cell_type": "code",
      "metadata": {
        "id": "FFPMeFT_XTss",
        "colab": {
          "base_uri": "https://localhost:8080/",
          "height": 284
        },
        "outputId": "b0782862-6aaf-409b-d8b6-4cf8a0fa533d"
      },
      "source": [
        "combi.dtypes"
      ],
      "execution_count": null,
      "outputs": [
        {
          "output_type": "execute_result",
          "data": {
            "text/plain": [
              "employee_id               int64\n",
              "department                int64\n",
              "region                    int64\n",
              "education                 int64\n",
              "gender                    int64\n",
              "recruitment_channel       int64\n",
              "no_of_trainings           int64\n",
              "age                       int64\n",
              "previous_year_rating    float64\n",
              "length_of_service         int64\n",
              "KPIs_met >80%             int64\n",
              "awards_won?               int64\n",
              "avg_training_score        int64\n",
              "is_promoted             float64\n",
              "dtype: object"
            ]
          },
          "metadata": {
            "tags": []
          },
          "execution_count": 269
        }
      ]
    },
    {
      "cell_type": "code",
      "metadata": {
        "id": "eLrLFsWcipre"
      },
      "source": [
        ""
      ],
      "execution_count": null,
      "outputs": []
    },
    {
      "cell_type": "code",
      "metadata": {
        "id": "IwAcXqtyipoH",
        "colab": {
          "base_uri": "https://localhost:8080/",
          "height": 231
        },
        "outputId": "75a11100-75fb-4ea2-8d4e-e3f5a384a890"
      },
      "source": [
        "combi.head()"
      ],
      "execution_count": null,
      "outputs": [
        {
          "output_type": "execute_result",
          "data": {
            "text/html": [
              "<div>\n",
              "<style scoped>\n",
              "    .dataframe tbody tr th:only-of-type {\n",
              "        vertical-align: middle;\n",
              "    }\n",
              "\n",
              "    .dataframe tbody tr th {\n",
              "        vertical-align: top;\n",
              "    }\n",
              "\n",
              "    .dataframe thead th {\n",
              "        text-align: right;\n",
              "    }\n",
              "</style>\n",
              "<table border=\"1\" class=\"dataframe\">\n",
              "  <thead>\n",
              "    <tr style=\"text-align: right;\">\n",
              "      <th></th>\n",
              "      <th>employee_id</th>\n",
              "      <th>department</th>\n",
              "      <th>region</th>\n",
              "      <th>education</th>\n",
              "      <th>gender</th>\n",
              "      <th>recruitment_channel</th>\n",
              "      <th>no_of_trainings</th>\n",
              "      <th>age</th>\n",
              "      <th>previous_year_rating</th>\n",
              "      <th>length_of_service</th>\n",
              "      <th>KPIs_met &gt;80%</th>\n",
              "      <th>awards_won?</th>\n",
              "      <th>avg_training_score</th>\n",
              "      <th>is_promoted</th>\n",
              "    </tr>\n",
              "  </thead>\n",
              "  <tbody>\n",
              "    <tr>\n",
              "      <th>0</th>\n",
              "      <td>65438</td>\n",
              "      <td>1</td>\n",
              "      <td>7</td>\n",
              "      <td>2</td>\n",
              "      <td>1</td>\n",
              "      <td>1</td>\n",
              "      <td>1</td>\n",
              "      <td>35</td>\n",
              "      <td>5.0</td>\n",
              "      <td>8</td>\n",
              "      <td>1</td>\n",
              "      <td>0</td>\n",
              "      <td>49</td>\n",
              "      <td>0.0</td>\n",
              "    </tr>\n",
              "    <tr>\n",
              "      <th>1</th>\n",
              "      <td>65141</td>\n",
              "      <td>2</td>\n",
              "      <td>22</td>\n",
              "      <td>1</td>\n",
              "      <td>2</td>\n",
              "      <td>3</td>\n",
              "      <td>1</td>\n",
              "      <td>30</td>\n",
              "      <td>5.0</td>\n",
              "      <td>4</td>\n",
              "      <td>0</td>\n",
              "      <td>0</td>\n",
              "      <td>60</td>\n",
              "      <td>0.0</td>\n",
              "    </tr>\n",
              "    <tr>\n",
              "      <th>2</th>\n",
              "      <td>7513</td>\n",
              "      <td>1</td>\n",
              "      <td>19</td>\n",
              "      <td>1</td>\n",
              "      <td>2</td>\n",
              "      <td>1</td>\n",
              "      <td>1</td>\n",
              "      <td>34</td>\n",
              "      <td>3.0</td>\n",
              "      <td>7</td>\n",
              "      <td>0</td>\n",
              "      <td>0</td>\n",
              "      <td>50</td>\n",
              "      <td>0.0</td>\n",
              "    </tr>\n",
              "    <tr>\n",
              "      <th>3</th>\n",
              "      <td>2542</td>\n",
              "      <td>1</td>\n",
              "      <td>23</td>\n",
              "      <td>1</td>\n",
              "      <td>2</td>\n",
              "      <td>3</td>\n",
              "      <td>2</td>\n",
              "      <td>39</td>\n",
              "      <td>1.0</td>\n",
              "      <td>10</td>\n",
              "      <td>0</td>\n",
              "      <td>0</td>\n",
              "      <td>50</td>\n",
              "      <td>0.0</td>\n",
              "    </tr>\n",
              "    <tr>\n",
              "      <th>4</th>\n",
              "      <td>48945</td>\n",
              "      <td>4</td>\n",
              "      <td>26</td>\n",
              "      <td>1</td>\n",
              "      <td>2</td>\n",
              "      <td>3</td>\n",
              "      <td>1</td>\n",
              "      <td>45</td>\n",
              "      <td>3.0</td>\n",
              "      <td>2</td>\n",
              "      <td>0</td>\n",
              "      <td>0</td>\n",
              "      <td>73</td>\n",
              "      <td>0.0</td>\n",
              "    </tr>\n",
              "  </tbody>\n",
              "</table>\n",
              "</div>"
            ],
            "text/plain": [
              "   employee_id  department  ...  avg_training_score  is_promoted\n",
              "0        65438           1  ...                  49          0.0\n",
              "1        65141           2  ...                  60          0.0\n",
              "2         7513           1  ...                  50          0.0\n",
              "3         2542           1  ...                  50          0.0\n",
              "4        48945           4  ...                  73          0.0\n",
              "\n",
              "[5 rows x 14 columns]"
            ]
          },
          "metadata": {
            "tags": []
          },
          "execution_count": 270
        }
      ]
    },
    {
      "cell_type": "code",
      "metadata": {
        "id": "-E-y8voPipkl",
        "colab": {
          "base_uri": "https://localhost:8080/",
          "height": 35
        },
        "outputId": "c6b641b7-b70d-4be1-c825-e5688e01480f"
      },
      "source": [
        "combi.shape"
      ],
      "execution_count": null,
      "outputs": [
        {
          "output_type": "execute_result",
          "data": {
            "text/plain": [
              "(78298, 14)"
            ]
          },
          "metadata": {
            "tags": []
          },
          "execution_count": 271
        }
      ]
    },
    {
      "cell_type": "code",
      "metadata": {
        "id": "hl20qBEUiphE"
      },
      "source": [
        ""
      ],
      "execution_count": null,
      "outputs": []
    },
    {
      "cell_type": "code",
      "metadata": {
        "id": "KCD6uZp2i2rj",
        "colab": {
          "base_uri": "https://localhost:8080/",
          "height": 495
        },
        "outputId": "abf36549-87fe-4f07-aba1-74b1d417f7ff"
      },
      "source": [
        "combi.corr()"
      ],
      "execution_count": null,
      "outputs": [
        {
          "output_type": "execute_result",
          "data": {
            "text/html": [
              "<div>\n",
              "<style scoped>\n",
              "    .dataframe tbody tr th:only-of-type {\n",
              "        vertical-align: middle;\n",
              "    }\n",
              "\n",
              "    .dataframe tbody tr th {\n",
              "        vertical-align: top;\n",
              "    }\n",
              "\n",
              "    .dataframe thead th {\n",
              "        text-align: right;\n",
              "    }\n",
              "</style>\n",
              "<table border=\"1\" class=\"dataframe\">\n",
              "  <thead>\n",
              "    <tr style=\"text-align: right;\">\n",
              "      <th></th>\n",
              "      <th>employee_id</th>\n",
              "      <th>department</th>\n",
              "      <th>region</th>\n",
              "      <th>education</th>\n",
              "      <th>gender</th>\n",
              "      <th>recruitment_channel</th>\n",
              "      <th>no_of_trainings</th>\n",
              "      <th>age</th>\n",
              "      <th>previous_year_rating</th>\n",
              "      <th>length_of_service</th>\n",
              "      <th>KPIs_met &gt;80%</th>\n",
              "      <th>awards_won?</th>\n",
              "      <th>avg_training_score</th>\n",
              "      <th>is_promoted</th>\n",
              "    </tr>\n",
              "  </thead>\n",
              "  <tbody>\n",
              "    <tr>\n",
              "      <th>employee_id</th>\n",
              "      <td>1.000000</td>\n",
              "      <td>0.000640</td>\n",
              "      <td>0.000025</td>\n",
              "      <td>0.001926</td>\n",
              "      <td>-0.000263</td>\n",
              "      <td>-0.004357</td>\n",
              "      <td>-0.005216</td>\n",
              "      <td>0.000586</td>\n",
              "      <td>0.001264</td>\n",
              "      <td>0.004420</td>\n",
              "      <td>0.000127</td>\n",
              "      <td>0.005943</td>\n",
              "      <td>-0.003930</td>\n",
              "      <td>0.001206</td>\n",
              "    </tr>\n",
              "    <tr>\n",
              "      <th>department</th>\n",
              "      <td>0.000640</td>\n",
              "      <td>1.000000</td>\n",
              "      <td>-0.005873</td>\n",
              "      <td>0.049990</td>\n",
              "      <td>0.009595</td>\n",
              "      <td>0.009641</td>\n",
              "      <td>-0.004932</td>\n",
              "      <td>-0.093586</td>\n",
              "      <td>0.071646</td>\n",
              "      <td>-0.083033</td>\n",
              "      <td>0.056913</td>\n",
              "      <td>0.003333</td>\n",
              "      <td>0.517826</td>\n",
              "      <td>0.002381</td>\n",
              "    </tr>\n",
              "    <tr>\n",
              "      <th>region</th>\n",
              "      <td>0.000025</td>\n",
              "      <td>-0.005873</td>\n",
              "      <td>1.000000</td>\n",
              "      <td>-0.127069</td>\n",
              "      <td>0.106020</td>\n",
              "      <td>0.004469</td>\n",
              "      <td>-0.006705</td>\n",
              "      <td>-0.249729</td>\n",
              "      <td>-0.022640</td>\n",
              "      <td>-0.165935</td>\n",
              "      <td>-0.009274</td>\n",
              "      <td>0.003770</td>\n",
              "      <td>0.026960</td>\n",
              "      <td>-0.011007</td>\n",
              "    </tr>\n",
              "    <tr>\n",
              "      <th>education</th>\n",
              "      <td>0.001926</td>\n",
              "      <td>0.049990</td>\n",
              "      <td>-0.127069</td>\n",
              "      <td>1.000000</td>\n",
              "      <td>-0.035902</td>\n",
              "      <td>0.003888</td>\n",
              "      <td>-0.027667</td>\n",
              "      <td>0.243262</td>\n",
              "      <td>0.024491</td>\n",
              "      <td>0.164111</td>\n",
              "      <td>0.016226</td>\n",
              "      <td>0.000976</td>\n",
              "      <td>0.038209</td>\n",
              "      <td>0.026244</td>\n",
              "    </tr>\n",
              "    <tr>\n",
              "      <th>gender</th>\n",
              "      <td>-0.000263</td>\n",
              "      <td>0.009595</td>\n",
              "      <td>0.106020</td>\n",
              "      <td>-0.035902</td>\n",
              "      <td>1.000000</td>\n",
              "      <td>-0.004834</td>\n",
              "      <td>0.084530</td>\n",
              "      <td>-0.017816</td>\n",
              "      <td>-0.023471</td>\n",
              "      <td>-0.017800</td>\n",
              "      <td>-0.037916</td>\n",
              "      <td>0.000553</td>\n",
              "      <td>-0.024840</td>\n",
              "      <td>-0.011109</td>\n",
              "    </tr>\n",
              "    <tr>\n",
              "      <th>recruitment_channel</th>\n",
              "      <td>-0.004357</td>\n",
              "      <td>0.009641</td>\n",
              "      <td>0.004469</td>\n",
              "      <td>0.003888</td>\n",
              "      <td>-0.004834</td>\n",
              "      <td>1.000000</td>\n",
              "      <td>0.008955</td>\n",
              "      <td>0.012362</td>\n",
              "      <td>-0.005652</td>\n",
              "      <td>0.004803</td>\n",
              "      <td>-0.000483</td>\n",
              "      <td>0.004127</td>\n",
              "      <td>0.007212</td>\n",
              "      <td>-0.002229</td>\n",
              "    </tr>\n",
              "    <tr>\n",
              "      <th>no_of_trainings</th>\n",
              "      <td>-0.005216</td>\n",
              "      <td>-0.004932</td>\n",
              "      <td>-0.006705</td>\n",
              "      <td>-0.027667</td>\n",
              "      <td>0.084530</td>\n",
              "      <td>0.008955</td>\n",
              "      <td>1.000000</td>\n",
              "      <td>-0.082536</td>\n",
              "      <td>-0.057310</td>\n",
              "      <td>-0.058403</td>\n",
              "      <td>-0.043912</td>\n",
              "      <td>-0.004818</td>\n",
              "      <td>0.044180</td>\n",
              "      <td>-0.024896</td>\n",
              "    </tr>\n",
              "    <tr>\n",
              "      <th>age</th>\n",
              "      <td>0.000586</td>\n",
              "      <td>-0.093586</td>\n",
              "      <td>-0.249729</td>\n",
              "      <td>0.243262</td>\n",
              "      <td>-0.017816</td>\n",
              "      <td>0.012362</td>\n",
              "      <td>-0.082536</td>\n",
              "      <td>1.000000</td>\n",
              "      <td>0.030097</td>\n",
              "      <td>0.653339</td>\n",
              "      <td>-0.026223</td>\n",
              "      <td>-0.007357</td>\n",
              "      <td>-0.044592</td>\n",
              "      <td>-0.017166</td>\n",
              "    </tr>\n",
              "    <tr>\n",
              "      <th>previous_year_rating</th>\n",
              "      <td>0.001264</td>\n",
              "      <td>0.071646</td>\n",
              "      <td>-0.022640</td>\n",
              "      <td>0.024491</td>\n",
              "      <td>-0.023471</td>\n",
              "      <td>-0.005652</td>\n",
              "      <td>-0.057310</td>\n",
              "      <td>0.030097</td>\n",
              "      <td>1.000000</td>\n",
              "      <td>0.024656</td>\n",
              "      <td>0.336612</td>\n",
              "      <td>0.026524</td>\n",
              "      <td>0.068547</td>\n",
              "      <td>0.153230</td>\n",
              "    </tr>\n",
              "    <tr>\n",
              "      <th>length_of_service</th>\n",
              "      <td>0.004420</td>\n",
              "      <td>-0.083033</td>\n",
              "      <td>-0.165935</td>\n",
              "      <td>0.164111</td>\n",
              "      <td>-0.017800</td>\n",
              "      <td>0.004803</td>\n",
              "      <td>-0.058403</td>\n",
              "      <td>0.653339</td>\n",
              "      <td>0.024656</td>\n",
              "      <td>1.000000</td>\n",
              "      <td>-0.077854</td>\n",
              "      <td>-0.040556</td>\n",
              "      <td>-0.035272</td>\n",
              "      <td>-0.010670</td>\n",
              "    </tr>\n",
              "    <tr>\n",
              "      <th>KPIs_met &gt;80%</th>\n",
              "      <td>0.000127</td>\n",
              "      <td>0.056913</td>\n",
              "      <td>-0.009274</td>\n",
              "      <td>0.016226</td>\n",
              "      <td>-0.037916</td>\n",
              "      <td>-0.000483</td>\n",
              "      <td>-0.043912</td>\n",
              "      <td>-0.026223</td>\n",
              "      <td>0.336612</td>\n",
              "      <td>-0.077854</td>\n",
              "      <td>1.000000</td>\n",
              "      <td>0.100365</td>\n",
              "      <td>0.076729</td>\n",
              "      <td>0.221582</td>\n",
              "    </tr>\n",
              "    <tr>\n",
              "      <th>awards_won?</th>\n",
              "      <td>0.005943</td>\n",
              "      <td>0.003333</td>\n",
              "      <td>0.003770</td>\n",
              "      <td>0.000976</td>\n",
              "      <td>0.000553</td>\n",
              "      <td>0.004127</td>\n",
              "      <td>-0.004818</td>\n",
              "      <td>-0.007357</td>\n",
              "      <td>0.026524</td>\n",
              "      <td>-0.040556</td>\n",
              "      <td>0.100365</td>\n",
              "      <td>1.000000</td>\n",
              "      <td>0.072655</td>\n",
              "      <td>0.195871</td>\n",
              "    </tr>\n",
              "    <tr>\n",
              "      <th>avg_training_score</th>\n",
              "      <td>-0.003930</td>\n",
              "      <td>0.517826</td>\n",
              "      <td>0.026960</td>\n",
              "      <td>0.038209</td>\n",
              "      <td>-0.024840</td>\n",
              "      <td>0.007212</td>\n",
              "      <td>0.044180</td>\n",
              "      <td>-0.044592</td>\n",
              "      <td>0.068547</td>\n",
              "      <td>-0.035272</td>\n",
              "      <td>0.076729</td>\n",
              "      <td>0.072655</td>\n",
              "      <td>1.000000</td>\n",
              "      <td>0.181147</td>\n",
              "    </tr>\n",
              "    <tr>\n",
              "      <th>is_promoted</th>\n",
              "      <td>0.001206</td>\n",
              "      <td>0.002381</td>\n",
              "      <td>-0.011007</td>\n",
              "      <td>0.026244</td>\n",
              "      <td>-0.011109</td>\n",
              "      <td>-0.002229</td>\n",
              "      <td>-0.024896</td>\n",
              "      <td>-0.017166</td>\n",
              "      <td>0.153230</td>\n",
              "      <td>-0.010670</td>\n",
              "      <td>0.221582</td>\n",
              "      <td>0.195871</td>\n",
              "      <td>0.181147</td>\n",
              "      <td>1.000000</td>\n",
              "    </tr>\n",
              "  </tbody>\n",
              "</table>\n",
              "</div>"
            ],
            "text/plain": [
              "                      employee_id  department  ...  avg_training_score  is_promoted\n",
              "employee_id              1.000000    0.000640  ...           -0.003930     0.001206\n",
              "department               0.000640    1.000000  ...            0.517826     0.002381\n",
              "region                   0.000025   -0.005873  ...            0.026960    -0.011007\n",
              "education                0.001926    0.049990  ...            0.038209     0.026244\n",
              "gender                  -0.000263    0.009595  ...           -0.024840    -0.011109\n",
              "recruitment_channel     -0.004357    0.009641  ...            0.007212    -0.002229\n",
              "no_of_trainings         -0.005216   -0.004932  ...            0.044180    -0.024896\n",
              "age                      0.000586   -0.093586  ...           -0.044592    -0.017166\n",
              "previous_year_rating     0.001264    0.071646  ...            0.068547     0.153230\n",
              "length_of_service        0.004420   -0.083033  ...           -0.035272    -0.010670\n",
              "KPIs_met >80%            0.000127    0.056913  ...            0.076729     0.221582\n",
              "awards_won?              0.005943    0.003333  ...            0.072655     0.195871\n",
              "avg_training_score      -0.003930    0.517826  ...            1.000000     0.181147\n",
              "is_promoted              0.001206    0.002381  ...            0.181147     1.000000\n",
              "\n",
              "[14 rows x 14 columns]"
            ]
          },
          "metadata": {
            "tags": []
          },
          "execution_count": 272
        }
      ]
    },
    {
      "cell_type": "code",
      "metadata": {
        "id": "TmdNHPqKi2oN"
      },
      "source": [
        ""
      ],
      "execution_count": null,
      "outputs": []
    },
    {
      "cell_type": "code",
      "metadata": {
        "id": "QBMoJuf_i2la"
      },
      "source": [
        ""
      ],
      "execution_count": null,
      "outputs": []
    },
    {
      "cell_type": "code",
      "metadata": {
        "id": "FhRK3W4ji2iq"
      },
      "source": [
        ""
      ],
      "execution_count": null,
      "outputs": []
    },
    {
      "cell_type": "code",
      "metadata": {
        "id": "PA8VPA0Kipcq"
      },
      "source": [
        ""
      ],
      "execution_count": null,
      "outputs": []
    },
    {
      "cell_type": "code",
      "metadata": {
        "id": "fJERaYuyX0rP"
      },
      "source": [
        "train = combi[:54808]\n",
        "test = combi[54808:]"
      ],
      "execution_count": null,
      "outputs": []
    },
    {
      "cell_type": "code",
      "metadata": {
        "id": "bnoR_Ez2YpC2",
        "colab": {
          "base_uri": "https://localhost:8080/",
          "height": 35
        },
        "outputId": "6834bc3b-b03d-4647-b83c-12741abfa8d4"
      },
      "source": [
        "train.shape, test.shape"
      ],
      "execution_count": null,
      "outputs": [
        {
          "output_type": "execute_result",
          "data": {
            "text/plain": [
              "((54808, 14), (23490, 14))"
            ]
          },
          "metadata": {
            "tags": []
          },
          "execution_count": 274
        }
      ]
    },
    {
      "cell_type": "code",
      "metadata": {
        "id": "n9d3k_4iYtYh"
      },
      "source": [
        "test = test.drop(['is_promoted'],axis=1)"
      ],
      "execution_count": null,
      "outputs": []
    },
    {
      "cell_type": "code",
      "metadata": {
        "id": "qFYOiFGZY8_f",
        "colab": {
          "base_uri": "https://localhost:8080/",
          "height": 35
        },
        "outputId": "ec4fb296-46fc-457c-e2be-9522fc10aa86"
      },
      "source": [
        "test.shape"
      ],
      "execution_count": null,
      "outputs": [
        {
          "output_type": "execute_result",
          "data": {
            "text/plain": [
              "(23490, 13)"
            ]
          },
          "metadata": {
            "tags": []
          },
          "execution_count": 276
        }
      ]
    },
    {
      "cell_type": "code",
      "metadata": {
        "id": "UdGkFV02jGbj"
      },
      "source": [
        ""
      ],
      "execution_count": null,
      "outputs": []
    },
    {
      "cell_type": "code",
      "metadata": {
        "id": "9cf2scX8jGf7"
      },
      "source": [
        ""
      ],
      "execution_count": null,
      "outputs": []
    },
    {
      "cell_type": "code",
      "metadata": {
        "id": "6HfD1RucjGYq"
      },
      "source": [
        ""
      ],
      "execution_count": null,
      "outputs": []
    },
    {
      "cell_type": "code",
      "metadata": {
        "id": "PfNKLyhnY-4F"
      },
      "source": [
        "X = train.drop(['employee_id', 'is_promoted'],axis=1)\n",
        "y = train['is_promoted']"
      ],
      "execution_count": null,
      "outputs": []
    },
    {
      "cell_type": "code",
      "metadata": {
        "id": "_LGvcZVEjLyu"
      },
      "source": [
        "# Feature Scaling\n",
        "from sklearn.preprocessing import StandardScaler\n",
        "sc = StandardScaler()\n",
        "X = sc.fit_transform(X)"
      ],
      "execution_count": null,
      "outputs": []
    },
    {
      "cell_type": "code",
      "metadata": {
        "id": "35ws2OJOjLvW"
      },
      "source": [
        ""
      ],
      "execution_count": null,
      "outputs": []
    },
    {
      "cell_type": "code",
      "metadata": {
        "id": "QgpoYayYoVl5"
      },
      "source": [
        ""
      ],
      "execution_count": null,
      "outputs": []
    },
    {
      "cell_type": "code",
      "metadata": {
        "id": "irHgpKoVZQbf",
        "colab": {
          "base_uri": "https://localhost:8080/",
          "height": 106
        },
        "outputId": "8ce1fe4a-28a8-4c38-9c72-e7f25a42c6a5"
      },
      "source": [
        "from sklearn.linear_model import LogisticRegression\n",
        "classifier = LogisticRegression(random_state = 0)\n",
        "classifier.fit(X, y)"
      ],
      "execution_count": null,
      "outputs": [
        {
          "output_type": "execute_result",
          "data": {
            "text/plain": [
              "LogisticRegression(C=1.0, class_weight=None, dual=False, fit_intercept=True,\n",
              "                   intercept_scaling=1, l1_ratio=None, max_iter=100,\n",
              "                   multi_class='auto', n_jobs=None, penalty='l2',\n",
              "                   random_state=0, solver='lbfgs', tol=0.0001, verbose=0,\n",
              "                   warm_start=False)"
            ]
          },
          "metadata": {
            "tags": []
          },
          "execution_count": 166
        }
      ]
    },
    {
      "cell_type": "code",
      "metadata": {
        "id": "AUxrE5OmZk18"
      },
      "source": [
        "# Predicting the Test set results\n",
        "y_pred = classifier.predict(X)"
      ],
      "execution_count": null,
      "outputs": []
    },
    {
      "cell_type": "code",
      "metadata": {
        "id": "4sd1j9UcZnuz"
      },
      "source": [
        "from sklearn.metrics import confusion_matrix,f1_score,accuracy_score,precision_score\n",
        "f1 = f1_score(y, y_pred,average='weighted')"
      ],
      "execution_count": null,
      "outputs": []
    },
    {
      "cell_type": "code",
      "metadata": {
        "id": "qX1grrTbbD3g",
        "colab": {
          "base_uri": "https://localhost:8080/",
          "height": 35
        },
        "outputId": "a1e87892-7a4f-4e35-e08d-60fc32ad9d4b"
      },
      "source": [
        "f1"
      ],
      "execution_count": null,
      "outputs": [
        {
          "output_type": "execute_result",
          "data": {
            "text/plain": [
              "0.8950197457242081"
            ]
          },
          "metadata": {
            "tags": []
          },
          "execution_count": 169
        }
      ]
    },
    {
      "cell_type": "code",
      "metadata": {
        "id": "-Y_eoYAcbFFV",
        "colab": {
          "base_uri": "https://localhost:8080/",
          "height": 35
        },
        "outputId": "ab26732b-16c3-4484-c259-78bb8bfd3763"
      },
      "source": [
        "accuracy_score(y, y_pred)"
      ],
      "execution_count": null,
      "outputs": [
        {
          "output_type": "execute_result",
          "data": {
            "text/plain": [
              "0.9218362282878412"
            ]
          },
          "metadata": {
            "tags": []
          },
          "execution_count": 170
        }
      ]
    },
    {
      "cell_type": "code",
      "metadata": {
        "id": "G5nLMAIKbSFu",
        "colab": {
          "base_uri": "https://localhost:8080/",
          "height": 35
        },
        "outputId": "1cd8246a-3839-4561-a3b3-3ff60a3c765b"
      },
      "source": [
        "precision_score(y, y_pred,average='weighted')"
      ],
      "execution_count": null,
      "outputs": [
        {
          "output_type": "execute_result",
          "data": {
            "text/plain": [
              "0.9098607416742233"
            ]
          },
          "metadata": {
            "tags": []
          },
          "execution_count": 171
        }
      ]
    },
    {
      "cell_type": "code",
      "metadata": {
        "id": "zFxnFl4kdGBu"
      },
      "source": [
        ""
      ],
      "execution_count": null,
      "outputs": []
    },
    {
      "cell_type": "code",
      "metadata": {
        "id": "z9Bf54vPdGFQ"
      },
      "source": [
        "X_tt = test.drop(['employee_id'], axis=1)"
      ],
      "execution_count": null,
      "outputs": []
    },
    {
      "cell_type": "code",
      "metadata": {
        "id": "u_fRgw4Cjsel"
      },
      "source": [
        "X_tt = sc.transform(X_tt)"
      ],
      "execution_count": null,
      "outputs": []
    },
    {
      "cell_type": "code",
      "metadata": {
        "id": "sVECykopbsN4"
      },
      "source": [
        "y_predtt = classifier.predict(X_tt)"
      ],
      "execution_count": null,
      "outputs": []
    },
    {
      "cell_type": "code",
      "metadata": {
        "id": "3gBlrdEOdj3S",
        "colab": {
          "base_uri": "https://localhost:8080/",
          "height": 35
        },
        "outputId": "8b0da543-f03a-464f-f3f5-2a5c8ef9659b"
      },
      "source": [
        "y_predtt"
      ],
      "execution_count": null,
      "outputs": [
        {
          "output_type": "execute_result",
          "data": {
            "text/plain": [
              "array([0., 0., 0., ..., 0., 0., 0.])"
            ]
          },
          "metadata": {
            "tags": []
          },
          "execution_count": 180
        }
      ]
    },
    {
      "cell_type": "code",
      "metadata": {
        "id": "yhSAZB6Odlw4",
        "colab": {
          "base_uri": "https://localhost:8080/",
          "height": 35
        },
        "outputId": "c1d0b90e-54eb-44f0-f04f-26234388f6c6"
      },
      "source": [
        "print(y_predtt)"
      ],
      "execution_count": null,
      "outputs": [
        {
          "output_type": "stream",
          "text": [
            "[0. 0. 0. ... 0. 0. 0.]\n"
          ],
          "name": "stdout"
        }
      ]
    },
    {
      "cell_type": "code",
      "metadata": {
        "id": "PJWpNUrJeLYA",
        "colab": {
          "base_uri": "https://localhost:8080/",
          "height": 35
        },
        "outputId": "cc093b4f-265b-4582-bcb2-79734ffd9274"
      },
      "source": [
        "y_predtt[:10]"
      ],
      "execution_count": null,
      "outputs": [
        {
          "output_type": "execute_result",
          "data": {
            "text/plain": [
              "array([0., 0., 0., 0., 0., 0., 0., 0., 0., 0.])"
            ]
          },
          "metadata": {
            "tags": []
          },
          "execution_count": 182
        }
      ]
    },
    {
      "cell_type": "code",
      "metadata": {
        "id": "yIQtTsqXenPP"
      },
      "source": [
        "#for i in range (0, len(y_predtt)): \n",
        " #   print (y_predtt[i], end =\" \") "
      ],
      "execution_count": null,
      "outputs": []
    },
    {
      "cell_type": "code",
      "metadata": {
        "id": "rUroRk4Re27F"
      },
      "source": [
        ""
      ],
      "execution_count": null,
      "outputs": []
    },
    {
      "cell_type": "code",
      "metadata": {
        "id": "zj8rmXqwgwO5"
      },
      "source": [
        ""
      ],
      "execution_count": null,
      "outputs": []
    },
    {
      "cell_type": "code",
      "metadata": {
        "id": "2wZ5_0FkgwU1",
        "colab": {
          "base_uri": "https://localhost:8080/",
          "height": 159
        },
        "outputId": "ee0262a8-4eb7-45dc-b13b-6c885d6fbbe0"
      },
      "source": [
        "# Fitting Random Forest Classification to the Training set\n",
        "from sklearn.ensemble import RandomForestClassifier\n",
        "classifier = RandomForestClassifier(n_estimators = 10, criterion = 'entropy', random_state = 0)\n",
        "classifier.fit(X, y)\n"
      ],
      "execution_count": null,
      "outputs": [
        {
          "output_type": "execute_result",
          "data": {
            "text/plain": [
              "RandomForestClassifier(bootstrap=True, ccp_alpha=0.0, class_weight=None,\n",
              "                       criterion='entropy', max_depth=None, max_features='auto',\n",
              "                       max_leaf_nodes=None, max_samples=None,\n",
              "                       min_impurity_decrease=0.0, min_impurity_split=None,\n",
              "                       min_samples_leaf=1, min_samples_split=2,\n",
              "                       min_weight_fraction_leaf=0.0, n_estimators=10,\n",
              "                       n_jobs=None, oob_score=False, random_state=0, verbose=0,\n",
              "                       warm_start=False)"
            ]
          },
          "metadata": {
            "tags": []
          },
          "execution_count": 172
        }
      ]
    },
    {
      "cell_type": "code",
      "metadata": {
        "id": "bhnoSN1ugwcu"
      },
      "source": [
        "\n",
        "# Predicting the Test set results\n",
        "y_pred = classifier.predict(X)"
      ],
      "execution_count": null,
      "outputs": []
    },
    {
      "cell_type": "code",
      "metadata": {
        "id": "pF2-XYBMgwq7"
      },
      "source": [
        "f1 = f1_score(y, y_pred,average='weighted')"
      ],
      "execution_count": null,
      "outputs": []
    },
    {
      "cell_type": "code",
      "metadata": {
        "id": "0Mb-5pWLgwnt",
        "colab": {
          "base_uri": "https://localhost:8080/",
          "height": 35
        },
        "outputId": "7678eb0e-7d00-4643-d9e1-41dfe74d4194"
      },
      "source": [
        "f1"
      ],
      "execution_count": null,
      "outputs": [
        {
          "output_type": "execute_result",
          "data": {
            "text/plain": [
              "0.9901764748329362"
            ]
          },
          "metadata": {
            "tags": []
          },
          "execution_count": 175
        }
      ]
    },
    {
      "cell_type": "code",
      "metadata": {
        "id": "_1sHw95Agwjb",
        "colab": {
          "base_uri": "https://localhost:8080/",
          "height": 35
        },
        "outputId": "35c42e97-064b-4c83-ac3d-465da85f6201"
      },
      "source": [
        "accuracy_score(y, y_pred)"
      ],
      "execution_count": null,
      "outputs": [
        {
          "output_type": "execute_result",
          "data": {
            "text/plain": [
              "0.9904211064078237"
            ]
          },
          "metadata": {
            "tags": []
          },
          "execution_count": 176
        }
      ]
    },
    {
      "cell_type": "code",
      "metadata": {
        "id": "DytJRQLkgwg1"
      },
      "source": [
        "y_predtt = classifier.predict(X_tt)"
      ],
      "execution_count": null,
      "outputs": []
    },
    {
      "cell_type": "code",
      "metadata": {
        "id": "L4-SRIeKgwa6",
        "colab": {
          "base_uri": "https://localhost:8080/",
          "height": 35
        },
        "outputId": "fff7639f-32a4-4a3a-bf8b-29becb4e7493"
      },
      "source": [
        "y_predtt"
      ],
      "execution_count": null,
      "outputs": [
        {
          "output_type": "execute_result",
          "data": {
            "text/plain": [
              "array([0., 0., 0., ..., 0., 0., 0.])"
            ]
          },
          "metadata": {
            "tags": []
          },
          "execution_count": 150
        }
      ]
    },
    {
      "cell_type": "code",
      "metadata": {
        "id": "FGzRtqxggwY2"
      },
      "source": [
        ""
      ],
      "execution_count": null,
      "outputs": []
    },
    {
      "cell_type": "code",
      "metadata": {
        "id": "iCozggOBgwSn"
      },
      "source": [
        ""
      ],
      "execution_count": null,
      "outputs": []
    },
    {
      "cell_type": "code",
      "metadata": {
        "id": "4ExVQJMmj1HD"
      },
      "source": [
        "import lightgbm as ltb"
      ],
      "execution_count": null,
      "outputs": []
    },
    {
      "cell_type": "code",
      "metadata": {
        "id": "RGSklZuUj1Nv",
        "colab": {
          "base_uri": "https://localhost:8080/",
          "height": 124
        },
        "outputId": "8a8d38d9-64e2-488a-ef1f-291bfdc7a932"
      },
      "source": [
        "model = ltb.LGBMClassifier()\n",
        "model.fit(X, y)"
      ],
      "execution_count": null,
      "outputs": [
        {
          "output_type": "execute_result",
          "data": {
            "text/plain": [
              "LGBMClassifier(boosting_type='gbdt', class_weight=None, colsample_bytree=1.0,\n",
              "               importance_type='split', learning_rate=0.1, max_depth=-1,\n",
              "               min_child_samples=20, min_child_weight=0.001, min_split_gain=0.0,\n",
              "               n_estimators=100, n_jobs=-1, num_leaves=31, objective=None,\n",
              "               random_state=None, reg_alpha=0.0, reg_lambda=0.0, silent=True,\n",
              "               subsample=1.0, subsample_for_bin=200000, subsample_freq=0)"
            ]
          },
          "metadata": {
            "tags": []
          },
          "execution_count": 311
        }
      ]
    },
    {
      "cell_type": "code",
      "metadata": {
        "id": "Mq0eaMIVj1Yw"
      },
      "source": [
        "y_pred = model.predict(X)"
      ],
      "execution_count": null,
      "outputs": []
    },
    {
      "cell_type": "code",
      "metadata": {
        "id": "1zIARP8Ej1VA"
      },
      "source": [
        "f1 = f1_score(y, y_pred,average='weighted')"
      ],
      "execution_count": null,
      "outputs": []
    },
    {
      "cell_type": "code",
      "metadata": {
        "id": "8fkkZcT0j1St",
        "colab": {
          "base_uri": "https://localhost:8080/",
          "height": 35
        },
        "outputId": "f46b9d36-9c51-42d7-a533-256bab698321"
      },
      "source": [
        "f1"
      ],
      "execution_count": null,
      "outputs": [
        {
          "output_type": "execute_result",
          "data": {
            "text/plain": [
              "0.9330102821402861"
            ]
          },
          "metadata": {
            "tags": []
          },
          "execution_count": 314
        }
      ]
    },
    {
      "cell_type": "code",
      "metadata": {
        "id": "e0ZQ_jGYj1Lj"
      },
      "source": [
        "y_predtt = model.predict(X_tt)"
      ],
      "execution_count": null,
      "outputs": []
    },
    {
      "cell_type": "code",
      "metadata": {
        "id": "vwpDQm_gkStA"
      },
      "source": [
        ""
      ],
      "execution_count": null,
      "outputs": []
    },
    {
      "cell_type": "code",
      "metadata": {
        "id": "BH4hl6pnkSqW"
      },
      "source": [
        ""
      ],
      "execution_count": null,
      "outputs": []
    },
    {
      "cell_type": "code",
      "metadata": {
        "id": "JjflQ4TGkSot",
        "colab": {
          "base_uri": "https://localhost:8080/",
          "height": 88
        },
        "outputId": "1ebd097a-3902-41b0-b666-f3ccf1f12a96"
      },
      "source": [
        "# Fitting SVM to the Training set\n",
        "from sklearn.svm import SVC\n",
        "classifier = SVC(kernel = 'linear', random_state = 0)\n",
        "classifier.fit(X, y)\n",
        "\n"
      ],
      "execution_count": null,
      "outputs": [
        {
          "output_type": "execute_result",
          "data": {
            "text/plain": [
              "SVC(C=1.0, break_ties=False, cache_size=200, class_weight=None, coef0=0.0,\n",
              "    decision_function_shape='ovr', degree=3, gamma='scale', kernel='linear',\n",
              "    max_iter=-1, probability=False, random_state=0, shrinking=True, tol=0.001,\n",
              "    verbose=False)"
            ]
          },
          "metadata": {
            "tags": []
          },
          "execution_count": 197
        }
      ]
    },
    {
      "cell_type": "code",
      "metadata": {
        "id": "_M34p4LQkSl4"
      },
      "source": [
        "# Predicting the Test set results\n",
        "y_pred = classifier.predict(X)"
      ],
      "execution_count": null,
      "outputs": []
    },
    {
      "cell_type": "code",
      "metadata": {
        "id": "IaNJCnAJkSjg"
      },
      "source": [
        "f1 = f1_score(y, y_pred,average='weighted')"
      ],
      "execution_count": null,
      "outputs": []
    },
    {
      "cell_type": "code",
      "metadata": {
        "id": "v97S0jkckShU",
        "colab": {
          "base_uri": "https://localhost:8080/",
          "height": 35
        },
        "outputId": "a6a315a1-3475-4417-dbcf-06d2c8329e4a"
      },
      "source": [
        "f1"
      ],
      "execution_count": null,
      "outputs": [
        {
          "output_type": "execute_result",
          "data": {
            "text/plain": [
              "0.8741390743005856"
            ]
          },
          "metadata": {
            "tags": []
          },
          "execution_count": 200
        }
      ]
    },
    {
      "cell_type": "code",
      "metadata": {
        "id": "78VjL8yxkSfZ"
      },
      "source": [
        "y_predtt = classifier.predict(X_tt)"
      ],
      "execution_count": null,
      "outputs": []
    },
    {
      "cell_type": "code",
      "metadata": {
        "id": "gW2mn7ESkSdE",
        "colab": {
          "base_uri": "https://localhost:8080/",
          "height": 35
        },
        "outputId": "f59971a1-99a4-4da4-f83c-ad5a62a89890"
      },
      "source": [
        "y_predtt"
      ],
      "execution_count": null,
      "outputs": [
        {
          "output_type": "execute_result",
          "data": {
            "text/plain": [
              "array([0., 0., 0., ..., 0., 0., 0.])"
            ]
          },
          "metadata": {
            "tags": []
          },
          "execution_count": 209
        }
      ]
    },
    {
      "cell_type": "code",
      "metadata": {
        "id": "6a13Lr5akSZ_"
      },
      "source": [
        ""
      ],
      "execution_count": null,
      "outputs": []
    },
    {
      "cell_type": "code",
      "metadata": {
        "id": "LZngl3etkSW9"
      },
      "source": [
        ""
      ],
      "execution_count": null,
      "outputs": []
    },
    {
      "cell_type": "code",
      "metadata": {
        "id": "vo5SrC_UoYgB",
        "colab": {
          "base_uri": "https://localhost:8080/",
          "height": 357
        },
        "outputId": "fec7d316-15c7-4da4-d2b1-ee7a97f15cf6"
      },
      "source": [
        "pip install catboost"
      ],
      "execution_count": null,
      "outputs": [
        {
          "output_type": "stream",
          "text": [
            "Collecting catboost\n",
            "\u001b[?25l  Downloading https://files.pythonhosted.org/packages/b2/aa/e61819d04ef2bbee778bf4b3a748db1f3ad23512377e43ecfdc3211437a0/catboost-0.23.2-cp36-none-manylinux1_x86_64.whl (64.8MB)\n",
            "\u001b[K     |████████████████████████████████| 64.8MB 70kB/s \n",
            "\u001b[?25hRequirement already satisfied: scipy in /usr/local/lib/python3.6/dist-packages (from catboost) (1.4.1)\n",
            "Requirement already satisfied: matplotlib in /usr/local/lib/python3.6/dist-packages (from catboost) (3.2.1)\n",
            "Requirement already satisfied: numpy>=1.16.0 in /usr/local/lib/python3.6/dist-packages (from catboost) (1.18.4)\n",
            "Requirement already satisfied: plotly in /usr/local/lib/python3.6/dist-packages (from catboost) (4.4.1)\n",
            "Requirement already satisfied: six in /usr/local/lib/python3.6/dist-packages (from catboost) (1.12.0)\n",
            "Requirement already satisfied: graphviz in /usr/local/lib/python3.6/dist-packages (from catboost) (0.10.1)\n",
            "Requirement already satisfied: pandas>=0.24.0 in /usr/local/lib/python3.6/dist-packages (from catboost) (1.0.4)\n",
            "Requirement already satisfied: cycler>=0.10 in /usr/local/lib/python3.6/dist-packages (from matplotlib->catboost) (0.10.0)\n",
            "Requirement already satisfied: pyparsing!=2.0.4,!=2.1.2,!=2.1.6,>=2.0.1 in /usr/local/lib/python3.6/dist-packages (from matplotlib->catboost) (2.4.7)\n",
            "Requirement already satisfied: kiwisolver>=1.0.1 in /usr/local/lib/python3.6/dist-packages (from matplotlib->catboost) (1.2.0)\n",
            "Requirement already satisfied: python-dateutil>=2.1 in /usr/local/lib/python3.6/dist-packages (from matplotlib->catboost) (2.8.1)\n",
            "Requirement already satisfied: retrying>=1.3.3 in /usr/local/lib/python3.6/dist-packages (from plotly->catboost) (1.3.3)\n",
            "Requirement already satisfied: pytz>=2017.2 in /usr/local/lib/python3.6/dist-packages (from pandas>=0.24.0->catboost) (2018.9)\n",
            "Installing collected packages: catboost\n",
            "Successfully installed catboost-0.23.2\n"
          ],
          "name": "stdout"
        }
      ]
    },
    {
      "cell_type": "code",
      "metadata": {
        "id": "uk7_LyL1oYpn",
        "colab": {
          "base_uri": "https://localhost:8080/",
          "height": 924
        },
        "outputId": "9dc844e3-c391-422c-d63c-ffafc3ec5a9b"
      },
      "source": [
        "from catboost import CatBoostRegressor\n",
        "model=CatBoostRegressor(iterations=50, depth=3, learning_rate=0.1, loss_function='RMSE')\n",
        "model.fit(X, y)"
      ],
      "execution_count": null,
      "outputs": [
        {
          "output_type": "stream",
          "text": [
            "0:\tlearn: 0.2751523\ttotal: 8.18ms\tremaining: 401ms\n",
            "1:\tlearn: 0.2719341\ttotal: 15.9ms\tremaining: 382ms\n",
            "2:\tlearn: 0.2691269\ttotal: 25.4ms\tremaining: 398ms\n",
            "3:\tlearn: 0.2668624\ttotal: 32.7ms\tremaining: 376ms\n",
            "4:\tlearn: 0.2650364\ttotal: 40ms\tremaining: 360ms\n",
            "5:\tlearn: 0.2632085\ttotal: 47.1ms\tremaining: 345ms\n",
            "6:\tlearn: 0.2618179\ttotal: 54.6ms\tremaining: 335ms\n",
            "7:\tlearn: 0.2605625\ttotal: 61.7ms\tremaining: 324ms\n",
            "8:\tlearn: 0.2594344\ttotal: 68.9ms\tremaining: 314ms\n",
            "9:\tlearn: 0.2584359\ttotal: 76ms\tremaining: 304ms\n",
            "10:\tlearn: 0.2575671\ttotal: 83.1ms\tremaining: 295ms\n",
            "11:\tlearn: 0.2568355\ttotal: 90.5ms\tremaining: 286ms\n",
            "12:\tlearn: 0.2549747\ttotal: 97.7ms\tremaining: 278ms\n",
            "13:\tlearn: 0.2543811\ttotal: 105ms\tremaining: 271ms\n",
            "14:\tlearn: 0.2533052\ttotal: 113ms\tremaining: 263ms\n",
            "15:\tlearn: 0.2516020\ttotal: 120ms\tremaining: 256ms\n",
            "16:\tlearn: 0.2510522\ttotal: 128ms\tremaining: 248ms\n",
            "17:\tlearn: 0.2496636\ttotal: 135ms\tremaining: 241ms\n",
            "18:\tlearn: 0.2485975\ttotal: 143ms\tremaining: 234ms\n",
            "19:\tlearn: 0.2482835\ttotal: 150ms\tremaining: 225ms\n",
            "20:\tlearn: 0.2476879\ttotal: 158ms\tremaining: 218ms\n",
            "21:\tlearn: 0.2469158\ttotal: 166ms\tremaining: 211ms\n",
            "22:\tlearn: 0.2464479\ttotal: 173ms\tremaining: 203ms\n",
            "23:\tlearn: 0.2460615\ttotal: 180ms\tremaining: 196ms\n",
            "24:\tlearn: 0.2457513\ttotal: 188ms\tremaining: 188ms\n",
            "25:\tlearn: 0.2455901\ttotal: 195ms\tremaining: 180ms\n",
            "26:\tlearn: 0.2453587\ttotal: 202ms\tremaining: 172ms\n",
            "27:\tlearn: 0.2451907\ttotal: 213ms\tremaining: 167ms\n",
            "28:\tlearn: 0.2441736\ttotal: 220ms\tremaining: 159ms\n",
            "29:\tlearn: 0.2433916\ttotal: 228ms\tremaining: 152ms\n",
            "30:\tlearn: 0.2432827\ttotal: 235ms\tremaining: 144ms\n",
            "31:\tlearn: 0.2430630\ttotal: 242ms\tremaining: 136ms\n",
            "32:\tlearn: 0.2429539\ttotal: 250ms\tremaining: 129ms\n",
            "33:\tlearn: 0.2427797\ttotal: 257ms\tremaining: 121ms\n",
            "34:\tlearn: 0.2426882\ttotal: 264ms\tremaining: 113ms\n",
            "35:\tlearn: 0.2420740\ttotal: 272ms\tremaining: 106ms\n",
            "36:\tlearn: 0.2420126\ttotal: 280ms\tremaining: 98.5ms\n",
            "37:\tlearn: 0.2419474\ttotal: 287ms\tremaining: 90.8ms\n",
            "38:\tlearn: 0.2416592\ttotal: 295ms\tremaining: 83.2ms\n",
            "39:\tlearn: 0.2415792\ttotal: 303ms\tremaining: 75.6ms\n",
            "40:\tlearn: 0.2414792\ttotal: 310ms\tremaining: 68ms\n",
            "41:\tlearn: 0.2406332\ttotal: 317ms\tremaining: 60.4ms\n",
            "42:\tlearn: 0.2405992\ttotal: 324ms\tremaining: 52.8ms\n",
            "43:\tlearn: 0.2402576\ttotal: 332ms\tremaining: 45.3ms\n",
            "44:\tlearn: 0.2402284\ttotal: 340ms\tremaining: 37.7ms\n",
            "45:\tlearn: 0.2390975\ttotal: 347ms\tremaining: 30.2ms\n",
            "46:\tlearn: 0.2390403\ttotal: 355ms\tremaining: 22.6ms\n",
            "47:\tlearn: 0.2389963\ttotal: 362ms\tremaining: 15.1ms\n",
            "48:\tlearn: 0.2389463\ttotal: 369ms\tremaining: 7.53ms\n",
            "49:\tlearn: 0.2382642\ttotal: 376ms\tremaining: 0us\n"
          ],
          "name": "stdout"
        },
        {
          "output_type": "execute_result",
          "data": {
            "text/plain": [
              "<catboost.core.CatBoostRegressor at 0x7f8f1bd0ab00>"
            ]
          },
          "metadata": {
            "tags": []
          },
          "execution_count": 295
        }
      ]
    },
    {
      "cell_type": "code",
      "metadata": {
        "id": "of0wJrJNoYlg"
      },
      "source": [
        "y_pred = classifier.predict(X)"
      ],
      "execution_count": null,
      "outputs": []
    },
    {
      "cell_type": "code",
      "metadata": {
        "id": "H84DrlfhoYdj"
      },
      "source": [
        "f1 = f1_score(y, y_pred,average='weighted')"
      ],
      "execution_count": null,
      "outputs": []
    },
    {
      "cell_type": "code",
      "metadata": {
        "id": "Q2W3owEDoYa3",
        "colab": {
          "base_uri": "https://localhost:8080/",
          "height": 35
        },
        "outputId": "b8dd40ec-d271-43f1-c80d-f988880ecac7"
      },
      "source": [
        "f1"
      ],
      "execution_count": null,
      "outputs": [
        {
          "output_type": "execute_result",
          "data": {
            "text/plain": [
              "0.8741390743005856"
            ]
          },
          "metadata": {
            "tags": []
          },
          "execution_count": 298
        }
      ]
    },
    {
      "cell_type": "code",
      "metadata": {
        "id": "GMWTHIPsoYYG"
      },
      "source": [
        "y_predtt = classifier.predict(X_tt)"
      ],
      "execution_count": null,
      "outputs": []
    },
    {
      "cell_type": "code",
      "metadata": {
        "id": "2rMlKnbFoYVq",
        "colab": {
          "base_uri": "https://localhost:8080/",
          "height": 35
        },
        "outputId": "78092fe9-b748-462e-d6ab-f24522bd2f25"
      },
      "source": [
        "y_predtt"
      ],
      "execution_count": null,
      "outputs": [
        {
          "output_type": "execute_result",
          "data": {
            "text/plain": [
              "array([0., 0., 0., ..., 0., 0., 0.])"
            ]
          },
          "metadata": {
            "tags": []
          },
          "execution_count": 300
        }
      ]
    },
    {
      "cell_type": "code",
      "metadata": {
        "id": "a32FMWivoYTK"
      },
      "source": [
        ""
      ],
      "execution_count": null,
      "outputs": []
    },
    {
      "cell_type": "code",
      "metadata": {
        "id": "uy4MFyv_oYQ1"
      },
      "source": [
        ""
      ],
      "execution_count": null,
      "outputs": []
    },
    {
      "cell_type": "code",
      "metadata": {
        "id": "e6aKaduvrWyY"
      },
      "source": [
        ""
      ],
      "execution_count": null,
      "outputs": []
    },
    {
      "cell_type": "code",
      "metadata": {
        "id": "BcIZg-iArW2B"
      },
      "source": [
        "from numpy import loadtxt\n",
        "from xgboost import XGBClassifier\n",
        "from sklearn.model_selection import train_test_split\n",
        "from sklearn.metrics import accuracy_score"
      ],
      "execution_count": null,
      "outputs": []
    },
    {
      "cell_type": "code",
      "metadata": {
        "id": "tU9705cxoYOB",
        "colab": {
          "base_uri": "https://localhost:8080/",
          "height": 141
        },
        "outputId": "1b40bdbc-2018-451f-c4ea-282903ec1465"
      },
      "source": [
        "model = XGBClassifier()\n",
        "model.fit(X, y)"
      ],
      "execution_count": null,
      "outputs": [
        {
          "output_type": "execute_result",
          "data": {
            "text/plain": [
              "XGBClassifier(base_score=0.5, booster='gbtree', colsample_bylevel=1,\n",
              "              colsample_bynode=1, colsample_bytree=1, gamma=0,\n",
              "              learning_rate=0.1, max_delta_step=0, max_depth=3,\n",
              "              min_child_weight=1, missing=None, n_estimators=100, n_jobs=1,\n",
              "              nthread=None, objective='binary:logistic', random_state=0,\n",
              "              reg_alpha=0, reg_lambda=1, scale_pos_weight=1, seed=None,\n",
              "              silent=None, subsample=1, verbosity=1)"
            ]
          },
          "metadata": {
            "tags": []
          },
          "execution_count": 325
        }
      ]
    },
    {
      "cell_type": "code",
      "metadata": {
        "id": "b6DSWeL_rT95"
      },
      "source": [
        "y_pred = model.predict(X)"
      ],
      "execution_count": null,
      "outputs": []
    },
    {
      "cell_type": "code",
      "metadata": {
        "id": "A-q2rOxLrUEK"
      },
      "source": [
        "f1 = f1_score(y, y_pred, average='weighted')"
      ],
      "execution_count": null,
      "outputs": []
    },
    {
      "cell_type": "code",
      "metadata": {
        "id": "Tg4FeWHPrUJU",
        "colab": {
          "base_uri": "https://localhost:8080/",
          "height": 35
        },
        "outputId": "580d22cc-40e1-42d6-85b3-321dfd9474d8"
      },
      "source": [
        "f1"
      ],
      "execution_count": null,
      "outputs": [
        {
          "output_type": "execute_result",
          "data": {
            "text/plain": [
              "0.9215178589817299"
            ]
          },
          "metadata": {
            "tags": []
          },
          "execution_count": 328
        }
      ]
    },
    {
      "cell_type": "code",
      "metadata": {
        "id": "iRHoYvWWrUBg"
      },
      "source": [
        "y_predtt = model.predict(X_tt)"
      ],
      "execution_count": null,
      "outputs": []
    },
    {
      "cell_type": "code",
      "metadata": {
        "id": "clpcRIDyrT61",
        "colab": {
          "base_uri": "https://localhost:8080/",
          "height": 35
        },
        "outputId": "78d48a70-e398-444c-b3e6-c198e9254a2f"
      },
      "source": [
        "y_predtt"
      ],
      "execution_count": null,
      "outputs": [
        {
          "output_type": "execute_result",
          "data": {
            "text/plain": [
              "array([0., 0., 0., ..., 0., 0., 1.])"
            ]
          },
          "metadata": {
            "tags": []
          },
          "execution_count": 330
        }
      ]
    },
    {
      "cell_type": "code",
      "metadata": {
        "id": "yy-5y0xbrT4W"
      },
      "source": [
        ""
      ],
      "execution_count": null,
      "outputs": []
    },
    {
      "cell_type": "code",
      "metadata": {
        "id": "zLoVp3xF3LJe",
        "colab": {
          "base_uri": "https://localhost:8080/",
          "height": 35
        },
        "outputId": "9972dcea-c71f-4cc8-9f97-599e01943bff"
      },
      "source": [
        "rfc_pred"
      ],
      "execution_count": null,
      "outputs": [
        {
          "output_type": "execute_result",
          "data": {
            "text/plain": [
              "array([0, 0, 0, ..., 0, 0, 1])"
            ]
          },
          "metadata": {
            "tags": []
          },
          "execution_count": 72
        }
      ]
    },
    {
      "cell_type": "code",
      "metadata": {
        "id": "3nopbDm13_2i",
        "colab": {
          "base_uri": "https://localhost:8080/",
          "height": 35
        },
        "outputId": "94d0f77a-4820-4551-fecb-0802ebbf4caf"
      },
      "source": [
        "etc_pred"
      ],
      "execution_count": null,
      "outputs": [
        {
          "output_type": "execute_result",
          "data": {
            "text/plain": [
              "array([0, 0, 0, ..., 0, 0, 1])"
            ]
          },
          "metadata": {
            "tags": []
          },
          "execution_count": 62
        }
      ]
    },
    {
      "cell_type": "code",
      "metadata": {
        "id": "hUpHf9VW3LGT",
        "colab": {
          "base_uri": "https://localhost:8080/",
          "height": 35
        },
        "outputId": "ccba9cf7-82e5-404a-a305-3bd97525219c"
      },
      "source": [
        "lgb_pred"
      ],
      "execution_count": null,
      "outputs": [
        {
          "output_type": "execute_result",
          "data": {
            "text/plain": [
              "array([0, 0, 0, ..., 0, 0, 1])"
            ]
          },
          "metadata": {
            "tags": []
          },
          "execution_count": 52
        }
      ]
    },
    {
      "cell_type": "code",
      "metadata": {
        "id": "bn5yN7JRrT0n",
        "colab": {
          "base_uri": "https://localhost:8080/",
          "height": 35
        },
        "outputId": "17feb0db-383c-4e42-94da-ff9f0c164743"
      },
      "source": [
        "xgb_pred"
      ],
      "execution_count": null,
      "outputs": [
        {
          "output_type": "execute_result",
          "data": {
            "text/plain": [
              "array([0, 0, 0, ..., 0, 0, 1])"
            ]
          },
          "metadata": {
            "tags": []
          },
          "execution_count": 43
        }
      ]
    },
    {
      "cell_type": "code",
      "metadata": {
        "id": "kkaSjQVxoYLr",
        "colab": {
          "base_uri": "https://localhost:8080/",
          "height": 35
        },
        "outputId": "c10d1840-f4b1-4f14-d851-378b440b1e53"
      },
      "source": [
        "cbc_pred"
      ],
      "execution_count": null,
      "outputs": [
        {
          "output_type": "execute_result",
          "data": {
            "text/plain": [
              "array([0, 0, 0, ..., 0, 0, 1])"
            ]
          },
          "metadata": {
            "tags": []
          },
          "execution_count": 34
        }
      ]
    },
    {
      "cell_type": "code",
      "metadata": {
        "id": "_WEGDiA2oYI_"
      },
      "source": [
        "boosted_predictions = rfc_pred*0.2 + xgb_pred*0.2 + lgb_pred*0.4 + etc_pred*0.3"
      ],
      "execution_count": null,
      "outputs": []
    },
    {
      "cell_type": "code",
      "metadata": {
        "id": "pfuSFgVc5LDn"
      },
      "source": [
        ""
      ],
      "execution_count": null,
      "outputs": []
    },
    {
      "cell_type": "code",
      "metadata": {
        "id": "WgqtlO_O5LH0"
      },
      "source": [
        ""
      ],
      "execution_count": null,
      "outputs": []
    },
    {
      "cell_type": "code",
      "metadata": {
        "id": "_Y_vDEy0fF_c"
      },
      "source": [
        "st = pd.read_csv(\"sample_submission.csv\")"
      ],
      "execution_count": null,
      "outputs": []
    },
    {
      "cell_type": "code",
      "metadata": {
        "id": "Pz5qsXvofOKL",
        "colab": {
          "base_uri": "https://localhost:8080/",
          "height": 194
        },
        "outputId": "1d8bb263-9195-4ce8-eb23-7b59b8a184c1"
      },
      "source": [
        "st.head()"
      ],
      "execution_count": null,
      "outputs": [
        {
          "output_type": "execute_result",
          "data": {
            "text/html": [
              "<div>\n",
              "<style scoped>\n",
              "    .dataframe tbody tr th:only-of-type {\n",
              "        vertical-align: middle;\n",
              "    }\n",
              "\n",
              "    .dataframe tbody tr th {\n",
              "        vertical-align: top;\n",
              "    }\n",
              "\n",
              "    .dataframe thead th {\n",
              "        text-align: right;\n",
              "    }\n",
              "</style>\n",
              "<table border=\"1\" class=\"dataframe\">\n",
              "  <thead>\n",
              "    <tr style=\"text-align: right;\">\n",
              "      <th></th>\n",
              "      <th>employee_id</th>\n",
              "      <th>is_promoted</th>\n",
              "    </tr>\n",
              "  </thead>\n",
              "  <tbody>\n",
              "    <tr>\n",
              "      <th>0</th>\n",
              "      <td>8724</td>\n",
              "      <td>0</td>\n",
              "    </tr>\n",
              "    <tr>\n",
              "      <th>1</th>\n",
              "      <td>74430</td>\n",
              "      <td>0</td>\n",
              "    </tr>\n",
              "    <tr>\n",
              "      <th>2</th>\n",
              "      <td>72255</td>\n",
              "      <td>0</td>\n",
              "    </tr>\n",
              "    <tr>\n",
              "      <th>3</th>\n",
              "      <td>38562</td>\n",
              "      <td>0</td>\n",
              "    </tr>\n",
              "    <tr>\n",
              "      <th>4</th>\n",
              "      <td>64486</td>\n",
              "      <td>0</td>\n",
              "    </tr>\n",
              "  </tbody>\n",
              "</table>\n",
              "</div>"
            ],
            "text/plain": [
              "   employee_id  is_promoted\n",
              "0         8724            0\n",
              "1        74430            0\n",
              "2        72255            0\n",
              "3        38562            0\n",
              "4        64486            0"
            ]
          },
          "metadata": {
            "tags": []
          },
          "execution_count": 84
        }
      ]
    },
    {
      "cell_type": "code",
      "metadata": {
        "id": "z4qlTM-yfpae"
      },
      "source": [
        "st['is_promoted'] = boosted_predictions"
      ],
      "execution_count": null,
      "outputs": []
    },
    {
      "cell_type": "code",
      "metadata": {
        "id": "wGN8BqMSfuEx",
        "colab": {
          "base_uri": "https://localhost:8080/",
          "height": 194
        },
        "outputId": "b67f0196-85bf-4958-ecfb-f5f6b53c88b2"
      },
      "source": [
        "st.head()"
      ],
      "execution_count": null,
      "outputs": [
        {
          "output_type": "execute_result",
          "data": {
            "text/html": [
              "<div>\n",
              "<style scoped>\n",
              "    .dataframe tbody tr th:only-of-type {\n",
              "        vertical-align: middle;\n",
              "    }\n",
              "\n",
              "    .dataframe tbody tr th {\n",
              "        vertical-align: top;\n",
              "    }\n",
              "\n",
              "    .dataframe thead th {\n",
              "        text-align: right;\n",
              "    }\n",
              "</style>\n",
              "<table border=\"1\" class=\"dataframe\">\n",
              "  <thead>\n",
              "    <tr style=\"text-align: right;\">\n",
              "      <th></th>\n",
              "      <th>employee_id</th>\n",
              "      <th>is_promoted</th>\n",
              "    </tr>\n",
              "  </thead>\n",
              "  <tbody>\n",
              "    <tr>\n",
              "      <th>0</th>\n",
              "      <td>8724</td>\n",
              "      <td>0.0</td>\n",
              "    </tr>\n",
              "    <tr>\n",
              "      <th>1</th>\n",
              "      <td>74430</td>\n",
              "      <td>0.0</td>\n",
              "    </tr>\n",
              "    <tr>\n",
              "      <th>2</th>\n",
              "      <td>72255</td>\n",
              "      <td>0.0</td>\n",
              "    </tr>\n",
              "    <tr>\n",
              "      <th>3</th>\n",
              "      <td>38562</td>\n",
              "      <td>0.0</td>\n",
              "    </tr>\n",
              "    <tr>\n",
              "      <th>4</th>\n",
              "      <td>64486</td>\n",
              "      <td>0.0</td>\n",
              "    </tr>\n",
              "  </tbody>\n",
              "</table>\n",
              "</div>"
            ],
            "text/plain": [
              "   employee_id  is_promoted\n",
              "0         8724          0.0\n",
              "1        74430          0.0\n",
              "2        72255          0.0\n",
              "3        38562          0.0\n",
              "4        64486          0.0"
            ]
          },
          "metadata": {
            "tags": []
          },
          "execution_count": 86
        }
      ]
    },
    {
      "cell_type": "code",
      "metadata": {
        "id": "1zaM2rLmfwJP"
      },
      "source": [
        "st['is_promoted'] = st['is_promoted'].astype((int))"
      ],
      "execution_count": null,
      "outputs": []
    },
    {
      "cell_type": "code",
      "metadata": {
        "id": "FAbL6EJlf2cs",
        "colab": {
          "base_uri": "https://localhost:8080/",
          "height": 194
        },
        "outputId": "c37e7380-6db0-42e3-fcea-7766a6fc6c7a"
      },
      "source": [
        "st.head()"
      ],
      "execution_count": null,
      "outputs": [
        {
          "output_type": "execute_result",
          "data": {
            "text/html": [
              "<div>\n",
              "<style scoped>\n",
              "    .dataframe tbody tr th:only-of-type {\n",
              "        vertical-align: middle;\n",
              "    }\n",
              "\n",
              "    .dataframe tbody tr th {\n",
              "        vertical-align: top;\n",
              "    }\n",
              "\n",
              "    .dataframe thead th {\n",
              "        text-align: right;\n",
              "    }\n",
              "</style>\n",
              "<table border=\"1\" class=\"dataframe\">\n",
              "  <thead>\n",
              "    <tr style=\"text-align: right;\">\n",
              "      <th></th>\n",
              "      <th>employee_id</th>\n",
              "      <th>is_promoted</th>\n",
              "    </tr>\n",
              "  </thead>\n",
              "  <tbody>\n",
              "    <tr>\n",
              "      <th>0</th>\n",
              "      <td>8724</td>\n",
              "      <td>0</td>\n",
              "    </tr>\n",
              "    <tr>\n",
              "      <th>1</th>\n",
              "      <td>74430</td>\n",
              "      <td>0</td>\n",
              "    </tr>\n",
              "    <tr>\n",
              "      <th>2</th>\n",
              "      <td>72255</td>\n",
              "      <td>0</td>\n",
              "    </tr>\n",
              "    <tr>\n",
              "      <th>3</th>\n",
              "      <td>38562</td>\n",
              "      <td>0</td>\n",
              "    </tr>\n",
              "    <tr>\n",
              "      <th>4</th>\n",
              "      <td>64486</td>\n",
              "      <td>0</td>\n",
              "    </tr>\n",
              "  </tbody>\n",
              "</table>\n",
              "</div>"
            ],
            "text/plain": [
              "   employee_id  is_promoted\n",
              "0         8724            0\n",
              "1        74430            0\n",
              "2        72255            0\n",
              "3        38562            0\n",
              "4        64486            0"
            ]
          },
          "metadata": {
            "tags": []
          },
          "execution_count": 89
        }
      ]
    },
    {
      "cell_type": "code",
      "metadata": {
        "id": "SjDCceiPf4rq",
        "colab": {
          "base_uri": "https://localhost:8080/",
          "height": 70
        },
        "outputId": "0030f21c-27e7-4611-d732-f514d6d06315"
      },
      "source": [
        "st['is_promoted'].value_counts()"
      ],
      "execution_count": null,
      "outputs": [
        {
          "output_type": "execute_result",
          "data": {
            "text/plain": [
              "0    23119\n",
              "1      371\n",
              "Name: is_promoted, dtype: int64"
            ]
          },
          "metadata": {
            "tags": []
          },
          "execution_count": 90
        }
      ]
    },
    {
      "cell_type": "code",
      "metadata": {
        "id": "CV9B_LZKf9Wk",
        "colab": {
          "base_uri": "https://localhost:8080/",
          "height": 70
        },
        "outputId": "236c8ead-a1d5-4032-a6e7-665a7ce28a2b"
      },
      "source": [
        "train['is_promoted'].value_counts()"
      ],
      "execution_count": null,
      "outputs": [
        {
          "output_type": "execute_result",
          "data": {
            "text/plain": [
              "0    50140\n",
              "1     4668\n",
              "Name: is_promoted, dtype: int64"
            ]
          },
          "metadata": {
            "tags": []
          },
          "execution_count": 91
        }
      ]
    },
    {
      "cell_type": "code",
      "metadata": {
        "id": "S94ec_7_gEMd"
      },
      "source": [
        "st.to_csv(\"sub_bp.csv\",index=False)"
      ],
      "execution_count": null,
      "outputs": []
    },
    {
      "cell_type": "code",
      "metadata": {
        "id": "mPbLTE3NgNcn"
      },
      "source": [
        ""
      ],
      "execution_count": null,
      "outputs": []
    }
  ]
}